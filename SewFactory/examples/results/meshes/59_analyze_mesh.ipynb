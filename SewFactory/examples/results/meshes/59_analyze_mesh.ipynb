{
 "cells": [
  {
   "cell_type": "code",
   "execution_count": null,
   "metadata": {},
   "outputs": [],
   "source": []
  },
  {
   "cell_type": "code",
   "execution_count": 1,
   "metadata": {},
   "outputs": [],
   "source": [
    "import bpy"
   ]
  },
  {
   "cell_type": "code",
   "execution_count": 2,
   "metadata": {},
   "outputs": [
    {
     "name": "stdout",
     "output_type": "stream",
     "text": [
      "FBX version: 7700\n",
      "WARNING: User property type 'Short' is not supported\n",
      "WARNING: User property type 'Short' is not supported\n",
      "WARNING: User property type 'Short' is not supported\n",
      "WARNING: User property type 'Short' is not supported\n",
      "WARNING: User property type 'Short' is not supported\n",
      "WARNING: User property type 'Short' is not supported\n",
      "WARNING: User property type 'Short' is not supported\n",
      "WARNING: User property type 'Short' is not supported\n",
      "WARNING: User property type 'Short' is not supported\n",
      "WARNING: User property type 'Short' is not supported\n",
      "WARNING: User property type 'Short' is not supported\n",
      "WARNING: User property type 'Short' is not supported\n",
      "WARNING: User property type 'Short' is not supported\n",
      "WARNING: User property type 'Short' is not supported\n",
      "WARNING: User property type 'Short' is not supported\n",
      "WARNING: User property type 'Short' is not supported\n",
      "WARNING: User property type 'Short' is not supported\n",
      "WARNING: User property type 'Short' is not supported\n",
      "WARNING: User property type 'Short' is not supported\n",
      "WARNING: User property type 'Short' is not supported\n",
      "WARNING: User property type 'Short' is not supported\n",
      "WARNING: User property type 'Short' is not supported\n",
      "WARNING: User property type 'Short' is not supported\n",
      "WARNING: User property type 'Short' is not supported\n",
      "WARNING: User property type 'Short' is not supported\n",
      "WARNING: User property type 'Short' is not supported\n",
      "WARNING: User property type 'Short' is not supported\n",
      "WARNING: User property type 'Short' is not supported\n",
      "WARNING: User property type 'Short' is not supported\n",
      "WARNING: User property type 'Short' is not supported\n",
      "WARNING: User property type 'Short' is not supported\n",
      "WARNING: User property type 'Short' is not supported\n",
      "WARNING: User property type 'Short' is not supported\n",
      "WARNING: User property type 'Short' is not supported\n",
      "WARNING: User property type 'Short' is not supported\n",
      "WARNING: User property type 'Short' is not supported\n",
      "WARNING: User property type 'Short' is not supported\n",
      "WARNING: User property type 'Short' is not supported\n",
      "WARNING: User property type 'Short' is not supported\n",
      "WARNING: User property type 'Short' is not supported\n",
      "WARNING: User property type 'Short' is not supported\n",
      "WARNING: User property type 'Short' is not supported\n",
      "WARNING: User property type 'Short' is not supported\n",
      "WARNING: User property type 'Short' is not supported\n",
      "WARNING: User property type 'Short' is not supported\n",
      "WARNING: User property type 'Short' is not supported\n",
      "WARNING: User property type 'Short' is not supported\n",
      "WARNING: User property type 'Short' is not supported\n",
      "WARNING: User property type 'Short' is not supported\n",
      "WARNING: User property type 'Short' is not supported\n",
      "WARNING: User property type 'Short' is not supported\n",
      "WARNING: User property type 'Short' is not supported\n"
     ]
    },
    {
     "data": {
      "text/plain": [
       "{'FINISHED'}"
      ]
     },
     "execution_count": 2,
     "metadata": {},
     "output_type": "execute_result"
    }
   ],
   "source": [
    "\n",
    "bpy.ops.object.select_all(action='SELECT')\n",
    "\n",
    "bpy.ops.object.delete()\n",
    "\n",
    "\n",
    "\n",
    "bpy.ops.import_scene.fbx(filepath=\"/media/hjp/db6095ca-a560-4c3a-90ad-b667ec189671/REFERENCES/SewFormerAnalysis/SewFactory/examples/results/Subject_23_F_18_poses_40_SMPLH_female_010_207_animated.fbx\")"
   ]
  },
  {
   "cell_type": "code",
   "execution_count": null,
   "metadata": {},
   "outputs": [],
   "source": [
    "\n",
    "for obj in bpy.context.scene.objects:\n",
    "\n",
    "    bpy.context.view_layer.objects.active = obj\n",
    "\n",
    "    bpy.ops.object.transform_apply(location=True, rotation=True, scale=True)\n"
   ]
  },
  {
   "cell_type": "code",
   "execution_count": 3,
   "metadata": {},
   "outputs": [
    {
     "ename": "AttributeError",
     "evalue": "Calling operator \"bpy.ops.export_scene.obj\" error, could not be found",
     "output_type": "error",
     "traceback": [
      "\u001b[0;31m---------------------------------------------------------------------------\u001b[0m",
      "\u001b[0;31mAttributeError\u001b[0m                            Traceback (most recent call last)",
      "Cell \u001b[0;32mIn[3], line 1\u001b[0m\n\u001b[0;32m----> 1\u001b[0m \u001b[43mbpy\u001b[49m\u001b[38;5;241;43m.\u001b[39;49m\u001b[43mops\u001b[49m\u001b[38;5;241;43m.\u001b[39;49m\u001b[43mexport_scene\u001b[49m\u001b[38;5;241;43m.\u001b[39;49m\u001b[43mobj\u001b[49m\u001b[43m(\u001b[49m\u001b[43mfilepath\u001b[49m\u001b[38;5;241;43m=\u001b[39;49m\u001b[38;5;124;43m\"\u001b[39;49m\u001b[38;5;124;43m00fck.obj\u001b[39;49m\u001b[38;5;124;43m\"\u001b[39;49m\u001b[43m,\u001b[49m\u001b[43m \u001b[49m\u001b[43muse_selection\u001b[49m\u001b[38;5;241;43m=\u001b[39;49m\u001b[38;5;28;43;01mFalse\u001b[39;49;00m\u001b[43m)\u001b[49m\n",
      "File \u001b[0;32m~/anaconda3/envs/SewFormer/lib/python3.10/site-packages/bpy/4.0/scripts/modules/bpy/ops.py:109\u001b[0m, in \u001b[0;36m_BPyOpsSubModOp.__call__\u001b[0;34m(self, *args, **kw)\u001b[0m\n\u001b[1;32m    107\u001b[0m     ret \u001b[38;5;241m=\u001b[39m _op_call(\u001b[38;5;28mself\u001b[39m\u001b[38;5;241m.\u001b[39midname_py(), kw, C_exec, C_undo)\n\u001b[1;32m    108\u001b[0m \u001b[38;5;28;01melse\u001b[39;00m:\n\u001b[0;32m--> 109\u001b[0m     ret \u001b[38;5;241m=\u001b[39m \u001b[43m_op_call\u001b[49m\u001b[43m(\u001b[49m\u001b[38;5;28;43mself\u001b[39;49m\u001b[38;5;241;43m.\u001b[39;49m\u001b[43midname_py\u001b[49m\u001b[43m(\u001b[49m\u001b[43m)\u001b[49m\u001b[43m,\u001b[49m\u001b[43m \u001b[49m\u001b[43mkw\u001b[49m\u001b[43m)\u001b[49m\n\u001b[1;32m    111\u001b[0m \u001b[38;5;28;01mif\u001b[39;00m \u001b[38;5;124m'\u001b[39m\u001b[38;5;124mFINISHED\u001b[39m\u001b[38;5;124m'\u001b[39m \u001b[38;5;129;01min\u001b[39;00m ret \u001b[38;5;129;01mand\u001b[39;00m context\u001b[38;5;241m.\u001b[39mwindow_manager \u001b[38;5;241m==\u001b[39m wm:\n\u001b[1;32m    112\u001b[0m     _BPyOpsSubModOp\u001b[38;5;241m.\u001b[39m_view_layer_update(context)\n",
      "\u001b[0;31mAttributeError\u001b[0m: Calling operator \"bpy.ops.export_scene.obj\" error, could not be found"
     ]
    }
   ],
   "source": [
    "bpy.ops.export_scene.obj(filepath=\"00fck.obj\", use_selection=False)\n"
   ]
  },
  {
   "cell_type": "code",
   "execution_count": null,
   "metadata": {},
   "outputs": [],
   "source": [
    "import bpy\n",
    "import numpy as np\n",
    "\n",
    "def save_posed_mesh(vertices, faces, output_path):\n",
    "    # Clear existing mesh objects\n",
    "    bpy.ops.object.select_all(action='SELECT')\n",
    "    bpy.ops.object.delete()\n",
    "    -\n",
    "    # Create a new mesh and object\n",
    "    mesh = bpy.data.meshes.new('smplh_mesh')\n",
    "    obj = bpy.data.objects.new('smplh_object', mesh)\n",
    "    \n",
    "    # Link object to scene\n",
    "    scene = bpy.context.scene\n",
    "    scene.collection.objects.link(obj)\n",
    "    \n",
    "    # Create mesh from vertices and faces\n",
    "    mesh.from_pydata(vertices.tolist(), [], faces.tolist())\n",
    "    mesh.update()\n",
    "    \n",
    "    # Select the object and make it active\n",
    "    bpy.context.view_layer.objects.active = obj\n",
    "    obj.select_set(True)\n",
    "    \n",
    "    # Export as OBJ file\n",
    "    bpy.ops.export_scene.obj(\n",
    "        filepath=output_path,\n",
    "        use_selection=True,\n",
    "        use_materials=False\n",
    "    )\n",
    "\n",
    "# Example usage:\n",
    "# Assuming you have your posed vertices and faces\n",
    "frame = 0  # The frame you want to save\n",
    "posed_vertices = your_posed_vertices[frame]  # Shape should be (N_vertices, 3)\n",
    "faces = your_faces  # Shape should be (N_faces, 3)\n",
    "\n",
    "output_path = f\"posed_mesh_frame_{frame}.obj\"\n",
    "save_posed_mesh(posed_vertices, faces, output_path)"
   ]
  },
  {
   "cell_type": "code",
   "execution_count": null,
   "metadata": {},
   "outputs": [],
   "source": []
  },
  {
   "cell_type": "code",
   "execution_count": null,
   "metadata": {},
   "outputs": [],
   "source": []
  }
 ],
 "metadata": {
  "kernelspec": {
   "display_name": "SewFormer",
   "language": "python",
   "name": "python3"
  },
  "language_info": {
   "codemirror_mode": {
    "name": "ipython",
    "version": 3
   },
   "file_extension": ".py",
   "mimetype": "text/x-python",
   "name": "python",
   "nbconvert_exporter": "python",
   "pygments_lexer": "ipython3",
   "version": "3.10.16"
  }
 },
 "nbformat": 4,
 "nbformat_minor": 2
}
