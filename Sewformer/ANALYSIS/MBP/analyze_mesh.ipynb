{
 "cells": [
  {
   "cell_type": "code",
   "execution_count": null,
   "metadata": {},
   "outputs": [],
   "source": []
  },
  {
   "cell_type": "code",
   "execution_count": 71,
   "metadata": {},
   "outputs": [],
   "source": [
    "import os, sys\n",
    "sys.path.append(os.path.dirname(os.getcwd()))\n",
    "sys.path.append(os.path.dirname(os.path.dirname(os.getcwd())))\n",
    "\n",
    "from glob import glob\n",
    "import math\n",
    "from pprint import pprint\n",
    "import numpy as np\n",
    "import matplotlib.pyplot as plt\n",
    "from PIL import Image\n",
    "import time\n",
    "import json\n",
    "import random\n",
    "import pandas as pd\n",
    "from tqdm import tqdm\n",
    "import trimesh\n",
    "\n",
    "import torch\n",
    "\n",
    "from ANALYSIS.analysis_utils import (\n",
    "    plot_panel_info,\n",
    "    visualize_meshes_plotly,\n",
    "    filter_segmentation_map,\n",
    "    filter_segmentation_map_clusters,\n",
    "    is_clockwise,\n",
    ")\n",
    "\n",
    "\n",
    "import plotly.graph_objects as go\n",
    "\n",
    "from env_constants import SEWFORMER_PROJ_ROOT, DATASET_ROOT, PYGARMENT_ROOT\n",
    "\n",
    "sys.path.append(PYGARMENT_ROOT)\n",
    "\n",
    "import pygarment as pyg"
   ]
  },
  {
   "cell_type": "code",
   "execution_count": 2,
   "metadata": {},
   "outputs": [],
   "source": [
    "garment_df = pd.read_csv(\"garment_df_20250215_165422.csv\")\n",
    "\n",
    "filtered_combination_name_list = np.unique(garment_df[\n",
    "    garment_df[\"mesh_filter_failed\"] == False\n",
    "][\"matching_combination_name\"]).tolist()\n",
    "\n",
    "filtered_combination_path_list = list(map(\n",
    "    lambda x : os.path.join(DATASET_ROOT, 'sewfactory', x),\n",
    "    filtered_combination_name_list\n",
    "))"
   ]
  },
  {
   "cell_type": "code",
   "execution_count": 3,
   "metadata": {},
   "outputs": [
    {
     "name": "stdout",
     "output_type": "stream",
     "text": [
      "WARNING: You are using a SMPL+H model, with only 10 shape coefficients.\n"
     ]
    }
   ],
   "source": [
    "import json\n",
    "import numpy as np\n",
    "import smplx\n",
    "import torch\n",
    "import trimesh\n",
    "\n",
    "SMPLH_PATH = os.path.join(\n",
    "    SEWFORMER_PROJ_ROOT, \"Sewformer\", \"assets\",\n",
    ")\n",
    "\n",
    "# Create SMPL-H model\n",
    "model = smplx.create(\n",
    "    model_path=SMPLH_PATH,\n",
    "    model_type='smplh',  # Specifically use SMPL-H\n",
    "    ext='pkl',\n",
    "    gender='female',\n",
    "    use_pca=False,  # Important: disable PCA for hand poses\n",
    "    batch_size=1,\n",
    ")"
   ]
  },
  {
   "cell_type": "code",
   "execution_count": 105,
   "metadata": {},
   "outputs": [],
   "source": [
    "import numpy as np\n",
    "import trimesh\n",
    "import networkx as nx\n",
    "from scipy.spatial import KDTree\n",
    "\n",
    "def find_overlapping_vertices(mesh: trimesh.Trimesh, threshold: float):\n",
    "    \"\"\"\n",
    "    Finds overlapping vertices in a mesh where distances between them are less than the threshold.\n",
    "\n",
    "    :param mesh: Trimesh object containing the mesh.\n",
    "    :param threshold: Distance threshold for considering vertices as overlapping.\n",
    "    :return: \n",
    "        - A dictionary mapping each vertex index to its overlapping vertex indices.\n",
    "        - A list of lists, where each sublist represents a group of overlapping vertices.\n",
    "    \"\"\"\n",
    "    vertices = mesh.vertices  # (N, 3) vertex positions\n",
    "    tree = KDTree(vertices)   # Build KDTree for fast neighbor search\n",
    "\n",
    "    # Find pairs of vertices within the threshold distance\n",
    "    pairs = tree.query_pairs(r=threshold)\n",
    "\n",
    "    # Create a graph of overlapping vertices\n",
    "    G = nx.Graph()\n",
    "    G.add_edges_from(pairs)\n",
    "\n",
    "    # Create a dictionary of overlapping vertex indices\n",
    "    overlapping_dict = {v: list(G.neighbors(v)) for v in G.nodes}\n",
    "\n",
    "    # Find groups of overlapping vertices (connected components)\n",
    "    overlapping_groups = [list(comp) for comp in nx.connected_components(G)]\n",
    "\n",
    "    return overlapping_dict, overlapping_groups\n",
    "\n",
    "def find_boundary_vertices(mesh):\n",
    "    \"\"\"\n",
    "    Identifies boundary vertices in a manifold mesh.\n",
    "    \n",
    "    - Boundary edges are edges that belong to only one face.\n",
    "    - Boundary vertices are the endpoints of boundary edges.\n",
    "    \n",
    "    Args:\n",
    "        mesh (trimesh.Trimesh): The input mesh object.\n",
    "    \n",
    "    Returns:\n",
    "        np.array: Indices of boundary vertices.\n",
    "    \"\"\"\n",
    "    edges, counts = np.unique(np.sort(mesh.edges, axis=1), axis=0, return_counts=True)\n",
    "    boundary_edges = edges[counts == 1]\n",
    "    boundary_vertices = np.unique(boundary_edges)\n",
    "\n",
    "    return boundary_vertices\n",
    "\n",
    "\n",
    "\n",
    "def find_and_order_boundary_vertices(mesh: trimesh.Trimesh):\n",
    "    \"\"\"\n",
    "    Orders boundary vertex indices to form a continuous loop.\n",
    "\n",
    "    :param mesh: Trimesh object containing the mesh\n",
    "    :param boundary_vertex_indices: List of vertex indices on the boundary\n",
    "    :return: Ordered list of boundary vertex indices forming a loop\n",
    "    \"\"\"\n",
    "    \n",
    "    edges, counts = np.unique(np.sort(mesh.edges, axis=1), axis=0, return_counts=True)\n",
    "    boundary_edges = edges[counts == 1]\n",
    "    boundary_vertices = np.unique(boundary_edges)\n",
    "\n",
    "    # Construct a graph for ordering the boundary vertices\n",
    "    G = nx.Graph()\n",
    "    G.add_edges_from(boundary_edges)\n",
    "\n",
    "    # Find a starting point (arbitrary)\n",
    "    start_vertex = boundary_vertices[0]\n",
    "\n",
    "    # Perform traversal to order the boundary vertices\n",
    "    ordered_vertices = list(nx.dfs_preorder_nodes(G, source=start_vertex))\n",
    "\n",
    "    return ordered_vertices\n",
    "\n",
    "\n",
    "\n",
    "def disassemble_mesh_to_panels(mesh, segmentation_list):\n",
    "    \"\"\"\n",
    "    Disassembles a garment mesh into separate panel meshes and splits the segmentation list.\n",
    "\n",
    "    Args:\n",
    "        mesh (trimesh.Trimesh): The input garment mesh.\n",
    "        segmentation_list (list): List classifying each vertex.\n",
    "\n",
    "    Returns:\n",
    "        tuple: (list of trimesh.Trimesh, list of segmentation lists for each panel)\n",
    "    \"\"\"\n",
    "    # Step 1: Create a graph from the mesh connectivity\n",
    "    mesh_graph = nx.Graph()\n",
    "\n",
    "    # Add edges based on mesh faces (each face connects three vertices)\n",
    "    for face in mesh.faces:\n",
    "        mesh_graph.add_edge(face[0], face[1])\n",
    "        mesh_graph.add_edge(face[1], face[2])\n",
    "        mesh_graph.add_edge(face[2], face[0])\n",
    "\n",
    "    # Step 2: Find connected components (each should be an individual panel)\n",
    "    connected_components = list(nx.connected_components(mesh_graph))\n",
    "    print(f\"Found {len(connected_components)} separate panel meshes.\")\n",
    "\n",
    "    # Step 3: Extract panel sub-meshes\n",
    "    panel_meshes = []\n",
    "    panel_segmentation_list = []\n",
    "    garment_to_panel_idx_map_list = []\n",
    "    panel_to_garment_idx_map_list = []\n",
    "    for component in connected_components:\n",
    "        panel_vertex_indices = np.array(list(component))  # Original indices\n",
    "        \n",
    "        # Step 3.1: Create a mapping from original to new local indices\n",
    "        # index_map = {old_idx: new_idx for new_idx, old_idx in enumerate(panel_vertex_indices)}\n",
    "        garment_to_panel_idx_map = {old_idx: new_idx for new_idx, old_idx in enumerate(panel_vertex_indices)}\n",
    "        panel_to_garment_idx_map = {new_idx: old_idx for new_idx, old_idx in enumerate(panel_vertex_indices)}\n",
    "\n",
    "        garment_to_panel_idx_map_list.append(garment_to_panel_idx_map)\n",
    "        panel_to_garment_idx_map_list.append(panel_to_garment_idx_map)\n",
    "\n",
    "        # Step 3.2: Extract the segmentation list for this panel\n",
    "        this_panel_segmentation_list = [segmentation_list[idx] for idx in panel_vertex_indices]\n",
    "        panel_segmentation_list.append(this_panel_segmentation_list)\n",
    "\n",
    "        # Step 3.3: Get faces that only use the panel's vertices\n",
    "        face_mask = np.isin(mesh.faces, panel_vertex_indices).all(axis=1)\n",
    "        panel_faces = mesh.faces[face_mask]\n",
    "\n",
    "        # Step 3.4: Reindex faces to local vertex indices\n",
    "        reindexed_faces = np.vectorize(garment_to_panel_idx_map.get)(panel_faces)\n",
    "\n",
    "        # Step 3.5: Create new mesh\n",
    "        panel_mesh = trimesh.Trimesh(\n",
    "            vertices=mesh.vertices[panel_vertex_indices],\n",
    "            faces=reindexed_faces\n",
    "        )\n",
    "        panel_meshes.append(panel_mesh)\n",
    "\n",
    "    return (\n",
    "        panel_meshes, panel_segmentation_list,\n",
    "        garment_to_panel_idx_map_list, panel_to_garment_idx_map_list\n",
    "    )"
   ]
  },
  {
   "cell_type": "code",
   "execution_count": 205,
   "metadata": {},
   "outputs": [
    {
     "name": "stdout",
     "output_type": "stream",
     "text": [
      "IDX : 1054\n",
      "combination_path : /Users/hjp/HJP/KUAICV/VTO/DATASET/sewfactory/sewfactory/tee_UD112MH8DI_pants_straight_sides_UUALMXXTFT\n",
      "Found 6 separate panel meshes.\n",
      "Found 4 separate panel meshes.\n"
     ]
    }
   ],
   "source": [
    "MESH_OVERLAP_THRESHOLD = 1e-6\n",
    "\n",
    "IDX = 1551\n",
    "\n",
    "IDX = random.randint(0, len(filtered_combination_path_list) - 1)\n",
    "combination_path = filtered_combination_path_list[IDX]\n",
    "\n",
    "print(\"IDX :\", IDX)\n",
    "print(\"combination_path :\", combination_path)\n",
    "\n",
    "spec_config_path = os.path.join(combination_path, \"static\", \"spec_config.json\")\n",
    "with open(spec_config_path, \"r\") as f:\n",
    "    spec_config = json.load(f)\n",
    "\n",
    "garment_name_list = list(map(\n",
    "    lambda x : os.path.basename(x[\"spec\"].replace(\"\\\\\", \"/\")),\n",
    "    spec_config.values()\n",
    "))\n",
    "\n",
    "garment_dict = {}\n",
    "for garment_name in garment_name_list :\n",
    "    spec_file_path = os.path.join(\n",
    "        combination_path, \"static\", f\"{garment_name}_specification.json\"\n",
    "    )\n",
    "    pattern = pyg.pattern.wrappers.VisPattern(spec_file_path)\n",
    "    drawn_pattern_list = list(map(\n",
    "        lambda pannel_name : pattern._draw_a_panel(\n",
    "            pannel_name, apply_transform=False, fill=True\n",
    "        ),\n",
    "        pattern.panel_order()\n",
    "    ))\n",
    "    panel_svg_path_dict = {\n",
    "        panel_name : pattern._draw_a_panel(\n",
    "            panel_name, apply_transform=False, fill=True\n",
    "        )\n",
    "        for panel_name in pattern.panel_order()\n",
    "    }\n",
    "\n",
    "    stitch_dict = {\n",
    "        i : v for i, v in enumerate(pattern.pattern['stitches'])\n",
    "    }\n",
    "    \n",
    "    mesh = trimesh.load_mesh(os.path.join(\n",
    "        combination_path, \"static\", f\"{garment_name}_{garment_name}.obj\",\n",
    "    ), process=False)\n",
    "\n",
    "    neighbor_idx_list = mesh.vertex_neighbors\n",
    "    \n",
    "    with open(\n",
    "        os.path.join(\n",
    "            combination_path, \"static\", f\"{garment_name}_{garment_name}_segmentation.txt\"\n",
    "        ),\n",
    "        \"r\"\n",
    "    ) as f:\n",
    "        mesh_segmentation_list = list(map(\n",
    "            lambda x : x.strip(),\n",
    "            f.readlines()\n",
    "        ))\n",
    "        vertex_mask_dict = {}\n",
    "        for panel_name in panel_svg_path_dict.keys() :\n",
    "            vertex_mask_dict[panel_name] = np.array(list(map(\n",
    "                lambda x : x == panel_name,\n",
    "                mesh_segmentation_list\n",
    "            )))\n",
    "        vertex_mask_dict[\"stitch\"] = np.array(list(map(\n",
    "            lambda x : x == \"stitch\",\n",
    "            mesh_segmentation_list\n",
    "        )))\n",
    "        vertex_mask_dict[\"None\"] = np.array(list(map(\n",
    "            lambda x : x == \"None\",\n",
    "            mesh_segmentation_list\n",
    "        )))\n",
    "\n",
    "    overlapping_dict, overlapping_groups = find_overlapping_vertices(\n",
    "        mesh, MESH_OVERLAP_THRESHOLD\n",
    "    )\n",
    "\n",
    "    (\n",
    "        panel_mesh_list, panel_segmentation_list,\n",
    "        garment_to_panel_idx_map_list, panel_to_garment_idx_map_list\n",
    "    ) = disassemble_mesh_to_panels(mesh, mesh_segmentation_list)\n",
    "    \n",
    "\n",
    "    garment_vertex_segmentation_list = [\"None\"] * len(mesh.vertices)\n",
    "    panel_dict = {}\n",
    "    for (\n",
    "        panel_mesh, panel_segmentation_list, \n",
    "        garment_to_panel_idx_map, panel_to_garment_idx_map\n",
    "    )in zip(\n",
    "        panel_mesh_list, panel_segmentation_list,\n",
    "        garment_to_panel_idx_map_list, panel_to_garment_idx_map_list\n",
    "    ) :\n",
    "        panel_name_candidate_list, count_list = np.unique(panel_segmentation_list, return_counts=True)\n",
    "        panel_name = panel_name_candidate_list[np.argmax(count_list)]\n",
    "        \n",
    "        boundary_vert_idx_list = find_boundary_vertices(panel_mesh)\n",
    "        ordered_boundary_vert_idx_list = find_and_order_boundary_vertices(panel_mesh)\n",
    "        # overlapping_boundary_vert_count = np.sum(\n",
    "        #     np.linalg.norm(\n",
    "        #         panel_mesh.vertices[boundary_vert_idx_list[:-1]] - panel_mesh.vertices[boundary_vert_idx_list[1:]],\n",
    "        #         axis=1\n",
    "        #     ) < MESH_OVERLAP_THRESHOLD\n",
    "        # )\n",
    "        # if overlapping_boundary_vert_count > 0 :\n",
    "        #     print(panel_name, overlapping_boundary_vert_count)\n",
    "        \n",
    "        panel_dict[panel_name] = {\n",
    "            \"panel_mesh\" : panel_mesh,\n",
    "            \"garment_to_panel_idx_map\" : garment_to_panel_idx_map,\n",
    "            \"panel_to_garment_idx_map\" : panel_to_garment_idx_map,\n",
    "            \"boundary_vert_idx_list\" : boundary_vert_idx_list,\n",
    "            \"ordered_boundary_vert_idx_list\" : ordered_boundary_vert_idx_list,\n",
    "        }\n",
    "        \n",
    "        for panel_vert_idx, garment_vert_idx in panel_to_garment_idx_map.items() :\n",
    "            garment_vertex_segmentation_list[garment_vert_idx] = panel_name\n",
    "        \n",
    "        \n",
    "    garment_dict[garment_name] = {\n",
    "        \"panel_svg_path_dict\" : panel_svg_path_dict,\n",
    "        \"stitch_dict\" : stitch_dict,\n",
    "        \"mesh\" : mesh,\n",
    "        \"garment_vertex_segmentation_list\" : garment_vertex_segmentation_list,\n",
    "        \"panel_dict\" : panel_dict,\n",
    "        \"overlapping_dict\" : overlapping_dict,\n",
    "        \"overlapping_groups\" : overlapping_groups,\n",
    "    }\n",
    "    \n",
    "    for panel_name, panel_info in panel_dict.items() :\n",
    "        ordered_boundary_vert_neighbor_segmentation_list_list = list(map(\n",
    "            lambda neighbor_vtx_idx_list : list(map(                      \n",
    "                lambda x : garment_vertex_segmentation_list[x],\n",
    "                neighbor_vtx_idx_list\n",
    "            )) if neighbor_vtx_idx_list is not None else None,\n",
    "            list(map(\n",
    "                lambda x : overlapping_dict.get(x, None),   # get neighbor vtx idx list\n",
    "                list(map(\n",
    "                    lambda x : panel_info[\"panel_to_garment_idx_map\"][x], # convert to garment idx\n",
    "                    panel_info[\"ordered_boundary_vert_idx_list\"]\n",
    "                ))\n",
    "            ))\n",
    "        ))\n",
    "        panel_info[\"ordered_boundary_vert_neighbor_segmentation_list_list\"] = ordered_boundary_vert_neighbor_segmentation_list_list\n",
    "        \n",
    "    "
   ]
  },
  {
   "cell_type": "code",
   "execution_count": 206,
   "metadata": {},
   "outputs": [
    {
     "name": "stdout",
     "output_type": "stream",
     "text": [
      "tee_UD112MH8DI\n",
      "\t lbsleeve (95,)\n",
      "\t lfsleeve (95,)\n",
      "\t rbsleeve (95,)\n",
      "\t rfsleeve (95,)\n",
      "\t back (176,)\n",
      "\t front (173,)\n",
      "pants_straight_sides_UUALMXXTFT\n",
      "\t Rfront (199,)\n",
      "\t Rback (216,)\n",
      "\t Lfront (199,)\n",
      "\t Lback (216,)\n",
      "====================================================================================================\n",
      "pants_straight_sides_UUALMXXTFT\n",
      "Lback\n"
     ]
    },
    {
     "data": {
      "image/png": "[encoded data removed]",
      "text/plain": [
       "<Figure size 2000x1200 with 4 Axes>"
      ]
     },
     "metadata": {},
     "output_type": "display_data"
    }
   ],
   "source": [
    "for garment_name, garment_info in garment_dict.items() :\n",
    "    print(garment_name)\n",
    "    for panel_name, panel_info in garment_info[\"panel_dict\"].items() :\n",
    "        print('\\t',panel_name, panel_info[\"boundary_vert_idx_list\"].shape)\n",
    "\n",
    "print(\"=\"*100)\n",
    "\n",
    "print(garment_name)\n",
    "print(panel_name)\n",
    "\n",
    "\n",
    "panel_svg_path_dict = garment_info[\"panel_svg_path_dict\"]\n",
    "stitch_dict = garment_info[\"stitch_dict\"]\n",
    "\n",
    "\n",
    "FIGLEN = 4\n",
    "NCOLS = int(np.sqrt(len(panel_svg_path_dict)))\n",
    "NROWS = int(np.ceil(len(panel_svg_path_dict) / NCOLS))\n",
    "NCOLS = 5\n",
    "NROWS = 3\n",
    "\n",
    "plt.figure(figsize=(FIGLEN * NCOLS, FIGLEN * NROWS))\n",
    "for i, (panel_name, panel) in enumerate(panel_svg_path_dict.items()):\n",
    "    ax = plt.subplot(NROWS, NCOLS, i + 1)\n",
    "    ax.set_title(panel_name)\n",
    "    plot_panel_info(\n",
    "        ax, panel_name, panel_svg_path_dict, stitch_dict,\n",
    "        N_SAMPLES=1000\n",
    "    )\n",
    "# plt.savefig(f\"{garment_id}_panel_vis.png\")\n",
    "plt.show()"
   ]
  },
  {
   "cell_type": "code",
   "execution_count": 210,
   "metadata": {},
   "outputs": [
    {
     "name": "stdout",
     "output_type": "stream",
     "text": [
      "Rfront boundary vtx : 199\n",
      "[['Rback'], None, None, None, None, None, None, None, None, None, None, None, None, None, None, None, None, None, None, None, None, None, None, None, ['Rback'], ['Rback'], ['Rback'], ['Rback'], ['Rback'], ['Rback'], ['Rback'], ['Rback'], ['Rback'], ['Rback'], ['Rback'], ['Rback'], ['Rback'], ['Rback'], ['Rback'], ['Rback'], ['Rback'], ['Rback'], ['Rback'], ['Rback'], ['Rback'], ['Rback'], ['Rback'], ['Rback'], ['Rback'], ['Rback'], ['Rback'], ['Rback'], ['Rback'], ['Rback'], ['Rback'], ['Rback'], ['Rback'], ['Rback'], ['Rback'], ['Rback'], ['Rback'], ['Rback'], ['Rback'], ['Rback'], ['Rback'], ['Rback'], ['Rback'], ['Rback'], ['Rback'], ['Rback'], ['Rback'], ['Rback'], ['Rback'], ['Rback'], ['Rback'], ['Rback'], ['Rback'], ['Rback'], ['Rback'], ['Rback'], ['Rback'], ['Rback'], ['Rback'], ['Lfront', 'Lback', 'Rback'], ['Lfront'], ['Lfront'], ['Lfront'], ['Lfront'], ['Lfront'], ['Lfront'], ['Lfront'], ['Lfront'], ['Lfront'], ['Lfront'], ['Lfront'], ['Lfront'], ['Lfront'], ['Lfront'], ['Lfront'], ['Lfront'], ['Lfront'], ['Lfront'], ['Lfront'], ['Lfront'], ['Lfront'], ['Lfront'], ['Lfront'], ['Lfront'], None, None, None, None, None, None, None, None, None, None, None, ['Rback'], ['Rback'], ['Rback'], ['Rback'], ['Rback'], ['Rback'], ['Rback'], ['Rback'], ['Rback'], ['Rback'], ['Rback'], ['Rback'], ['Rback'], ['Rback'], ['Rback'], ['Rback'], ['Rback'], ['Rback'], ['Rback'], ['Rback'], ['Rback'], ['Rback'], ['Rback'], ['Rback'], ['Rback'], ['Rback'], ['Rback'], ['Rback'], ['Rback'], ['Rback'], ['Rback'], ['Rback'], ['Rback'], ['Rback'], ['Rback'], ['Rback'], ['Rback'], ['Rback'], ['Rback'], ['Rback'], ['Rback'], ['Rback'], ['Rback'], ['Rback'], ['Rback'], ['Rback'], ['Rback'], ['Rback'], ['Rback'], ['Rback'], ['Rback'], ['Rback'], ['Rback'], ['Rback'], ['Rback'], ['Rback'], ['Rback'], ['Rback'], ['Rback'], ['Rback'], ['Rback'], ['Rback'], ['Rback'], ['Rback'], ['Rback'], ['Rback'], ['Rback'], ['Rback'], ['Rback'], ['Rback'], ['Rback'], ['Rback'], ['Rback'], ['Rback'], ['Rback'], ['Rback'], ['Rback'], ['Rback'], ['Rback'], ['Rback']]\n",
      "\n",
      "Rback boundary vtx : 216\n",
      "[['Rfront'], ['Rfront'], ['Rfront'], ['Rfront'], ['Rfront'], ['Rfront'], ['Rfront'], ['Rfront'], ['Rfront'], ['Rfront'], ['Rfront'], ['Rfront'], ['Rfront'], ['Rfront'], ['Rfront'], ['Rfront'], ['Rfront'], ['Rfront'], ['Rfront'], ['Rfront'], ['Rfront'], ['Rfront'], ['Rfront'], ['Rfront'], ['Rfront'], ['Rfront'], ['Rfront'], ['Rfront'], ['Rfront'], ['Rfront'], ['Rfront'], ['Rfront'], ['Rfront'], ['Rfront'], ['Rfront'], ['Rfront'], ['Rfront'], ['Rfront'], ['Rfront'], ['Rfront'], ['Rfront'], ['Rfront'], ['Rfront'], ['Rfront'], ['Rfront'], ['Rfront'], ['Rfront'], ['Rfront'], ['Rfront'], ['Rfront'], ['Rfront'], ['Rfront'], ['Rfront'], ['Rfront'], ['Rfront'], ['Rfront'], ['Rfront'], ['Rfront'], ['Rfront'], ['Rfront'], ['Rfront'], ['Rfront'], ['Rfront'], ['Rfront'], ['Rfront'], ['Rfront'], ['Rfront'], ['Rfront'], ['Rfront'], ['Rfront'], ['Rfront'], ['Rfront'], ['Rfront'], ['Rfront'], ['Rfront'], ['Rfront'], ['Rfront'], ['Rfront'], ['Rfront'], ['Rfront'], ['Rfront'], None, None, None, None, None, None, None, None, None, None, None, None, None, None, None, None, None, None, None, ['Lback'], ['Lback'], ['Lback'], ['Lback'], ['Lback'], ['Lback'], ['Lback'], ['Lback'], ['Lback'], ['Lback'], ['Lback'], ['Lback'], ['Lback'], ['Lback'], ['Lback'], ['Lback'], ['Lback'], ['Lback'], ['Lback'], ['Lback'], ['Lback'], ['Lback'], ['Lback'], ['Lback'], ['Lback'], ['Lfront', 'Lback', 'Rfront'], ['Rfront'], ['Rfront'], ['Rfront'], ['Rfront'], ['Rfront'], ['Rfront'], ['Rfront'], ['Rfront'], ['Rfront'], ['Rfront'], ['Rfront'], ['Rfront'], ['Rfront'], ['Rfront'], ['Rfront'], ['Rfront'], ['Rfront'], ['Rfront'], ['Rfront'], ['Rfront'], ['Rfront'], ['Rfront'], ['Rfront'], ['Rfront'], ['Rfront'], ['Rfront'], ['Rfront'], ['Rfront'], ['Rfront'], ['Rfront'], ['Rfront'], ['Rfront'], ['Rfront'], ['Rfront'], ['Rfront'], ['Rfront'], ['Rfront'], ['Rfront'], ['Rfront'], ['Rfront'], ['Rfront'], ['Rfront'], ['Rfront'], ['Rfront'], ['Rfront'], ['Rfront'], ['Rfront'], ['Rfront'], ['Rfront'], ['Rfront'], ['Rfront'], ['Rfront'], ['Rfront'], ['Rfront'], ['Rfront'], ['Rfront'], ['Rfront'], ['Rfront'], ['Rfront'], None, None, None, None, None, None, None, None, None, None, None, None, None, None, None, None, None, None, None, None, None, None, None, None, None, None, None, None, None, None, None]\n",
      "\n",
      "Lfront boundary vtx : 199\n",
      "[['Rfront', 'Rback', 'Lback'], ['Rfront'], ['Rfront'], ['Rfront'], ['Rfront'], ['Rfront'], ['Rfront'], ['Rfront'], ['Rfront'], ['Rfront'], ['Rfront'], ['Rfront'], ['Rfront'], ['Rfront'], ['Rfront'], ['Rfront'], ['Rfront'], ['Rfront'], ['Rfront'], ['Rfront'], ['Rfront'], ['Rfront'], ['Rfront'], ['Rfront'], ['Rfront'], None, None, None, None, None, None, None, None, None, None, None, ['Lback'], ['Lback'], ['Lback'], ['Lback'], ['Lback'], ['Lback'], ['Lback'], ['Lback'], ['Lback'], ['Lback'], ['Lback'], ['Lback'], ['Lback'], ['Lback'], ['Lback'], ['Lback'], ['Lback'], ['Lback'], ['Lback'], ['Lback'], ['Lback'], ['Lback'], ['Lback'], ['Lback'], ['Lback'], ['Lback'], ['Lback'], ['Lback'], ['Lback'], ['Lback'], ['Lback'], ['Lback'], ['Lback'], ['Lback'], ['Lback'], ['Lback'], ['Lback'], ['Lback'], ['Lback'], ['Lback'], ['Lback'], ['Lback'], ['Lback'], ['Lback'], ['Lback'], ['Lback'], ['Lback'], ['Lback'], ['Lback'], ['Lback'], ['Lback'], ['Lback'], ['Lback'], ['Lback'], ['Lback'], ['Lback'], ['Lback'], ['Lback'], ['Lback'], ['Lback'], ['Lback'], ['Lback'], ['Lback'], ['Lback'], ['Lback'], ['Lback'], ['Lback'], ['Lback'], ['Lback'], ['Lback'], ['Lback'], ['Lback'], ['Lback'], ['Lback'], ['Lback'], ['Lback'], ['Lback'], ['Lback'], ['Lback'], ['Lback'], ['Lback'], None, None, None, None, None, None, None, None, None, None, None, None, None, None, None, None, None, None, None, None, None, None, None, ['Lback'], ['Lback'], ['Lback'], ['Lback'], ['Lback'], ['Lback'], ['Lback'], ['Lback'], ['Lback'], ['Lback'], ['Lback'], ['Lback'], ['Lback'], ['Lback'], ['Lback'], ['Lback'], ['Lback'], ['Lback'], ['Lback'], ['Lback'], ['Lback'], ['Lback'], ['Lback'], ['Lback'], ['Lback'], ['Lback'], ['Lback'], ['Lback'], ['Lback'], ['Lback'], ['Lback'], ['Lback'], ['Lback'], ['Lback'], ['Lback'], ['Lback'], ['Lback'], ['Lback'], ['Lback'], ['Lback'], ['Lback'], ['Lback'], ['Lback'], ['Lback'], ['Lback'], ['Lback'], ['Lback'], ['Lback'], ['Lback'], ['Lback'], ['Lback'], ['Lback'], ['Lback'], ['Lback'], ['Lback'], ['Lback'], ['Lback'], ['Lback'], ['Lback']]\n",
      "\n",
      "Lback boundary vtx : 216\n",
      "[['Rback'], ['Rback'], ['Rback'], ['Rback'], ['Rback'], ['Rback'], ['Rback'], ['Rback'], ['Rback'], ['Rback'], ['Rback'], ['Rback'], ['Rback'], ['Rback'], ['Rback'], ['Rback'], ['Rback'], ['Rback'], ['Rback'], ['Rback'], ['Rback'], ['Rback'], ['Rfront', 'Rback', 'Lfront'], ['Lfront'], ['Lfront'], ['Lfront'], ['Lfront'], ['Lfront'], ['Lfront'], ['Lfront'], ['Lfront'], ['Lfront'], ['Lfront'], ['Lfront'], ['Lfront'], ['Lfront'], ['Lfront'], ['Lfront'], ['Lfront'], ['Lfront'], ['Lfront'], ['Lfront'], ['Lfront'], ['Lfront'], ['Lfront'], ['Lfront'], ['Lfront'], ['Lfront'], ['Lfront'], ['Lfront'], ['Lfront'], ['Lfront'], ['Lfront'], ['Lfront'], ['Lfront'], ['Lfront'], ['Lfront'], ['Lfront'], ['Lfront'], ['Lfront'], ['Lfront'], ['Lfront'], ['Lfront'], ['Lfront'], ['Lfront'], ['Lfront'], ['Lfront'], ['Lfront'], ['Lfront'], ['Lfront'], ['Lfront'], ['Lfront'], ['Lfront'], ['Lfront'], ['Lfront'], ['Lfront'], ['Lfront'], ['Lfront'], ['Lfront'], ['Lfront'], ['Lfront'], ['Lfront'], None, None, None, None, None, None, None, None, None, None, None, None, None, None, None, None, None, None, None, None, None, None, None, None, None, None, None, None, None, None, None, ['Lfront'], ['Lfront'], ['Lfront'], ['Lfront'], ['Lfront'], ['Lfront'], ['Lfront'], ['Lfront'], ['Lfront'], ['Lfront'], ['Lfront'], ['Lfront'], ['Lfront'], ['Lfront'], ['Lfront'], ['Lfront'], ['Lfront'], ['Lfront'], ['Lfront'], ['Lfront'], ['Lfront'], ['Lfront'], ['Lfront'], ['Lfront'], ['Lfront'], ['Lfront'], ['Lfront'], ['Lfront'], ['Lfront'], ['Lfront'], ['Lfront'], ['Lfront'], ['Lfront'], ['Lfront'], ['Lfront'], ['Lfront'], ['Lfront'], ['Lfront'], ['Lfront'], ['Lfront'], ['Lfront'], ['Lfront'], ['Lfront'], ['Lfront'], ['Lfront'], ['Lfront'], ['Lfront'], ['Lfront'], ['Lfront'], ['Lfront'], ['Lfront'], ['Lfront'], ['Lfront'], ['Lfront'], ['Lfront'], ['Lfront'], ['Lfront'], ['Lfront'], ['Lfront'], ['Lfront'], ['Lfront'], ['Lfront'], ['Lfront'], ['Lfront'], ['Lfront'], ['Lfront'], ['Lfront'], ['Lfront'], ['Lfront'], ['Lfront'], ['Lfront'], ['Lfront'], ['Lfront'], ['Lfront'], ['Lfront'], ['Lfront'], ['Lfront'], ['Lfront'], ['Lfront'], ['Lfront'], ['Lfront'], None, None, None, None, None, None, None, None, None, None, None, None, None, None, None, None, None, None, None, ['Rback'], ['Rback'], ['Rback']]\n",
      "\n"
     ]
    }
   ],
   "source": [
    "for panel_name, panel_info in garment_info[\"panel_dict\"].items() :\n",
    "    print(panel_name, 'boundary vtx :', len(panel_info[\"ordered_boundary_vert_idx_list\"]))\n",
    "    print(panel_info[\"ordered_boundary_vert_neighbor_segmentation_list_list\"])\n",
    "    print()\n"
   ]
  },
  {
   "cell_type": "code",
   "execution_count": 224,
   "metadata": {},
   "outputs": [
    {
     "name": "stdout",
     "output_type": "stream",
     "text": [
      "Rback 0 1 [None, 'Rfront']\n",
      "Rback 0 1 [None]\n",
      "\n",
      "Rback 1 2 ['Rfront', None]\n",
      "Rback 1 2 ['Rfront']\n",
      "\n",
      "Rback 2 3 ['Lback', None]\n",
      "Rback 2 3 [None]\n",
      "\n",
      "Rback 3 4 ['Lback', 'Rfront']\n",
      "Rback 3 4 ['Lback']\n",
      "\n",
      "Rback 4 0 ['Rfront', None]\n",
      "Rback 4 0 ['Rfront']\n",
      "\n",
      "Rfront 0 1 ['Rback', None]\n",
      "Rfront 0 1 [None]\n",
      "\n",
      "Rfront 1 2 ['Lfront', 'Rback']\n",
      "Rfront 1 2 ['Rback']\n",
      "\n",
      "Rfront 2 3 ['Lfront', None]\n",
      "Rfront 2 3 ['Lfront']\n",
      "\n",
      "Rfront 3 4 ['Rback', None]\n",
      "Rfront 3 4 [None]\n",
      "\n",
      "Rfront 4 0 ['Rback', None]\n",
      "Rfront 4 0 ['Rback']\n",
      "\n",
      "Lback 0 1 ['Lfront', None]\n",
      "Lback 0 1 [None]\n",
      "\n",
      "Lback 1 2 ['Rback', 'Lfront']\n",
      "Lback 1 2 ['Lfront']\n",
      "\n",
      "Lback 2 3 ['Rback', None]\n",
      "Lback 2 3 ['Rback']\n",
      "\n",
      "Lback 3 4 ['Lfront', None]\n",
      "Lback 3 4 [None]\n",
      "\n",
      "Lback 4 0 ['Lfront', None]\n",
      "Lback 4 0 ['Lfront']\n",
      "\n",
      "Lfront 0 1 ['Lback', None]\n",
      "Lfront 0 1 [None]\n",
      "\n",
      "Lfront 1 2 ['Lback', None]\n",
      "Lfront 1 2 ['Lback']\n",
      "\n",
      "Lfront 2 3 [None, 'Rfront']\n",
      "Lfront 2 3 [None]\n",
      "\n",
      "Lfront 3 4 ['Lback', 'Rfront']\n",
      "Lfront 3 4 ['Rfront']\n",
      "\n",
      "Lfront 4 0 ['Lback', None]\n",
      "Lfront 4 0 ['Lback']\n",
      "\n"
     ]
    }
   ],
   "source": [
    "panel_corner_vertex_neighbor_segmentation_list_dict = {}\n",
    "panel_edge_vertex_neighbor_segmentation_list_dict = {}\n",
    "\n",
    "for panel_name, svg_path in garment_info[\"panel_svg_path_dict\"].items() :\n",
    "    panel_corner_vertex_neighbor_segmentation_list_dict[panel_name] = []\n",
    "    # print(panel_name)\n",
    "    edge_list = list(svg_path[0])\n",
    "    \n",
    "    for edge_idx, edge in enumerate(edge_list) :\n",
    "        next_edge_idx = (edge_idx + 1) % len(edge_list)\n",
    "        \n",
    "        this_edge_stch = None\n",
    "        for stch_idx, stch_info in stitch_dict.items() :\n",
    "            if stch_info[0][\"panel\"] == panel_name and stch_info[0][\"edge\"] == edge_idx :\n",
    "                this_edge_stch = stch_info\n",
    "                break\n",
    "            if stch_info[1][\"panel\"] == panel_name and stch_info[1][\"edge\"] == edge_idx :\n",
    "                this_edge_stch = stch_info\n",
    "                break\n",
    "        next_edge_stch = None\n",
    "        for stch_idx, stch_info in stitch_dict.items() :\n",
    "            if stch_info[0][\"panel\"] == panel_name and stch_info[0][\"edge\"] == next_edge_idx :\n",
    "                next_edge_stch = stch_info\n",
    "                break\n",
    "            if stch_info[1][\"panel\"] == panel_name and stch_info[1][\"edge\"] == next_edge_idx :\n",
    "                next_edge_stch = stch_info\n",
    "                break\n",
    "        \n",
    "        corner_neighbor_panel_name_set = set([\n",
    "            this_edge_stch[0][\"panel\"] if this_edge_stch is not None else None,\n",
    "            this_edge_stch[1][\"panel\"] if this_edge_stch is not None else None,\n",
    "            next_edge_stch[0][\"panel\"] if next_edge_stch is not None else None,\n",
    "            next_edge_stch[1][\"panel\"] if next_edge_stch is not None else None,\n",
    "        ])\n",
    "        corner_neighbor_panel_name_set.discard(panel_name)\n",
    "        corner_neighbor_panel_name_list = list(corner_neighbor_panel_name_set)\n",
    "        \n",
    "        print(panel_name, edge_idx, next_edge_idx, corner_neighbor_panel_name_list)\n",
    "        \n",
    "        edge_neighbor_panel_name_set = set([\n",
    "            this_edge_stch[0][\"panel\"] if this_edge_stch is not None else None,\n",
    "            this_edge_stch[1][\"panel\"] if this_edge_stch is not None else None,\n",
    "        ])\n",
    "        edge_neighbor_panel_name_set.discard(panel_name)\n",
    "        edge_neighbor_panel_name_list = list(edge_neighbor_panel_name_set)\n",
    "        \n",
    "        print(panel_name, edge_idx, next_edge_idx, edge_neighbor_panel_name_list)\n",
    "        \n",
    "        print()\n",
    "        \n",
    "        \n",
    "        # for neighbor_panel_name in neighbor_panel_name_list :\n",
    "        #     panel_corner_vertex_neighbor_segmentation_list_dict[panel_name].append(\n",
    "                \n",
    "        #     )\n",
    "        \n",
    "        \n",
    "        # if this_edge_stch is None :\n",
    "        #     continue\n",
    "        \n",
    "        "
   ]
  },
  {
   "cell_type": "code",
   "execution_count": 219,
   "metadata": {},
   "outputs": [
    {
     "ename": "TypeError",
     "evalue": "set expected at most 1 argument, got 3",
     "output_type": "error",
     "traceback": [
      "\u001b[0;31m---------------------------------------------------------------------------\u001b[0m",
      "\u001b[0;31mTypeError\u001b[0m                                 Traceback (most recent call last)",
      "Cell \u001b[0;32mIn[219], line 1\u001b[0m\n\u001b[0;32m----> 1\u001b[0m \u001b[38;5;28;43mset\u001b[39;49m\u001b[43m(\u001b[49m\u001b[38;5;241;43m1\u001b[39;49m\u001b[43m,\u001b[49m\u001b[38;5;241;43m2\u001b[39;49m\u001b[43m,\u001b[49m\n\u001b[1;32m      2\u001b[0m \u001b[43m    \u001b[49m\u001b[38;5;241;43m3\u001b[39;49m\u001b[43m)\u001b[49m\n",
      "\u001b[0;31mTypeError\u001b[0m: set expected at most 1 argument, got 3"
     ]
    }
   ],
   "source": [
    "set(1,2,\n",
    "    3)"
   ]
  },
  {
   "cell_type": "code",
   "execution_count": 216,
   "metadata": {},
   "outputs": [
    {
     "data": {
      "text/plain": [
       "{0: [{'edge': 4, 'panel': 'Rfront'}, {'edge': 1, 'panel': 'Rback'}],\n",
       " 1: [{'edge': 1, 'panel': 'Rfront'}, {'edge': 4, 'panel': 'Rback'}],\n",
       " 2: [{'edge': 1, 'panel': 'Lfront'}, {'edge': 4, 'panel': 'Lback'}],\n",
       " 3: [{'edge': 4, 'panel': 'Lfront'}, {'edge': 1, 'panel': 'Lback'}],\n",
       " 4: [{'edge': 3, 'panel': 'Rback'}, {'edge': 2, 'panel': 'Lback'}],\n",
       " 5: [{'edge': 2, 'panel': 'Rfront'}, {'edge': 3, 'panel': 'Lfront'}]}"
      ]
     },
     "execution_count": 216,
     "metadata": {},
     "output_type": "execute_result"
    }
   ],
   "source": [
    "stitch_dict"
   ]
  },
  {
   "cell_type": "code",
   "execution_count": 146,
   "metadata": {},
   "outputs": [
    {
     "data": {
      "application/vnd.plotly.v1+json": {
       "config": {
        "plotlyServerURL": "https://plot.ly"
       },
       "data": [
        {
         "facecolor": {
          "bdata": "ZmZmZmZmZmZmZmZmZmZmZmZmZmZmZmZmZmZmZmZmZmZmZmZmZmZmZmZmZmZmZmZmZmZmZmZmZmZmZmZmZmZmZmZmZmZmZmZmZmZmZmZmZmZmZmZmZmZmZmZmZmZmZmZmZmZmZmZmZmZmZmZmZmZmZmZmZmZmZmZmZmZmZmZmZmZmZmZmZmZmZmZmZmZmZmZmZmZmZmZmZmZmZmZmZmZmZmZmZmZmZmZmZmZmZmZmZmZmZmZmZmZmZmZmZmZmZmZmZmZmZmZmZmZmZmZmZmZmZmZmZmZmZmZmZmZmZmZmZmZmZmZmZmZmZmZmZmZmZmZmZmZmZmZmZmZmZmZmZmZmZmZmZmZmZmZmZmZmZmZmZmZmZmZmZmZmZmZmZmZmZmZmZmZmZmZmZmZmZmZmZmZmZmZmZmZmZmZmZmZmZmZmZmZmZmZmZmZmZmZmZmZmZmZmZmZmZmZmZmZmZmZmZmZmZmZmZmZmZmZmZmZmZmZmZmZmZmZmZmZmZmZmZmZmZmZmZmZmZmZmZmZmZmZmZmZmZmZmZmZmZmZmZmZmZmZmZmZmZmZmZmZmZmZmZmZmZmZmZmZmZmZmZmZmZmZmZmZmZmZmZmZmZmZmZmZmZmZmZmZmZmZmZmZmZmZmZmZmZmZmZmZmZmZmZmZmZmZmZmZmZmZmZmZmZmZmZmZmZmZmZmZmZmZmZmZmZmZmZmZmZmZmZmZmZmZmZmZmZmZmZmZmZmZmZmZmZmZmZmZmZmZmZmZmZmZmZmZmZmZmZmZmZmZmZmZmZmZmZmZmZmZmZmZmZmZmZmZmZmZmZmZmZmZmZmZmZmZmZmZmZmZmZmZmZmZmZmZmZmZmZmZmZmZmZmZmZmZmZmZmZmZmZmZmZmZmZmZmZmZmZmZmZmZmZmZmZmZmZmZmZmZmZmZmZmZmZmZmZmZmZmZmZmZmZmZmZmZmZmZmZmZmZmZmZmZmZmZmZmZmZmZmZmZmZmZmZmZmZmZmZmZmZmZmZmZmZmZmZmZmZmZmZmZmZmZmZmZmZmZmZmZmZmZmZmZmZmZmZmZmZmZmZmZmZmZmZmZmZmZmZmZmZmZmZmZmZmZmZmZmZmZmZmZmZmZmZmZmZmZmZmZmZmZmZmZmZmZmZmZmZmZmZmZmZmZmZmZmZmZmZmZmZmZmZmZmZmZmZmZmZmZmZmZmZmZmZmZmZmZmZmZmZmZmZmZmZmZmZmZmZmZmZmZmZmZmZmZmZmZmZmZmZmZmZmZmZmZmZmZmZmZmZmZmZmZmZmZmZmZmZmZmZmZmZmZmZmZmZmZmZmZmZmZmZmZmZmZmZmZmZmZmZmZmZmZmZmZmZmZmZmZmZmZmZmZmZmZmZmZmZmZmZmZmZmZmZmZmZmZmZmZmZmZmZmZmZmZmZmZmZmZmZmZmZmZmZmZmZmZmZmZmZmZmZmZmZmZmZmZmZmZmZmZmZmZmZmZmZmZmZmZmZmZmZmZmZmZmZmZmZmZmZmZmZmZmZmZmZmZmZmZmZmZmZmZmZmZmZmZmZmZmZmZmZmZmZmZmZmZmZmZmZmZmZmZmZmZmZmZmZmZmZmZmZmZmZmZmZmZmZmZmZmZmZmZmZmZmZmZmZmZmZmZmZmZmZmZmZmZmZmZmZmZmZmZmZmZmZmZmZmZmZmZmZmZmZmZmZmZmZmZmZmZmZmZmZmZmZmZmZmZmZmZmZmZmZmZmZmZmZmZmZmZmZmZmZmZmZmZmZmZmZmZmZmZmZmZmZmZmZmZmZmZmZmZmZmZmZmZmZmZmZmZmZmZmZmZmZmZmZmZmZmZmZmZmZmZmZmZmZmZmZmZmZmZmZmZmZmZmZmZmZmZmZmZmZmZmZmZmZmZmZmZmZmZmZmZmZmZmZmZmZmZmZmZmZmZmZmZmZmZmZmZmZmZmZmZmZmZmZmZmZmZmZmZmZmZmZmZmZmZmZmZmZmZmZmZmZmZmZmZmZmZmZmZmZmZmZmZmZmZmZmZmZmZmZmZmZmZmZmZmZmZmZmZmZmZmZmZmZmZmZmZmZmZmZmZmZmZmZmZmZmZmZmZmZmZmZmZmZmZmZmZmZmZmZmZmZmZmZmZmZmZmZmZmZmZmZmZmZmZmZmZmZmZmZmZmZmZmZmZmZmZmZmZmZmZmZmZmZmZmZmZmZmZmZmZmZmZmZmZmZmZmZmZmZmZmZmZmZmZmZmZmZmZmZmZmZmZmZmZmZmZmZmZmZmZmZmZmZmZmZmZmZmZmZmZmZmZmZmZmZmZmZmZmZmZmZmZmZmZmZmZmZmZmZmZmZmZmZmZmZmZmZmZmZmZmZmZmZmZmZmZmZmZmZmZmZmZmZmZmZmZmZmZmZmZmZmZmZmZmZmZmZmZmZmZmZmZmZmZmZmZmZmZmZmZmZmZmZmZmZmZmZmZmZmZmZmZmZmZmZmZmZmZmZmZmZmZmZmZmZmZmZmZmZmZmZmZmZmZmZmZmZmZmZmZmZmZmZmZmZmZmZmZmZmZmZmZmZmZmZmZmZmZmZmZmZmZmZmZmZmZmZmZmZmZmZmZmZmZmZmZmZmZmZmZmZmZmZmZmZmZmZmZmZmZmZmZmZmZmZmZmZmZmZmZmZmZmZmZmZmZmZmZmZmZmZmZmZmZmZmZmZmZmZmZmZmZmZmZmZmZmZmZmZmZmZmZmZmZmZmZmZmZmZmZmZmZmZmZmZmZmZmZmZmZmZmZmZmZmZmZmZmZmZmZmZmZmZmZmZmZmZmZmZmZmZmZmZmZmZmZmZmZmZmZmZmZmZmZmZmZmZmZmZmZmZmZmZmZmZmZmZmZmZmZmZmZmZmZmZmZmZmZmZmZmZmZmZmZmZmZmZmZmZmZmZmZmZmZmZmZmZmZmZmZmZmZmZmZmZmZmZmZmZmZmZmZmZmZmZmZmZmZmZmZmZmZmZmZmZmZmZmZmZmZmZmZmZmZmZmZmZmZmZmZmZmZmZmZmZmZmZmZmZmZmZmZmZmZmZmZmZmZmZmZmZmZmZmZmZmZmZmZmZmZmZmZmZmZmZmZmZmZmZmZmZmZmZmZmZmZmZmZmZmZmZmZmZmZmZmZmZmZmZmZmZmZmZmZmZmZmZmZmZmZmZmZmZmZmZmZmZmZmZmZmZmZmZmZmZmZmZmZmZmZmZmZmZmZmZmZmZmZmZmZmZmZmZmZmZmZmZmZmZmZmZmZmZmZmZmZmZmZmZmZmZmZmZmZmZmZmZmZmZmZmZmZmZmZmZmZmZmZmZmZmZmZmZmZmZmZmZmZmZmZmZmZmZmZmZmZmZmZmZmZmZmZmZmZmZmZmZmZmZmZmZmZmZmZmZmZmZmZmZmZmZmZmZmZmZmZmZmZmZmZmZmZmZmZmZmZmZmZmZmZmZmZmZmZmZmZmZmZmZmZmZmZmZmZmZmZmZmZmZmZmZmZmZmZmZmZmZmZmZmZmZmZmZmZmZmZmZmZmZmZmZmZmZmZmZmZmZmZmZmZmZmZmZmZmZmZmZmZmZmZmZmZmZmZmZmZmZmZmZmZmZmZmZmZmZmZmZmZmZmZmZmZmZmZmZmZmZmZmZmZmZmZmZmZmZmZmZmZmZmZmZmZmZmZmZmZmZmZmZmZmZmZmZmZmZmZmZmZmZmZmZmZmZmZmZmZmZmZmZmZmZmZmZmZmZmZmZmZmZmZmZmZmZmZmZmZmZmZmZmZmZmZmZmZmZmZmZmZmZmZmZmZmZmZmZmZmZmZmZmZmZmZmZmZmZmZmZmZmZmZmZmZmZmZmZmZmZmZmZmZmZmZmZmZmZmZmZmZmZmZmZmZmZmZmZmZmZmZmZmZmZmZmZmZmZmZmZmZmZmZmZmZmZmZmZmZmZmZmZmZmZmZmZmZmZmZmZmZmZmZmZmZmZmZmZmZmZmZmZmZmZmZmZmZmZmZmZmZmZmZmZmZmZmZmZmZmZmZmZmZmZmZmZmZmZmZmZmZmZmZmZmZmZmZmZmZmZmZmZmZmZmZmZmZmZmZmZmZmZmZmZmZmZmZmZmZmZmZmZmZmZmZmZmZmZmZmZmZmZmZmZmZmZmZmZmZmZmZmZmZmZmZmZmZmZmZmZmZmZmZmZmZmZmZmZmZmZmZmZmZmZmZmZmZmZmZmZmZmZmZmZmZmZmZmZmZmZmZmZmZmZmZmZmZmZmZmZmZmZmZmZmZmZmZmZmZmZmZmZmZmZmZmZmZmZmZmZmZmZmZmZmZmZmZmZmZmZmZmZmZmZmZmZmZmZmZmZmZmZmZmZmZmZmZmZmZmZmZmZmZmZmZmZmZmZmZmZmZmZmZmZmZmZmZmZmZmZmZmZmZmZmZmZmZmZmZmZmZmZmZmZmZmZmZmZmZmZmZmZmZmZmZmZmZmZmZmZmZmZmZmZmZmZmZmZmZmZmZmZmZmZmZmZmZmZmZmZmZmZmZmZmZmZmZmZmZmZmZmZmZmZmZmZmZmZmZmZmZmZmZmZmZmZmZmZmZmZmZmZmZmZmZmZmZmZmZmZmZmZmZmZmZmZmZmZmZmZmZmZmZmZmZmZmZmZmZmZmZmZmZmZmZmZmZmZmZmZmZmZmZmZmZmZmZmZmZmZmZmZmZmZmZmZmZmZmZmZmZmZmZmZmZmZmZmZmZmZmZmZmZmZmZmZmZmZmZmZmZmZmZmZmZmZmZmZmZmZmZmZmZmZmZmZmZmZmZmZmZmZmZmZmZmZmZmZmZmZmZmZmZmZmZmZmZmZmZmZmZmZmZmZmZmZmZmZmZmZmZmZmZmZmZmZmZmZmZmZmZmZmZmZmZmZmZmZmZmZmZmZmZmZmZmZmZmZmZmZmZmZmZmZmZmZmZmZmZmZmZmZmZmZmZmZmZmZmZmZmZmZmZmZmZmZmZmZmZmZmZmZmZmZmZmZmZmZmZmZmZmZmZmZmZmZmZmZmZmZmZmZmZmZmZmZmZmZmZmZmZmZmZmZmZmZmZmZmZmZmZmZmZmZmZmZmZmZmZmZmZmZmZmZmZmZmZmZmZmZmZmZmZmZmZmZmZmZmZmZmZmZmZmZmZmZmZmZmZmZmZmZmZmZmZmZmZmZmZmZmZmZmZmZmZmZmZmZmZmZmZmZmZmZmZmZmZmZmZmZmZmZmZmZmZmZmZmZmZmZmZmZmZmZmZmZmZmZmZmZmZmZmZmZmZmZmZmZmZmZmZmZmZmZmZmZmZmZmZmZmZmZmZmZmZmZmZmZmZmZmZmZmZmZmZmZmZmZmZmZmZmZmZmZmZmZmZmZmZmZmZmZmZmZmZmZmZmZmZmZmZmZmZmZmZmZmZmZmZmZmZmZmZmZmZmZmZmZmZmZmZmZmZmZmZmZmZmZmZmZmZmZmZmZmZmZmZmZmZmZmZmZmZmZmZmZmZmZmZmZmZmZmZmZmZmZmZmZmZmZmZmZmZmZmZmZmZmZmZmZmZmZmZmZmZmZmZmZmZmZmZmZmZmZmZmZmZmZmZmZmZmZmZmZmZmZmZmZmZmZmZmZmZmZmZmZmZmZmZmZmZmZmZmZmZmZmZmZmZmZmZmZmZmZmZmZmZmZmZmZmZmZmZmZmZmZmZmZmZmZmZmZmZmZmZmZmZmZmZmZmZmZmZmZmZmZmZmZmZmZmZmZmZmZmZmZmZmZmZmZmZmZmZmZmZmZmZmZmZmZmZmZmZmZmZmZmZmZmZmZmZmZmZmZmZmZmZmZmZmZmZmZmZmZmZmZmZmZmZmZmZmZmZmZmZmZmZmZmZmZmZmZmZmZmZmZmZmZmZmZmZmZmZmZmZmZmZmZmZmZmZmZmZmZmZmZmZmZmZmZmZmZmZmZmZmZmZmZmZmZmZmZmZmZmZmZmZmZmZmZmZmZmZmZmZmZmZmZmZmZmZmZmZmZmZmZmZmZmZmZmZmZmZmZmZmZmZmZmZmZmZmZmZmZmZmZmZmZmZmZmZmZmZmZmZmZmZmZmZmZmZmZmZmZmZmZmZmZmZmZmZmZmZmZmZmZmZmZmZmZmZmZmZmZmZmZmZmZmZmZmZmZmZmZmZmZmZmZmZmZmZmZmZmZmZmZmZmZmZmZmZmZmZmZmZmZmZmZmZmZmZmZmZmZmZmZmZmZmZmZmZmZmZmZmZmZmZmZmZmZmZmZmZmZmZmZmZmZmZmZmZmZmZmZmZmZmZmZmZmZmZmZmZmZmZmZmZmZmZmZmZmZmZmZmZmZmZmZmZmZmZmZmZmZmZmZmZmZmZmZmZmZmZmZmZmZmZmZmZmZmZmZmZmZmZmZmZmZmZmZmZmZmZmZmZmZmZmZmZmZmZmZmZmZmZmZmZmZmZmZmZmZmZmZmZmZmZmZmZmZmZmZmZmZmZmZmZmZmZmZmZmZmZmZmZmZmZmZmZmZmZmZmZmZmZmZmZmZmZmZmZmZmZmZmZmZmZmZmZmZmZmZmZmZmZmZmZmZmZmZmZmZmZmZmZmZmZmZmZmZmZmZmZmZmZmZmZmZmZmZmZmZmZmZmZmZmZmZmZmZmZmZmZmZmZmZmZmZmZmZmZmZmZmZmZmZmZmZmZmZmZmZmZmZmZmZmZmZmZmZmZmZmZmZmZmZmZmZmZmZmZmZmZmZmZmZmZmZmZmZmZmZmZmZmZmZmZmZmZmZmZmZmZmZmZmZmZmZmZmZmZmZmZmZmZmZmZmZmZmZmZmZmZmZmZmZmZmZmZmZmZmZmZmZmZmZmZmZmZmZmZmZmZmZmZmZmZmZmZmZmZmZmZmZmZmZmZmZmZmZmZmZmZmZmZmZmZmZmZmZmZmZmZmZmZmZmZmZmZmZmZmZmZmZmZmZmZmZmZmZmZmZmZmZmZmZmZmZmZmZmZmZmZmZmZmZmZmZmZmZmZmZmZmZmZmZmZmZmZmZmZmZmZmZmZmZmZmZmZmZmZmZmZmZmZmZmZmZmZmZmZmZmZmZmZmZmZmZmZmZmZmZmZmZmZmZmZmZmZmZmZmZmZmZmZmZmZmZmZmZmZmZmZmZmZmZmZmZmZmZmZmZmZmZmZmZmZmZmZmZmZmZmZmZmZmZmZmZmZmZmZmZmZmZmZmZmZmZmZmZmZmZmZmZmZmZmZmZmZmZmZmZmZmZmZmZmZmZmZmZmZmZmZmZmZmZmZmZmZmZmZmZmZmZmZmZmZmZmZmZmZmZmZmZmZmZmZmZmZmZmZmZmZmZmZmZmZmZmZmZmZmZmZmZmZmZmZmZmZmZmZmZmZmZmZmZmZmZmZmZmZmZmZmZmZmZmZmZmZmZmZmZmZmZmZmZmZmZmZmZmZmZmZmZmZmZmZmZmZmZmZmZmZmZmZmZmZmZmZmZmZmZmZmZmZmZmZmZmZmZmZmZmZmZmZmZmZmZmZmZmZmZmZmZmZmZmZmZmZmZmZmZmZmZmZmZmZmZmZmZmZmZmZmZmZmZmZmZmZmZmZmZmZmZmZmZmZmZmZmZmZmZmZmZmZmZmZmZmZmZmZmZmZmZmZmZmZmZmZmZmZmZmZmZmZmZmZmZmZmZmZmZmZmZmZmZmZmZmZmZmZmZmZmZmZmZmZmZmZmZmZmZmZmZmZmZmZmZmZmZmZmZmZmZmZmZmZmZmZmZmZmZmZmZmZmZmZmZmZmZmZmZmZmZmZmZmZmZmZmZmZmZmZmZmZmZmZmZmZmZmZmZmZmZmZmZmZmZmZmZmZmZmZmZmZmZmZmZmZmZmZmZmZmZmZmZmZmZmZmZmZmZmZmZmZmZmZmZmZmZmZmZmZmZmZmZmZmZmZmZmZmZmZmZmZmZmZmZmZmZmZmZmZmZmZmZmZmZmZmZmZmZmZmZmZmZmZmZmZmZmZmZmZmZmZmZmZmZmZmZmZmZmZmZmZmZmZmZmZmZmZmZmZmZmZmZmZmZmZmZmZmZmZmZmZmZmZmZmZmZmZmZmZmZmZmZmZmZmZmZmZmZmZmZmZmZmZmZmZmZmZmZmZmZmZmZmZmZmZmZmZmZmZmZmZmZmZmZmZmZmZmZmZmZmZmZmZmZmZmZmZmZmZmZmZmZmZmZmZmZmZmZmZmZmZmZmZmZmZmZmZmZmZmZmZmZmZmZmZmZmZmZmZmZmZmZmZmZmZmZmZmZmZmZmZmZmZmZmZmZmZmZmZmZmZmZmZmZmZmZmZmZmZmZmZmZmZmZmZmZmZmZmZmZmZmZmZmZmZmZmZmZmZmZmZmZmZmZmZmZmZmZmZmZmZmZmZmZmZmZmZmZmZmZmZmZmZmZmZmZmZmZmZmZmZmZmZmZmZmZmZmZmZmZmZmZmZmZmZmZmZmZmZmZmZmZmZmZmZmZmZmZmZmZmZmZmZmZmZmZmZmZmZmZmZmZmZmZmZmZmZmZmZmZmZmZmZmZmZmZmZmZmZmZmZmZmZmZmZmZmZmZmZmZmZmZmZmZmZmZmZmZmZmZmZmZmZmZmZmZmZmZmZmZmZmZmZmZmZmZmZmZmZmZmZmZmZmZmZmZmZmZmZmZmZmZmZmZmZmZmZmZmZmZmZmZmZmZmZmZmZmZmZmZmZmZmZmZmZmZmZmZmZmZmZmZmZmZmZmZmZmZmZmZmZmZmZmZmZmZmZmZmZmZmZmZmZmZmZmZmZmZmZmZmZmZmZmZmZmZmZmZmZmZmZmZmZmZmZmZmZmZmZmZmZmZmZmZmZmZmZmZmZmZmZmZmZmZmZmZmZmZmZmZmZmZmZmZmZmZmZmZmZmZmZmZmZmZmZmZmZmZmZmZmZmZmZmZmZmZmZmZmZmZmZmZmZmZmZmZmZmZmZmZmZmZmZmZmZmZmZmZmZmZmZmZmZmZmZmZmZmZmZmZmZmZmZmZmZmZmZmZmZmZmZmZmZmZmZmZmZmZmZmZmZmZmZmZmZmZmZmZmZmZmZmZmZmZmZmZmZmZmZmZmZmZmZmZmZmZmZmZmZmZmZmZmZmZmZmZmZmZmZmZmZmZmZmZmZmZmZmZmZmZmZmZmZmZmZmZmZmZmZmZmZmZmZmZmZmZmZmZmZmZmZmZmZmZmZmZmZmZmZmZmZmZmZmZmZmZmZmZmZmZmZmZmZmZmZmZmZmZmZmZmZmZmZmZmZmZmZmZmZmZmZmZmZmZmZmZmZmZmZmZmZmZmZmZmZmZmZmZmZmZmZmZmZmZmZmZmZmZmZmZmZmZmZmZmZmZmZmZmZmZmZmZmZmZmZmZmZmZmZmZmZmZmZmZmZmZmZmZmZmZmZmZmZmZmZmZmZmZmZmZmZmZmZmZmZmZmZmZmZmZmZmZmZmZmZmZmZmZmZmZmZmZmZmZmZmZmZmZmZmZmZmZmZmZmZmZmZmZmZmZmZmZmZmZmZmZmZmZmZmZmZmZmZmZmZmZmZmZmZmZmZmZmZmZmZmZmZmZmZmZmZmZmZmZmZmZmZmZmZmZmZmZmZmZmZmZmZmZmZmZmZmZmZmZmZmZmZmZmZmZmZmZmZmZmZmZmZmZmZmZmZmZmZmZmZmZmZmZmZmZmZmZmZmZmZmZmZmZmZmZmZmZmZmZmZmZmZmZmZmZmZmZmZmZmZmZmZmZmZmZmZmZmZmZmZmZmZmZmZmZmZmZmZmZmZmZmZmZmZmZmZmZmZmZmZmZmZmZmZmZmZmZmZmZmZmZmZmZmZmZmZmZmZmZmZmZmZmZmZmZmZmZmZmZmZmZmZmZmZmZmZmZmZmZmZmZmZmZmZmZmZmZmZmZmZmZmZmZmZmZmZmZmZmZmZmZmZmZmZmZmZmZmZmZmZmZmZmZmZmZmZmZmZmZmZmZmZmZmZmZmZmZmZmZmZmZmZmZmZmZmZmZmZmZmZmZmZmZmZmZmZmZmZmZmZmZmZmZmZmZmZmZmZmZmZmZmZmZmZmZmZmZmZmZmZmZmZmZmZmZmZmZmZmZmZmZmZmZmZmZmZmZmZmZmZmZmZmZmZmZmZmZmZmZmZmZmZmZmZmZmZmZmZmZmZmZmZmZmZmZmZmZmZmZmZmZmZmZmZmZmZmZmZmZmZmZmZmZmZmZmZmZmZmZmZmZmZmZmZmZmZmZmZmZmZmZmZmZmZmZmZmZmZmZmZmZmZmZmZmZmZmZmZmZmZmZmZmZmZmZmZmZmZmZmZmZmZmZmZmZmZmZmZmZmZmZmZmZmZmZmZmZmZmZmZmZmZmZmZmZmZmZmZmZmZmZmZmZmZmZmZmZmZmZmZmZmZmZmZmZmZmZmZmZmZmZmZmZmZmZmZmZmZmZmZmZmZmZmZmZmZmZmZmZmZmZmZmZmZmZmZmZmZmZmZmZmZmZmZmZmZmZmZmZmZmZmZmZmZmZmZmZmZmZmZmZmZmZmZmZmZmZmZmZmZmZmZmZmZmZmZmZmZmZmZmZmZmZmZmZmZmZmZmZmZmZmZmZmZmZmZmZmZmZmZmZmZmZmZmZmZmZmZmZmZmZmZmZmZmZmZmZmZmZmZmZmZmZmZmZmZmZmZmZmZmZmZmZmZmZmZmZmZmZmZmZmZmZmZmZmZmZmZmZmZmZmZmZmZmZmZmZmZmZmZmZmZmZmZmZmZmZmZmZmZmZmZmZmZmZmZmZmZmZmZmZmZmZmZmZmZmZmZmZmZmZmZmZmZmZmZmZmZmZmZmZmZmZmZmZmZmZmZmZmZmZmZmZmZmZmZmZmZmZmZmZmZmZmZmZmZmZmZmZmZmZmZmZmZmZmZmZmZmZmZmZmZmZmZmZmZmZmZmZmZmZmZmZmZmZmZmZmZmZmZmZmZmZmZmZmZmZmZmZmZmZmZmZmZmZmZmZmZmZmZmZmZmZmZmZmZmZmZmZmZmZmZmZmZmZmZmZmZmZmZmZmZmZmZmZmZmZmZmZmZmZmZmZmZmZmZmZmZmZmZmZmZmZmZmZmZmZmZmZmZmZmZmZmZmZmZmZmZmZmZmZmZmZmZmZmZmZmZmZmZmZmZmZmZmZmZmZmZmZmZmZmZmZmZmZmZmZmZmZmZmZmZmZmZmZmZmZmZmZmZmZmZmZmZmZmZmZmZmZmZmZmZmZmZmZmZmZmZmZmZmZmZmZmZmZmZmZmZmZmZmZmZmZmZmZmZmZmZmZmZmZmZmZmZmZmZmZmZmZmZmZmZmZmZmZmZmZmZmZmZmZmZmZmZmZmZmZmZmZmZmZmZmZmZmZmZmZmZmZmZmZmZmZmZmZmZmZmZmZmZmZmZmZmZmZmZmZmZmZmZmZmZmZmZmZmZmZmZmZmZmZmZmZmZmZmZmZmZmZmZmZmZmZmZmZmZmZmZmZmZmZmZmZmZmZmZmZmZmZmZmZmZmZmZmZmZmZmZmZmZmZmZmZmZmZmZmZmZmZmZmZmZmZmZmZmZmZmZmZmZmZmZmZmZmZmZmZmZmZmZmZmZmZmZmZmZmZmZmZmZmZmZmZmZmZmZmZmZmZmZmZmZmZmZmZmZmZmZmZmZmZmZmZmZmZmZmZmZmZmZmZmZmZmZmZmZmZmZmZmZmZmZmZmZmZmZmZmZmZmZmZmZmZmZmZmZmZmZmZmZmZmZmZmZmZmZmZmZmZmZmZmZmZmZmZmZmZmZmZmZmZmZmZmZmZmZmZmZmZmZmZmZmZmZmZmZmZmZmZmZmZmZmZmZmZmZmZmZmZmZmZmZmZmZmZmZmZmZmZmZmZmZmZmZmZmZmZmZmZmZmZmZmZmZmZmZmZmZmZmZmZmZmZmZmZmZmZmZmZmZmZmZmZmZmZmZmZmZmZmZmZmZmZmZmZmZmZmZmZmZmZmZmZmZmZmZmZmZmZmZmZmZmZmZmZmZmZmZmZmZmZmZmZmZmZmZmZmZmZmZmZmZmZmZmZmZmZmZmZmZmZmZmZmZmZmZmZmZmZmZmZmZmZmZmZmZmZmZmZmZmZmZmZmZmZmZmZmZmZmZmZmZmZmZmZmZmZmZmZmZmZmZmZmZmZmZmZmZmZmZmZmZmZmZmZmZmZmZmZmZmZmZmZmZmZmZmZmZmZmZmZmZmZmZmZmZmZmZmZmZmZmZmZmZmZmZmZmZmZmZmZmZmZmZmZmZmZmZmZmZmZmZmZmZmZmZmZmZmZmZmZmZmZmZmZmZmZmZmZmZmZmZmZmZmZmZmZmZmZmZmZmZmZmZmZmZmZmZmZmZmZmZmZmZmZmZmZmZmZmZmZmZmZmZmZmZmZmZmZmZmZmZmZmZmZmZmZmZmZmZmZmZmZmZmZmZmZmZmZmZmZmZmZmZmZmZmZmZmZmZmZmZmZmZmZmZmZmZmZmZmZmZmZmZmZmZmZmZmZmZmZmZmZmZmZmZmZmZmZmZmZmZmZmZmZmZmZmZmZmZmZmZmZmZmZmZmZmZmZmZmZmZmZmZmZmZmZmZmZmZmZmZmZmZmZmZmZmZmZmZmZmZmZmZmZmZmZmZmZmZmZmZmZmZmZmZmZmZmZmZmZmZmZmZmZmZmZmZmZmZmZmZmZmZmZmZmZmZmZmZmZmZmZmZmZmZmZmZmZmZmZmZmZmZmZmZmZmZmZmZmZmZmZmZmZmZmZmZmZmZmZmZmZmZmZmZmZmZmZmZmZmZmZmZmZmZmZmZmZmZmZmZmZmZmZmZmZmZmZmZmZmZmZmZmZmZmZmZmZmZmZmZmZmZmZmZmZmZmZmZmZmZmZmZmZmZmZmZmZmZmZmZmZmZmZmZmZmZmZmZmZmZmZmZmZmZmZmZmZmZmZmZmZmZmZmZmZmZmZmZmZmZmZmZmZmZmZmZmZmZmZmZmZmZmZmZmZmZmZmZmZmZmZmZmZmZmZmZmZmZmZmZmZmZmZmZmZmZmZmZmZmZmZmZmZmZmZmZmZmZmZmZmZmZmZmZmZmZmZmZmZmZmZmZmZmZmZmZmZmZmZmZmZmZmZmZmZmZmZmZmZmZmZmZmZmZmZmZmZmZmZmZmZmZmZmZmZmZmZmZmZmZmZmZmZmZmZmZmZmZmZmZmZmZmZmZmZmZmZmZmZmZmZmZmZmZmZmZmZmZmZmZmZmZmZmZmZmZmZmZmZmZmZmZmZmZmZmZmZmZmZmZmZmZmZmZmZmZmZmZmZmZmZmZmZmZmZmZmZmZmZmZmZmZmZmZmZmZmZmZmZmZmZmZmZmZmZmZmZmZmZmZmZmZmZmZmZmZmZmZmZmZmZmZmZmZmZmZmZmZmZmZmZmZmZmZmZmZmZmZmZmZmZmZmZmZmZmZmZmZmZmZmZmZmZmZmZmZmZmZmZmZmZmZmZmZmZmZmZmZmZmZmZmZmZmZmZmZmZmZmZmZmZmZmZmZmZmZmZmZmZmZmZmZmZmZmZmZmZmZmZmZmZmZmZmZmZmZmZmZmZmZmZmZmZmZmZmZmZmZmZmZmZmZmZmZmZmZmZmZmZmZmZmZmZmZmZmZmZmZmZmZmZmZmZmZmZmZmZmZmZmZmZmZmZmZmZmZmZmZmZmZmZmZmZmZmZmZmZmZmZmZmZmZmZmZmZmZmZmZmZmZmZmZmZmZmZmZmZmZmZmZmZmZmZmZmZmZmZmZmZmZmZmZmZmZmZmZmZmZmZmZmZmZmZmZmZmZmZmZmZmZmZmZmZmZmZmZmZmZmZmZmZmZmZmZmZmZmZmZmZmZmZmZmZmZmZmZmZmZmZmZmZmZmZmZmZmZmZmZmZmZmZmZmZmZmZmZmZmZmZmZmZmZmZmZmZmZmZmZmZmZmZmZmZmZmZmZmZmZmZmZmZmZmZmZmZmZmZmZmZmZmZmZmZmZmZmZmZmZmZmZmZmZmZmZmZmZmZmZmZmZmZmZmZmZmZmZmZmZmZmZmZmZmZmZmZmZmZmZmZmZmZmZmZmZmZmZmZmZmZmZmZmZmZmZmZmZmZmZmZmZmZmZmZmZmZmZmZmZmZmZmZmZmZmZmZmZmZmZmZmZmZmZmZmZmZmZmZmZmZmZmZmZmZmZmZmZmZmZmZmZmZmZmZmZmZmZmZmZmZmZmZmZmZmZmZmZmZmZmZmZmZmZmZmZmZmZmZmZmZmZmZmZmZmZmZmZmZmZmZmZmZmZmZmZmZmZmZmZmZmZmZmZmZmZmZmZmZmZmZmZmZmZmZmZmZmZmZmZmZmZmZmZmZmZmZmZmZmZmZmZmZmZmZmZmZmZmZmZmZmZmZmZmZmZmZmZmZmZmZmZmZmZmZmZmZmZmZmZmZmZmZmZmZmZmZmZmZmZmZmZmZmZmZmZmZmZmZmZmZmZmZmZmZmZmZmZmZmZmZmZmZmZmZmZmZmZmZmZmZmZmZmZmZmZmZmZmZmZmZmZmZmZmZmZmZmZmZmZmZmZmZmZmZmZmZmZmZmZmZmZmZmZmZmZmZmZmZmZmZmZmZmZmZmZmZmZmZmZmZmZmZmZmZmZmZmZmZmZmZmZmZmZmZmZmZmZmZmZmZmZmZmZmZmZmZmZmZmZmZmZmZmZmZmZmZmZmZmZmZmZmZmZmZmZmZmZmZmZmZmZmZmZmZmZmZmZmZmZmZmZmZmZmZmZmZmZmZmZmZmZmZmZmZmZmZmZmZmZmZmZmZmZmZmZmZmZmZmZmZmZmZmZmZmZmZmZmZmZmZmZmZmZmZmZmZmZmZmZmZmZmZmZmZmZmZmZmZmZmZmZmZmZmZmZmZmZmZmZmZmZmZmZmZmZmZmZmZmZmZmZmZmZmZmZmZmZmZmZmZmZmZmZmZmZmZmZmZmZmZmZmZmZmZmZmZmZmZmZmZmZmZmZmZmZmZmZmZmZmZmZmZmZmZmZmZmZmZmZmZmZmZmZmZmZmZmZmZmZmZmZmZmZmZmZmZmZmZmZmZmZmZmZmZmZmZmZmZmZmZmZmZmZmZmZmZmZmZmZmZmZmZmZmZmZmZmZmZmZmZmZmZmZmZmZmZmZmZmZmZmZmZmZmZmZmZmZmZmZmZmZmZmZmZmZmZmZmZmZmZmZmZmZmZmZmZmZmZmZmZmZmZmZmZmZmZmZmZmZmZmZmZmZmZmZmZmZmZmZmZmZmZmZmZmZmZmZmZmZmZmZmZmZmZmZmZmZmZmZmZmZmZmZmZmZmZmZmZmZmZmZmZmZmZmZmZmZmZmZmZmZmZmZmZmZmZmZmZmZmZmZmZmZmZmZmZmZmZmZmZmZmZmZmZmZmZmZmZmZmZmZmZmZmZmZmZmZmZmZmZmZmZmZmZmZmZmZmZmZmZmZmZmZmZmZmZmZmZmZmZmZmZmZmZmZmZmZmZmZmZmZmZmZmZmZmZmZmZmZmZmZmZmZmZmZmZmZmZmZmZmZmZmZmZmZmZmZmZmZmZmZmZmZmZmZmZmZmZmZmZmZmZmZmZmZmZmZmZmZmZmZmZmZmZmZmZmZmZmZmZmZmZmZmZmZmZmZmZmZmZmZmZmZmZmZmZmZmZmZmZmZmZmZmZmZmZmZmZmZmZmZmZmZmZmZmZmZmZmZmZmZmZmZmZmZmZmZmZmZmZmZmZmZmZmZmZmZmZmZmZmZmZmZmZmZmZmZmZmZmZmZmZmZmZmZmZmZmZmZmZmZmZmZmZmZmZmZmZmZmZmZmZmZmZmZmZmZmZmZmZmZmZmZmZmZmZmZmZmZmZmZmZmZmZmZmZmZmZmZmZmZmZmZmZmZmZmZmZmZmZmZmZmZmZmZmZmZmZmZmZmZmZmZmZmZmZmZmZmZmZmZmZmZmZmZmZmZmZmZmZmZmZmZmZmZmZmZmZmZmZmZmZmZmZmZmZmZmZmZmZmZmZmZmZmZmZmZmZmZmZmZmZmZmZmZmZmZmZmZmZmZmZmZmZmZmZmZmZmZmZmZmZmZmZmZmZmZmZmZmZmZmZmZmZmZmZmZmZmZmZmZmZmZmZmZmZmZmZmZmZmZmZmZmZmZmZmZmZmZmZmZmZmZmZmZmZmZmZmZmZmZmZmZmZmZmZmZmZmZmZmZmZmZmZmZmZmZmZmZmZmZmZmZmZmZmZmZmZmZmZmZmZmZmZmZmZmZmZmZmZmZmZmZmZmZmZmZmZmZmZmZmZmZmZmZmZmZmZmZmZmZmZmZmZmZmZmZmZmZmZmZmZmZmZmZmZmZmZmZmZmZmZmZmZmZmZmZmZmZmZmZmZmZmZmZmZmZmZmZmZmZmZmZmZmZmZmZmZmZmZmZmZmZmZmZmZmZmZmZmZmZmZmZmZmZmZmZmZmZmZmZmZmZmZmZmZmZmZmZmZmZmZmZmZmZmZmZmZmZmZmZmZmZmZmZmZmZmZmZmZmZmZmZmZmZmZmZmZmZmZmZmZmZmZmZmZmZmZmZmZmZmZmZmZmZmZmZmZmZmZmZmZmZmZmZmZmZmZmZmZmZmZmZmZmZmZmZmZmZmZmZmZmZmZmZmZmZmZmZmZmZmZmZmZmZmZmZmZmZmZmZmZmZmZmZmZmZmZmZmZmZmZmZmZmZmZmZmZmZmZmZmZmZmZmZmZmZmZmZmZmZmZmZmZmZmZmZmZmZmZmZmZmZmZmZmZmZmZmZmZmZmZmZmZmZmZmZmZmZmZmZmZmZmZmZmZmZmZmZmZmZmZmZmZmZmZmZmZmZmZmZmZmZmZmZmZmZmZmZmZmZmZmZmZmZmZmZmZmZmZmZmZmZmZmZmZmZmZmZmZmZmZmZmZmZmZmZmZmZmZmZmZmZmZmZmZmZmZmZmZmZmZmZmZmZmZmZmZmZmZmZmZmZmZmZmZmZmZmZmZmZmZmZmZmZmZmZmZmZmZmZmZmZmZmZmZmZmZmZmZmZmZmZmZmZmZmZmZmZmZmZmZmZmZmZmZmZmZmZmZmZmZmZmZmZmZmZmZmZmZmZmZmZmZmZmZmZmZmZmZmZmZmZmZmZmZmZmZmZmZmZmZmZmZmZmZmZmZmZmZmZmZmZmZmZmZmZmZmZmZmZmZmZmZmZmZmZmZmZmZmZmZmZmZmZmZmZmZmZmZmZmZmZmZmZmZmZmZmZmZmZmZmZmZmZmZmZmZmZmZmZmZmZmZmZmZmZmZmZmZmZmZmZmZmZmZmZmZmZmZmZmZmZmZmZmZmZmZmZmZmZmZmZmZmZmZmZmZmZmZmZmZmZmZmZmZmZmZmZmZmZmZmZmZmZmZmZmZmZmZmZmZmZmZmZmZmZmZmZmZmZmZmZmZmZmZmZmZmZmZmZmZmZmZmZmZmZmZmZmZmZmZmZmZmZmZmZmZmZmZmZmZmZmZmZmZmZmZmZmZmZmZmZmZmZmZmZmZmZmZmZmZmZmZmZmZmZmZmZmZmZmZmZmZmZmZmZmZmZmZmZmZmZmZmZmZmZmZmZmZmZmZmZmZmZmZmZmZmZmZmZmZmZmZmZmZmZmZmZmZmZmZmZmZmZmZmZmZmZmZmZmZmZmZmZmZmZmZmZmZmZmZmZmZmZmZmZmZmZmZmZmZmZmZmZmZmZmZmZmZmZmZmZmZmZmZmZmZmZmZmZmZmZmZmZmZmZmZmZmZmZmZmZmZmZmZmZmZmZmZmZmZmZmZmZmZmZmZmZmZmZmZmZmZmZmZmZmZmZmZmZmZmZmZmZmZmZmZmZmZmZmZmZmZmZmZmZmZmZmZmZmZmZmZmZmZmZmZmZmZmZmZmZmZmZmZmZmZmZmZmZmZmZmZmZmZmZmZmZmZmZmZmZmZmZmZmZmZmZmZmZmZmZmZmZmZmZmZmZmZmZmZmZmZmZmZmZmZmZmZmZmZmZmZmZmZmZmZmZmZmZmZmZmZmZmZmZmZmZmZmZmZmZmZmZmZmZmZmZmZmZmZmZmZmZmZmZmZmZmZmZmZmZmZmZmZmZmZmZmZmZmZmZmZmZmZmZmZmZmZmZmZmZmZmZmZmZmZmZmZmZmZmZmZmZmZmZmZmZmZmZmZmZmZmZmZmZmZmZmZmZmZmZmZmZmZmZmZmZmZmZmZmZmZmZmZmZmZmZmZmZmZmZmZmZmZmZmZmZmZmZmZmZmZmZmZmZmZmZmZmZmZmZmZmZmZmZmZmZmZmZmZmZmZmZmZmZmZmZmZmZmZmZmZmZmZmZmZmZmZmZmZmZmZmZmZmZmZmZmZmZmZmZmZmZmZmZmZmZmZmZmZmZmZmZmZmZmZmZmZmZmZmZmZmZmZmZmZmZmZmZmZmZmZmZmZmZmZmZmZmZmZmZmZmZmZmZmZmZmZmZmZmZmZmZmZmZmZmZmZmZmZmZmZmZmZmZmZmZmZmZmZmZmZmZmZmZmZmZmZmZmZmZmZmZmZmZmZmZmZmZmZmZmZmZmZmZmZmZmZmZmZmZmZmZmZmZmZmZmZmZmZmZmZmZmZmZmZmZmZmZmZmZmZmZmZmZmZmZmZmZmZmZmZmZmZmZmZmZmZmZmZmZmZmZmZmZmZmZmZmZmZmZmZmZmZmZmZmZmZmZmZmZmZmZmZmZmZmZmZmZmZmZmZmZmZmZmZmZmZmZmZmZmZmZmZmZmZmZmZmZmZmZmZmZmZmZmZmZmZmZmZmZmZmZmZmZmZmZmZmZmZmZmZmZmZmZmZmZmZmZmZmZmZmZmZmZmZmZmZmZmZmZmZmZmZmZmZmZmZmZmZmZmZmZmZmZmZmZmZmZmZmZmZmZmZmZmZmZmZmZmZmZmZmZmZmZmZmZmZmZmZmZmZmZmZmZmZmZmZmZmZmZmZmZmZmZmZmZmZmZmZmZmZmZmZmZmZmZmZmZmZmZmZmZmZmZmZmZmZmZmZmZmZmZmZmZmZmZmZmZmZmZmZmZmZmZmZmZmZmZmZmZmZmZmZmZmZmZmZmZmZmZmZmZmZmZmZmZmZmZmZmZmZmZmZmZmZmZmZmZmZmZmZmZmZmZmZmZmZmZmZmZmZmZmZmZmZmZmZmZmZmZmZmZmZmZmZmZmZmZmZmZmZmZmZmZmZmZmZmZmZmZmZmZmZmZmZmZmZmZmZmZmZmZmZmZmZmZmZmZmZmZmZmZmZmZmZmZmZmZmZmZmZmZmZmZmZmZmZmZmZmZmZmZmZmZmZmZmZmZmZmZmZmZmZmZmZmZmZmZmZmZmZmZmZmZmZmZmZmZmZmZmZmZmZmZmZmZmZmZmZmZmZmZmZmZmZmZmZmZmZmZmZmZmZmZmZmZmZmZmZmZmZmZmZmZmZmZmZmZmZmZmZmZmZmZmZmZmZmZmZmZmZmZmZmZmZmZmZmZmZmZmZmZmZmZmZmZmZmZmZmZmZmZmZmZmZmZmZmZmZmZmZmZmZmZmZmZmZmZmZmZmZmZmZmZmZmZmZmZmZmZmZmZmZmZmZmZmZmZmZmZmZmZmZmZmZmZmZmZmZmZmZmZmZmZmZmZmZmZmZmZmZmZmZmZmZmZmZmZmZmZmZmZmZmZmZmZmZmZmZmZmZmZmZmZmZmZmZmZmZmZmZmZmZmZmZmZmZmZmZmZmZmZmZmZmZmZmZmZmZmZmZmZmZmZmZmZmZmZmZmZmZmZmZmZmZmZmZmZmZmZmZmZmZmZmZmZmZmZmZmZmZmZmZmZmZmZmZmZmZmZmZmZmZmZmZmZmZmZmZmZmZmZmZmZmZmZmZmZmZmZmZmZmZmZmZmZmZmZmZmZmZmZmZmZmZmZmZmZmZmZmZmZmZmZmZmZmZmZmZmZmZmZmZmZmZmZmZmZmZmZmZmZmZmZmZmZmZmZmZmZmZmZmZmZmZmZmZmZmZmZmZmZmZmZmZmZmZmZmZmZmZmZmZmZmZmZmZmZmZmZmZmZmZmZmZmZmZmZmZmZmZmZmZmZmZmZmZmZmZmZmZmZmZmZmZmZmZmZmZmZmZmZmZmZmZmZmZmZmZmZmZmZmZmZmZmZmZmZmZmZmZmZmZmZmZmZmZmZmZmZmZmZmZmZmZmZmZmZmZmZmZmZmZmZmZmZmZmZmZmZmZmZmZmZmZmZmZmZmZmZmZmZmZmZmZmZmZmZmZmZmZmZmZmZmZmZmZmZmZmZmZmZmZmZmZmZmZmZmZmZmZmZmZmZmZmZmZmZmZmZmZmZmZmZmZmZmZmZmZmZmZmZmZmZmZmZmZmZmZmZmZmZmZmZmZmZmZmZmZmZmZmZmZmZmZmZmZmZmZmZmZmZmZmZmZmZmZmZmZmZmZmZmZmZmZmZmZmZmZmZmZmZmZmZmZmZmZmZmZmZmZmZmZmZmZmZmZmZmZmZmZmZmZmZmZmZmZmZmZmZmZmZmZmZmZmZmZmZmZmZmZmZmZmZmZmZmZmZmZmZmZmZmZmZmZmZmZmZmZmZmZmZmZmZmZmZmZmZmZmZmZmZmZmZmZmZmZmZmZmZmZmZmZmZmZmZmZmZmZmZmZmZmZmZmZmZmZmZmZmZmZmZmZmZmZmZmZmZmZmZmZmZmZmZmZmZmZmZmZmZmZmZmZmZmZmZmZmZmZmZmZmZmZmZmZmZmZmZmZmZmZmZmZmZmZmZmZmZmZmZmZmZmZmZmZmZmZmZmZmZmZmZmZmZmZmZmZmZmZmZmZmZmZmZmZmZmZmZmZmZmZmZmZmZmZmZmZmZmZmZmZmZmZmZmZmZmZmZmZmZmZmZmZmZmZmZmZmZmZmZmZmZmZmZmZmZmZmZmZmZmZmZmZmZmZmZmZmZmZmZmZmZmZmZmZmZmZmZmZmZmZmZmZmZmZmZmZmZmZmZmZmZmZmZmZmZmZmZmZmZmZmZmZmZmZmZmZmZmZmZmZmZmZmZmZmZmZmZmZmZmZmZmZmZmZmZmZmZmZmZmZmZmZmZmZmZmZmZmZmZmZmZmZmZmZmZmZmZmZmZmZmZmZmZmZmZmZmZmZmZmZmZmZmZmZmZmZmZmZmZmZmZmZmZmZmZmZmZmZmZmZmZmZmZmZmZmZmZmZmZmZmZmZmZmZmZmZmZmZmZmZmZmZmZmZmZmZmZmZmZmZmZmZmZmZmZmZmZmZmZmZmZmZmZmZmZmZmZmZmZmZmZmZmZmZmZmZmZmZmZmZmZmZmZmZmZmZmZmZmZmZmZmZmZmZmZmZmZmZmZmZmZmZmZmZmZmZmZmZmZmZmZmZmZmZmZm",
          "dtype": "u1",
          "shape": "5017, 3"
         },
         "i": {
          "bdata": "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",
          "dtype": "i2"
         },
         "j": {
          "bdata": "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",
          "dtype": "i2"
         },
         "k": {
          "bdata": "gQVwAAQAAgDuAm4BBwBvAQgAMQHqAToICwAMAA4AnAEMApgBDgrqAXEAfADWBtkB1gZ1BwcBfwBjAdcG0gHbA3EA3wAVAA0CAwBeAXkAdgBeAV8BWQE7BxsAAwIgAO0GBAISAo0BGgIiAIwBAQKsAHYGWwEoAMMBLgBYASwAZAgaADIFNABNATwHSwdoATYApQayAIYBIQcvANQBrACXA74BRgLYA6gAqgCtAOoFHAGCAIUAiQCLAYoAdweKAY4A2wLHAYYFkQAvAdoCPgOVAAIKogGWAJUAjgCiATkHnAB9A30D2QNvAG4A7QKeAOYBPwdkAKMBnAjgAGQCSgFuByYBYQFqAEMB1QExBUABfAGEAUQAiAlCAFQBogY2AUABpQCiAE4BogA7ADsA+wSfAKEAPQBUATcHsAFCB1EADANdAFUB0QGiA1MAVwFLAMgBSABEB0IHWQdNAK8BeQJ0AqcGUgFRB2QBhQAcAbgGJQAmBDcBUgJiAKwHYQGRB44BGQOlBcYEMwHiCA4C5AMEBGoDIANJAB4BJgBAApEAYQBSARQG2glIBrkHTwCvAtcD1gTyBEcHegChBSwGTwJJCBkDmARJB1cAiAeJAYwGGQNLAQkIDQFQAYwIzQLRAlIBFwZ4AT4I2QJzCKQAFwpmAAgBlQGMB44B7QGVAw0HSAAYA8EB1AUNAMgAFwFPCRgBnQRsAE0CyQDcAZMAgwMPBWcAxgWDAOcEAAGzBnYFawEACDEFQAMFBHUCQggxAHgA3AHvBbQB7QaFBooGiwOyB4cAYQc2AnABgQMWA8oBgAH8BIUHCgNaAToFEAAXCV0BTQlKAK8BXAGkCWkGHgEYAGIG0waQCIoItQFRAVEBhwf0ADcHTQc4BwEBPAYIB7EAcwhgATABdACzBooHLwGeB2UBbwcIAckFggA4CIEIagEwCFoHsgF9B50DTQFoAT0IBAI7AaIH5ACBATwAOwDcBjQCqABHAkYAEwPGAYMHVQFKA1YBZgfJARkB2QWFAY0BiQZ/BowB0wDxASAHwgEwAisAYwELCu0EVgC2BjQBAQDqCSQBBwFqB2gHZgH0CasBRQJNADUFaQGmBhIBvwMrAW8AYQH8ALgBqgGUAH8FhgOPAAQANgXxAAkAawEyAYEBPwVrB3MAYgHnA4QB6ACFAfUCKAYRATMHRwN8AToBpAeKAWwEowSMAYkBBAIbAaYAtAFAAaEAVwBBARIAQgGqAZkHDwBEARcARQGyAJsBwwJvBjUCNgK+BqsBZACtAU8ArwFMAVQANAU2AJ8AvwOzAZYHxAFiB8UBxgHHAWcHFgNKANABDQjRAekJ0gFWARkB6AFcAfkA0wH7ANgBIgEoAC8CHwHbBiEBlwFsB3UAgwEFASMBcwflASwBvgFiAXUHIAGCAQkBfQAgAecBZgHoATUFywMzBYYBngMqAXsH1AGXA1oCDwQsAdcB6QE2BQYAMAExAeoBOggVCRUJQglNBAEB4QgfCVsETgTUBO0JogTeCdwJnAm/BIIGUQSBAsgIhgLrATICnQArAT4HfgGSAC4BgAGFA4sBEQE/BXEJNAEfBwACQAMBAhoBNwFpAfoF3wDFB7ICAwKJAScGEAE4AYEBBQIcAT4BGgLtAV8HpAA/AUABoAAwCRcHuASSBW8IXgItAwkIPgU4AtIG1gILAkwHDAJRB/ABSwfnAmUEDgGmBsYBRgcNAkgH9wW+BHcEqgSiAskCwgN6CdwGEwGsBh0BTwdNB+QC6wTDBqUBwwYcBpoEUgcaCRsJmwAtAUQCJwFkAFYH1QkKA08AVweuAXUCUQBLAUwBVQAMAYcGqQDsABQBJAb9ALwDUAXHA0EFfALkCfAA8Qa5AfQG1AlVAkwCvAGUBxIBKgGtAMsGAgE1AegFMQYgBx4BIAdQASkAHwEaAmIHCwA5CP4AnAEcAmcHyAENCFMBVwEVAcoB2wDLASAEzAH9Ax0DEwi1CFgIEQVFAPIAWQCnBhQAqgYZAEUBsAADAawGUgHkASMBbgDsAnwAJQH1AF4BXgE0AW0HawdtB60GrwatBjsFvAawBqQFDQdCBGoHaQnXBOwGsAbHAOQBIwFpAPMJ/AAsAWYASgHoAQMK6QFgAeAGOQFBAIUFYgg6Ae0BlgeQAf4GAAYrCfABTQEhAr4G/gPpAwMESgVCBAsJ9QGTBIcFBgMPBYQFUAI2CIIAJAFmAmMB2QTaBNYE/AEOCZcEXAH+AQcBZQEAAmoBAQJYAYYBAgIeAE4DDwE+AQUCWQH7AAYC1AAGAggCCQKMBmwIlwVvAwsCXQERAEQBDQJWAbEBIQFrBg8CPQUTAlwIawMPAtwAEAIRAiQHMAJoA/4CZgjWCUMIFwIHCOoA+QcvAxoCjQHGARsCHALpCWMHHQJtBvgEjQYXCDUDzgEdAYUHowNTA4gHmAgkBQoFiAdxAnkICwMdAUoCKAIpApcHZgbpBBYG5gYuBeIF4gUrBwUDtwh3A9wAiQfcAPkAzgkABUYDbgabBP0B3AbwAE4C3QY1AjgCiwc5Ai4BNwI+BToC5QfoAtAHiAHAAkICxgfPAsgHPwI4BLYHNgRrCNQItgnBB8UAswfHBYUHRAImAkwGswFHAkgCRwIABe0FiwKMAv8ASgIaB0sCTQJMArsBTQJMAjYC5wXtBVAC+AHKAxcKJwj9CTYDLQg0AzcDuwG8AfgCmgP5ApcDoweSAlkC4gF/AiUE6AR8Ao4H/ATMAmcI7gUkBv8ElAiVCG8I/AIDCPgESQgNA5ACaAAmATwAKgFmAmYCaAJrAmgCnQLHBp8CpQeqB2gC2QZnAmwCbQK1BaQFbQKpBe0JGAYfBoMJgQkfBg0GYwBWB04AVwd1AncC6QPfCb0FsgHrA+wD7QRJBb0FdglGBXsC6gNABf8DAQQHBH0CfwIvBAoEgQK6CA4EDwS0A7QD0gNaAvMBxwjACLME4QIACosIFQSJAogCXAO6AIoCugDeBs0GkALTCZAC9wFJAgwFwQLOBtAGEQMMCJII3AKUAtoApgelBxwIqAelB8UFxAXgB2QBCQGoB6gHzAWXBsoFlwatB6kFnQLFBn0IewiuB9II3AhDBJoFoQJhBF8EiATnCNMIcwSLBK8FpgJlBWsFbQT4CH0F8gikAgwGAgUDBcsC3gPeA60CMAULCAsDWAOIAvcDFAi0ApMIsgezB70HvgKyB7sHugVdAtIAXQK/B7gCuAKzArkC1gc6BJsGQAQrBeMGvAI3BNAIvgLFAMoHwgLMB8AC1AfSB8kHPwLHBz8CEArTB8MH2gfaB0EGyALjBhoFKQUcBRoF2gceBeAD3wPMAtYC3QfAApADxwe5ACQFCQVlCYcD3AKJA+EHkwiJAy4FygIeBagCjweEBeYHxAIGBSwFMwApAScGmgcQASgGoQfvAIsCggWvBt4CKgQtBB0KWwK3AeMChgJ+BOkCUgXjBJ0GDQXmAp8IlgGPAgMFjweVAUQJRwnhBHIF7AIrAZ4AbwBsACwBBQAwARAH8AkHADEBrgAyAXUG8gJBCHcGAQjyBzcB8QfwB/gC9wKcA3gG9Af0B/UH9gf6AvwCmwMkCAUH/AKYA/gHAgj6B/kHAANRBioIRggCAzcDAwMHCFcDTgZYCG0DLgJHCP4H0AAIAxYBCQMYAeMADwNTAwsD4gMLBQoIDgOuAqAHDwMQA/QJcAcMCNcAOgETA20GEwOpA40GjwZaCRMD2wCOBg4IEQgoBRIIGAiNBhQILgjAABcIzgEaCPUD/AOqAxoIzQF4AvQD6AAzCD8FIgO0B7UHnwUlA/UE1QSAA1QGKQMPCdQEkgSxBfEEWgQOCU0EUwSNBMoGHggwA1AGLgMyAzADHwjJA8kDJAj9CTIDlAE4Ay0GKAihBjUDNQOTAy4GOwNHCDUGMAZ7BbcDTwY9A8ABOwM0Bl0D+ASTAC4BkQAvATAIQAM0CEADKgGFCDUI1AZEA7sATAh0A2UDCgE5AecGSQNIA/wB+AZKA+kJOwiYB/YEBwZ8Bp8BPQE9CEsCUAPkBeIFQAiAB60JlQkmAtUJ/Qf0B9AA0wUXAlcIVwgEA64I/wNMBIsElAHqBrcDJgd5A1wDHwKTBhUDXwNlA0sITQhOCJQGUQhNCFAIYwNZCekFNgNFAzICjwWxA2gDZAjBAC0CJQdpAyUH1QUYCl4IbAP2AW0DbQP5BnEDXgj2AXADjggvBykHKge2CK8CBwTLADIC/QYGAy8HLgJ5A3gDFgJkCAYDeQN6A3oFegN8A7cARwicAC0BoAD7BLoD2AR/A1QG5gAyB4EDOAZnCIUDLwGEA4MDhgWEA7YCOAHCBYgD0wJrCOEHigMbAYsDEAJeAu4FpgQuBGUGVQkKBuIE0gfnB+cFKAfmBeUFZAPnBS8BnAeGADMBrgaWA5kDlwMFCOcARgF0CHUIBQibA/MHnAOdAykB1QApAfEHgQcECoMHBQo7BiQIRQLTAHkI4gN/CIAIKQOjBUMEsAWgBaEF0AjIBZUGkwYYA6sD9APxA6sD+ACGCK0DtQEjBoYItAnrBYcItQOyA7MD+gaUBY4FmAW7CN0FlwWKBXoBFgK3A7gDOgPxBtkDMAGBA5sFmwXWAL8DhQi+A70Dewe/A04BYQR9BF4EcgTDA8IDYQTyCGkExgPFA4cEZgSlBGsEfwSSCGsIygNfApIDXwJFBykBeQiIB2YGIAb3CMYDJwUiCcsErAS7BNEDsAS7BLEElQXUA7QErwQDCYMI8AN1ADQBqgA1ASsB4ACABeIAaweWA3wBYgiuAqwCrAKdCN8D4AOeCOED1QefCOMDDgUjAuMDDQYPBaEFowieCbMFAgExAukAdgLrA6gIeALGAOkD1gPsA+0D/AOoCO0DBQR9Ar4F8QPPANYD+ADzAyADzwDzA/QDIAMeA80B+QP3A/kD+AP3A+EGHgP5Ax4DGAiuCFgD8gEgA1gD8gH9A/8DWAMHBH4CBQQBBAIE8wF8AgsE8wElBAoHBQSrCAYEcwNsAQsEbAEKBGwBHgSAAgoECwQEBIACDgSAArQIDwQmBLoIggITBTIEgAIeBFwGGQRdBr8IWgYjBIgCFQTyBRsEKQcXBFgFGAS4CLcIeQUtB/IFMASNBYoJBgQfBF8GHgQfBCAEsAJcBrACNwbiBjUGNwZaBgoEWgJaAi8EsQjACCcEJwQRBRUF0ATECMMIywgnBN8CtwErBOACzAguBHIGLwR/AhsEMgSCAoMCFgUQBTQEzgirB6wH0Ag1BL0C8wW6AjcENwS7Aj4EOwS6AjoEKwW2Cd0I1gjTCNcIxwI+BEAE1Qg/AscCPATYCNgIRQSgAqUCmgWhAnsIfQg9BN0I3gjoBl0EXQSGBFMGWASLBFgE6whMBNoI5QjmCIkEigT1BU8EEQZ7BlIE6gi5CZ0F5ghTBHUBFAb9BdsE+wWfBP4FIAmhAoYE7QgJCe4ILANvBrwJpgNCBHIEXgRfBEkEXgR0BKIC3wjBA6QCpAJlBKQCWgUdBckCwwOgAcMDzgNaBV0F8gjEA1oF+AgjBV4F+QhrBGMF/QhfBXUFBAnOA2QFRAZ1BeoCwQPAA8EDAAlmCakCoAF7BKABAgn0CHYEwQl5BKUE9gV4BIkEnAZ8BHwEewR5BHwEAAnTCAQJgQSGAtIE/AgFCbYAwgbLBM8DtgCwBLYAzQR8BHoEegRZBYUEiASHBIgEdAHlCHQBTwR2AY0EdgGMBCoDWQMqAw0JWgSQBJEEEAksAxIJEAkoAzMCEwn9AcgA/QFABjMCmwSYBJkEMwIYCRcJ9wlxBlQHmwT+ABgJcQYVBlMHnQQbCZwFoQQZCaAEYQbfAKoGAQHOA6QEpATBCaQEnwGfAVAEvATjCc8DnwHLBKoE0AO8BFcE+QXQA7sE0AOtBNADrwSuBCcJrQSNA40DtQSvBLME1APEBnIGmwnTA7UEmgm3BBMHLQm1BLkEegHRAysJIQnSA7sE0QOnBL4EvQQwCQAG5AY0CTEJFQf6CRkHkQnCBMIE3gV5ATsJNglSBjMJgwY4CccEFwfHBLsDPAmjAsoEywS2AMsEhATdBM4E1QOGAtIEPwnQBEAJ3gQdCoQEPgkSBxIHKAPvBCgD9QQoA9cEJgPiAdYE2QTIADIHyADxAAUG3AR+BlQEzQTdBG8ERAngBFcGcATqAuIE6QLqAh4G4wTlBHAFpwFKCVYF5wRVBVEJgQdTCc0ApgECBx0GjgMCB6kG3gBQB1YJdQnnBIcGJwOOBPIEeAUnA6cDtQC2BeIBJAMkA7UAtQAnA+sEKgLbAFgJYwM9AwYDegNjCC4CfgM6AJsHXAL9BLgF/gTsAP4EAAUIBwcHAQWrAqwCqgIkAmAJJAJfCQUF5gYOBmwFPAFoBa0C5wIJBecHrAIKBawCDgUMBd0D3QPuCQ0DoAgKBcMAewEQBXsBEQUVBcEIEAUUBRQFgQJ7ARcFewExBNQDFwUYBcgCxwKaAZoBHQXjBxwFygLVAmYJaAnKAh4FfQWoAsoC0AJ+CWYJfglcBSEFIwUsBSUFJAWtAvwBFAnOA4IE2wBkB8gCKwVoCaQCKwV9BNAC2ALQAs8C0AI+AtACLwXQAmQJQACJCS8ANwE1ALQAMwW0APgA1gMEAe8CCQo3BdgGCQdqCZ4JOQU4BeEArgVtCVsIbwnRAJQHTgIJAcMFCgffAlsCVAVbAkIFWwJzCVsCUgVCBXsCewJHBe8DAgRIBXkCngbtBEIF3wLfAkwF4AJQBeACTwXNCE4FTwVOBVAFRAXhBL4AvgDkAsQIxgh0CUAFSwmdBkYJSgldB98JEwQZBGAEogJbBcMDqQJpBKkCagReBWkEZwVjBV4FYAVhBWoFqAJhBeYGggltBPkIcAT7CHoJfQl9CacBYQXVAmgFfgVoBWoFbAV6CeQEdQVqBQUFDgYaBiQCHwaCCW8F+QngBOAEcgVxBW0EcgVtBHgJdQV7CXUFmwT7Af4A+wH0AQsJegV5BXsFegV7BXsFBwUPBgcFKwJpBWUJfwWABTgC4gABAIEFgwWcCJYB3QKWAToCCgEjB48AhQOSCYcFlAWDAo0FlQmJBY0JjQklCiUKEgeNBbIDjQWHAmYDjwXdBYwJlwWXCZcJkwWSBRYHmQmKCR0H0wOaCYsJlQlmAzIEmQWHBYgFRwTaCLsDxACdBQAG/QUBBrUAtgW1AOUDvAalCN8BpwPfAaIFpAV+CKcFpAWiBaUDpgW2Bb0AbwK9AJ0CqgWtB6oFxwaqBWsCvQAMCr0ArgWyBTsFGQr0AaUDpgOlAhAGsgWeCbIFoghuAp8JtAW3BacD8QSiBeUD/QS5BbUCuQW1ArwHDgW7BT4FTgJ2AsYAdgKsCLkFaQh4AYQGEQHBBREB0QLBBXIJxAXkANECxgXHBcYFxQDJBcUAzgXGBagHywXoCbQHlwbOBWoCzAXPBcwFzgWaApwChwCLAagJbgjcAFYD1AXJBtwAJQfVBdYF1QVtCRcC2wYwAtkFQggaAckG2gWoCakJ7AcPB6MJ3QXgBZgJ4AUaB84A5AXOAFADzgDmCc4AownhBe0A5gW1CecF5gXmBegF6QXoBbsA6gXoBVACGgqyCewFtAnnBU8CTwLvBUgCtQlxCFEI8gW7CPEFFgRBArYJhwTFA3QB9wURBnsGUAT6BfkF+wVQBPkFUQS7CZ4B/QWeAVcEUgRWBP4F/wX+BSEJAgYBBpsFugkCBsQA+gXmCCwDvAB9BjMCYwa/CQgGTAMqAggGKgIZBioCjwMLBkwDwAkkAqoCxQkkAgUFBQVfCfQBsQV5BHgEEgbGA1YEVQQVBnMBnQTCCeoEjwOPAxgGpwGmAqYCCQZxAhsGGQYbBnECZgYWBuoEpgHjBIEJIAbkAyEGxwnNA/gJpgG0AbADnQfZAP0AJgYlBtYAowbaAosA2wL1BxgCUwIrBioGLAYrBlQCVAIzBskJMAbJCWYIOAM0BjgDzAnMCTIGNwPAATkDoAY2BiwIywm/CDUGIgTmAFUG5gDsBnII5wA8BssG/QL8AjwGPgY9Bj8GPgYjCMgA/AFABOMHQgbGAnIFRAZGBkQGRQbiAkUJRgaEBn8GigA4AdMJ8wbNBswGugDsCdUJJwG3AzoDuAMqCE8GUAYBAy4DAQPZCdoJ0glNBEsEJgPsBiYDgAPpAkUJTwVECRMEuAgTBHsFWwbNCbMIXAYSBFwGWwa/CF8GrwISBF8GuwNgBt0JoQS7A3gBwAUGBr4F3wkIBiUCxAlwAmcGKQImA9kE+gBsCWkGiwOLA9EA2gCeB/IAFANtBoEI6Ai8AMQDbgQYCcwAzQQuBBQEtwBlCHoFdgYaAXUG8wJ4BvIC8wLqAPMCeQZ6BnkGewamBKYE4wm8AEIJvgncBEcGHAGEBoEGBwIGAgcCfweFBksCgAaFBoQGxwSGBu4E5QCHBuQJuQGKBgkCiQbuAO4AjAYsAtEFDggfAo0GqQOOBucJFQMrCJAGjwZeA5IGkgbnCSEDUgh0A+cJOgS9Ar0C1ge9ApkGvgLLBb0CmwabAqgDegSjAnoCewJNCUkFUQTqCDcDLQgzBmMDRAA6AY4AOwGDAHEJmwGlBpsBdAjRAagG7ATpCVUJSwPSAaIEqgarBl4A1QG2Bt0B3QGxBrAGuAbdAeYD4wGxBuMBswbHAAUBDwe5BuMBDwetBrYGyQC3BuMBNAdyByMBIwHqCbsGvAa7BiQDJAPiAWAA8QHwALkBJgIKCMUIKQRwBoEEUQXhBB4H0wOdAm8CngKkA2cC2gDHBpUC0wWlCRQJkQQCAb4BigLNBswGjQKNAs4GjQKQAo0C0gaNAtcAkQIOA40C8glFA0MDCgA5AdYG2AF9ANcGIAEJCncHawLYBuEAXAHiCTkHNAKXADUCSQKUBxID7wnxAOoBrgiwAr4IFgi7AuMG0wTkBuYGeAmoAuYGdwX+AOgGoQIUCssFWwNaA+IBuAaCA9wFHQA9ASEAPgF3ANkB5gHxBroB4AD8APIG9AbTCfwAcQe6AbkBVwH4APcG9gmZBHEB+gZuA/YBhwL7BrID/QZgCP0GYwi/A04BBASEAkYE1AiPBO4IVAnqBOoEKgIABQYHMQKhAwQHyQPsADECBwfsADgF4QBABcsI+QnkBIsHOAKpBZkCDQeZAu0HxwDvAhAH7wIEAbcEkgG3BBMHkgHABJIBFweSAZMFwQTIBMEEkQHBBBoHGQffBd8FOgkdB5EJtgQdB7YEmQlyAIMBJgDCAdQBAwETASIHMQhVCEQIJQckB1sIJwcWAiYHWwNgAi8DcgMmCnIDcQNyAy0HcgMaBC4CLQcuAi4HLQf5BkEJlAT7AfEA8QCAAzEHOQjeAusGpQA/AaMAQAFYAEEBEwBCAZoAQwEQAEQBGABFAbEARgGWAEgBigeUAGEASQFlAEoBUABLAVIATAE6AE4BZAesA00BaAFEAXEBcQEGCkUBdwF3AdEJPwH9AJkBSwdBAaQBpAGlAaQBUAlPB/cAVAnsBEIBqAGoAaEEqAGeBKgB4QlSB6EErAEnAa4BKAE1BdYDSwEMAUsBdQKyASEBXAd3Al4H5QAMAQgKjgEUAWAHEgG4AbkBUAH6AMoBGQHKAawDZAdlB0UB+wBSAf8AJQH1ANkB9QBqCW0H6wCWA9wBbAdpB+EBSgEIAUoBCgMQA2YBcAcQA2ABBAEEAW4B8QH0AHUHgAD/AQcBeAfZBncHqwWsBXoHOwXhAGoBCwELAXwHhgENAQICDQEGAj8IPgHuAF0BggeXAYEHRAEOChICEwInAiIChQcnAicCiAcoAikCHwFbAQIKSAE2AjcClQE4Ao4HmweNB48HjgfCANgAOQI5AugCkAfYADkChwk5At4GkQfoAhQBTwFLAygClwdLA0wCQwFYAjsBXAKECVwCXAleArQBZgJnAowCjgKbCI4CkgIQAaIH0gBYAoYDWAKkB5QClQIcCJYCmAJkAZkClQKmB6kHnAKaAqwHNASaApsGaQKdAmkCxgZpAq8HkgLSALICkwixArwHDwq0B7MCIwOzArUHswJAAg8KEQq0AkICtAK1ArUCvQe1AsAH0gC2ArcCDwq3AogBtwLFB7cCyweIAbkCiAHCB4gBxAfCAsUCiAHGB78CPQLCAs4CPgLIB8ICPQLLB88HzAfKBzwCzQfMBzsCOwLPB8ECPQLUB9EHxALLAtMHkAPSB+oH0AfVB9QHhQm5AroCuQLXB8MCxQLFAkAExQLUAsUCPgI8AswCzALrB84CzwLSApcCJwrFAEMC0gJDAiMD1AKaATsCzQI7AtYC6wc6AtgCzwJqCDgBnQiPAucCuQDoAtYC7wLmAO8COQZ3BvAH9QL2AvUC+ALyB/EH+AJWAvQH+QLzB/QC+gL5ArgA+wK4AAQIuAD/Av8CAgj/AtYJKQb8BxgCKggYAgkIGAJUA/8H9AL7AgUI+wcpBvkHAwhhAgMIYQL3B/oC/QL9ApgDCAhNBgcIVwOmCRUC4wBhCQ0DDgMOA5ECFQFUARcDHgIXA44GzAEYAx4CGQMeAhoDGgPAABoDGwMbAxwDFwjiBhYIOwMdA8wBFQgfAxkIFQgcA7AClAIJASID5AAZAi4DIAgwA/4JLwNhAi0DMAMvAzEDYQIFB/wC2AkzA8gJNAMyAzQDNAM2A5MDbwg6AwADOwMbAzwDIALAASwIOwMfAgsBMQgLATIIMwgxCEIDNAhDAzMI+AFDAzcIlAY1CJQGNQivA0MDVAhHAzkBSQM6CDsIFwFLAzwITgNPA08DPghOA+QF7gAPAVQDpglUAxYKFQJVAxUCVgNaA1sDWwNcA1wDZghdA0kISAhLCF4DywBgA18DXwNTCCEDYQNRCGIDYgNiAlMCYwMXCmEDUgiUBlQIRQOFBegAVAiFBWUDXwNXA1cIZwNoA8EAaQNcCC0CaQPWBRECawMYCl4IGAphCF8IaANvAy0CbwNwAzICYgh1A3YDBANYCHsDtwB8AzgDgwOEA4QDXQJdArYChwNrCIgD7wAbAYsDCQLRAAkC0QWRA5IDNgNwCJEDkwMDAZgDVwKYA5kD1QCdA1YCmgN2CJ4D9wKhAzECIgKjAyICzAOkA54CfQhFBJ4CzgikA6UDgAgZCn8I4AHyADICqgOrA6sDzwDPAK0IkQjWANYArgOKCK8DiAiwA60DrwP9ALADjAiyA4sIZgOxA7UDsQOpCVsDAQOQCCsB1gCRCJICsQeSCLEHyQPKADEDMAPMAyMCzAMiAs0DzAPcA3wB3QObCOUCjgLpB4IFjwLlAqsC5wLmAo8CoQjDAKEIoQjmA+UDogikCKMIyQDlA+sJdgJ3AuoDdgJ4AuoDqQhYB+4D7wPuAwUE7wO+BfgArAP4A3MDrwgNBA4EEAQQBCYEEQSzCBIEEwQRBLQItQgWBBgEGQS4CHIDiQIaBCwHuQiBAhYEggIXBHMDHQQhBCIEIQTiBjcGXQaFAicEYgnCCCgEKQQnBCkEGwpTBSkExgjGCN4EKASGAhIFHArICBIFLAQrBMoILQQtBMwItwF3CZ8CMwTPCDQENQSbAtEIQQLSCNQIvAI8BDsEPQS7Aj8EQQS2CUIEQQSgAkME2QhcBEME5AifAtcIRgRHBN0IAQlHAUgESARJBEoERARKBFkETARKBEwEWQNMBEQEowJOBOcI6AgDBukIUwTtCHUBVAR1AdwEWQRTBuwIowKMBFkEKwNbBMMD7wgqBWQEwwNnBPUI8whmBGgEzgN2BGcE9gj3CPYI9ghuBKEBawShAf4I+gj7CPoIbwRvBAQJbwQFCQYJbgT/CEcB/wgBCUcBPAR2BAIJHwp/BMcDHwriAn8EgQT+CAYJBwl+BAgJ4QhZBAoJSwR4BQsJ7wQMCQwJ8ASPBJAEkATUBJAE/QGQBBIJ/QGRBP0BkwSWBJMEFQmXBJcEQwlyAZoEcwGdBHMBFQbMABoJngSfBBwJoASgBFYEnwHjCbkETQO5BP8FIAm6BKkEJAmnBE0DrgSDBMwEhASDBAMJhATVAygJ0wPUA7QEtgS3BCsJ0wR6ASEJugTvAVcEvQS9BO8B5Aa/BDAJwAQzCXkByAQzCTUJNAm/BMUEeQHaCXkByAQiCscExgTHBMcEkQHJBMUEyQQ1CcQEeQE/CdAEPwkFCeIC0QRBCSgDQwmYBJwEcgHhAt4E3wS2AUcJ4wRGCeQE6gLkBOMEpgHlBOYETAlVBXoC5gTnBJ4G6ARPB04J6AToBFQJTglPBwQKVgkiBukE6wSlAewE6wTnBO4E7gR1CRUB9wRjA8ABSAj4BFsJdgP8BFwJ/AT9BLUJSAIEBQYFBAVgCQwDDgUSBWIJewEyBGQJLwUrAh8FcwQdBWcJIgVkBCoFyQDhAfUAOgVrCTcFPAUTAhECPAURAm4JEAJvCXAJqAmnB4IBPwXkAFsCRAV9AkcF7QTlAOQCRAVTBeECXwVgBXsJpwJiBYIJZgV5CXsJfAllBaYCaAUiBX8JHwUFBW4FxQlxAqYCZQVvBTwB2gOABYIFEAqWAdcCOgKHCYgJ6wGFBesBtAOIBbQEiAWMCZAFvwCUBZAJwgSNCZQFjgmXCZkJiwWSCZIJHASHArsIJgqQBZEFkAWWCZIFkQWrCZgJtgOaCYMClAWIBTEExAA8CaQFbwLmAzkF3wG1Bf0E3QfKBcsFowkKAqIJsQnYBTAC2gWmCVUDpglwA6cJbAPRBQoCtQOXBd0FUgOwCd8FwwTfBeMFrQnjBeMFLAKwCasJsAmxCU8C6wW7ALQJswmvA18C5QU9BJ8CngH4BVIEnQWcBQEGugm4CXUBAwYsA1sEWwS8AL4JVAQGBr8J5AMNBqUEEgbcBBQGbwUaBhwGJQIfBm4FIwIgBscJIQbICRUKMwNFCDgDZQgxBjIGMQa3AM0JFAQ7BqED/ALPCbYBQwb7AMAFRwbbCboBSQZLBroBVgdMBk8GGQJRBtgJWgMzA5QB2QnFBMYEUgbABZ8EYQY7CWIG3wBjBncCZAZuBIEEzADhCeIJ/gGnBKsE4ACIBuAAuQGvCYsGkwapA6gDygUXAVUBtAa6Bt4BoAX1BksGpANvAg4D9wEyAt8G3AVZArkD8QbRBkkG/ADlARAD9Am6AUsGMQL3BvcJ+AbpBCIGpwELB8EEFgeDAQUBkgP8CSAIMgP9CSAIFwT/CfsGKgeBAwEKfwU+B0QH9gakAfcAqAH2AFQH9gAHClgHVwVdByUBOAXbA2sHIAF3B2wCeQcNCnoHmAGDB0ICuALhA9UHQAK3Bz8E1wcTCtgHJwojAyYIVALZBUIIUAhOCGwDEQJ/CLAFsAPrBcEGxQjICM4ETgXNCKME9Ah+BIAEfwSEBFkDCwk4CZEBtAQxBL8AjAnCBJEJhwKUCeIHFAo=",
          "dtype": "i2"
         },
         "opacity": 0.5,
         "type": "mesh3d",
         "x": {
          "bdata": "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",
          "dtype": "f8"
         },
         "y": {
          "bdata": "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",
          "dtype": "f8"
         },
         "z": {
          "bdata": "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",
          "dtype": "f8"
         }
        },
        {
         "marker": {
          "color": "red",
          "opacity": 1,
          "size": 2
         },
         "mode": "markers",
         "name": "Vertices",
         "type": "scatter3d",
         "x": {
          "bdata": "WyiZnNq9M8Cbrie6LvAzwJnzjH3JMjTANSiaB7BANMA5m44AblY0wOPiqNxEcTTAaeId4EmHNMBfDVAaaqA0wIdT5uYbtTTAL/zgfOrMNMAzNQnekOI0wODYs+cy9TTAc4QM5NkNNcBDklm9wyk1wBfxnZj1RjXAu9Bcp5FiNcAktOVcins1wBZp4h3gkTXAxOxl22mrNcDuzW+YaMQ1wB1WuOUj3TXALjvEP2z5NcBeDybFxxc2wLQEGQEVNjbA0gDeAglWNsC2ZcBZSnY2wH4CKEaWmDbAlpNQ+kK8NsDQ1sHB3uA2wKnaboJvBjfA8DZvnBQuN8Ar3V1nQ1I3wCulZ3qJdTfA220XmuuUN8BViEfi5bE3wJc7M8FwujfAtFn1udq6N8CSdM3km7E3wLngDP5+oTfAGmt/Z3uYN8DYSBKEK5w3wHQMyF7vqjfASG5Nui3ZN8C4W5IDdhk4wFpkO99PaTjA22lrRDDGOMBpOjsZHDU5wADHnj2XuTnAz/i+uFRFOsCUhhqFJKc6wMstrYbEsTrAWg9fJooAOsBKQEzChfw6wHxFt17TIzvAUbzK2qZoO8DWWMLaGJs7wPDAAMKHM1DA6ITQQZfITMAhkEscebhMwNIb7iO3qEzAJv+Tv3uzTMDsGFdcHMtMwI7nM6De6EzAyXa+nxrrTMAjL2tigeFMwP3YJD/i0UzAKh2s/3PwTMBNvAM8aSNNwDIdOj3vXE3Av0aSIFyTTcD9h/Tb18VNwMu76gHz4E3AcegtHt73TcAawFsgQQlOwNi4/l2fDU7APQrXo3AFTsDVCWgibABOwCMUW0HT9E3AD7dDw2LqTcARGOsbmOZNwFlPrb668k3AMPMd/MQRTsCV1XQ90TFOwDRo6J/gSE7AbvdynxxdTsB2VDVB1G9OwNNnB1xXgk7AzT0kfO+TTsA+y/Pg7qROwPWB5J1DtU7AEVfO3hnHTsDVA+YhU9hOwEkT7wBP6k7Asi5uowH8TsA7ONibGBBPwBjS4SGMIU/A4les4SIzT8A/dEF9y0ZPwD9uv3yyWE/AMJ5BQ/9qT8Bl/WZiunxPwHRgOUIGjk/AceXsndGeT8CI1R9hGKxPwEChnj4CvU/ANBR3vMnPT8DuPzIdOt9PwMGpDyTv8E/AniYz3lYFUMBFEOfhBBBQwF95kJ4iGFDAhIHn3sMjUMAtQUZAhYs0wGEZG7rZtzXAVp5A2CnWNsCqgHuePwE4wLlVEANdKznAk2+2uTElOsAbg04IHdw6wJazd0ZbkTvA9UvEW+d7PMCMnlvoSnA9wPyohv2edD7AWRZM/FGIP8Bf7pOjAFNAwCI17WKa5UDAhGbXvRV7QcClg/V/DhNCwMgljjwQrULAZcQFoFFIQ8CaC1wea+RDwN9vtOOGgUTAARjPoKEfRcCiJvp8lL9FwCP5SiAlXkbAk8ZoHVXVRsBKQEzChShHwD5cctwpZUfAk+F4PgO4R8Bn0xHAzU5IwBPSGoNO7EjA9PkoIy6IScBTdvpBXSJKwNvcmJ6wukrAymq6nuhUS8D5254gscFLwHLfap24HEzAqMgh4uaYTMAmHeVgNu9MwD1fs1w2Gk3AFvn1Q2xKTcDdRZiiXJZNwE8EcR5OME7AURN9PspMTsDSbYlccFZOwKUvhJz3f07AiXjr/NvNTsBG71TAPUVPwFU01v7O0k/A4ugq3V1rTMAl6gWf5gZMwFIKur2keUvAPUfku5TiSsCy8stgjFJKwIv5uaEpqUnACRUcXhDtSMADBkmfVi1IwCLGa17VaUfArg0V4/ynRsDGi4UhcuRFwExPWOIBIUXADJOpglFhRMA4vCAiNaVDwN9OIsK/7ELAtYzUeyo7QsDbM0sC1IZBwK2nVl9dz0DAswqbAS4WQMDLK9fbZtY+wKj/rPnxlz3AuHNhpBeRPMA=",
          "dtype": "f8"
         },
         "y": {
          "bdata": "TaPJxRicO0D5D+m3r9c8QD/FceDVDj5Ao4/5gEBPP0D6Jk2DokdAQLa5MT1h50BACHJQwkyHQUD+DkWBPidCQD4EVaNXx0JAWHA/4IFnQ0DGwaVjzgdEQO5Cc51GqERAGvz9YrZIRUBfeZCeIulFQPomTYOiiUZAzOuIQzYqR0Bgcw6eCctHQP4pVaLsa0hAMJ5BQ/8MSUA0ngjiPK5JQNkJL8GpT0pATny1ozjxSkANVMa/z5JLQLu5+NueNExAngjiPJzWTEBgcw6eCXlNQG4w1GGFG05AiITv/Q2+TkBtG0ZB8GBPQKJinL8JAlBAY7X5f9VTUEC6E+y/zqVQQHMPCd/791BAcyoZAKpKUUCr0asBSp5RQP32deCc8VFAAg8MIHxEUkB8YwgAjpZSQCfeAZ6051JADjDzHfw3U0CtodReRIdTQPaZsz7l1VNA2AxwQbYiVECLw5lfzW1UQBe6EoHqtlRAkiOdgZH+VEB8fhghPENVQNHoDmJnhFVA83UZ/tPCVUBC7Eyh8wdWQAdCsoAJUVZAhLcHISBvVkBJ9Z1flIZWQNrKS/4nyVZAFoTyPo4IV0A1RBX+DEhXQERuhhvwbT5AIQVPIVfoV0BgysABLatXQIrJG2DmbldASzrKwWwwV0D/CMOAJfJWQDiGAODYslZAGttrQe9xVkCEukihLDBWQMJqLGFt7FVAEHhgAOGoVUDiPJzAdGlVQEfp0r8kK1VApZ4FobzrVEBB740hAKlUQPnbniCxYVRAh4cwfhoZVEAXuhKB6s9TQIz2eCEdhVNAEodsIF05U0AWokPgSO1SQEvpmV5in1JAG9gqweJQUkC8B+i+nABSQEYHJGHfrlFAE4HqH0RdUUCHw9LAjwtRQHcVUn5SuFBADmlU4GRlUEDYuP5dnxJQQLzLRXwngE9ABDkoYabbTkB5JF6ezjdOQKfLYmLzk01A04iZfR7xTEAt7dRcbk5MQOvDeqNWrEtAe2ZJgJoKS0ACY30Dk2lKQKVo5V5gyElAr3d/vFcnSUDjUSrhCYdIQHV1x2Kb5kdAqn06HjNGR0DuWkI+6KVGQPW6RWCsBUZAJAuYwK1lRUCgUE8fgcVEQN4AM9/BJURAPWU1XU+GQ0BwCcA/peZCQE8Hsp5aR0JAHo1D/S6qQUCgOIB+3wtBQMrfvaPGbEBArws/OJ+eP0BcABqlSzs7QAlvD0JAxjpAWAOUhhpVOkA7Vik90+s5QEBPAwZJhzlALUFGQIUjOUDqr1dYcMs4QO1+FeC7eThALjiDv18gOEDP9BJjmco3QH7/5sWJezdAWRXhJqM6N0BpOdBDbQM3QF/rUiP00zZA1jcwuVGsNkBS76mc9ow2QE8iwr8IdjZAiLoPQGpnNkBBmxw+6WA2QK5i8ZvCYjZAmboru2BsNkCwko/dBX42QLnF/NzQmDZA+ir52F3ENkCz7ElgcwI3QKuSyD7ITjdAmwKZnUWfN0ACKhxBKt03QO/k02NbHjhAlzjyQGRdOEC0d0ZblaQ4QFzII7iR8jhAB7R0BdtMOUCuSbclcp05QIQR+wRQ9DlAe/SG+8hdOkAbgXhdv5w6QLNBJhk53zpAZi5weawpO0AtJjYf14I7QHU5JSAm4TtAb7vQXKcdPEB1PGagMmY8QLbykv/JtzxASkT4F0ETPUAqkNlZ9Ho9QK8jDtlA7j1AfVpFf2jbV0DBHD1+b8ZXQAHcLF4stldA/yCSIcelV0B2UfTAx4hXQB7DYz+LaFdASBlxAWhKV0DtfhXguzNXQIz2eCEdJVdAfnIUIAoZV0DqWnufqhJXQMJqLGFtEFdAEqJ8QQsRV0ASh2wgXRVXQA1v1uB9IldAfVpFf2g5V0C8H7dfPkVXQPnYXaCkTFdAar5KPnZQV0BglKC/0FBXQOxph78mUldAbeUl/5NTV0A=",
          "dtype": "f8"
         },
         "z": {
          "bdata": "H7qgvmW4WcAc7bjhd79ZwHhCrz+JyVnAWWq932jJWcAsSgnBqspZwDZZox6izFnAOnR63o3NWcD8/zhhws5ZwO1+FeC7zlnAU0Da/wDPWcAmNbQB2M5ZwA+Z8iGozVnAAd9t3jjOWcCbWUsBac9ZwApmTMEa0VnAYrt7gO7RWcCIug9AatFZwI/8wcBzz1nAejarPlfOWcBLBKp/EMxZwOQViJ6UyFnA6UXtfhXHWcDiAPp9/8VZwNoDrcCQxFnAFsCUgQPDWcBwJxHhX8FZwLX7VYDvwFnA1NNH4A/BWcADJJpAEcFZwC5Tk+ANwlnABkg0gSLDWcBSKAtfX8ZZwBuciH5tylnAJh3lYDbOWcA5tp4hHNBZwLX+lgD80VnACDwwgPDTWcANMzSeCNZZwLsNar+12FnAEHhgAOHZWcAxRE5fz9hZwEYKZeHr1lnA3xXB/1bRWcDzxklh3slZwPCl8KDZvFnAR+NQvwuuWcDHoBNCB59ZwMx/SL99jlnAuwopP6l+WcD3sYLfhndZwG8qUmFsflnAWHOAYI6uWcDbMAqCx6tZwHYzox8Nv1nAe0563/jRWcCLpUi+EtxZwInS3uALBlrAdxIR/kW7WcDBOo4fKrRZwK65o//lplnAU1ipoKKeWcDQnWD/dZhZwDJWm/9XlFnA1qwzvi+LWcAJNq5/14BZwBFXzt4ZeVnAfEW3XtODWcAc8PlhhJdZwP3bZb/urVnAacTMPo/EWcBvDAHAsdhZwLHCLR9J5lnAwTqOHyrzWcChgy7h0P5ZwH+l8+FZB1rASBYwgVsMWsCnd/F+3BFawLXdBN80FVrA4fHtXYMXWsDAPc+fNhtawNj0oKAUIlrAfT81XrovWsCLxtrf2T1awHMPCd/7R1rAaverAN9PWsAhAg6hSlVawEgWMIFbWlrABvcDHhhbWsDBUl3Ay1tawIS3ByEgXVrApG5nX3lbWsANUYU/w1lawFN2+kFdVlrAzqYjgJtTWsB1WrdB7U1awDBinwCKSlrAkNjuHqBGWsB/aVGf5EFawAH6ff/mPlrA5BJHHog7WsByFYvfFDlawKJESx5PN1rAZcdGIF42WsBUVWggljdawAg8MIDwNVrALSY2H9cyWsD+CwQBMjJawFlMbD6uL1rAGLSQgNEmWsBJ8lzfhyFawG4zFeKRIFrA0sd8QKAYWsACLV3BNn9ZwOEkzR/TflnAU14robuWWcBUcHhBRKVZwJo+O+C6tlnAlgUTfxTjWcCZR/5g4CFawH1dhv90YVrAX38SnzuUWsA4pFGBk8RawAAAAAAA8FrAz6Pi/44WW8D2z9OAQTlbwOD0Lt6PWFvAnkFD/wR1W8BI+x9grY5bwIR+pl63pVvAaAOwARG7W8DNlNbfEs9bwLDjv0AQ4VvAxY7GoX7wW8AQXVDfMvlbwF5nQ/6Z7FvAacTMPo+3W8BWSWQfZHRbwH9LAP4pLFvAEVSNXg3qWsB9PPTdrdJawMFVnkDYzVrAWmd8X1zcWsA5fT1fs+1awEoNbQA2AVvAaOvgYG/8WsBblxqhn8RawBqlS/+ShVrAfHvXoC9ZWsBVMZV+wptawLxASYEF6FrA4les4SIzW8A/raI/NHdbwB2rlJ7pdFvA4C2QoPgmW8BOKETAIdhawPON6J51jFrA3PEmv0VJWsBeglMfSBlawJDAH37+/lnAWUxsPq4JWsBSK0zfa1hawFRSJ6CJmFrAhLcHISDTWsCSIFwBhRJbwHswKT4+QVvAnz4Cf/hhW8ATnPpA8nhbwDvI68Gki1vAR+aRPxiUW8AA4q5eRZZbwL8Qct7/k1vA9N4YAoCMW8D6CPzh531bwLwft18+a1vAVDcXf9tQW8Bq3JvfMDJbwICfceFAEFvATP4nf/fnWsAaw5ygTbZawO9yEd+JeVrA5ULlX8svWsA=",
          "dtype": "f8"
         }
        },
        {
         "mode": "text",
         "showlegend": false,
         "text": [
          "0"
         ],
         "textfont": {
          "size": 5
         },
         "textposition": "top center",
         "type": "scatter3d",
         "x": [
          -19.741617
         ],
         "y": [
          27.609753
         ],
         "z": [
          -102.88121
         ]
        },
        {
         "mode": "text",
         "showlegend": false,
         "text": [
          "1"
         ],
         "textfont": {
          "size": 5
         },
         "textposition": "top center",
         "type": "scatter3d",
         "x": [
          -19.938213
         ],
         "y": [
          28.842525
         ],
         "z": [
          -102.991692
         ]
        },
        {
         "mode": "text",
         "showlegend": false,
         "text": [
          "2"
         ],
         "textfont": {
          "size": 5
         },
         "textposition": "top center",
         "type": "scatter3d",
         "x": [
          -20.198387
         ],
         "y": [
          30.057951
         ],
         "z": [
          -103.149002
         ]
        },
        {
         "mode": "text",
         "showlegend": false,
         "text": [
          "3"
         ],
         "textfont": {
          "size": 5
         },
         "textposition": "top center",
         "type": "scatter3d",
         "x": [
          -20.252686
         ],
         "y": [
          31.309578
         ],
         "z": [
          -103.147026
         ]
        },
        {
         "mode": "text",
         "showlegend": false,
         "text": [
          "4"
         ],
         "textfont": {
          "size": 5
         },
         "textposition": "top center",
         "type": "scatter3d",
         "x": [
          -20.337616
         ],
         "y": [
          32.559647
         ],
         "z": [
          -103.166672
         ]
        },
        {
         "mode": "text",
         "showlegend": false,
         "text": [
          "5"
         ],
         "textfont": {
          "size": 5
         },
         "textposition": "top center",
         "type": "scatter3d",
         "x": [
          -20.442457
         ],
         "y": [
          33.807655
         ],
         "z": [
          -103.197395
         ]
        },
        {
         "mode": "text",
         "showlegend": false,
         "text": [
          "6"
         ],
         "textfont": {
          "size": 5
         },
         "textposition": "top center",
         "type": "scatter3d",
         "x": [
          -20.528471
         ],
         "y": [
          35.05703
         ],
         "z": [
          -103.211784
         ]
        },
        {
         "mode": "text",
         "showlegend": false,
         "text": [
          "7"
         ],
         "textfont": {
          "size": 5
         },
         "textposition": "top center",
         "type": "scatter3d",
         "x": [
          -20.626619
         ],
         "y": [
          36.306595
         ],
         "z": [
          -103.230614
         ]
        },
        {
         "mode": "text",
         "showlegend": false,
         "text": [
          "8"
         ],
         "textfont": {
          "size": 5
         },
         "textposition": "top center",
         "type": "scatter3d",
         "x": [
          -20.707457
         ],
         "y": [
          37.557362
         ],
         "z": [
          -103.230217
         ]
        },
        {
         "mode": "text",
         "showlegend": false,
         "text": [
          "9"
         ],
         "textfont": {
          "size": 5
         },
         "textposition": "top center",
         "type": "scatter3d",
         "x": [
          -20.800453
         ],
         "y": [
          38.808651
         ],
         "z": [
          -103.234436
         ]
        },
        {
         "mode": "text",
         "showlegend": false,
         "text": [
          "10"
         ],
         "textfont": {
          "size": 5
         },
         "textposition": "top center",
         "type": "scatter3d",
         "x": [
          -20.885023
         ],
         "y": [
          40.060986
         ],
         "z": [
          -103.231934
         ]
        },
        {
         "mode": "text",
         "showlegend": false,
         "text": [
          "11"
         ],
         "textfont": {
          "size": 5
         },
         "textposition": "top center",
         "type": "scatter3d",
         "x": [
          -20.957808
         ],
         "y": [
          41.314655
         ],
         "z": [
          -103.213387
         ]
        },
        {
         "mode": "text",
         "showlegend": false,
         "text": [
          "12"
         ],
         "textfont": {
          "size": 5
         },
         "textposition": "top center",
         "type": "scatter3d",
         "x": [
          -21.054106
         ],
         "y": [
          42.568066
         ],
         "z": [
          -103.222221
         ]
        },
        {
         "mode": "text",
         "showlegend": false,
         "text": [
          "13"
         ],
         "textfont": {
          "size": 5
         },
         "textposition": "top center",
         "type": "scatter3d",
         "x": [
          -21.163143
         ],
         "y": [
          43.821369
         ],
         "z": [
          -103.240784
         ]
        },
        {
         "mode": "text",
         "showlegend": false,
         "text": [
          "14"
         ],
         "textfont": {
          "size": 5
         },
         "textposition": "top center",
         "type": "scatter3d",
         "x": [
          -21.277185
         ],
         "y": [
          45.075272
         ],
         "z": [
          -103.267258
         ]
        },
        {
         "mode": "text",
         "showlegend": false,
         "text": [
          "15"
         ],
         "textfont": {
          "size": 5
         },
         "textposition": "top center",
         "type": "scatter3d",
         "x": [
          -21.385035
         ],
         "y": [
          46.329781
         ],
         "z": [
          -103.280182
         ]
        },
        {
         "mode": "text",
         "showlegend": false,
         "text": [
          "16"
         ],
         "textfont": {
          "size": 5
         },
         "textposition": "top center",
         "type": "scatter3d",
         "x": [
          -21.48258
         ],
         "y": [
          47.586231
         ],
         "z": [
          -103.27211
         ]
        },
        {
         "mode": "text",
         "showlegend": false,
         "text": [
          "17"
         ],
         "textfont": {
          "size": 5
         },
         "textposition": "top center",
         "type": "scatter3d",
         "x": [
          -21.569826
         ],
         "y": [
          48.843159
         ],
         "z": [
          -103.24144
         ]
        },
        {
         "mode": "text",
         "showlegend": false,
         "text": [
          "18"
         ],
         "textfont": {
          "size": 5
         },
         "textposition": "top center",
         "type": "scatter3d",
         "x": [
          -21.669584
         ],
         "y": [
          50.10154
         ],
         "z": [
          -103.224075
         ]
        },
        {
         "mode": "text",
         "showlegend": false,
         "text": [
          "19"
         ],
         "textfont": {
          "size": 5
         },
         "textposition": "top center",
         "type": "scatter3d",
         "x": [
          -21.767221
         ],
         "y": [
          51.361233
         ],
         "z": [
          -103.188507
         ]
        },
        {
         "mode": "text",
         "showlegend": false,
         "text": [
          "20"
         ],
         "textfont": {
          "size": 5
         },
         "textposition": "top center",
         "type": "scatter3d",
         "x": [
          -21.863829
         ],
         "y": [
          52.622368
         ],
         "z": [
          -103.134071
         ]
        },
        {
         "mode": "text",
         "showlegend": false,
         "text": [
          "21"
         ],
         "textfont": {
          "size": 5
         },
         "textposition": "top center",
         "type": "scatter3d",
         "x": [
          -21.974308
         ],
         "y": [
          53.884541
         ],
         "z": [
          -103.110687
         ]
        },
        {
         "mode": "text",
         "showlegend": false,
         "text": [
          "22"
         ],
         "textfont": {
          "size": 5
         },
         "textposition": "top center",
         "type": "scatter3d",
         "x": [
          -22.092892
         ],
         "y": [
          55.146965
         ],
         "z": [
          -103.093719
         ]
        },
        {
         "mode": "text",
         "showlegend": false,
         "text": [
          "23"
         ],
         "textfont": {
          "size": 5
         },
         "textposition": "top center",
         "type": "scatter3d",
         "x": [
          -22.211258
         ],
         "y": [
          56.411098
         ],
         "z": [
          -103.071335
         ]
        },
        {
         "mode": "text",
         "showlegend": false,
         "text": [
          "24"
         ],
         "textfont": {
          "size": 5
         },
         "textposition": "top center",
         "type": "scatter3d",
         "x": [
          -22.336075
         ],
         "y": [
          57.676643
         ],
         "z": [
          -103.047089
         ]
        },
        {
         "mode": "text",
         "showlegend": false,
         "text": [
          "25"
         ],
         "textfont": {
          "size": 5
         },
         "textposition": "top center",
         "type": "scatter3d",
         "x": [
          -22.462072
         ],
         "y": [
          58.945606
         ],
         "z": [
          -103.021477
         ]
        },
        {
         "mode": "text",
         "showlegend": false,
         "text": [
          "26"
         ],
         "textfont": {
          "size": 5
         },
         "textposition": "top center",
         "type": "scatter3d",
         "x": [
          -22.596043
         ],
         "y": [
          60.215008
         ],
         "z": [
          -103.014618
         ]
        },
        {
         "mode": "text",
         "showlegend": false,
         "text": [
          "27"
         ],
         "textfont": {
          "size": 5
         },
         "textposition": "top center",
         "type": "scatter3d",
         "x": [
          -22.735397
         ],
         "y": [
          61.484802
         ],
         "z": [
          -103.016594
         ]
        },
        {
         "mode": "text",
         "showlegend": false,
         "text": [
          "28"
         ],
         "textfont": {
          "size": 5
         },
         "textposition": "top center",
         "type": "scatter3d",
         "x": [
          -22.878399
         ],
         "y": [
          62.757332
         ],
         "z": [
          -103.016678
         ]
        },
        {
         "mode": "text",
         "showlegend": false,
         "text": [
          "29"
         ],
         "textfont": {
          "size": 5
         },
         "textposition": "top center",
         "type": "scatter3d",
         "x": [
          -23.025139
         ],
         "y": [
          64.031845
         ],
         "z": [
          -103.032097
         ]
        },
        {
         "mode": "text",
         "showlegend": false,
         "text": [
          "30"
         ],
         "textfont": {
          "size": 5
         },
         "textposition": "top center",
         "type": "scatter3d",
         "x": [
          -23.180002
         ],
         "y": [
          65.309906
         ],
         "z": [
          -103.048981
         ]
        },
        {
         "mode": "text",
         "showlegend": false,
         "text": [
          "31"
         ],
         "textfont": {
          "size": 5
         },
         "textposition": "top center",
         "type": "scatter3d",
         "x": [
          -23.321341
         ],
         "y": [
          66.590744
         ],
         "z": [
          -103.099571
         ]
        },
        {
         "mode": "text",
         "showlegend": false,
         "text": [
          "32"
         ],
         "textfont": {
          "size": 5
         },
         "textposition": "top center",
         "type": "scatter3d",
         "x": [
          -23.459129
         ],
         "y": [
          67.874748
         ],
         "z": [
          -103.162933
         ]
        },
        {
         "mode": "text",
         "showlegend": false,
         "text": [
          "33"
         ],
         "textfont": {
          "size": 5
         },
         "textposition": "top center",
         "type": "scatter3d",
         "x": [
          -23.58172
         ],
         "y": [
          69.166626
         ],
         "z": [
          -103.222069
         ]
        },
        {
         "mode": "text",
         "showlegend": false,
         "text": [
          "34"
         ],
         "textfont": {
          "size": 5
         },
         "textposition": "top center",
         "type": "scatter3d",
         "x": [
          -23.694914
         ],
         "y": [
          70.473267
         ],
         "z": [
          -103.251717
         ]
        },
        {
         "mode": "text",
         "showlegend": false,
         "text": [
          "35"
         ],
         "textfont": {
          "size": 5
         },
         "textposition": "top center",
         "type": "scatter3d",
         "x": [
          -23.728283
         ],
         "y": [
          71.7752
         ],
         "z": [
          -103.281006
         ]
        },
        {
         "mode": "text",
         "showlegend": false,
         "text": [
          "36"
         ],
         "textfont": {
          "size": 5
         },
         "textposition": "top center",
         "type": "scatter3d",
         "x": [
          -23.7299
         ],
         "y": [
          73.070076
         ],
         "z": [
          -103.311554
         ]
        },
        {
         "mode": "text",
         "showlegend": false,
         "text": [
          "37"
         ],
         "textfont": {
          "size": 5
         },
         "textposition": "top center",
         "type": "scatter3d",
         "x": [
          -23.693785
         ],
         "y": [
          74.352417
         ],
         "z": [
          -103.344276
         ]
        },
        {
         "mode": "text",
         "showlegend": false,
         "text": [
          "38"
         ],
         "textfont": {
          "size": 5
         },
         "textposition": "top center",
         "type": "scatter3d",
         "x": [
          -23.630844
         ],
         "y": [
          75.620399
         ],
         "z": [
          -103.386093
         ]
        },
        {
         "mode": "text",
         "showlegend": false,
         "text": [
          "39"
         ],
         "textfont": {
          "size": 5
         },
         "textposition": "top center",
         "type": "scatter3d",
         "x": [
          -23.595633
         ],
         "y": [
          76.874763
         ],
         "z": [
          -103.404358
         ]
        },
        {
         "mode": "text",
         "showlegend": false,
         "text": [
          "40"
         ],
         "textfont": {
          "size": 5
         },
         "textposition": "top center",
         "type": "scatter3d",
         "x": [
          -23.610039
         ],
         "y": [
          78.113548
         ],
         "z": [
          -103.387657
         ]
        },
        {
         "mode": "text",
         "showlegend": false,
         "text": [
          "41"
         ],
         "textfont": {
          "size": 5
         },
         "textposition": "top center",
         "type": "scatter3d",
         "x": [
          -23.667715
         ],
         "y": [
          79.342117
         ],
         "z": [
          -103.358147
         ]
        },
        {
         "mode": "text",
         "showlegend": false,
         "text": [
          "42"
         ],
         "textfont": {
          "size": 5
         },
         "textposition": "top center",
         "type": "scatter3d",
         "x": [
          -23.848354
         ],
         "y": [
          80.542374
         ],
         "z": [
          -103.270935
         ]
        },
        {
         "mode": "text",
         "showlegend": false,
         "text": [
          "43"
         ],
         "textfont": {
          "size": 5
         },
         "textposition": "top center",
         "type": "scatter3d",
         "x": [
          -24.099457
         ],
         "y": [
          81.71566
         ],
         "z": [
          -103.154198
         ]
        },
        {
         "mode": "text",
         "showlegend": false,
         "text": [
          "44"
         ],
         "textfont": {
          "size": 5
         },
         "textposition": "top center",
         "type": "scatter3d",
         "x": [
          -24.411375
         ],
         "y": [
          82.858063
         ],
         "z": [
          -102.950783
         ]
        },
        {
         "mode": "text",
         "showlegend": false,
         "text": [
          "45"
         ],
         "textfont": {
          "size": 5
         },
         "textposition": "top center",
         "type": "scatter3d",
         "x": [
          -24.774174
         ],
         "y": [
          83.977631
         ],
         "z": [
          -102.719467
         ]
        },
        {
         "mode": "text",
         "showlegend": false,
         "text": [
          "46"
         ],
         "textfont": {
          "size": 5
         },
         "textposition": "top center",
         "type": "scatter3d",
         "x": [
          -25.20746
         ],
         "y": [
          85.050545
         ],
         "z": [
          -102.484818
         ]
        },
        {
         "mode": "text",
         "showlegend": false,
         "text": [
          "47"
         ],
         "textfont": {
          "size": 5
         },
         "textposition": "top center",
         "type": "scatter3d",
         "x": [
          -25.724964
         ],
         "y": [
          86.06881
         ],
         "z": [
          -102.226425
         ]
        },
        {
         "mode": "text",
         "showlegend": false,
         "text": [
          "48"
         ],
         "textfont": {
          "size": 5
         },
         "textposition": "top center",
         "type": "scatter3d",
         "x": [
          -26.270824
         ],
         "y": [
          87.044189
         ],
         "z": [
          -101.97908
         ]
        },
        {
         "mode": "text",
         "showlegend": false,
         "text": [
          "49"
         ],
         "textfont": {
          "size": 5
         },
         "textposition": "top center",
         "type": "scatter3d",
         "x": [
          -26.652901
         ],
         "y": [
          88.124245
         ],
         "z": [
          -101.867607
         ]
        },
        {
         "mode": "text",
         "showlegend": false,
         "text": [
          "50"
         ],
         "textfont": {
          "size": 5
         },
         "textposition": "top center",
         "type": "scatter3d",
         "x": [
          -26.694405
         ],
         "y": [
          89.266205
         ],
         "z": [
          -101.975365
         ]
        },
        {
         "mode": "text",
         "showlegend": false,
         "text": [
          "51"
         ],
         "textfont": {
          "size": 5
         },
         "textposition": "top center",
         "type": "scatter3d",
         "x": [
          -26.002108
         ],
         "y": [
          89.736336
         ],
         "z": [
          -102.72744
         ]
        },
        {
         "mode": "text",
         "showlegend": false,
         "text": [
          "52"
         ],
         "textfont": {
          "size": 5
         },
         "textposition": "top center",
         "type": "scatter3d",
         "x": [
          -26.986416
         ],
         "y": [
          90.102806
         ],
         "z": [
          -102.684052
         ]
        },
        {
         "mode": "text",
         "showlegend": false,
         "text": [
          "53"
         ],
         "textfont": {
          "size": 5
         },
         "textposition": "top center",
         "type": "scatter3d",
         "x": [
          -27.139944
         ],
         "y": [
          91.143066
         ],
         "z": [
          -102.985176
         ]
        },
        {
         "mode": "text",
         "showlegend": false,
         "text": [
          "54"
         ],
         "textfont": {
          "size": 5
         },
         "textposition": "top center",
         "type": "scatter3d",
         "x": [
          -27.408796
         ],
         "y": [
          92.133682
         ],
         "z": [
          -103.280815
         ]
        },
        {
         "mode": "text",
         "showlegend": false,
         "text": [
          "55"
         ],
         "textfont": {
          "size": 5
         },
         "textposition": "top center",
         "type": "scatter3d",
         "x": [
          -27.605848
         ],
         "y": [
          93.125793
         ],
         "z": [
          -103.438644
         ]
        },
        {
         "mode": "text",
         "showlegend": false,
         "text": [
          "56"
         ],
         "textfont": {
          "size": 5
         },
         "textposition": "top center",
         "type": "scatter3d",
         "x": [
          -64.805161
         ],
         "y": [
          30.429445
         ],
         "z": [
          -104.094475
         ]
        },
        {
         "mode": "text",
         "showlegend": false,
         "text": [
          "57"
         ],
         "textfont": {
          "size": 5
         },
         "textposition": "top center",
         "type": "scatter3d",
         "x": [
          -57.567116
         ],
         "y": [
          95.630318
         ],
         "z": [
          -102.926147
         ]
        },
        {
         "mode": "text",
         "showlegend": false,
         "text": [
          "58"
         ],
         "textfont": {
          "size": 5
         },
         "textposition": "top center",
         "type": "scatter3d",
         "x": [
          -57.441196
         ],
         "y": [
          94.674622
         ],
         "z": [
          -102.815071
         ]
        },
        {
         "mode": "text",
         "showlegend": false,
         "text": [
          "59"
         ],
         "textfont": {
          "size": 5
         },
         "textposition": "top center",
         "type": "scatter3d",
         "x": [
          -57.318089
         ],
         "y": [
          93.732811
         ],
         "z": [
          -102.607788
         ]
        },
        {
         "mode": "text",
         "showlegend": false,
         "text": [
          "60"
         ],
         "textfont": {
          "size": 5
         },
         "textposition": "top center",
         "type": "scatter3d",
         "x": [
          -57.402214
         ],
         "y": [
          92.756638
         ],
         "z": [
          -102.478676
         ]
        },
        {
         "mode": "text",
         "showlegend": false,
         "text": [
          "61"
         ],
         "textfont": {
          "size": 5
         },
         "textposition": "top center",
         "type": "scatter3d",
         "x": [
          -57.586803
         ],
         "y": [
          91.783539
         ],
         "z": [
          -102.382202
         ]
        },
        {
         "mode": "text",
         "showlegend": false,
         "text": [
          "62"
         ],
         "textfont": {
          "size": 5
         },
         "textposition": "top center",
         "type": "scatter3d",
         "x": [
          -57.819294
         ],
         "y": [
          90.794487
         ],
         "z": [
          -102.317871
         ]
        },
        {
         "mode": "text",
         "showlegend": false,
         "text": [
          "63"
         ],
         "textfont": {
          "size": 5
         },
         "textposition": "top center",
         "type": "scatter3d",
         "x": [
          -57.83675
         ],
         "y": [
          89.780228
         ],
         "z": [
          -102.174789
         ]
        },
        {
         "mode": "text",
         "showlegend": false,
         "text": [
          "64"
         ],
         "textfont": {
          "size": 5
         },
         "textposition": "top center",
         "type": "scatter3d",
         "x": [
          -57.761761
         ],
         "y": [
          88.752724
         ],
         "z": [
          -102.013153
         ]
        },
        {
         "mode": "text",
         "showlegend": false,
         "text": [
          "65"
         ],
         "textfont": {
          "size": 5
         },
         "textposition": "top center",
         "type": "scatter3d",
         "x": [
          -57.639717
         ],
         "y": [
          87.694176
         ],
         "z": [
          -101.892204
         ]
        },
        {
         "mode": "text",
         "showlegend": false,
         "text": [
          "66"
         ],
         "textfont": {
          "size": 5
         },
         "textposition": "top center",
         "type": "scatter3d",
         "x": [
          -57.87854
         ],
         "y": [
          86.638733
         ],
         "z": [
          -102.059776
         ]
        },
        {
         "mode": "text",
         "showlegend": false,
         "text": [
          "67"
         ],
         "textfont": {
          "size": 5
         },
         "textposition": "top center",
         "type": "scatter3d",
         "x": [
          -58.276649
         ],
         "y": [
          85.647751
         ],
         "z": [
          -102.367455
         ]
        },
        {
         "mode": "text",
         "showlegend": false,
         "text": [
          "68"
         ],
         "textfont": {
          "size": 5
         },
         "textposition": "top center",
         "type": "scatter3d",
         "x": [
          -58.726051
         ],
         "y": [
          84.674118
         ],
         "z": [
          -102.717697
         ]
        },
        {
         "mode": "text",
         "showlegend": false,
         "text": [
          "69"
         ],
         "textfont": {
          "size": 5
         },
         "textposition": "top center",
         "type": "scatter3d",
         "x": [
          -59.151249
         ],
         "y": [
          83.683388
         ],
         "z": [
          -103.071243
         ]
        },
        {
         "mode": "text",
         "showlegend": false,
         "text": [
          "70"
         ],
         "textfont": {
          "size": 5
         },
         "textposition": "top center",
         "type": "scatter3d",
         "x": [
          -59.54565
         ],
         "y": [
          82.640633
         ],
         "z": [
          -103.385849
         ]
        },
        {
         "mode": "text",
         "showlegend": false,
         "text": [
          "71"
         ],
         "textfont": {
          "size": 5
         },
         "textposition": "top center",
         "type": "scatter3d",
         "x": [
          -59.757416
         ],
         "y": [
          81.526436
         ],
         "z": [
          -103.598213
         ]
        },
        {
         "mode": "text",
         "showlegend": false,
         "text": [
          "72"
         ],
         "textfont": {
          "size": 5
         },
         "textposition": "top center",
         "type": "scatter3d",
         "x": [
          -59.936466
         ],
         "y": [
          80.392242
         ],
         "z": [
          -103.799446
         ]
        },
        {
         "mode": "text",
         "showlegend": false,
         "text": [
          "73"
         ],
         "textfont": {
          "size": 5
         },
         "textposition": "top center",
         "type": "scatter3d",
         "x": [
          -60.0723
         ],
         "y": [
          79.248688
         ],
         "z": [
          -103.981499
         ]
        },
        {
         "mode": "text",
         "showlegend": false,
         "text": [
          "74"
         ],
         "textfont": {
          "size": 5
         },
         "textposition": "top center",
         "type": "scatter3d",
         "x": [
          -60.106426
         ],
         "y": [
          78.079903
         ],
         "z": [
          -104.114861
         ]
        },
        {
         "mode": "text",
         "showlegend": false,
         "text": [
          "75"
         ],
         "textfont": {
          "size": 5
         },
         "textposition": "top center",
         "type": "scatter3d",
         "x": [
          -60.0425
         ],
         "y": [
          76.896309
         ],
         "z": [
          -104.193085
         ]
        },
        {
         "mode": "text",
         "showlegend": false,
         "text": [
          "76"
         ],
         "textfont": {
          "size": 5
         },
         "textposition": "top center",
         "type": "scatter3d",
         "x": [
          -60.0033
         ],
         "y": [
          75.707573
         ],
         "z": [
          -104.279083
         ]
        },
        {
         "mode": "text",
         "showlegend": false,
         "text": [
          "77"
         ],
         "textfont": {
          "size": 5
         },
         "textposition": "top center",
         "type": "scatter3d",
         "x": [
          -59.912697
         ],
         "y": [
          74.490379
         ],
         "z": [
          -104.331352
         ]
        },
        {
         "mode": "text",
         "showlegend": false,
         "text": [
          "78"
         ],
         "textfont": {
          "size": 5
         },
         "textposition": "top center",
         "type": "scatter3d",
         "x": [
          -59.831139
         ],
         "y": [
          73.26384
         ],
         "z": [
          -104.367393
         ]
        },
        {
         "mode": "text",
         "showlegend": false,
         "text": [
          "79"
         ],
         "textfont": {
          "size": 5
         },
         "textposition": "top center",
         "type": "scatter3d",
         "x": [
          -59.801517
         ],
         "y": [
          72.009567
         ],
         "z": [
          -104.425209
         ]
        },
        {
         "mode": "text",
         "showlegend": false,
         "text": [
          "80"
         ],
         "textfont": {
          "size": 5
         },
         "textposition": "top center",
         "type": "scatter3d",
         "x": [
          -59.896324
         ],
         "y": [
          70.732384
         ],
         "z": [
          -104.532509
         ]
        },
        {
         "mode": "text",
         "showlegend": false,
         "text": [
          "81"
         ],
         "textfont": {
          "size": 5
         },
         "textposition": "top center",
         "type": "scatter3d",
         "x": [
          -60.138824
         ],
         "y": [
          69.457283
         ],
         "z": [
          -104.74575
         ]
        },
        {
         "mode": "text",
         "showlegend": false,
         "text": [
          "82"
         ],
         "textfont": {
          "size": 5
         },
         "textposition": "top center",
         "type": "scatter3d",
         "x": [
          -60.389198
         ],
         "y": [
          68.180649
         ],
         "z": [
          -104.966423
         ]
        },
        {
         "mode": "text",
         "showlegend": false,
         "text": [
          "83"
         ],
         "textfont": {
          "size": 5
         },
         "textposition": "top center",
         "type": "scatter3d",
         "x": [
          -60.569355
         ],
         "y": [
          66.880035
         ],
         "z": [
          -105.124748
         ]
        },
        {
         "mode": "text",
         "showlegend": false,
         "text": [
          "84"
         ],
         "textfont": {
          "size": 5
         },
         "textposition": "top center",
         "type": "scatter3d",
         "x": [
          -60.727436
         ],
         "y": [
          65.584282
         ],
         "z": [
          -105.247986
         ]
        },
        {
         "mode": "text",
         "showlegend": false,
         "text": [
          "85"
         ],
         "textfont": {
          "size": 5
         },
         "textposition": "top center",
         "type": "scatter3d",
         "x": [
          -60.873665
         ],
         "y": [
          64.290977
         ],
         "z": [
          -105.33268
         ]
        },
        {
         "mode": "text",
         "showlegend": false,
         "text": [
          "86"
         ],
         "textfont": {
          "size": 5
         },
         "textposition": "top center",
         "type": "scatter3d",
         "x": [
          -61.018291
         ],
         "y": [
          63.001205
         ],
         "z": [
          -105.411835
         ]
        },
        {
         "mode": "text",
         "showlegend": false,
         "text": [
          "87"
         ],
         "textfont": {
          "size": 5
         },
         "textposition": "top center",
         "type": "scatter3d",
         "x": [
          -61.155746
         ],
         "y": [
          61.716015
         ],
         "z": [
          -105.423347
         ]
        },
        {
         "mode": "text",
         "showlegend": false,
         "text": [
          "88"
         ],
         "textfont": {
          "size": 5
         },
         "textposition": "top center",
         "type": "scatter3d",
         "x": [
          -61.28854
         ],
         "y": [
          60.435993
         ],
         "z": [
          -105.434311
         ]
        },
        {
         "mode": "text",
         "showlegend": false,
         "text": [
          "89"
         ],
         "textfont": {
          "size": 5
         },
         "textposition": "top center",
         "type": "scatter3d",
         "x": [
          -61.416126
         ],
         "y": [
          59.155865
         ],
         "z": [
          -105.455086
         ]
        },
        {
         "mode": "text",
         "showlegend": false,
         "text": [
          "90"
         ],
         "textfont": {
          "size": 5
         },
         "textposition": "top center",
         "type": "scatter3d",
         "x": [
          -61.555477
         ],
         "y": [
          57.883743
         ],
         "z": [
          -105.429283
         ]
        },
        {
         "mode": "text",
         "showlegend": false,
         "text": [
          "91"
         ],
         "textfont": {
          "size": 5
         },
         "textposition": "top center",
         "type": "scatter3d",
         "x": [
          -61.690037
         ],
         "y": [
          56.612743
         ],
         "z": [
          -105.402542
         ]
        },
        {
         "mode": "text",
         "showlegend": false,
         "text": [
          "92"
         ],
         "textfont": {
          "size": 5
         },
         "textposition": "top center",
         "type": "scatter3d",
         "x": [
          -61.830536
         ],
         "y": [
          55.346394
         ],
         "z": [
          -105.349442
         ]
        },
        {
         "mode": "text",
         "showlegend": false,
         "text": [
          "93"
         ],
         "textfont": {
          "size": 5
         },
         "textposition": "top center",
         "type": "scatter3d",
         "x": [
          -61.9688
         ],
         "y": [
          54.08284
         ],
         "z": [
          -105.306366
         ]
        },
        {
         "mode": "text",
         "showlegend": false,
         "text": [
          "94"
         ],
         "textfont": {
          "size": 5
         },
         "textposition": "top center",
         "type": "scatter3d",
         "x": [
          -62.125751
         ],
         "y": [
          52.824799
         ],
         "z": [
          -105.217606
         ]
        },
        {
         "mode": "text",
         "showlegend": false,
         "text": [
          "95"
         ],
         "textfont": {
          "size": 5
         },
         "textposition": "top center",
         "type": "scatter3d",
         "x": [
          -62.262089
         ],
         "y": [
          51.565441
         ],
         "z": [
          -105.164673
         ]
        },
        {
         "mode": "text",
         "showlegend": false,
         "text": [
          "96"
         ],
         "textfont": {
          "size": 5
         },
         "textposition": "top center",
         "type": "scatter3d",
         "x": [
          -62.399502
         ],
         "y": [
          50.307365
         ],
         "z": [
          -105.103523
         ]
        },
        {
         "mode": "text",
         "showlegend": false,
         "text": [
          "97"
         ],
         "textfont": {
          "size": 5
         },
         "textposition": "top center",
         "type": "scatter3d",
         "x": [
          -62.553085
         ],
         "y": [
          49.054989
         ],
         "z": [
          -105.029579
         ]
        },
        {
         "mode": "text",
         "showlegend": false,
         "text": [
          "98"
         ],
         "textfont": {
          "size": 5
         },
         "textposition": "top center",
         "type": "scatter3d",
         "x": [
          -62.692947
         ],
         "y": [
          47.801617
         ],
         "z": [
          -104.982849
         ]
        },
        {
         "mode": "text",
         "showlegend": false,
         "text": [
          "99"
         ],
         "textfont": {
          "size": 5
         },
         "textposition": "top center",
         "type": "scatter3d",
         "x": [
          -62.835915
         ],
         "y": [
          46.548435
         ],
         "z": [
          -104.930183
         ]
        },
        {
         "mode": "text",
         "showlegend": false,
         "text": [
          "100"
         ],
         "textfont": {
          "size": 5
         },
         "textposition": "top center",
         "type": "scatter3d",
         "x": [
          -62.974438
         ],
         "y": [
          45.29615
         ],
         "z": [
          -104.891899
         ]
        },
        {
         "mode": "text",
         "showlegend": false,
         "text": [
          "101"
         ],
         "textfont": {
          "size": 5
         },
         "textposition": "top center",
         "type": "scatter3d",
         "x": [
          -63.109566
         ],
         "y": [
          44.044323
         ],
         "z": [
          -104.864204
         ]
        },
        {
         "mode": "text",
         "showlegend": false,
         "text": [
          "102"
         ],
         "textfont": {
          "size": 5
         },
         "textposition": "top center",
         "type": "scatter3d",
         "x": [
          -63.240772
         ],
         "y": [
          42.794365
         ],
         "z": [
          -104.849495
         ]
        },
        {
         "mode": "text",
         "showlegend": false,
         "text": [
          "103"
         ],
         "textfont": {
          "size": 5
         },
         "textposition": "top center",
         "type": "scatter3d",
         "x": [
          -63.344494
         ],
         "y": [
          41.543003
         ],
         "z": [
          -104.868538
         ]
        },
        {
         "mode": "text",
         "showlegend": false,
         "text": [
          "104"
         ],
         "textfont": {
          "size": 5
         },
         "textposition": "top center",
         "type": "scatter3d",
         "x": [
          -63.476631
         ],
         "y": [
          40.294979
         ],
         "z": [
          -104.842804
         ]
        },
        {
         "mode": "text",
         "showlegend": false,
         "text": [
          "105"
         ],
         "textfont": {
          "size": 5
         },
         "textposition": "top center",
         "type": "scatter3d",
         "x": [
          -63.623344
         ],
         "y": [
          39.049297
         ],
         "z": [
          -104.79438
         ]
        },
        {
         "mode": "text",
         "showlegend": false,
         "text": [
          "106"
         ],
         "textfont": {
          "size": 5
         },
         "textposition": "top center",
         "type": "scatter3d",
         "x": [
          -63.743961
         ],
         "y": [
          37.801918
         ],
         "z": [
          -104.784302
         ]
        },
        {
         "mode": "text",
         "showlegend": false,
         "text": [
          "107"
         ],
         "textfont": {
          "size": 5
         },
         "textposition": "top center",
         "type": "scatter3d",
         "x": [
          -63.882298
         ],
         "y": [
          36.557453
         ],
         "z": [
          -104.74501
         ]
        },
        {
         "mode": "text",
         "showlegend": false,
         "text": [
          "108"
         ],
         "textfont": {
          "size": 5
         },
         "textposition": "top center",
         "type": "scatter3d",
         "x": [
          -64.083427
         ],
         "y": [
          35.329559
         ],
         "z": [
          -104.606537
         ]
        },
        {
         "mode": "text",
         "showlegend": false,
         "text": [
          "109"
         ],
         "textfont": {
          "size": 5
         },
         "textposition": "top center",
         "type": "scatter3d",
         "x": [
          -64.250298
         ],
         "y": [
          34.092758
         ],
         "z": [
          -104.523918
         ]
        },
        {
         "mode": "text",
         "showlegend": false,
         "text": [
          "110"
         ],
         "textfont": {
          "size": 5
         },
         "textposition": "top center",
         "type": "scatter3d",
         "x": [
          -64.377113
         ],
         "y": [
          32.849812
         ],
         "z": [
          -104.508904
         ]
        },
        {
         "mode": "text",
         "showlegend": false,
         "text": [
          "111"
         ],
         "textfont": {
          "size": 5
         },
         "textposition": "top center",
         "type": "scatter3d",
         "x": [
          -64.55883
         ],
         "y": [
          31.619617
         ],
         "z": [
          -104.384781
         ]
        },
        {
         "mode": "text",
         "showlegend": false,
         "text": [
          "112"
         ],
         "textfont": {
          "size": 5
         },
         "textposition": "top center",
         "type": "scatter3d",
         "x": [
          -20.545002
         ],
         "y": [
          27.231623
         ],
         "z": [
          -101.987717
         ]
        },
        {
         "mode": "text",
         "showlegend": false,
         "text": [
          "113"
         ],
         "textfont": {
          "size": 5
         },
         "textposition": "top center",
         "type": "scatter3d",
         "x": [
          -21.718166
         ],
         "y": [
          26.774418
         ],
         "z": [
          -101.981636
         ]
        },
        {
         "mode": "text",
         "showlegend": false,
         "text": [
          "114"
         ],
         "textfont": {
          "size": 5
         },
         "textposition": "top center",
         "type": "scatter3d",
         "x": [
          -22.836576
         ],
         "y": [
          26.332436
         ],
         "z": [
          -102.355202
         ]
        },
        {
         "mode": "text",
         "showlegend": false,
         "text": [
          "115"
         ],
         "textfont": {
          "size": 5
         },
         "textposition": "top center",
         "type": "scatter3d",
         "x": [
          -24.004877
         ],
         "y": [
          25.921192
         ],
         "z": [
          -102.582291
         ]
        },
        {
         "mode": "text",
         "showlegend": false,
         "text": [
          "116"
         ],
         "textfont": {
          "size": 5
         },
         "textposition": "top center",
         "type": "scatter3d",
         "x": [
          -25.169388
         ],
         "y": [
          25.528458
         ],
         "z": [
          -102.855156
         ]
        },
        {
         "mode": "text",
         "showlegend": false,
         "text": [
          "117"
         ],
         "textfont": {
          "size": 5
         },
         "textposition": "top center",
         "type": "scatter3d",
         "x": [
          -26.14529
         ],
         "y": [
          25.138752
         ],
         "z": [
          -103.548126
         ]
        },
        {
         "mode": "text",
         "showlegend": false,
         "text": [
          "118"
         ],
         "textfont": {
          "size": 5
         },
         "textposition": "top center",
         "type": "scatter3d",
         "x": [
          -26.859818
         ],
         "y": [
          24.794683
         ],
         "z": [
          -104.52932
         ]
        },
        {
         "mode": "text",
         "showlegend": false,
         "text": [
          "119"
         ],
         "textfont": {
          "size": 5
         },
         "textposition": "top center",
         "type": "scatter3d",
         "x": [
          -27.567799
         ],
         "y": [
          24.475523
         ],
         "z": [
          -105.522766
         ]
        },
        {
         "mode": "text",
         "showlegend": false,
         "text": [
          "120"
         ],
         "textfont": {
          "size": 5
         },
         "textposition": "top center",
         "type": "scatter3d",
         "x": [
          -28.483999
         ],
         "y": [
          24.126461
         ],
         "z": [
          -106.316139
         ]
        },
        {
         "mode": "text",
         "showlegend": false,
         "text": [
          "121"
         ],
         "textfont": {
          "size": 5
         },
         "textposition": "top center",
         "type": "scatter3d",
         "x": [
          -29.438643
         ],
         "y": [
          23.791403
         ],
         "z": [
          -107.071503
         ]
        },
        {
         "mode": "text",
         "showlegend": false,
         "text": [
          "122"
         ],
         "textfont": {
          "size": 5
         },
         "textposition": "top center",
         "type": "scatter3d",
         "x": [
          -30.455551
         ],
         "y": [
          23.482571
         ],
         "z": [
          -107.75
         ]
        },
        {
         "mode": "text",
         "showlegend": false,
         "text": [
          "123"
         ],
         "textfont": {
          "size": 5
         },
         "textposition": "top center",
         "type": "scatter3d",
         "x": [
          -31.532501
         ],
         "y": [
          23.229052
         ],
         "z": [
          -108.352478
         ]
        },
        {
         "mode": "text",
         "showlegend": false,
         "text": [
          "124"
         ],
         "textfont": {
          "size": 5
         },
         "textposition": "top center",
         "type": "scatter3d",
         "x": [
          -32.648457
         ],
         "y": [
          23.013386
         ],
         "z": [
          -108.894623
         ]
        },
        {
         "mode": "text",
         "showlegend": false,
         "text": [
          "125"
         ],
         "textfont": {
          "size": 5
         },
         "textposition": "top center",
         "type": "scatter3d",
         "x": [
          -33.793774
         ],
         "y": [
          22.827944
         ],
         "z": [
          -109.383781
         ]
        },
        {
         "mode": "text",
         "showlegend": false,
         "text": [
          "126"
         ],
         "textfont": {
          "size": 5
         },
         "textposition": "top center",
         "type": "scatter3d",
         "x": [
          -34.961601
         ],
         "y": [
          22.673122
         ],
         "z": [
          -109.82843
         ]
        },
        {
         "mode": "text",
         "showlegend": false,
         "text": [
          "127"
         ],
         "textfont": {
          "size": 5
         },
         "textposition": "top center",
         "type": "scatter3d",
         "x": [
          -36.14888
         ],
         "y": [
          22.550638
         ],
         "z": [
          -110.229332
         ]
        },
        {
         "mode": "text",
         "showlegend": false,
         "text": [
          "128"
         ],
         "textfont": {
          "size": 5
         },
         "textposition": "top center",
         "type": "scatter3d",
         "x": [
          -37.352058
         ],
         "y": [
          22.461071
         ],
         "z": [
          -110.589317
         ]
        },
        {
         "mode": "text",
         "showlegend": false,
         "text": [
          "129"
         ],
         "textfont": {
          "size": 5
         },
         "textposition": "top center",
         "type": "scatter3d",
         "x": [
          -38.564991
         ],
         "y": [
          22.403965
         ],
         "z": [
          -110.922913
         ]
        },
        {
         "mode": "text",
         "showlegend": false,
         "text": [
          "130"
         ],
         "textfont": {
          "size": 5
         },
         "textposition": "top center",
         "type": "scatter3d",
         "x": [
          -39.784519
         ],
         "y": [
          22.378559
         ],
         "z": [
          -111.235527
         ]
        },
        {
         "mode": "text",
         "showlegend": false,
         "text": [
          "131"
         ],
         "textfont": {
          "size": 5
         },
         "textposition": "top center",
         "type": "scatter3d",
         "x": [
          -41.011929
         ],
         "y": [
          22.385782
         ],
         "z": [
          -111.516617
         ]
        },
        {
         "mode": "text",
         "showlegend": false,
         "text": [
          "132"
         ],
         "textfont": {
          "size": 5
         },
         "textposition": "top center",
         "type": "scatter3d",
         "x": [
          -42.24712
         ],
         "y": [
          22.423351
         ],
         "z": [
          -111.757729
         ]
        },
        {
         "mode": "text",
         "showlegend": false,
         "text": [
          "133"
         ],
         "textfont": {
          "size": 5
         },
         "textposition": "top center",
         "type": "scatter3d",
         "x": [
          -43.496719
         ],
         "y": [
          22.492277
         ],
         "z": [
          -111.89373
         ]
        },
        {
         "mode": "text",
         "showlegend": false,
         "text": [
          "134"
         ],
         "textfont": {
          "size": 5
         },
         "textposition": "top center",
         "type": "scatter3d",
         "x": [
          -44.735508
         ],
         "y": [
          22.596937
         ],
         "z": [
          -111.696899
         ]
        },
        {
         "mode": "text",
         "showlegend": false,
         "text": [
          "135"
         ],
         "textfont": {
          "size": 5
         },
         "textposition": "top center",
         "type": "scatter3d",
         "x": [
          -45.66666
         ],
         "y": [
          22.767057
         ],
         "z": [
          -110.868118
         ]
        },
        {
         "mode": "text",
         "showlegend": false,
         "text": [
          "136"
         ],
         "textfont": {
          "size": 5
         },
         "textposition": "top center",
         "type": "scatter3d",
         "x": [
          -46.316582
         ],
         "y": [
          23.009573
         ],
         "z": [
          -109.818611
         ]
        },
        {
         "mode": "text",
         "showlegend": false,
         "text": [
          "137"
         ],
         "textfont": {
          "size": 5
         },
         "textposition": "top center",
         "type": "scatter3d",
         "x": [
          -46.79034
         ],
         "y": [
          23.307743
         ],
         "z": [
          -108.690063
         ]
        },
        {
         "mode": "text",
         "showlegend": false,
         "text": [
          "138"
         ],
         "textfont": {
          "size": 5
         },
         "textposition": "top center",
         "type": "scatter3d",
         "x": [
          -47.437599
         ],
         "y": [
          23.622156
         ],
         "z": [
          -107.657066
         ]
        },
        {
         "mode": "text",
         "showlegend": false,
         "text": [
          "139"
         ],
         "textfont": {
          "size": 5
         },
         "textposition": "top center",
         "type": "scatter3d",
         "x": [
          -48.615654
         ],
         "y": [
          23.863926
         ],
         "z": [
          -107.291862
         ]
        },
        {
         "mode": "text",
         "showlegend": false,
         "text": [
          "140"
         ],
         "textfont": {
          "size": 5
         },
         "textposition": "top center",
         "type": "scatter3d",
         "x": [
          -49.846146
         ],
         "y": [
          24.118582
         ],
         "z": [
          -107.216324
         ]
        },
        {
         "mode": "text",
         "showlegend": false,
         "text": [
          "141"
         ],
         "textfont": {
          "size": 5
         },
         "textposition": "top center",
         "type": "scatter3d",
         "x": [
          -51.063908
         ],
         "y": [
          24.364811
         ],
         "z": [
          -107.443138
         ]
        },
        {
         "mode": "text",
         "showlegend": false,
         "text": [
          "142"
         ],
         "textfont": {
          "size": 5
         },
         "textposition": "top center",
         "type": "scatter3d",
         "x": [
          -52.268471
         ],
         "y": [
          24.642904
         ],
         "z": [
          -107.714073
         ]
        },
        {
         "mode": "text",
         "showlegend": false,
         "text": [
          "143"
         ],
         "textfont": {
          "size": 5
         },
         "textposition": "top center",
         "type": "scatter3d",
         "x": [
          -53.458515
         ],
         "y": [
          24.947536
         ],
         "z": [
          -108.018921
         ]
        },
        {
         "mode": "text",
         "showlegend": false,
         "text": [
          "144"
         ],
         "textfont": {
          "size": 5
         },
         "textposition": "top center",
         "type": "scatter3d",
         "x": [
          -54.663349
         ],
         "y": [
          25.300217
         ],
         "z": [
          -107.944298
         ]
        },
        {
         "mode": "text",
         "showlegend": false,
         "text": [
          "145"
         ],
         "textfont": {
          "size": 5
         },
         "textposition": "top center",
         "type": "scatter3d",
         "x": [
          -55.513218
         ],
         "y": [
          25.615023
         ],
         "z": [
          -107.072243
         ]
        },
        {
         "mode": "text",
         "showlegend": false,
         "text": [
          "146"
         ],
         "textfont": {
          "size": 5
         },
         "textposition": "top center",
         "type": "scatter3d",
         "x": [
          -56.224384
         ],
         "y": [
          25.954346
         ],
         "z": [
          -106.087097
         ]
        },
        {
         "mode": "text",
         "showlegend": false,
         "text": [
          "147"
         ],
         "textfont": {
          "size": 5
         },
         "textposition": "top center",
         "type": "scatter3d",
         "x": [
          -57.194546
         ],
         "y": [
          26.366348
         ],
         "z": [
          -105.393532
         ]
        },
        {
         "mode": "text",
         "showlegend": false,
         "text": [
          "148"
         ],
         "textfont": {
          "size": 5
         },
         "textposition": "top center",
         "type": "scatter3d",
         "x": [
          -57.868847
         ],
         "y": [
          26.612295
         ],
         "z": [
          -106.433746
         ]
        },
        {
         "mode": "text",
         "showlegend": false,
         "text": [
          "149"
         ],
         "textfont": {
          "size": 5
         },
         "textposition": "top center",
         "type": "scatter3d",
         "x": [
          -58.204784
         ],
         "y": [
          26.871965
         ],
         "z": [
          -107.625336
         ]
        },
        {
         "mode": "text",
         "showlegend": false,
         "text": [
          "150"
         ],
         "textfont": {
          "size": 5
         },
         "textposition": "top center",
         "type": "scatter3d",
         "x": [
          -58.581429
         ],
         "y": [
          27.162788
         ],
         "z": [
          -108.799004
         ]
        },
        {
         "mode": "text",
         "showlegend": false,
         "text": [
          "151"
         ],
         "textfont": {
          "size": 5
         },
         "textposition": "top center",
         "type": "scatter3d",
         "x": [
          -59.174702
         ],
         "y": [
          27.511095
         ],
         "z": [
          -109.862564
         ]
        },
        {
         "mode": "text",
         "showlegend": false,
         "text": [
          "152"
         ],
         "textfont": {
          "size": 5
         },
         "textposition": "top center",
         "type": "scatter3d",
         "x": [
          -60.377384
         ],
         "y": [
          27.879488
         ],
         "z": [
          -109.826759
         ]
        },
        {
         "mode": "text",
         "showlegend": false,
         "text": [
          "153"
         ],
         "textfont": {
          "size": 5
         },
         "textposition": "top center",
         "type": "scatter3d",
         "x": [
          -60.599922
         ],
         "y": [
          28.115835
         ],
         "z": [
          -108.608925
         ]
        },
        {
         "mode": "text",
         "showlegend": false,
         "text": [
          "154"
         ],
         "textfont": {
          "size": 5
         },
         "textposition": "top center",
         "type": "scatter3d",
         "x": [
          -60.675304
         ],
         "y": [
          28.39921
         ],
         "z": [
          -107.37706
         ]
        },
        {
         "mode": "text",
         "showlegend": false,
         "text": [
          "155"
         ],
         "textfont": {
          "size": 5
         },
         "textposition": "top center",
         "type": "scatter3d",
         "x": [
          -60.999744
         ],
         "y": [
          28.717926
         ],
         "z": [
          -106.194679
         ]
        },
        {
         "mode": "text",
         "showlegend": false,
         "text": [
          "156"
         ],
         "textfont": {
          "size": 5
         },
         "textposition": "top center",
         "type": "scatter3d",
         "x": [
          -61.608276
         ],
         "y": [
          29.075212
         ],
         "z": [
          -105.144882
         ]
        },
        {
         "mode": "text",
         "showlegend": false,
         "text": [
          "157"
         ],
         "textfont": {
          "size": 5
         },
         "textposition": "top center",
         "type": "scatter3d",
         "x": [
          -62.540947
         ],
         "y": [
          29.480291
         ],
         "z": [
          -104.395027
         ]
        },
        {
         "mode": "text",
         "showlegend": false,
         "text": [
          "158"
         ],
         "textfont": {
          "size": 5
         },
         "textposition": "top center",
         "type": "scatter3d",
         "x": [
          -63.646942
         ],
         "y": [
          29.930677
         ],
         "z": [
          -103.984283
         ]
        },
        {
         "mode": "text",
         "showlegend": false,
         "text": [
          "159"
         ],
         "textfont": {
          "size": 5
         },
         "textposition": "top center",
         "type": "scatter3d",
         "x": [
          -56.838802
         ],
         "y": [
          95.428253
         ],
         "z": [
          -104.15126
         ]
        },
        {
         "mode": "text",
         "showlegend": false,
         "text": [
          "160"
         ],
         "textfont": {
          "size": 5
         },
         "textposition": "top center",
         "type": "scatter3d",
         "x": [
          -56.053913
         ],
         "y": [
          95.100555
         ],
         "z": [
          -105.381584
         ]
        },
        {
         "mode": "text",
         "showlegend": false,
         "text": [
          "161"
         ],
         "textfont": {
          "size": 5
         },
         "textposition": "top center",
         "type": "scatter3d",
         "x": [
          -54.95034
         ],
         "y": [
          94.846458
         ],
         "z": [
          -106.3834
         ]
        },
        {
         "mode": "text",
         "showlegend": false,
         "text": [
          "162"
         ],
         "textfont": {
          "size": 5
         },
         "textposition": "top center",
         "type": "scatter3d",
         "x": [
          -53.770164
         ],
         "y": [
          94.590279
         ],
         "z": [
          -107.298836
         ]
        },
        {
         "mode": "text",
         "showlegend": false,
         "text": [
          "163"
         ],
         "textfont": {
          "size": 5
         },
         "textposition": "top center",
         "type": "scatter3d",
         "x": [
          -52.644909
         ],
         "y": [
          94.137192
         ],
         "z": [
          -108.289368
         ]
        },
        {
         "mode": "text",
         "showlegend": false,
         "text": [
          "164"
         ],
         "textfont": {
          "size": 5
         },
         "textposition": "top center",
         "type": "scatter3d",
         "x": [
          -51.321583
         ],
         "y": [
          93.633499
         ],
         "z": [
          -109.019424
         ]
        },
        {
         "mode": "text",
         "showlegend": false,
         "text": [
          "165"
         ],
         "textfont": {
          "size": 5
         },
         "textposition": "top center",
         "type": "scatter3d",
         "x": [
          -49.852062
         ],
         "y": [
          93.162598
         ],
         "z": [
          -109.530792
         ]
        },
        {
         "mode": "text",
         "showlegend": false,
         "text": [
          "166"
         ],
         "textfont": {
          "size": 5
         },
         "textposition": "top center",
         "type": "scatter3d",
         "x": [
          -48.354206
         ],
         "y": [
          92.808342
         ],
         "z": [
          -109.889786
         ]
        },
        {
         "mode": "text",
         "showlegend": false,
         "text": [
          "167"
         ],
         "textfont": {
          "size": 5
         },
         "textposition": "top center",
         "type": "scatter3d",
         "x": [
          -46.826824
         ],
         "y": [
          92.579903
         ],
         "z": [
          -110.181931
         ]
        },
        {
         "mode": "text",
         "showlegend": false,
         "text": [
          "168"
         ],
         "textfont": {
          "size": 5
         },
         "textposition": "top center",
         "type": "scatter3d",
         "x": [
          -45.312405
         ],
         "y": [
          92.391243
         ],
         "z": [
          -110.31398
         ]
        },
        {
         "mode": "text",
         "showlegend": false,
         "text": [
          "169"
         ],
         "textfont": {
          "size": 5
         },
         "textposition": "top center",
         "type": "scatter3d",
         "x": [
          -43.784733
         ],
         "y": [
          92.291664
         ],
         "z": [
          -110.347984
         ]
        },
        {
         "mode": "text",
         "showlegend": false,
         "text": [
          "170"
         ],
         "textfont": {
          "size": 5
         },
         "textposition": "top center",
         "type": "scatter3d",
         "x": [
          -42.25787
         ],
         "y": [
          92.256676
         ],
         "z": [
          -110.312492
         ]
        },
        {
         "mode": "text",
         "showlegend": false,
         "text": [
          "171"
         ],
         "textfont": {
          "size": 5
         },
         "textposition": "top center",
         "type": "scatter3d",
         "x": [
          -40.7603
         ],
         "y": [
          92.266312
         ],
         "z": [
          -110.195313
         ]
        },
        {
         "mode": "text",
         "showlegend": false,
         "text": [
          "172"
         ],
         "textfont": {
          "size": 5
         },
         "textposition": "top center",
         "type": "scatter3d",
         "x": [
          -39.290684
         ],
         "y": [
          92.333809
         ],
         "z": [
          -109.967278
         ]
        },
        {
         "mode": "text",
         "showlegend": false,
         "text": [
          "173"
         ],
         "textfont": {
          "size": 5
         },
         "textposition": "top center",
         "type": "scatter3d",
         "x": [
          -37.849602
         ],
         "y": [
          92.538933
         ],
         "z": [
          -109.675682
         ]
        },
        {
         "mode": "text",
         "showlegend": false,
         "text": [
          "174"
         ],
         "textfont": {
          "size": 5
         },
         "textposition": "top center",
         "type": "scatter3d",
         "x": [
          -36.462234
         ],
         "y": [
          92.897003
         ],
         "z": [
          -109.263397
         ]
        },
        {
         "mode": "text",
         "showlegend": false,
         "text": [
          "175"
         ],
         "textfont": {
          "size": 5
         },
         "textposition": "top center",
         "type": "scatter3d",
         "x": [
          -35.053345
         ],
         "y": [
          93.081932
         ],
         "z": [
          -108.784233
         ]
        },
        {
         "mode": "text",
         "showlegend": false,
         "text": [
          "176"
         ],
         "textfont": {
          "size": 5
         },
         "textposition": "top center",
         "type": "scatter3d",
         "x": [
          -33.620037
         ],
         "y": [
          93.197548
         ],
         "z": [
          -108.25396
         ]
        },
        {
         "mode": "text",
         "showlegend": false,
         "text": [
          "177"
         ],
         "textfont": {
          "size": 5
         },
         "textposition": "top center",
         "type": "scatter3d",
         "x": [
          -32.173279
         ],
         "y": [
          93.257217
         ],
         "z": [
          -107.624481
         ]
        },
        {
         "mode": "text",
         "showlegend": false,
         "text": [
          "178"
         ],
         "textfont": {
          "size": 5
         },
         "textposition": "top center",
         "type": "scatter3d",
         "x": [
          -30.837507
         ],
         "y": [
          93.262741
         ],
         "z": [
          -106.848488
         ]
        },
        {
         "mode": "text",
         "showlegend": false,
         "text": [
          "179"
         ],
         "textfont": {
          "size": 5
         },
         "textposition": "top center",
         "type": "scatter3d",
         "x": [
          -29.593536
         ],
         "y": [
          93.283615
         ],
         "z": [
          -105.89904
         ]
        },
        {
         "mode": "text",
         "showlegend": false,
         "text": [
          "180"
         ],
         "textfont": {
          "size": 5
         },
         "textposition": "top center",
         "type": "scatter3d",
         "x": [
          -28.566767
         ],
         "y": [
          93.305908
         ],
         "z": [
          -104.746788
         ]
        }
       ],
       "layout": {
        "height": 800,
        "scene": {
         "aspectmode": "data"
        },
        "showlegend": false,
        "template": {
         "data": {
          "bar": [
           {
            "error_x": {
             "color": "#2a3f5f"
            },
            "error_y": {
             "color": "#2a3f5f"
            },
            "marker": {
             "line": {
              "color": "#E5ECF6",
              "width": 0.5
             },
             "pattern": {
              "fillmode": "overlay",
              "size": 10,
              "solidity": 0.2
             }
            },
            "type": "bar"
           }
          ],
          "barpolar": [
           {
            "marker": {
             "line": {
              "color": "#E5ECF6",
              "width": 0.5
             },
             "pattern": {
              "fillmode": "overlay",
              "size": 10,
              "solidity": 0.2
             }
            },
            "type": "barpolar"
           }
          ],
          "carpet": [
           {
            "aaxis": {
             "endlinecolor": "#2a3f5f",
             "gridcolor": "white",
             "linecolor": "white",
             "minorgridcolor": "white",
             "startlinecolor": "#2a3f5f"
            },
            "baxis": {
             "endlinecolor": "#2a3f5f",
             "gridcolor": "white",
             "linecolor": "white",
             "minorgridcolor": "white",
             "startlinecolor": "#2a3f5f"
            },
            "type": "carpet"
           }
          ],
          "choropleth": [
           {
            "colorbar": {
             "outlinewidth": 0,
             "ticks": ""
            },
            "type": "choropleth"
           }
          ],
          "contour": [
           {
            "colorbar": {
             "outlinewidth": 0,
             "ticks": ""
            },
            "colorscale": [
             [
              0,
              "#0d0887"
             ],
             [
              0.1111111111111111,
              "#46039f"
             ],
             [
              0.2222222222222222,
              "#7201a8"
             ],
             [
              0.3333333333333333,
              "#9c179e"
             ],
             [
              0.4444444444444444,
              "#bd3786"
             ],
             [
              0.5555555555555556,
              "#d8576b"
             ],
             [
              0.6666666666666666,
              "#ed7953"
             ],
             [
              0.7777777777777778,
              "#fb9f3a"
             ],
             [
              0.8888888888888888,
              "#fdca26"
             ],
             [
              1,
              "#f0f921"
             ]
            ],
            "type": "contour"
           }
          ],
          "contourcarpet": [
           {
            "colorbar": {
             "outlinewidth": 0,
             "ticks": ""
            },
            "type": "contourcarpet"
           }
          ],
          "heatmap": [
           {
            "colorbar": {
             "outlinewidth": 0,
             "ticks": ""
            },
            "colorscale": [
             [
              0,
              "#0d0887"
             ],
             [
              0.1111111111111111,
              "#46039f"
             ],
             [
              0.2222222222222222,
              "#7201a8"
             ],
             [
              0.3333333333333333,
              "#9c179e"
             ],
             [
              0.4444444444444444,
              "#bd3786"
             ],
             [
              0.5555555555555556,
              "#d8576b"
             ],
             [
              0.6666666666666666,
              "#ed7953"
             ],
             [
              0.7777777777777778,
              "#fb9f3a"
             ],
             [
              0.8888888888888888,
              "#fdca26"
             ],
             [
              1,
              "#f0f921"
             ]
            ],
            "type": "heatmap"
           }
          ],
          "histogram": [
           {
            "marker": {
             "pattern": {
              "fillmode": "overlay",
              "size": 10,
              "solidity": 0.2
             }
            },
            "type": "histogram"
           }
          ],
          "histogram2d": [
           {
            "colorbar": {
             "outlinewidth": 0,
             "ticks": ""
            },
            "colorscale": [
             [
              0,
              "#0d0887"
             ],
             [
              0.1111111111111111,
              "#46039f"
             ],
             [
              0.2222222222222222,
              "#7201a8"
             ],
             [
              0.3333333333333333,
              "#9c179e"
             ],
             [
              0.4444444444444444,
              "#bd3786"
             ],
             [
              0.5555555555555556,
              "#d8576b"
             ],
             [
              0.6666666666666666,
              "#ed7953"
             ],
             [
              0.7777777777777778,
              "#fb9f3a"
             ],
             [
              0.8888888888888888,
              "#fdca26"
             ],
             [
              1,
              "#f0f921"
             ]
            ],
            "type": "histogram2d"
           }
          ],
          "histogram2dcontour": [
           {
            "colorbar": {
             "outlinewidth": 0,
             "ticks": ""
            },
            "colorscale": [
             [
              0,
              "#0d0887"
             ],
             [
              0.1111111111111111,
              "#46039f"
             ],
             [
              0.2222222222222222,
              "#7201a8"
             ],
             [
              0.3333333333333333,
              "#9c179e"
             ],
             [
              0.4444444444444444,
              "#bd3786"
             ],
             [
              0.5555555555555556,
              "#d8576b"
             ],
             [
              0.6666666666666666,
              "#ed7953"
             ],
             [
              0.7777777777777778,
              "#fb9f3a"
             ],
             [
              0.8888888888888888,
              "#fdca26"
             ],
             [
              1,
              "#f0f921"
             ]
            ],
            "type": "histogram2dcontour"
           }
          ],
          "mesh3d": [
           {
            "colorbar": {
             "outlinewidth": 0,
             "ticks": ""
            },
            "type": "mesh3d"
           }
          ],
          "parcoords": [
           {
            "line": {
             "colorbar": {
              "outlinewidth": 0,
              "ticks": ""
             }
            },
            "type": "parcoords"
           }
          ],
          "pie": [
           {
            "automargin": true,
            "type": "pie"
           }
          ],
          "scatter": [
           {
            "fillpattern": {
             "fillmode": "overlay",
             "size": 10,
             "solidity": 0.2
            },
            "type": "scatter"
           }
          ],
          "scatter3d": [
           {
            "line": {
             "colorbar": {
              "outlinewidth": 0,
              "ticks": ""
             }
            },
            "marker": {
             "colorbar": {
              "outlinewidth": 0,
              "ticks": ""
             }
            },
            "type": "scatter3d"
           }
          ],
          "scattercarpet": [
           {
            "marker": {
             "colorbar": {
              "outlinewidth": 0,
              "ticks": ""
             }
            },
            "type": "scattercarpet"
           }
          ],
          "scattergeo": [
           {
            "marker": {
             "colorbar": {
              "outlinewidth": 0,
              "ticks": ""
             }
            },
            "type": "scattergeo"
           }
          ],
          "scattergl": [
           {
            "marker": {
             "colorbar": {
              "outlinewidth": 0,
              "ticks": ""
             }
            },
            "type": "scattergl"
           }
          ],
          "scattermap": [
           {
            "marker": {
             "colorbar": {
              "outlinewidth": 0,
              "ticks": ""
             }
            },
            "type": "scattermap"
           }
          ],
          "scattermapbox": [
           {
            "marker": {
             "colorbar": {
              "outlinewidth": 0,
              "ticks": ""
             }
            },
            "type": "scattermapbox"
           }
          ],
          "scatterpolar": [
           {
            "marker": {
             "colorbar": {
              "outlinewidth": 0,
              "ticks": ""
             }
            },
            "type": "scatterpolar"
           }
          ],
          "scatterpolargl": [
           {
            "marker": {
             "colorbar": {
              "outlinewidth": 0,
              "ticks": ""
             }
            },
            "type": "scatterpolargl"
           }
          ],
          "scatterternary": [
           {
            "marker": {
             "colorbar": {
              "outlinewidth": 0,
              "ticks": ""
             }
            },
            "type": "scatterternary"
           }
          ],
          "surface": [
           {
            "colorbar": {
             "outlinewidth": 0,
             "ticks": ""
            },
            "colorscale": [
             [
              0,
              "#0d0887"
             ],
             [
              0.1111111111111111,
              "#46039f"
             ],
             [
              0.2222222222222222,
              "#7201a8"
             ],
             [
              0.3333333333333333,
              "#9c179e"
             ],
             [
              0.4444444444444444,
              "#bd3786"
             ],
             [
              0.5555555555555556,
              "#d8576b"
             ],
             [
              0.6666666666666666,
              "#ed7953"
             ],
             [
              0.7777777777777778,
              "#fb9f3a"
             ],
             [
              0.8888888888888888,
              "#fdca26"
             ],
             [
              1,
              "#f0f921"
             ]
            ],
            "type": "surface"
           }
          ],
          "table": [
           {
            "cells": {
             "fill": {
              "color": "#EBF0F8"
             },
             "line": {
              "color": "white"
             }
            },
            "header": {
             "fill": {
              "color": "#C8D4E3"
             },
             "line": {
              "color": "white"
             }
            },
            "type": "table"
           }
          ]
         },
         "layout": {
          "annotationdefaults": {
           "arrowcolor": "#2a3f5f",
           "arrowhead": 0,
           "arrowwidth": 1
          },
          "autotypenumbers": "strict",
          "coloraxis": {
           "colorbar": {
            "outlinewidth": 0,
            "ticks": ""
           }
          },
          "colorscale": {
           "diverging": [
            [
             0,
             "#8e0152"
            ],
            [
             0.1,
             "#c51b7d"
            ],
            [
             0.2,
             "#de77ae"
            ],
            [
             0.3,
             "#f1b6da"
            ],
            [
             0.4,
             "#fde0ef"
            ],
            [
             0.5,
             "#f7f7f7"
            ],
            [
             0.6,
             "#e6f5d0"
            ],
            [
             0.7,
             "#b8e186"
            ],
            [
             0.8,
             "#7fbc41"
            ],
            [
             0.9,
             "#4d9221"
            ],
            [
             1,
             "#276419"
            ]
           ],
           "sequential": [
            [
             0,
             "#0d0887"
            ],
            [
             0.1111111111111111,
             "#46039f"
            ],
            [
             0.2222222222222222,
             "#7201a8"
            ],
            [
             0.3333333333333333,
             "#9c179e"
            ],
            [
             0.4444444444444444,
             "#bd3786"
            ],
            [
             0.5555555555555556,
             "#d8576b"
            ],
            [
             0.6666666666666666,
             "#ed7953"
            ],
            [
             0.7777777777777778,
             "#fb9f3a"
            ],
            [
             0.8888888888888888,
             "#fdca26"
            ],
            [
             1,
             "#f0f921"
            ]
           ],
           "sequentialminus": [
            [
             0,
             "#0d0887"
            ],
            [
             0.1111111111111111,
             "#46039f"
            ],
            [
             0.2222222222222222,
             "#7201a8"
            ],
            [
             0.3333333333333333,
             "#9c179e"
            ],
            [
             0.4444444444444444,
             "#bd3786"
            ],
            [
             0.5555555555555556,
             "#d8576b"
            ],
            [
             0.6666666666666666,
             "#ed7953"
            ],
            [
             0.7777777777777778,
             "#fb9f3a"
            ],
            [
             0.8888888888888888,
             "#fdca26"
            ],
            [
             1,
             "#f0f921"
            ]
           ]
          },
          "colorway": [
           "#636efa",
           "#EF553B",
           "#00cc96",
           "#ab63fa",
           "#FFA15A",
           "#19d3f3",
           "#FF6692",
           "#B6E880",
           "#FF97FF",
           "#FECB52"
          ],
          "font": {
           "color": "#2a3f5f"
          },
          "geo": {
           "bgcolor": "white",
           "lakecolor": "white",
           "landcolor": "#E5ECF6",
           "showlakes": true,
           "showland": true,
           "subunitcolor": "white"
          },
          "hoverlabel": {
           "align": "left"
          },
          "hovermode": "closest",
          "mapbox": {
           "style": "light"
          },
          "paper_bgcolor": "white",
          "plot_bgcolor": "#E5ECF6",
          "polar": {
           "angularaxis": {
            "gridcolor": "white",
            "linecolor": "white",
            "ticks": ""
           },
           "bgcolor": "#E5ECF6",
           "radialaxis": {
            "gridcolor": "white",
            "linecolor": "white",
            "ticks": ""
           }
          },
          "scene": {
           "xaxis": {
            "backgroundcolor": "#E5ECF6",
            "gridcolor": "white",
            "gridwidth": 2,
            "linecolor": "white",
            "showbackground": true,
            "ticks": "",
            "zerolinecolor": "white"
           },
           "yaxis": {
            "backgroundcolor": "#E5ECF6",
            "gridcolor": "white",
            "gridwidth": 2,
            "linecolor": "white",
            "showbackground": true,
            "ticks": "",
            "zerolinecolor": "white"
           },
           "zaxis": {
            "backgroundcolor": "#E5ECF6",
            "gridcolor": "white",
            "gridwidth": 2,
            "linecolor": "white",
            "showbackground": true,
            "ticks": "",
            "zerolinecolor": "white"
           }
          },
          "shapedefaults": {
           "line": {
            "color": "#2a3f5f"
           }
          },
          "ternary": {
           "aaxis": {
            "gridcolor": "white",
            "linecolor": "white",
            "ticks": ""
           },
           "baxis": {
            "gridcolor": "white",
            "linecolor": "white",
            "ticks": ""
           },
           "bgcolor": "#E5ECF6",
           "caxis": {
            "gridcolor": "white",
            "linecolor": "white",
            "ticks": ""
           }
          },
          "title": {
           "x": 0.05
          },
          "xaxis": {
           "automargin": true,
           "gridcolor": "white",
           "linecolor": "white",
           "ticks": "",
           "title": {
            "standoff": 15
           },
           "zerolinecolor": "white",
           "zerolinewidth": 2
          },
          "yaxis": {
           "automargin": true,
           "gridcolor": "white",
           "linecolor": "white",
           "ticks": "",
           "title": {
            "standoff": 15
           },
           "zerolinecolor": "white",
           "zerolinewidth": 2
          }
         }
        },
        "width": 800
       }
      }
     },
     "metadata": {},
     "output_type": "display_data"
    },
    {
     "name": "stdout",
     "output_type": "stream",
     "text": [
      "[  0   1   2   3   4   5   6   7   8   9  10  11  12  13  14  15  16  17\n",
      "  18  19  20  21  22  23  24  25  26  27  28  29  30  31  32  33  34  35\n",
      "  36  37  38  39  40  41  42  43  44  45  46  47  48  49  50  51  52  53\n",
      "  54  55  56  57  58  59  60  61  62  63  64  65  66  67  68  69  70  71\n",
      "  72  73  74  75  76  77  78  79  80  81  82  83  84  85  86  87  88  89\n",
      "  90  91  92  93  94  95  96  97  98  99 100 101 102 103 104 105 106 107\n",
      " 108 109 110 111 112 113 114 115 116 117 118 119 120 121 122 123 124 125\n",
      " 126 127 128 129 130 131 132 133 134 135 136 137 138 139 140 141 142 143\n",
      " 144 145 146 147 148 149 150 151 152 153 154 155 156 157 158 159 160 161\n",
      " 162 163 164 165 166 167 168 169 170 171 172 173 174 175 176 177 178 179\n",
      " 180]\n"
     ]
    }
   ],
   "source": [
    "panel_name = list(garment_info[\"panel_dict\"].keys())[3]\n",
    "panel_info = garment_info[\"panel_dict\"][panel_name]\n",
    "\n",
    "fig = visualize_meshes_plotly(\n",
    "    panel_info[\"panel_mesh\"],\n",
    "    vertices_list=[\n",
    "        panel_info[\"panel_mesh\"].vertices[\n",
    "            panel_info[\"boundary_vert_idx_list\"]\n",
    "        ],\n",
    "        # panel_dict[\"panel_mesh\"].vertices[:3]\n",
    "        # panel_dict[\"panel_mesh\"].vertices[boundary_vert_idx_list]\n",
    "    ],\n",
    "    vertices_color_list=[\"red\"],\n",
    "    show_edges=False,\n",
    "    show=False\n",
    ")\n",
    "boundary_vertices = panel_info[\"panel_mesh\"].vertices[panel_info[\"boundary_vert_idx_list\"]]\n",
    "boundary_indices = panel_info[\"boundary_vert_idx_list\"]\n",
    "\n",
    "\n",
    "# Add text annotations for each vertex\n",
    "for i, (vertex, idx) in enumerate(zip(boundary_vertices, boundary_indices)):\n",
    "    \n",
    "    fig.add_trace(go.Scatter3d(\n",
    "        x=[vertex[0]],\n",
    "        y=[vertex[1]],\n",
    "        z=[vertex[2]],\n",
    "        mode='text',\n",
    "        text=[str(idx)],\n",
    "        textposition='top center',\n",
    "        textfont=dict(size=5),\n",
    "        showlegend=False\n",
    "    ))\n",
    "\n",
    "fig.show()\n",
    "print(panel_info[\"boundary_vert_idx_list\"])"
   ]
  },
  {
   "cell_type": "code",
   "execution_count": 195,
   "metadata": {},
   "outputs": [
    {
     "name": "stdout",
     "output_type": "stream",
     "text": [
      "Lfront\n",
      "143\n",
      "143\n"
     ]
    }
   ],
   "source": [
    "panel_name = list(garment_info[\"panel_dict\"].keys())[2]\n",
    "print(panel_name)\n",
    "panel_info = garment_info[\"panel_dict\"][panel_name]\n",
    "\n",
    "\n",
    "boundary_vtx_neighbor_segmentation_list = list(map(\n",
    "    lambda neighbor_vtx_idx_list : list(map(\n",
    "        lambda x : garment_info[\"garment_vertex_segmentation_list\"][x],\n",
    "        neighbor_vtx_idx_list\n",
    "    )) if neighbor_vtx_idx_list is not None else None,\n",
    "    list(map(\n",
    "        lambda x : garment_info[\"overlapping_dict\"].get(x, None),\n",
    "        list(map(\n",
    "            lambda x : panel_info[\"panel_to_garment_idx_map\"][x],\n",
    "            panel_info[\"ordered_boundary_vert_idx_list\"]\n",
    "        ))\n",
    "    ))\n",
    "))\n",
    "\n",
    "print(len(boundary_vtx_neighbor_segmentation_list))\n",
    "print(len(panel_info[\"ordered_boundary_vert_idx_list\"]))\n"
   ]
  },
  {
   "cell_type": "code",
   "execution_count": null,
   "metadata": {},
   "outputs": [],
   "source": []
  },
  {
   "cell_type": "code",
   "execution_count": null,
   "metadata": {},
   "outputs": [],
   "source": []
  },
  {
   "cell_type": "code",
   "execution_count": null,
   "metadata": {},
   "outputs": [],
   "source": []
  },
  {
   "cell_type": "code",
   "execution_count": 87,
   "metadata": {},
   "outputs": [
    {
     "name": "stdout",
     "output_type": "stream",
     "text": [
      "Ordered boundary vertex indices: [0, 17, 16, 24, 31, 264, 265, 268, 270, 272, 274, 45, 278, 280, 282, 283, 3, 4, 6, 9, 10, 12, 13, 15, 18, 19, 20, 22, 23, 25, 27, 28, 29, 30, 32, 34, 55, 103, 102, 101, 99, 97, 96, 95, 94, 93, 92, 91, 90, 89, 88, 87, 86, 85, 84, 83, 82, 81, 67, 79, 78, 77, 76, 75, 72, 70, 73, 51, 56, 57, 60, 61, 64, 66, 71, 21, 98, 232, 41, 236, 58, 144, 100, 243, 180, 210, 198, 253, 259, 224, 258, 244, 255, 26, 214]\n"
     ]
    }
   ],
   "source": [
    "import trimesh\n",
    "import networkx as nx\n",
    "import numpy as np\n",
    "\n",
    "\n",
    "ordered_indices = find_and_order_boundary_vertices(\n",
    "    panel_info[\"panel_mesh\"]\n",
    ")\n",
    "\n",
    "print(\"Ordered boundary vertex indices:\", ordered_indices)"
   ]
  },
  {
   "cell_type": "code",
   "execution_count": 81,
   "metadata": {},
   "outputs": [
    {
     "name": "stdout",
     "output_type": "stream",
     "text": [
      "Ordered boundary vertex indices: [186, 34, 185, 152, 29, 30, 32, 184, 28, 247, 27, 25, 194, 155, 123, 136, 200, 111, 104, 1, 122, 187, 103, 55, 102, 188, 101, 99, 277, 275, 95, 96, 97, 199, 94, 257, 93, 92, 178, 227, 256, 148, 217, 105, 216, 190, 117, 143, 134, 161, 18, 19, 20, 193, 22, 246, 23, 245, 219, 15, 171, 13, 254, 12, 206, 165, 10, 9, 6, 252, 203, 4, 163, 3, 283, 201, 162, 202, 282, 280, 251, 139, 118, 126, 167, 212, 45, 278, 274, 156, 195, 270, 248, 131, 113, 281, 106, 192, 112, 191, 2, 226, 153, 273, 91, 90, 89, 181, 271, 150, 182, 87, 88, 86, 85, 240, 151, 261, 107, 5, 69, 127, 168, 213, 16, 24, 31, 264, 220, 172, 221, 140, 119, 7, 263, 262, 267, 260, 239, 145, 173, 265, 268, 17, 157, 196, 214, 249, 132, 114, 269, 14, 109, 74, 128, 169, 215, 259, 224, 258, 244, 174, 141, 223, 120, 108, 146, 222, 175, 255, 26, 253, 158, 197, 210, 250, 133, 115, 121, 129, 170, 242, 236, 58, 144, 100, 176, 231, 177, 147, 142, 225, 243, 180, 41, 159, 204, 232, 98, 42, 21, 205, 71, 164, 66, 211, 33, 35, 125, 233, 237, 116, 80, 50, 110, 54, 238, 179, 149, 44, 78, 79, 67, 81, 59, 82, 241, 83, 183, 84, 279, 266, 154, 49, 65, 52, 46, 62, 77, 76, 75, 72, 68, 39, 234, 53, 38, 37, 124, 47, 51, 56, 57, 166, 60, 61, 64, 43, 48, 40, 73, 70, 235, 63, 209, 138, 36, 198, 11, 0, 207, 208, 135, 230, 130, 189, 272, 228, 229, 218, 276, 160, 8, 137]\n"
     ]
    }
   ],
   "source": [
    "# import numpy as np\n",
    "# import networkx as nx\n",
    "# from scipy.spatial import KDTree\n",
    "\n",
    "# def order_boundary_vertices(boundary_vertices, mesh_edges):\n",
    "#     \"\"\"\n",
    "#     Orders the boundary vertices into a circular loop.\n",
    "\n",
    "#     :param boundary_vertices: (N, 3) array of boundary vertex positions\n",
    "#     :param mesh_edges: List of (i, j) tuples representing boundary edges\n",
    "#     :return: Ordered list of boundary vertex indices forming a loop\n",
    "#     \"\"\"\n",
    "#     # Create a graph from boundary edges\n",
    "#     G = nx.Graph()\n",
    "#     G.add_edges_from(mesh_edges)\n",
    "\n",
    "#     # Find a starting point (any degree-1 node should work)\n",
    "#     start_vertex = list(G.nodes)[0]\n",
    "\n",
    "#     # Use depth-first search (DFS) or breadth-first search (BFS) to order the loop\n",
    "#     ordered_indices = list(nx.dfs_preorder_nodes(G, source=start_vertex))\n",
    "\n",
    "#     return ordered_indices\n",
    "\n",
    "# # Example usage:\n",
    "# boundary_vertices = np.array([\n",
    "#     [0, 0, 0],  # index 0\n",
    "#     [1, 0, 0],  # index 1\n",
    "#     [1, 1, 0],  # index 2\n",
    "#     [0, 1, 0]   # index 3\n",
    "# ])\n",
    "\n",
    "# mesh_edges = [(0, 1), (1, 2), (2, 3), (3, 0)]  # Example boundary edges\n",
    "\n",
    "# ordered_indices = order_boundary_vertices(\n",
    "#     panel_info[\"panel_mesh\"].vertices[panel_info[\"boundary_vert_idx_list\"]],\n",
    "#     panel_info[\"panel_mesh\"].edges\n",
    "# )\n",
    "# print(\"Ordered boundary vertex indices:\", ordered_indices)"
   ]
  },
  {
   "cell_type": "code",
   "execution_count": 78,
   "metadata": {},
   "outputs": [
    {
     "data": {
      "text/plain": [
       "array([12.32232354,  1.23678356,  1.23759753,  1.23755713,  1.23896641,\n",
       "        1.23975583,  1.2401875 ,  1.2402125 ,  1.24084146,  1.24144677,\n",
       "        1.24161111,  1.24168418,  1.2411727 ,  1.24178618,  1.24169052,\n",
       "        1.2421022 ,  1.24110858,  1.23904654,  1.23937167,  1.23906776,\n",
       "        1.23740452,  1.23658323,  1.23676246,  1.23617556,  1.23567345,\n",
       "        1.2344924 ,  1.2252456 ,  1.21071118,  1.22793475,  1.19955736,\n",
       "        1.18070665,  1.18679621,  1.16635191,  1.14328246,  1.16942678,\n",
       "        1.07210425,  0.68601898, 35.67917628,  1.20286754,  1.24151854,\n",
       "        1.23617302,  1.23817016,  1.25723174,  1.27367195,  1.27559421,\n",
       "        1.25483285,  1.25191358,  1.2495038 ,  1.24990963,  1.25101563,\n",
       "        1.25336044,  1.25306865,  1.24881834,  1.25022232,  1.2505734 ,\n",
       "        1.24939258,  1.2504672 ,  1.25056373,  1.25109538,  1.2496626 ,\n",
       "        1.25012018,  1.24968721,  1.2491497 ,  1.24863349,  1.25038638,\n",
       "        1.25275137,  1.2559859 ,  1.25673702,  1.25820029,  1.25861837,\n",
       "        1.25887409,  1.2592152 ,  1.25844004,  1.25811927,  1.25759244,\n",
       "        1.25732706,  1.25757885,  1.25634057,  1.25581577,  1.25592475,\n",
       "        1.25502464,  1.25428729,  1.25393214,  1.25355777,  1.25294735,\n",
       "        1.25194717,  1.25191529,  1.25096264,  1.25111   ,  1.25010199,\n",
       "        1.24951144,  1.24924184,  1.24903534,  1.24859463, 13.29984391,\n",
       "        1.24762977,  1.24731108,  1.24558346,  1.24443517,  1.24257591,\n",
       "        1.24181556,  1.24302156,  1.24295164,  1.24296875,  1.24275208,\n",
       "        1.24306997,  1.24293305,  1.24303386,  1.24299393,  1.24310049,\n",
       "        1.24333754,  1.24385835,  1.2444257 ,  1.24520698,  1.24679646,\n",
       "        1.24908419,  1.24824205,  1.25065303,  1.25028518,  1.25169787,\n",
       "        1.25285816, 68.54789054,  0.76829194,  0.72856294,  0.79920805,\n",
       "        0.8520422 ,  0.77535686,  0.82000115,  0.7781649 ,  0.83185077,\n",
       "        0.75998473,  0.79031194,  0.77159801,  0.81783351,  0.77590041,\n",
       "        0.82757737,  0.78799792,  0.67277762,  0.78646842,  0.74563945,\n",
       "        0.78528409,  0.77184054,  0.80162773,  0.74777041,  0.7771979 ,\n",
       "        0.68764491,  0.79246154,  0.84775237,  0.7627514 ,  0.79092266,\n",
       "        0.78867184,  0.69501116,  0.82258663,  1.32928713,  1.33339552,\n",
       "        1.35144955,  1.37958543,  1.40068229,  1.42021352,  1.43041932,\n",
       "        1.47045177,  1.45271259,  1.4725465 ,  1.50388411,  1.5313545 ,\n",
       "        1.5377096 ,  1.48544773,  1.6321288 ,  1.65948779,  1.67058429,\n",
       "        1.67877769,  1.67849886,  1.65482415,  1.61115179,  1.57563467,\n",
       "        1.62171605])"
      ]
     },
     "execution_count": 78,
     "metadata": {},
     "output_type": "execute_result"
    }
   ],
   "source": [
    "np.linalg.norm(\n",
    "    panel_info[\"panel_mesh\"].vertices[panel_info[\"boundary_vert_idx_list\"][:-1]] - panel_info[\"panel_mesh\"].vertices[panel_info[\"boundary_vert_idx_list\"][1:]],\n",
    "    axis=1\n",
    ")\n"
   ]
  },
  {
   "cell_type": "code",
   "execution_count": null,
   "metadata": {},
   "outputs": [],
   "source": []
  },
  {
   "cell_type": "code",
   "execution_count": 49,
   "metadata": {},
   "outputs": [],
   "source": [
    "\n",
    "# IDX = 1551\n",
    "\n",
    "# IDX = random.randint(0, len(filtered_combination_path_list) - 1)\n",
    "# combination_path = filtered_combination_path_list[IDX]\n",
    "\n",
    "# print(\"IDX :\", IDX)\n",
    "# print(\"combination_path :\", combination_path)\n",
    "\n",
    "# spec_config_path = os.path.join(combination_path, \"static\", \"spec_config.json\")\n",
    "# with open(spec_config_path, \"r\") as f:\n",
    "#     spec_config = json.load(f)\n",
    "\n",
    "# garment_name_list = list(map(\n",
    "#     lambda x : os.path.basename(x[\"spec\"].replace(\"\\\\\", \"/\")),\n",
    "#     spec_config.values()\n",
    "# ))\n",
    "\n",
    "\n",
    "\n",
    "# with open(os.path.join(combination_path, \"static\", \"static__body_info.json\"), \"r\") as f:\n",
    "#     static_body_data = json.load(f)\n",
    "#     betas = torch.tensor(static_body_data['shape'], dtype=torch.float32).unsqueeze(0)\n",
    "#     pose = torch.tensor(\n",
    "#         np.deg2rad(static_body_data['pose']),\n",
    "#         dtype=torch.float32\n",
    "#     ).unsqueeze(0)  # Shape: (1, 52, 3)\n",
    "#     transl = torch.tensor(static_body_data['trans'], dtype=torch.float32).unsqueeze(0)\n",
    "\n",
    "#     body_pose = pose[0, 1:22].reshape(1, -1)  # Body joints (excluding global orientation)\n",
    "#     left_hand_pose = pose[0, 22:37].reshape(1, -1)  # Left hand joints\n",
    "#     right_hand_pose = pose[0, 37:52].reshape(1, -1)  # Right hand joints\n",
    "#     global_orient = pose[0, 0].unsqueeze(0)  # Global orientation\n",
    "\n",
    "#     # Get body mesh\n",
    "#     output = model(\n",
    "#         betas=betas,\n",
    "#         body_pose=body_pose,\n",
    "#         global_orient=global_orient,\n",
    "#         left_hand_pose=left_hand_pose,\n",
    "#         right_hand_pose=right_hand_pose,\n",
    "#         # transl=transl\n",
    "#     )\n",
    "#     vertices = output.vertices.detach().numpy()[0]\n",
    "#     faces = model.faces\n",
    "\n",
    "#     # SCALE = 2 * transl.numpy()[0, 1] / (vertices[:, 1].max() - vertices[:, 1].min())\n",
    "#     SCALE = 100\n",
    "#     Z_OFFSET = -3\n",
    "#     Y_OFFSET = 21\n",
    "\n",
    "#     static_body_mesh = trimesh.Trimesh(vertices=vertices, faces=faces)\n",
    "#     static_body_mesh.apply_scale(SCALE)\n",
    "\n",
    "#     static_body_mesh.vertices += transl.numpy()\n",
    "#     # static_body_mesh.vertices[:, 1] -= static_body_mesh.vertices[:, 1].min()\n",
    "#     static_body_mesh.vertices[:, 2] += Z_OFFSET\n",
    "#     static_body_mesh.vertices[:, 1] += Y_OFFSET\n",
    "\n",
    "# mesh_dict = {}\n",
    "# garment_dict = {}\n",
    "# for garment_name in garment_name_list :\n",
    "#     spec_file_path = os.path.join(\n",
    "#         combination_path, \"static\", f\"{garment_name}_specification.json\"\n",
    "#     )\n",
    "#     pattern = pyg.pattern.wrappers.VisPattern(spec_file_path)\n",
    "#     drawn_pattern_list = list(map(\n",
    "#         lambda pannel_name : pattern._draw_a_panel(\n",
    "#             pannel_name, apply_transform=False, fill=True\n",
    "#         ),\n",
    "#         pattern.panel_order()\n",
    "#     ))\n",
    "#     panel_svg_path_dict = {\n",
    "#         panel_name : pattern._draw_a_panel(\n",
    "#             panel_name, apply_transform=False, fill=True\n",
    "#         )\n",
    "#         for panel_name in pattern.panel_order()\n",
    "#     }\n",
    "\n",
    "#     stitch_dict = {\n",
    "#         i : v for i, v in enumerate(pattern.pattern['stitches'])\n",
    "#     }\n",
    "    \n",
    "#     mesh = trimesh.load_mesh(os.path.join(\n",
    "#         combination_path, \"static\", f\"{garment_name}_{garment_name}.obj\",\n",
    "#     ), process=False)\n",
    "\n",
    "#     neighbor_idx_list = mesh.vertex_neighbors\n",
    "    \n",
    "#     with open(\n",
    "#         os.path.join(\n",
    "#             # combination_path, \"static\", f\"{garment_name}_{garment_name}_segmentation_filtered.txt\"\n",
    "#             combination_path, \"static\", f\"{garment_name}_{garment_name}_segmentation.txt\"\n",
    "#         ),\n",
    "#         \"r\"\n",
    "#     ) as f:\n",
    "#         mesh_segmentation_list = list(map(\n",
    "#             lambda x : x.strip(),\n",
    "#             f.readlines()\n",
    "#         ))\n",
    "#         vertex_mask_dict = {}\n",
    "#         for panel_name in panel_svg_path_dict.keys() :\n",
    "#             vertex_mask_dict[panel_name] = np.array(list(map(\n",
    "#                 lambda x : x == panel_name,\n",
    "#                 mesh_segmentation_list\n",
    "#             )))\n",
    "#         vertex_mask_dict[\"stitch\"] = np.array(list(map(\n",
    "#             lambda x : x == \"stitch\",\n",
    "#             mesh_segmentation_list\n",
    "#         )))\n",
    "#         vertex_mask_dict[\"None\"] = np.array(list(map(\n",
    "#             lambda x : x == \"None\",\n",
    "#             mesh_segmentation_list\n",
    "#         )))\n",
    "\n",
    "#     fig = visualize_meshes_plotly(\n",
    "#         [mesh],\n",
    "#         show_edges=False,\n",
    "#         # vertices_list = list(map(\n",
    "#         #     lambda x : mesh.vertices[\n",
    "#         #         x\n",
    "#         #     ],\n",
    "#         #     vertex_mask_dict.values()\n",
    "#         # ))[:1],\n",
    "#         # color_list = [\"red\", \"blue\", \"green\", \"yellow\", \"white\", \"orange\", \"purple\", \"pink\", \"brown\", \"gray\", \"black\", \"white\"],\n",
    "        \n",
    "#         vertices_list = [\n",
    "#             mesh.vertices[vertex_mask_dict[\"stitch\"]],\n",
    "#             mesh.vertices[vertex_mask_dict[\"None\"]],\n",
    "#         ],\n",
    "#         vertices_color_list = [\"red\", \"blue\"],\n",
    "#         show=False\n",
    "#     )\n",
    "#     fig.show()\n",
    "\n",
    "#     (\n",
    "#         panel_mesh_list, panel_segmentation_list,\n",
    "#         garment_to_panel_idx_map_list, panel_to_garment_idx_map_list\n",
    "#     ) = disassemble_mesh_to_panels(mesh, mesh_segmentation_list)\n",
    "    \n",
    "#     panel_dict = {}\n",
    "#     for (\n",
    "#         panel_mesh, panel_segmentation_list, \n",
    "#         garment_to_panel_idx_map, panel_to_garment_idx_map\n",
    "#     )in zip(\n",
    "#         panel_mesh_list, panel_segmentation_list,\n",
    "#         garment_to_panel_idx_map_list, panel_to_garment_idx_map_list\n",
    "#     ) :\n",
    "#         panel_vertex_mask_dict = {}\n",
    "#         for panel_name in panel_svg_path_dict.keys() :\n",
    "#             panel_vertex_mask_dict[panel_name] = np.array(list(map(\n",
    "#                 lambda x : x == panel_name,\n",
    "#                 panel_segmentation_list\n",
    "#             )))\n",
    "#         panel_vertex_mask_dict[\"stitch\"] = np.array(list(map(\n",
    "#             lambda x : x == \"stitch\",\n",
    "#             panel_segmentation_list\n",
    "#         )))\n",
    "#         panel_vertex_mask_dict[\"None\"] = np.array(list(map(\n",
    "#             lambda x : x == \"None\",\n",
    "#             panel_segmentation_list\n",
    "#         )))\n",
    "        \n",
    "#         for panel_name, mask in panel_vertex_mask_dict.items() :\n",
    "#             print(panel_name, mask.sum())\n",
    "        \n",
    "#         fig = visualize_meshes_plotly(\n",
    "#             panel_mesh,\n",
    "#             vertices_list = [\n",
    "#                 panel_mesh.vertices[panel_vertex_mask_dict[\"stitch\"]],\n",
    "#                 panel_mesh.vertices[panel_vertex_mask_dict[\"None\"]],\n",
    "#             ],\n",
    "#             vertices_color_list = [\"red\", \"blue\"],\n",
    "#             show_edges=False,\n",
    "#             show=False\n",
    "#         )\n",
    "#         fig.show()\n",
    "        \n",
    "        \n",
    "#     garment_dict[garment_name] = {\n",
    "#         \"panel_svg_path_dict\" : panel_svg_path_dict,\n",
    "#         \"stitch_dict\" : stitch_dict,\n",
    "#         \"mesh\" : mesh,\n",
    "#         \"panel_mesh_list\" : panel_mesh_list,\n",
    "#         \"panel_segmentation_list\" : panel_segmentation_list,\n",
    "#     }\n",
    "    "
   ]
  },
  {
   "cell_type": "code",
   "execution_count": 21,
   "metadata": {},
   "outputs": [
    {
     "data": {
      "text/plain": [
       "[TrackedArray([[ 71.534477,  79.894379, -30.163786],\n",
       "               [ 72.194023,  80.347786, -32.65115 ],\n",
       "               [ 71.373062,  80.751518, -31.604897],\n",
       "               ...,\n",
       "               [ 67.776794,  21.107845, -33.875992],\n",
       "               [ 67.288666,  20.607347, -34.90855 ],\n",
       "               [ 66.696274,  20.134119, -35.898266]]),\n",
       " TrackedArray([[ 60.822735,  75.276833, -15.802821],\n",
       "               [ 60.283657,  76.008743, -15.494904],\n",
       "               [ 59.928192,  74.232895, -15.20603 ],\n",
       "               ...,\n",
       "               [ 67.23082 ,  60.707123, -34.6385  ],\n",
       "               [ 66.479416,  40.416161, -35.763733],\n",
       "               [ 42.37682 ,  53.735226, -43.135204]]),\n",
       " TrackedArray([[ 32.54216 ,  59.391609, -34.140446],\n",
       "               [ 32.799213,  60.520199, -34.097122],\n",
       "               [ 31.902117,  60.11599 , -34.00824 ],\n",
       "               ...,\n",
       "               [ 66.462044,  69.332375, -18.375847],\n",
       "               [ 67.135773,  72.891144, -18.616676],\n",
       "               [ 60.794945,  72.54361 , -15.765102]]),\n",
       " TrackedArray([[ 75.48851 ,  34.334545, -15.356225],\n",
       "               [ 76.671967,  34.738605, -15.504778],\n",
       "               [ 77.542801,  35.083233, -16.346285],\n",
       "               ...,\n",
       "               [ 58.575603, 100.051102, -38.053989],\n",
       "               [ 59.908611,  99.95005 , -38.000618],\n",
       "               [ 61.222843,  99.963402, -37.701748]])]"
      ]
     },
     "execution_count": 21,
     "metadata": {},
     "output_type": "execute_result"
    }
   ],
   "source": [
    "list(map(\n",
    "    lambda x : mesh.vertices[\n",
    "        x\n",
    "    ],\n",
    "    vertex_mask_dict.values()\n",
    "))\n"
   ]
  },
  {
   "cell_type": "code",
   "execution_count": 27,
   "metadata": {},
   "outputs": [
    {
     "data": {
      "text/plain": [
       "dict_keys(['skirt_back', 'skirt_front', 'top_back', 'top_front'])"
      ]
     },
     "execution_count": 27,
     "metadata": {},
     "output_type": "execute_result"
    }
   ],
   "source": [
    "vertex_mask_dict.keys()"
   ]
  }
 ],
 "metadata": {
  "kernelspec": {
   "display_name": "garment",
   "language": "python",
   "name": "python3"
  },
  "language_info": {
   "codemirror_mode": {
    "name": "ipython",
    "version": 3
   },
   "file_extension": ".py",
   "mimetype": "text/x-python",
   "name": "python",
   "nbconvert_exporter": "python",
   "pygments_lexer": "ipython3",
   "version": "3.10.16"
  }
 },
 "nbformat": 4,
 "nbformat_minor": 2
}
