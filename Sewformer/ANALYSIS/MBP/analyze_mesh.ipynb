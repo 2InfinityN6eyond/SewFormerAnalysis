{
 "cells": [
  {
   "cell_type": "code",
   "execution_count": null,
   "metadata": {},
   "outputs": [],
   "source": []
  },
  {
   "cell_type": "code",
   "execution_count": 2,
   "metadata": {},
   "outputs": [],
   "source": [
    "import os, sys\n",
    "sys.path.append(os.path.dirname(os.getcwd()))\n",
    "sys.path.append(os.path.dirname(os.path.dirname(os.getcwd())))\n",
    "\n",
    "from glob import glob\n",
    "import math\n",
    "from pprint import pprint\n",
    "import numpy as np\n",
    "import matplotlib.pyplot as plt\n",
    "from PIL import Image\n",
    "import time\n",
    "import json\n",
    "import random\n",
    "import pandas as pd\n",
    "from tqdm import tqdm\n",
    "import trimesh\n",
    "\n",
    "import torch\n",
    "\n",
    "from ANALYSIS.analysis_utils import (\n",
    "    plot_panel_info,\n",
    "    visualize_meshes_plotly,\n",
    "    filter_segmentation_map,\n",
    "    filter_segmentation_map_clusters,\n",
    "    is_clockwise,\n",
    ")\n",
    "\n",
    "from env_constants import SEWFORMER_PROJ_ROOT, DATASET_ROOT, PYGARMENT_ROOT\n",
    "\n",
    "sys.path.append(PYGARMENT_ROOT)\n",
    "\n",
    "import pygarment as pyg"
   ]
  },
  {
   "cell_type": "code",
   "execution_count": 3,
   "metadata": {},
   "outputs": [],
   "source": [
    "garment_df = pd.read_csv(\"garment_df_20250215_165422.csv\")\n",
    "\n",
    "filtered_combination_name_list = np.unique(garment_df[\n",
    "    garment_df[\"mesh_filter_failed\"] == False\n",
    "][\"matching_combination_name\"]).tolist()\n",
    "\n",
    "filtered_combination_path_list = list(map(\n",
    "    lambda x : os.path.join(DATASET_ROOT, 'sewfactory', x),\n",
    "    filtered_combination_name_list\n",
    "))"
   ]
  },
  {
   "cell_type": "code",
   "execution_count": 4,
   "metadata": {},
   "outputs": [
    {
     "name": "stdout",
     "output_type": "stream",
     "text": [
      "WARNING: You are using a SMPL+H model, with only 10 shape coefficients.\n"
     ]
    }
   ],
   "source": [
    "import json\n",
    "import numpy as np\n",
    "import smplx\n",
    "import torch\n",
    "import trimesh\n",
    "\n",
    "SMPLH_PATH = os.path.join(\n",
    "    SEWFORMER_PROJ_ROOT, \"Sewformer\", \"assets\",\n",
    ")\n",
    "\n",
    "# Create SMPL-H model\n",
    "model = smplx.create(\n",
    "    model_path=SMPLH_PATH,\n",
    "    model_type='smplh',  # Specifically use SMPL-H\n",
    "    ext='pkl',\n",
    "    gender='female',\n",
    "    use_pca=False,  # Important: disable PCA for hand poses\n",
    "    batch_size=1,\n",
    ")"
   ]
  },
  {
   "cell_type": "code",
   "execution_count": 56,
   "metadata": {},
   "outputs": [],
   "source": [
    "import numpy as np\n",
    "import trimesh\n",
    "import networkx as nx\n",
    "\n",
    "def find_boundary_vertices(mesh):\n",
    "    \"\"\"\n",
    "    Identifies boundary vertices in a manifold mesh.\n",
    "    \n",
    "    - Boundary edges are edges that belong to only one face.\n",
    "    - Boundary vertices are the endpoints of boundary edges.\n",
    "    \n",
    "    Args:\n",
    "        mesh (trimesh.Trimesh): The input mesh object.\n",
    "    \n",
    "    Returns:\n",
    "        np.array: Indices of boundary vertices.\n",
    "    \"\"\"\n",
    "    edges, counts = np.unique(np.sort(mesh.edges, axis=1), axis=0, return_counts=True)\n",
    "    boundary_edges = edges[counts == 1]\n",
    "    boundary_vertices = np.unique(boundary_edges)\n",
    "\n",
    "    return boundary_vertices\n",
    "\n",
    "def disassemble_mesh_to_panels(mesh, segmentation_list):\n",
    "    \"\"\"\n",
    "    Disassembles a garment mesh into separate panel meshes and splits the segmentation list.\n",
    "\n",
    "    Args:\n",
    "        mesh (trimesh.Trimesh): The input garment mesh.\n",
    "        segmentation_list (list): List classifying each vertex.\n",
    "\n",
    "    Returns:\n",
    "        tuple: (list of trimesh.Trimesh, list of segmentation lists for each panel)\n",
    "    \"\"\"\n",
    "    # Step 1: Create a graph from the mesh connectivity\n",
    "    mesh_graph = nx.Graph()\n",
    "\n",
    "    # Add edges based on mesh faces (each face connects three vertices)\n",
    "    for face in mesh.faces:\n",
    "        mesh_graph.add_edge(face[0], face[1])\n",
    "        mesh_graph.add_edge(face[1], face[2])\n",
    "        mesh_graph.add_edge(face[2], face[0])\n",
    "\n",
    "    # Step 2: Find connected components (each should be an individual panel)\n",
    "    connected_components = list(nx.connected_components(mesh_graph))\n",
    "    print(f\"Found {len(connected_components)} separate panel meshes.\")\n",
    "\n",
    "    # Step 3: Extract panel sub-meshes\n",
    "    panel_meshes = []\n",
    "    panel_segmentation_list = []\n",
    "    garment_to_panel_idx_map_list = []\n",
    "    panel_to_garment_idx_map_list = []\n",
    "    for component in connected_components:\n",
    "        panel_vertex_indices = np.array(list(component))  # Original indices\n",
    "        \n",
    "        # Step 3.1: Create a mapping from original to new local indices\n",
    "        # index_map = {old_idx: new_idx for new_idx, old_idx in enumerate(panel_vertex_indices)}\n",
    "        garment_to_panel_idx_map = {old_idx: new_idx for new_idx, old_idx in enumerate(panel_vertex_indices)}\n",
    "        panel_to_garment_idx_map = {new_idx: old_idx for old_idx, new_idx in enumerate(panel_vertex_indices)}\n",
    "\n",
    "        garment_to_panel_idx_map_list.append(garment_to_panel_idx_map)\n",
    "        panel_to_garment_idx_map_list.append(panel_to_garment_idx_map)\n",
    "\n",
    "        # Step 3.2: Extract the segmentation list for this panel\n",
    "        this_panel_segmentation_list = [segmentation_list[idx] for idx in panel_vertex_indices]\n",
    "        panel_segmentation_list.append(this_panel_segmentation_list)\n",
    "\n",
    "        # Step 3.3: Get faces that only use the panel's vertices\n",
    "        face_mask = np.isin(mesh.faces, panel_vertex_indices).all(axis=1)\n",
    "        panel_faces = mesh.faces[face_mask]\n",
    "\n",
    "        # Step 3.4: Reindex faces to local vertex indices\n",
    "        reindexed_faces = np.vectorize(garment_to_panel_idx_map.get)(panel_faces)\n",
    "\n",
    "        # Step 3.5: Create new mesh\n",
    "        panel_mesh = trimesh.Trimesh(\n",
    "            vertices=mesh.vertices[panel_vertex_indices],\n",
    "            faces=reindexed_faces\n",
    "        )\n",
    "        panel_meshes.append(panel_mesh)\n",
    "\n",
    "    return panel_meshes, panel_segmentation_list, garment_to_panel_idx_map_list, panel_to_garment_idx_map_list\n"
   ]
  },
  {
   "cell_type": "code",
   "execution_count": 83,
   "metadata": {},
   "outputs": [
    {
     "name": "stdout",
     "output_type": "stream",
     "text": [
      "IDX : 733\n",
      "combination_path : /Users/hjp/HJP/KUAICV/VTO/DATASET/sewfactory/sewfactory/jumpsuit_sleeveless_VAFQ1UNH68\n",
      "Found 6 separate panel meshes.\n"
     ]
    }
   ],
   "source": [
    "\n",
    "IDX = 1551\n",
    "\n",
    "IDX = random.randint(0, len(filtered_combination_path_list) - 1)\n",
    "combination_path = filtered_combination_path_list[IDX]\n",
    "\n",
    "print(\"IDX :\", IDX)\n",
    "print(\"combination_path :\", combination_path)\n",
    "\n",
    "spec_config_path = os.path.join(combination_path, \"static\", \"spec_config.json\")\n",
    "with open(spec_config_path, \"r\") as f:\n",
    "    spec_config = json.load(f)\n",
    "\n",
    "garment_name_list = list(map(\n",
    "    lambda x : os.path.basename(x[\"spec\"].replace(\"\\\\\", \"/\")),\n",
    "    spec_config.values()\n",
    "))\n",
    "\n",
    "garment_dict = {}\n",
    "for garment_name in garment_name_list :\n",
    "    spec_file_path = os.path.join(\n",
    "        combination_path, \"static\", f\"{garment_name}_specification.json\"\n",
    "    )\n",
    "    pattern = pyg.pattern.wrappers.VisPattern(spec_file_path)\n",
    "    drawn_pattern_list = list(map(\n",
    "        lambda pannel_name : pattern._draw_a_panel(\n",
    "            pannel_name, apply_transform=False, fill=True\n",
    "        ),\n",
    "        pattern.panel_order()\n",
    "    ))\n",
    "    panel_svg_path_dict = {\n",
    "        panel_name : pattern._draw_a_panel(\n",
    "            panel_name, apply_transform=False, fill=True\n",
    "        )\n",
    "        for panel_name in pattern.panel_order()\n",
    "    }\n",
    "\n",
    "    stitch_dict = {\n",
    "        i : v for i, v in enumerate(pattern.pattern['stitches'])\n",
    "    }\n",
    "    \n",
    "    mesh = trimesh.load_mesh(os.path.join(\n",
    "        combination_path, \"static\", f\"{garment_name}_{garment_name}.obj\",\n",
    "    ), process=False)\n",
    "\n",
    "    neighbor_idx_list = mesh.vertex_neighbors\n",
    "    \n",
    "    with open(\n",
    "        os.path.join(\n",
    "            combination_path, \"static\", f\"{garment_name}_{garment_name}_segmentation.txt\"\n",
    "        ),\n",
    "        \"r\"\n",
    "    ) as f:\n",
    "        mesh_segmentation_list = list(map(\n",
    "            lambda x : x.strip(),\n",
    "            f.readlines()\n",
    "        ))\n",
    "        vertex_mask_dict = {}\n",
    "        for panel_name in panel_svg_path_dict.keys() :\n",
    "            vertex_mask_dict[panel_name] = np.array(list(map(\n",
    "                lambda x : x == panel_name,\n",
    "                mesh_segmentation_list\n",
    "            )))\n",
    "        vertex_mask_dict[\"stitch\"] = np.array(list(map(\n",
    "            lambda x : x == \"stitch\",\n",
    "            mesh_segmentation_list\n",
    "        )))\n",
    "        vertex_mask_dict[\"None\"] = np.array(list(map(\n",
    "            lambda x : x == \"None\",\n",
    "            mesh_segmentation_list\n",
    "        )))\n",
    "\n",
    "    (\n",
    "        panel_mesh_list, panel_segmentation_list,\n",
    "        garment_to_panel_idx_map_list, panel_to_garment_idx_map_list\n",
    "    ) = disassemble_mesh_to_panels(mesh, mesh_segmentation_list)\n",
    "    \n",
    "    panel_dict = {}\n",
    "    for (\n",
    "        panel_mesh, panel_segmentation_list, \n",
    "        garment_to_panel_idx_map, panel_to_garment_idx_map\n",
    "    )in zip(\n",
    "        panel_mesh_list, panel_segmentation_list,\n",
    "        garment_to_panel_idx_map_list, panel_to_garment_idx_map_list\n",
    "    ) :\n",
    "        panel_name_candidate_list, count_list = np.unique(panel_segmentation_list, return_counts=True)\n",
    "        panel_name = panel_name_candidate_list[np.argmax(count_list)]\n",
    "        \n",
    "        boundary_vert_idx_list = find_boundary_vertices(panel_mesh)\n",
    "        \n",
    "        \n",
    "        overlapping_boundary_vert_count = np.sum(\n",
    "            np.linalg.norm(\n",
    "                panel_mesh.vertices[boundary_vert_idx_list[:-1]] - panel_mesh.vertices[boundary_vert_idx_list[1:]],\n",
    "                axis=1\n",
    "            ) < 1e-6\n",
    "        )\n",
    "        if overlapping_boundary_vert_count > 0 :\n",
    "            print(panel_name, overlapping_boundary_vert_count)\n",
    "                \n",
    "        \n",
    "        panel_dict[panel_name] = {\n",
    "            \"panel_mesh\" : panel_mesh,\n",
    "            \"boundary_vert_idx_list\" : boundary_vert_idx_list,\n",
    "            \"garment_to_panel_idx_map\" : garment_to_panel_idx_map,\n",
    "            \"panel_to_garment_idx_map\" : panel_to_garment_idx_map,\n",
    "        }\n",
    "        \n",
    "    garment_dict[garment_name] = {\n",
    "        \"panel_svg_path_dict\" : panel_svg_path_dict,\n",
    "        \"stitch_dict\" : stitch_dict,\n",
    "        \"mesh\" : mesh,\n",
    "        \"panel_dict\" : panel_dict,\n",
    "    }\n",
    "    "
   ]
  },
  {
   "cell_type": "code",
   "execution_count": 81,
   "metadata": {},
   "outputs": [
    {
     "data": {
      "text/plain": [
       "0"
      ]
     },
     "execution_count": 81,
     "metadata": {},
     "output_type": "execute_result"
    }
   ],
   "source": [
    "panel_dict = list(\n",
    "    list(garment_dict.values())[0][\"panel_dict\"].values()\n",
    ")[0]\n",
    "\n",
    "boundary_vertices = panel_dict[\"panel_mesh\"].vertices[panel_dict[\"panel_boundary_vertices\"]]\n",
    "\n"
   ]
  },
  {
   "cell_type": "code",
   "execution_count": 74,
   "metadata": {},
   "outputs": [
    {
     "data": {
      "application/vnd.plotly.v1+json": {
       "config": {
        "plotlyServerURL": "https://plot.ly"
       },
       "data": [
        {
         "facecolor": {
          "bdata": "ZmZmZmZmZmZmZmZmZmZmZmZmZmZmZmZmZmZmZmZmZmZmZmZmZmZmZmZmZmZmZmZmZmZmZmZmZmZmZmZmZmZmZmZmZmZmZmZmZmZmZmZmZmZmZmZmZmZmZmZmZmZmZmZmZmZmZmZmZmZmZmZmZmZmZmZmZmZmZmZmZmZmZmZmZmZmZmZmZmZmZmZmZmZmZmZmZmZmZmZmZmZmZmZmZmZmZmZmZmZmZmZmZmZmZmZmZmZmZmZmZmZmZmZmZmZmZmZmZmZmZmZmZmZmZmZmZmZmZmZmZmZmZmZmZmZmZmZmZmZmZmZmZmZmZmZmZmZmZmZmZmZmZmZmZmZmZmZmZmZmZmZmZmZmZmZmZmZmZmZmZmZmZmZmZmZmZmZmZmZmZmZmZmZmZmZmZmZmZmZmZmZmZmZmZmZmZmZmZmZmZmZmZmZmZmZmZmZmZmZmZmZmZmZmZmZmZmZmZmZmZmZmZmZmZmZmZmZmZmZmZmZmZmZmZmZmZmZmZmZmZmZmZmZmZmZmZmZmZmZmZmZmZmZmZmZmZmZmZmZmZmZmZmZmZmZmZmZmZmZmZmZmZmZmZmZmZmZmZmZmZmZmZmZmZmZmZmZmZmZmZmZmZmZmZmZmZmZmZmZmZmZmZmZmZmZmZmZmZmZmZmZmZmZmZmZmZmZmZmZmZmZmZmZmZmZmZmZmZmZmZmZmZmZmZmZmZmZmZmZmZmZmZmZmZmZmZmZmZmZmZmZmZmZmZmZmZmZmZmZmZmZmZmZmZmZmZmZmZmZmZmZmZmZmZmZmZmZmZmZmZmZmZmZmZmZmZmZmZmZmZmZmZmZmZmZmZmZmZmZmZmZmZmZmZmZmZmZmZmZmZmZmZmZmZmZmZmZmZmZmZmZmZmZmZmZmZmZmZmZmZmZmZmZmZmZmZmZmZmZmZmZmZmZmZmZmZmZmZmZmZmZmZmZmZmZmZmZmZmZmZmZmZmZmZmZmZmZmZmZmZmZmZmZmZmZmZmZmZmZmZmZmZmZmZmZmZmZmZmZmZmZmZmZmZmZmZmZmZmZmZmZmZmZmZmZmZmZmZmZmZmZmZmZmZmZmZmZmZmZmZmZmZmZmZmZmZmZmZmZmZmZmZmZmZmZmZmZmZmZmZmZmZmZmZmZmZmZmZmZmZmZmZmZmZmZmZmZmZmZmZmZmZmZmZmZmZmZmZmZmZmZmZmZmZmZmZmZmZmZmZmZmZmZmZmZmZmZmZmZmZmZmZmZmZmZmZmZmZmZmZmZmZmZmZmZmZmZmZmZmZmZmZmZmZmZmZmZmZmZmZmZmZmZmZmZmZmZmZmZmZmZmZmZmZmZmZmZmZmZmZmZmZmZmZmZmZmZmZmZmZmZmZmZmZmZmZmZmZmZmZmZmZmZmZmZmZmZmZmZmZmZmZmZmZmZmZmZmZmZmZmZmZmZmZmZmZmZmZmZmZmZmZmZmZmZmZmZmZmZmZmZmZmZmZmZmZmZmZmZmZmZmZmZmZmZmZmZmZmZmZmZmZmZmZmZmZmZmZmZmZmZmZmZmZmZmZmZmZmZmZmZmZmZmZmZmZmZmZmZmZmZmZmZmZmZmZmZmZmZmZmZmZmZmZmZmZmZmZmZmZmZmZmZmZmZmZmZmZmZmZmZmZmZmZmZmZmZmZmZmZmZmZmZmZmZmZmZmZmZmZmZmZmZmZmZmZmZmZmZmZmZmZmZmZmZmZmZmZmZmZmZmZmZmZmZmZmZmZmZmZmZmZmZmZmZmZmZmZmZmZmZmZmZmZmZmZmZmZmZmZmZmZmZmZmZmZmZmZmZmZmZmZmZmZmZmZmZmZmZmZmZmZmZmZmZmZmZmZmZmZmZmZmZmZmZmZmZmZmZmZmZmZmZmZmZmZmZmZmZmZmZmZmZmZmZmZmZmZmZmZmZmZmZmZmZmZmZmZmZmZmZmZmZmZmZmZmZmZmZmZmZmZmZmZmZmZmZmZmZmZmZmZmZmZmZmZmZmZmZmZmZmZmZmZmZmZmZmZmZmZmZmZmZmZmZmZmZmZmZmZmZmZmZmZmZmZmZmZmZmZmZmZmZmZmZmZmZmZmZmZmZmZmZmZmZmZmZmZmZmZmZmZmZmZmZmZmZmZmZmZmZmZmZmZmZmZmZmZmZmZmZmZmZmZmZmZmZmZmZmZmZmZmZmZmZmZmZmZmZmZmZmZmZmZmZmZmZmZmZmZmZmZmZmZmZmZmZmZmZmZmZmZmZmZmZmZmZmZmZmZmZmZmZmZmZmZmZmZmZmZmZmZmZmZmZmZmZmZmZmZmZmZmZmZmZmZmZmZmZmZmZmZmZmZmZmZmZmZmZmZmZmZmZmZmZmZmZmZmZmZmZmZmZmZmZmZmZmZmZmZmZmZmZmZmZmZmZmZmZmZmZmZmZmZmZmZmZmZmZmZmZmZmZmZmZmZmZmZmZmZmZmZmZmZmZmZmZmZmZmZmZmZmZmZmZmZmZmZmZmZmZmZmZmZmZmZmZmZmZmZmZmZmZmZmZmZmZmZmZmZmZmZmZmZmZmZmZmZmZmZmZmZmZmZmZmZmZmZmZmZmZmZmZmZmZmZmZmZmZmZmZmZmZmZmZmZmZmZmZmZmZmZmZmZmZmZmZmZmZmZmZmZmZmZmZmZmZmZmZmZmZmZmZmZmZmZmZmZmZmZmZmZmZmZmZmZmZmZmZmZmZmZmZmZmZmZmZmZmZmZmZmZmZmZmZmZmZmZmZmZmZmZmZmZmZmZmZmZmZmZmZmZmZmZmZmZmZmZmZmZmZmZmZmZmZmZmZmZmZmZmZmZmZmZmZmZmZmZmZmZmZmZmZmZmZmZmZmZmZmZmZmZmZmZmZmZmZmZmZmZmZmZmZmZmZmZmZmZmZmZmZmZmZmZmZmZmZmZmZmZmZmZmZmZmZmZmZmZmZmZmZmZmZmZmZmZmZmZmZmZmZmZmZmZmZmZmZmZmZmZmZmZmZmZmZmZmZmZmZmZmZmZmZmZmZmZmZmZmZmZmZmZmZmZmZmZmZmZmZmZmZmZmZmZmZmZmZmZmZmZmZmZmZmZmZmZmZmZmZmZmZmZmZmZmZmZmZmZmZmZmZmZmZmZmZmZmZmZmZmZmZmZmZmZmZmZmZmZmZmZmZmZmZmZmZmZmZmZmZmZmZmZmZmZmZmZmZmZmZmZmZmZmZmZmZmZmZmZmZmZmZmZmZmZmZmZmZmZmZmZmZmZmZmZmZmZmZmZmZmZmZmZmZmZmZmZmZmZmZmZmZmZmZmZmZmZmZmZmZmZmZmZmZmZmZmZmZmZmZmZmZmZmZmZmZmZmZmZmZmZmZmZmZmZmZmZmZmZmZmZmZmZmZmZmZmZmZmZmZmZmZmZmZmZmZmZmZmZmZmZmZmZmZmZmZmZmZmZmZmZmZmZmZmZmZmZmZmZmZmZmZmZmZmZmZmZmZmZmZmZmZmZmZmZmZmZmZmZmZmZmZmZmZmZmZmZmZmZmZmZmZmZmZmZmZmZmZmZmZmZmZmZmZmZmZmZmZmZmZmZmZmZmZmZmZmZmZmZmZmZmZmZmZmZmZmZmZmZmZmZmZmZmZmZmZmZmZmZmZmZmZmZmZmZmZmZmZmZmZmZmZmZmZmZmZmZmZmZmZmZmZmZmZmZmZmZmZmZmZmZmZmZmZmZmZmZmZmZmZmZmZmZmZmZmZmZmZmZmZmZmZmZmZmZmZmZmZmZmZmZmZmZmZmZmZmZmZmZmZmZmZmZmZmZmZmZmZmZmZmZmZmZmZmZmZmZmZmZmZmZmZmZmZmZmZmZmZmZmZmZmZmZmZmZmZmZmZmZmZmZmZmZmZmZmZmZmZmZmZmZmZmZmZmZmZmZmZmZmZmZmZmZmZmZmZmZmZmZmZmZmZmZmZmZmZmZmZmZmZmZmZmZmZmZmZmZmZmZmZmZmZmZmZmZmZmZmZmZmZmZmZmZmZmZmZmZmZmZmZmZmZmZmZmZmZmZmZmZmZmZmZmZmZmZmZmZmZmZmZmZmZmZmZmZmZmZmZmZmZmZmZmZmZmZmZmZmZmZmZmZmZmZmZmZmZmZmZmZmZmZmZmZmZmZmZmZmZmZmZmZmZmZmZmZmZmZmZmZmZmZmZmZmZmZmZmZmZmZmZmZmZmZmZmZmZmZmZmZmZmZmZmZmZmZmZmZmZmZmZmZmZmZmZmZmZmZmZmZmZmZmZmZmZmZmZmZmZmZmZmZmZmZmZmZmZmZmZmZmZmZmZmZmZmZmZmZmZmZmZmZmZmZmZmZmZmZmZmZmZmZmZmZmZmZmZmZmZmZmZmZmZmZmZmZmZmZmZmZmZmZmZmZmZmZmZmZmZmZmZmZmZmZmZmZmZmZmZmZmZmZmZmZmZmZmZmZmZmZmZmZmZmZmZmZmZmZmZmZmZmZmZmZmZmZmZmZmZmZmZmZmZmZmZmZmZmZmZmZmZmZmZmZmZmZmZmZmZmZmZmZmZmZmZmZmZmZmZmZmZmZmZmZmZmZmZmZmZmZmZmZmZmZmZmZmZmZmZmZmZmZmZmZmZmZmZmZmZmZmZmZmZmZmZmZmZmZmZmZmZmZmZmZmZmZmZmZmZmZmZmZmZmZmZmZmZmZmZmZmZmZmZmZmZmZmZmZmZmZmZmZmZmZmZmZmZmZmZmZmZmZmZmZmZmZmZmZmZmZmZmZmZmZmZmZmZmZmZmZmZmZmZmZmZmZmZmZmZmZmZmZmZmZmZmZmZmZmZmZmZmZmZmZmZmZmZmZmZmZmZmZmZmZmZmZmZmZmZmZmZmZmZmZmZmZmZmZmZmZmZmZmZmZmZmZmZmZmZmZmZmZmZmZmZmZmZmZmZmZmZmZmZmZmZmZmZmZmZmZmZmZmZmZmZmZmZmZmZmZmZmZmZmZmZmZmZmZmZmZmZmZmZmZmZmZmZmZmZmZmZmZmZmZmZmZmZmZmZmZmZmZmZmZmZmZmZmZmZmZmZmZmZmZmZmZmZmZmZmZmZmZmZmZmZmZmZmZmZmZmZmZmZmZmZmZmZmZmZmZmZmZmZmZmZmZmZmZmZmZmZmZmZmZmZmZmZmZmZmZmZmZmZmZmZmZmZmZmZmZmZmZmZmZmZmZmZmZmZmZmZmZmZmZmZmZmZmZmZmZmZmZmZmZmZmZmZmZmZmZmZmZmZmZmZmZmZmZmZmZmZmZmZmZmZmZmZmZmZmZmZmZmZmZmZmZmZmZmZmZmZmZmZmZmZmZmZmZmZmZmZmZmZmZmZmZmZmZmZmZmZmZmZmZmZmZmZmZmZmZmZmZmZmZmZmZmZmZmZmZmZmZmZmZmZmZmZmZmZmZmZmZmZmZmZmZmZmZmZmZmZmZmZmZmZmZmZmZmZmZmZmZmZmZmZmZmZmZmZmZmZmZmZmZmZmZmZmZmZmZmZmZmZmZmZmZmZmZmZmZmZmZmZmZmZmZmZmZmZmZmZmZmZmZmZmZmZmZmZmZmZmZmZmZmZmZmZmZmZmZmZmZmZmZmZmZmZmZmZmZmZmZmZmZmZmZmZmZmZmZmZmZmZmZmZmZmZmZmZmZmZmZmZmZmZmZmZmZmZmZmZmZmZmZmZmZmZmZmZmZmZmZmZmZmZmZmZmZmZmZmZmZmZmZmZmZmZmZmZmZmZmZmZmZmZmZmZmZmZmZmZmZmZmZmZmZmZmZmZmZmZmZmZmZmZmZmZmZmZmZmZmZmZmZmZmZmZmZmZmZmZmZmZmZmZmZmZmZmZmZmZmZmZmZmZmZmZmZmZmZmZmZmZmZmZmZmZmZmZmZmZmZmZmZmZmZmZmZmZmZmZmZmZmZmZmZmZmZmZmZmZmZmZmZmZmZmZmZmZmZmZmZmZmZmZmZmZmZmZmZmZmZmZmZmZmZmZmZmZmZmZmZmZmZmZmZmZmZmZmZmZmZmZmZmZmZmZmZmZmZmZmZmZmZmZmZmZmZmZmZmZmZmZmZmZmZmZmZmZmZmZmZmZmZmZmZmZmZmZmZmZmZmZmZmZmZmZmZmZmZmZmZmZmZmZmZmZmZmZmZmZmZmZmZmZmZmZmZmZmZmZmZmZmZmZmZmZmZmZmZmZmZmZmZmZmZmZmZmZmZmZmZmZmZmZmZmZmZmZmZmZmZmZmZmZmZmZmZmZmZmZmZmZmZmZmZmZmZmZmZmZmZmZmZmZmZmZmZmZmZmZmZmZmZmZmZmZmZmZmZmZmZmZmZmZmZmZmZmZmZmZmZmZmZmZmZmZmZmZmZmZmZmZmZmZmZmZmZmZmZmZmZmZmZmZmZmZmZmZmZmZmZmZmZmZmZmZmZmZmZmZmZmZmZmZmZmZmZmZmZmZmZmZmZmZmZmZmZmZmZmZmZmZmZmZmZmZmZmZmZmZmZmZmZmZmZmZmZmZmZmZmZmZmZmZmZmZmZmZmZmZmZmZmZmZmZmZmZmZmZmZmZmZmZmZmZmZmZmZmZmZmZmZmZmZmZmZmZmZmZmZmZmZmZmZmZmZmZmZmZmZmZmZmZmZmZmZmZmZmZmZmZmZmZmZmZmZmZmZmZmZmZmZmZmZmZmZmZmZmZmZmZmZmZmZmZmZmZmZmZmZmZmZmZmZmZmZmZmZmZmZmZmZmZmZmZmZmZmZmZmZmZmZmZmZmZmZmZmZmZmZmZmZmZmZmZmZmZmZmZmZmZmZmZmZmZmZmZmZmZmZmZmZmZmZmZmZmZmZmZmZmZmZmZmZmZmZmZmZmZmZmZmZmZmZmZmZmZmZmZmZmZmZmZmZmZmZmZmZmZmZmZmZmZmZmZmZmZmZmZmZmZmZmZmZmZmZmZmZmZmZmZmZmZmZmZmZmZmZmZmZmZmZmZmZmZmZmZmZmZmZmZmZmZmZmZmZmZmZmZmZmZmZmZmZmZmZmZmZmZmZmZmZmZmZmZmZmZmZmZmZmZmZmZmZmZmZmZmZmZmZmZmZmZmZmZmZmZmZmZmZmZmZmZmZmZmZmZmZmZmZmZmZmZmZmZmZmZmZmZmZmZmZmZmZmZmZmZmZmZmZmZmZmZmZmZmZmZmZmZmZmZmZmZmZmZmZmZmZmZmZmZmZmZmZmZmZmZmZmZmZmZmZmZmZmZmZmZmZmZmZmZmZmZmZmZmZmZmZmZmZmZmZmZmZmZmZmZmZmZmZmZmZmZmZmZmZmZmZmZmZmZmZmZmZmZmZmZmZmZmZmZmZmZmZmZmZmZmZmZmZmZmZmZmZmZmZmZmZmZmZmZmZmZmZmZmZmZmZmZmZmZmZmZmZmZmZmZmZmZmZmZmZmZmZmZmZmZmZmZmZmZmZmZmZmZmZmZmZmZmZmZmZmZmZmZmZmZmZmZmZmZmZmZmZmZmZmZmZmZmZmZmZmZmZmZmZmZmZmZmZmZmZmZmZmZmZmZmZmZmZmZmZmZmZmZmZmZmZmZmZmZmZmZmZmZmZmZmZmZmZmZmZmZmZmZmZmZmZmZmZmZmZmZmZmZmZmZmZmZmZmZmZmZmZmZmZmZmZmZmZmZmZmZmZmZmZmZmZmZmZmZmZmZmZmZmZmZmZmZmZmZmZmZmZmZmZmZmZmZmZmZmZmZmZmZmZmZmZmZmZmZmZmZmZmZmZmZmZmZmZmZmZmZmZmZmZmZmZmZmZmZmZmZmZmZmZmZmZmZmZmZmZmZmZmZmZmZmZmZmZmZmZmZmZmZmZmZmZmZmZmZmZmZmZmZmZmZmZmZmZmZmZmZmZmZmZmZmZmZmZmZmZmZmZmZmZmZmZmZmZmZmZmZmZmZmZmZmZmZmZmZmZmZmZmZmZmZmZmZmZmZmZmZmZmZmZmZmZmZmZmZmZmZmZmZmZmZmZmZmZmZmZmZmZmZmZmZmZmZmZmZmZmZmZmZmZmZmZmZmZmZmZmZmZmZmZmZmZmZmZmZmZmZmZmZmZmZmZmZmZmZmZmZmZmZmZmZmZmZmZmZmZmZmZmZmZmZmZmZmZmZmZmZmZmZmZmZmZmZmZmZmZmZmZmZmZmZmZmZmZmZmZmZmZmZmZmZmZmZmZmZmZmZmZmZmZmZmZmZmZmZmZmZmZmZmZmZmZmZmZmZmZmZmZmZmZmZmZmZmZmZmZmZmZmZmZmZmZmZmZmZmZmZmZmZmZmZmZmZmZmZmZmZmZmZmZmZmZmZmZmZmZmZmZmZmZmZmZmZmZmZmZmZmZmZmZmZmZmZmZmZmZmZmZmZmZmZmZmZmZmZmZmZmZmZmZmZmZmZmZmZmZmZmZmZmZmZmZmZmZmZmZmZmZmZmZmZmZmZmZmZmZmZmZmZmZmZmZmZmZmZmZmZmZmZmZmZmZmZmZmZmZmZmZmZmZmZmZmZmZmZmZmZmZmZmZmZmZmZmZmZmZmZmZmZmZmZmZmZmZmZmZmZmZmZmZmZmZmZmZmZmZmZmZmZmZmZmZmZmZmZmZmZmZmZmZmZmZmZmZmZmZmZmZmZmZmZmZmZmZmZmZmZmZmZmZmZmZmZmZmZmZmZmZmZmZmZmZmZmZmZmZmZmZmZmZmZmZmZmZmZmZmZmZmZmZmZmZmZmZmZmZmZmZmZmZmZmZmZmZmZmZmZmZmZmZmZmZmZmZmZmZmZmZmZmZmZmZmZmZmZmZmZmZmZmZmZmZmZmZmZmZmZmZmZmZmZmZmZmZmZmZmZmZmZmZmZmZmZmZmZmZmZmZmZmZmZmZmZmZmZmZmZmZmZmZmZmZmZmZmZmZmZmZmZmZmZmZmZmZmZmZmZmZmZmZmZmZmZmZmZmZmZmZmZmZmZmZmZmZmZmZmZmZmZmZmZmZmZmZmZmZmZmZmZmZmZmZmZmZmZmZmZmZmZmZmZmZmZmZmZmZmZmZmZmZmZmZmZmZmZmZmZmZmZmZmZmZmZmZmZmZmZmZmZmZmZmZmZmZmZmZmZmZmZmZmZmZmZmZmZmZmZmZmZmZmZmZmZmZmZmZmZmZmZmZmZmZmZmZmZmZmZmZmZmZmZmZmZmZmZmZmZmZmZmZmZmZmZmZmZmZmZmZmZmZmZmZmZmZmZmZmZmZmZmZmZmZmZmZmZmZmZmZmZmZmZmZmZmZmZmZmZmZmZmZmZmZmZmZmZmZmZmZmZmZmZmZmZmZmZmZmZmZmZmZmZmZmZmZmZmZmZmZmZmZmZmZmZmZmZmZmZmZmZmZmZmZmZmZmZmZmZmZmZmZmZmZmZmZmZmZmZmZmZmZmZmZmZmZmZmZmZmZmZmZmZmZmZmZmZmZmZmZmZmZmZmZmZmZmZmZmZmZmZmZmZmZmZmZmZmZmZmZmZmZmZmZmZmZmZmZmZmZmZmZmZmZmZmZmZmZmZmZmZmZmZmZmZmZmZmZmZmZmZmZmZmZmZmZmZmZmZmZmZmZmZmZmZmZmZmZmZmZmZmZmZmZmZmZmZmZmZmZmZmZmZmZmZmZmZmZmZmZmZmZmZmZmZmZmZmZmZmZmZmZmZmZmZmZmZmZmZmZmZmZmZmZmZmZmZmZmZmZmZmZmZmZmZmZmZmZmZmZmZmZmZmZmZmZmZmZmZmZmZmZmZmZmZmZmZmZmZmZmZmZmZmZmZmZmZmZmZmZmZmZmZmZmZmZmZmZmZmZmZmZmZmZmZmZmZmZmZmZmZmZmZmZmZmZmZmZmZmZmZmZmZmZmZmZmZmZmZmZmZmZmZmZmZmZmZmZmZmZmZmZmZmZmZmZmZmZmZmZmZmZmZmZmZmZmZmZmZmZmZmZmZmZmZmZmZmZmZmZmZmZmZmZmZmZmZmZmZmZmZmZmZmZmZmZmZmZmZmZmZmZmZmZmZmZmZmZmZmZmZmZmZmZmZmZmZmZmZmZmZmZmZmZmZmZmZmZmZmZmZmZmZmZmZmZmZmZmZmZmZmZmZmZmZmZmZmZmZmZmZmZmZmZmZmZmZmZmZmZmZmZmZmZmZmZmZmZmZmZmZmZmZmZmZmZmZmZmZmZmZmZmZmZmZmZmZmZmZmZmZmZmZmZmZmZmZmZmZmZmZmZmZmZmZmZmZmZmZmZmZmZmZmZmZmZmZmZmZmZmZmZmZmZmZmZmZmZmZmZmZmZmZmZmZmZmZmZmZmZmZmZmZmZmZmZmZmZmZmZmZmZmZmZmZmZmZmZmZmZmZmZmZmZmZmZmZmZmZmZmZmZmZmZmZmZmZmZmZmZmZmZmZmZmZmZmZmZmZmZmZmZmZmZmZmZmZmZmZmZmZmZmZmZmZmZmZmZmZmZmZmZmZmZmZmZmZmZmZmZmZmZmZmZmZmZmZmZmZmZmZmZmZmZmZmZmZmZm",
          "dtype": "u1",
          "shape": "2461, 3"
         },
         "i": {
          "bdata": "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",
          "dtype": "i2"
         },
         "j": {
          "bdata": "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",
          "dtype": "i2"
         },
         "k": {
          "bdata": "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",
          "dtype": "i2"
         },
         "opacity": 0.5,
         "type": "mesh3d",
         "x": {
          "bdata": "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",
          "dtype": "f8"
         },
         "y": {
          "bdata": "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",
          "dtype": "f8"
         },
         "z": {
          "bdata": "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",
          "dtype": "f8"
         }
        },
        {
         "marker": {
          "color": "red",
          "opacity": 1,
          "size": 2
         },
         "mode": "markers",
         "name": "Vertices",
         "type": "scatter3d",
         "x": {
          "bdata": "+u5WlugcJ8BjC0EOSngmwOgTeZJ0LSXA",
          "dtype": "f8"
         },
         "y": {
          "bdata": "KNcUyOw4NEDFy9O5otwzQEKVmj3QejNA",
          "dtype": "f8"
         },
         "z": {
          "bdata": "FjCBW3drPMDaqE4Hsqo6wBwLCoMyETnA",
          "dtype": "f8"
         }
        }
       ],
       "layout": {
        "height": 800,
        "scene": {
         "aspectmode": "data"
        },
        "showlegend": false,
        "template": {
         "data": {
          "bar": [
           {
            "error_x": {
             "color": "#2a3f5f"
            },
            "error_y": {
             "color": "#2a3f5f"
            },
            "marker": {
             "line": {
              "color": "#E5ECF6",
              "width": 0.5
             },
             "pattern": {
              "fillmode": "overlay",
              "size": 10,
              "solidity": 0.2
             }
            },
            "type": "bar"
           }
          ],
          "barpolar": [
           {
            "marker": {
             "line": {
              "color": "#E5ECF6",
              "width": 0.5
             },
             "pattern": {
              "fillmode": "overlay",
              "size": 10,
              "solidity": 0.2
             }
            },
            "type": "barpolar"
           }
          ],
          "carpet": [
           {
            "aaxis": {
             "endlinecolor": "#2a3f5f",
             "gridcolor": "white",
             "linecolor": "white",
             "minorgridcolor": "white",
             "startlinecolor": "#2a3f5f"
            },
            "baxis": {
             "endlinecolor": "#2a3f5f",
             "gridcolor": "white",
             "linecolor": "white",
             "minorgridcolor": "white",
             "startlinecolor": "#2a3f5f"
            },
            "type": "carpet"
           }
          ],
          "choropleth": [
           {
            "colorbar": {
             "outlinewidth": 0,
             "ticks": ""
            },
            "type": "choropleth"
           }
          ],
          "contour": [
           {
            "colorbar": {
             "outlinewidth": 0,
             "ticks": ""
            },
            "colorscale": [
             [
              0,
              "#0d0887"
             ],
             [
              0.1111111111111111,
              "#46039f"
             ],
             [
              0.2222222222222222,
              "#7201a8"
             ],
             [
              0.3333333333333333,
              "#9c179e"
             ],
             [
              0.4444444444444444,
              "#bd3786"
             ],
             [
              0.5555555555555556,
              "#d8576b"
             ],
             [
              0.6666666666666666,
              "#ed7953"
             ],
             [
              0.7777777777777778,
              "#fb9f3a"
             ],
             [
              0.8888888888888888,
              "#fdca26"
             ],
             [
              1,
              "#f0f921"
             ]
            ],
            "type": "contour"
           }
          ],
          "contourcarpet": [
           {
            "colorbar": {
             "outlinewidth": 0,
             "ticks": ""
            },
            "type": "contourcarpet"
           }
          ],
          "heatmap": [
           {
            "colorbar": {
             "outlinewidth": 0,
             "ticks": ""
            },
            "colorscale": [
             [
              0,
              "#0d0887"
             ],
             [
              0.1111111111111111,
              "#46039f"
             ],
             [
              0.2222222222222222,
              "#7201a8"
             ],
             [
              0.3333333333333333,
              "#9c179e"
             ],
             [
              0.4444444444444444,
              "#bd3786"
             ],
             [
              0.5555555555555556,
              "#d8576b"
             ],
             [
              0.6666666666666666,
              "#ed7953"
             ],
             [
              0.7777777777777778,
              "#fb9f3a"
             ],
             [
              0.8888888888888888,
              "#fdca26"
             ],
             [
              1,
              "#f0f921"
             ]
            ],
            "type": "heatmap"
           }
          ],
          "histogram": [
           {
            "marker": {
             "pattern": {
              "fillmode": "overlay",
              "size": 10,
              "solidity": 0.2
             }
            },
            "type": "histogram"
           }
          ],
          "histogram2d": [
           {
            "colorbar": {
             "outlinewidth": 0,
             "ticks": ""
            },
            "colorscale": [
             [
              0,
              "#0d0887"
             ],
             [
              0.1111111111111111,
              "#46039f"
             ],
             [
              0.2222222222222222,
              "#7201a8"
             ],
             [
              0.3333333333333333,
              "#9c179e"
             ],
             [
              0.4444444444444444,
              "#bd3786"
             ],
             [
              0.5555555555555556,
              "#d8576b"
             ],
             [
              0.6666666666666666,
              "#ed7953"
             ],
             [
              0.7777777777777778,
              "#fb9f3a"
             ],
             [
              0.8888888888888888,
              "#fdca26"
             ],
             [
              1,
              "#f0f921"
             ]
            ],
            "type": "histogram2d"
           }
          ],
          "histogram2dcontour": [
           {
            "colorbar": {
             "outlinewidth": 0,
             "ticks": ""
            },
            "colorscale": [
             [
              0,
              "#0d0887"
             ],
             [
              0.1111111111111111,
              "#46039f"
             ],
             [
              0.2222222222222222,
              "#7201a8"
             ],
             [
              0.3333333333333333,
              "#9c179e"
             ],
             [
              0.4444444444444444,
              "#bd3786"
             ],
             [
              0.5555555555555556,
              "#d8576b"
             ],
             [
              0.6666666666666666,
              "#ed7953"
             ],
             [
              0.7777777777777778,
              "#fb9f3a"
             ],
             [
              0.8888888888888888,
              "#fdca26"
             ],
             [
              1,
              "#f0f921"
             ]
            ],
            "type": "histogram2dcontour"
           }
          ],
          "mesh3d": [
           {
            "colorbar": {
             "outlinewidth": 0,
             "ticks": ""
            },
            "type": "mesh3d"
           }
          ],
          "parcoords": [
           {
            "line": {
             "colorbar": {
              "outlinewidth": 0,
              "ticks": ""
             }
            },
            "type": "parcoords"
           }
          ],
          "pie": [
           {
            "automargin": true,
            "type": "pie"
           }
          ],
          "scatter": [
           {
            "fillpattern": {
             "fillmode": "overlay",
             "size": 10,
             "solidity": 0.2
            },
            "type": "scatter"
           }
          ],
          "scatter3d": [
           {
            "line": {
             "colorbar": {
              "outlinewidth": 0,
              "ticks": ""
             }
            },
            "marker": {
             "colorbar": {
              "outlinewidth": 0,
              "ticks": ""
             }
            },
            "type": "scatter3d"
           }
          ],
          "scattercarpet": [
           {
            "marker": {
             "colorbar": {
              "outlinewidth": 0,
              "ticks": ""
             }
            },
            "type": "scattercarpet"
           }
          ],
          "scattergeo": [
           {
            "marker": {
             "colorbar": {
              "outlinewidth": 0,
              "ticks": ""
             }
            },
            "type": "scattergeo"
           }
          ],
          "scattergl": [
           {
            "marker": {
             "colorbar": {
              "outlinewidth": 0,
              "ticks": ""
             }
            },
            "type": "scattergl"
           }
          ],
          "scattermap": [
           {
            "marker": {
             "colorbar": {
              "outlinewidth": 0,
              "ticks": ""
             }
            },
            "type": "scattermap"
           }
          ],
          "scattermapbox": [
           {
            "marker": {
             "colorbar": {
              "outlinewidth": 0,
              "ticks": ""
             }
            },
            "type": "scattermapbox"
           }
          ],
          "scatterpolar": [
           {
            "marker": {
             "colorbar": {
              "outlinewidth": 0,
              "ticks": ""
             }
            },
            "type": "scatterpolar"
           }
          ],
          "scatterpolargl": [
           {
            "marker": {
             "colorbar": {
              "outlinewidth": 0,
              "ticks": ""
             }
            },
            "type": "scatterpolargl"
           }
          ],
          "scatterternary": [
           {
            "marker": {
             "colorbar": {
              "outlinewidth": 0,
              "ticks": ""
             }
            },
            "type": "scatterternary"
           }
          ],
          "surface": [
           {
            "colorbar": {
             "outlinewidth": 0,
             "ticks": ""
            },
            "colorscale": [
             [
              0,
              "#0d0887"
             ],
             [
              0.1111111111111111,
              "#46039f"
             ],
             [
              0.2222222222222222,
              "#7201a8"
             ],
             [
              0.3333333333333333,
              "#9c179e"
             ],
             [
              0.4444444444444444,
              "#bd3786"
             ],
             [
              0.5555555555555556,
              "#d8576b"
             ],
             [
              0.6666666666666666,
              "#ed7953"
             ],
             [
              0.7777777777777778,
              "#fb9f3a"
             ],
             [
              0.8888888888888888,
              "#fdca26"
             ],
             [
              1,
              "#f0f921"
             ]
            ],
            "type": "surface"
           }
          ],
          "table": [
           {
            "cells": {
             "fill": {
              "color": "#EBF0F8"
             },
             "line": {
              "color": "white"
             }
            },
            "header": {
             "fill": {
              "color": "#C8D4E3"
             },
             "line": {
              "color": "white"
             }
            },
            "type": "table"
           }
          ]
         },
         "layout": {
          "annotationdefaults": {
           "arrowcolor": "#2a3f5f",
           "arrowhead": 0,
           "arrowwidth": 1
          },
          "autotypenumbers": "strict",
          "coloraxis": {
           "colorbar": {
            "outlinewidth": 0,
            "ticks": ""
           }
          },
          "colorscale": {
           "diverging": [
            [
             0,
             "#8e0152"
            ],
            [
             0.1,
             "#c51b7d"
            ],
            [
             0.2,
             "#de77ae"
            ],
            [
             0.3,
             "#f1b6da"
            ],
            [
             0.4,
             "#fde0ef"
            ],
            [
             0.5,
             "#f7f7f7"
            ],
            [
             0.6,
             "#e6f5d0"
            ],
            [
             0.7,
             "#b8e186"
            ],
            [
             0.8,
             "#7fbc41"
            ],
            [
             0.9,
             "#4d9221"
            ],
            [
             1,
             "#276419"
            ]
           ],
           "sequential": [
            [
             0,
             "#0d0887"
            ],
            [
             0.1111111111111111,
             "#46039f"
            ],
            [
             0.2222222222222222,
             "#7201a8"
            ],
            [
             0.3333333333333333,
             "#9c179e"
            ],
            [
             0.4444444444444444,
             "#bd3786"
            ],
            [
             0.5555555555555556,
             "#d8576b"
            ],
            [
             0.6666666666666666,
             "#ed7953"
            ],
            [
             0.7777777777777778,
             "#fb9f3a"
            ],
            [
             0.8888888888888888,
             "#fdca26"
            ],
            [
             1,
             "#f0f921"
            ]
           ],
           "sequentialminus": [
            [
             0,
             "#0d0887"
            ],
            [
             0.1111111111111111,
             "#46039f"
            ],
            [
             0.2222222222222222,
             "#7201a8"
            ],
            [
             0.3333333333333333,
             "#9c179e"
            ],
            [
             0.4444444444444444,
             "#bd3786"
            ],
            [
             0.5555555555555556,
             "#d8576b"
            ],
            [
             0.6666666666666666,
             "#ed7953"
            ],
            [
             0.7777777777777778,
             "#fb9f3a"
            ],
            [
             0.8888888888888888,
             "#fdca26"
            ],
            [
             1,
             "#f0f921"
            ]
           ]
          },
          "colorway": [
           "#636efa",
           "#EF553B",
           "#00cc96",
           "#ab63fa",
           "#FFA15A",
           "#19d3f3",
           "#FF6692",
           "#B6E880",
           "#FF97FF",
           "#FECB52"
          ],
          "font": {
           "color": "#2a3f5f"
          },
          "geo": {
           "bgcolor": "white",
           "lakecolor": "white",
           "landcolor": "#E5ECF6",
           "showlakes": true,
           "showland": true,
           "subunitcolor": "white"
          },
          "hoverlabel": {
           "align": "left"
          },
          "hovermode": "closest",
          "mapbox": {
           "style": "light"
          },
          "paper_bgcolor": "white",
          "plot_bgcolor": "#E5ECF6",
          "polar": {
           "angularaxis": {
            "gridcolor": "white",
            "linecolor": "white",
            "ticks": ""
           },
           "bgcolor": "#E5ECF6",
           "radialaxis": {
            "gridcolor": "white",
            "linecolor": "white",
            "ticks": ""
           }
          },
          "scene": {
           "xaxis": {
            "backgroundcolor": "#E5ECF6",
            "gridcolor": "white",
            "gridwidth": 2,
            "linecolor": "white",
            "showbackground": true,
            "ticks": "",
            "zerolinecolor": "white"
           },
           "yaxis": {
            "backgroundcolor": "#E5ECF6",
            "gridcolor": "white",
            "gridwidth": 2,
            "linecolor": "white",
            "showbackground": true,
            "ticks": "",
            "zerolinecolor": "white"
           },
           "zaxis": {
            "backgroundcolor": "#E5ECF6",
            "gridcolor": "white",
            "gridwidth": 2,
            "linecolor": "white",
            "showbackground": true,
            "ticks": "",
            "zerolinecolor": "white"
           }
          },
          "shapedefaults": {
           "line": {
            "color": "#2a3f5f"
           }
          },
          "ternary": {
           "aaxis": {
            "gridcolor": "white",
            "linecolor": "white",
            "ticks": ""
           },
           "baxis": {
            "gridcolor": "white",
            "linecolor": "white",
            "ticks": ""
           },
           "bgcolor": "#E5ECF6",
           "caxis": {
            "gridcolor": "white",
            "linecolor": "white",
            "ticks": ""
           }
          },
          "title": {
           "x": 0.05
          },
          "xaxis": {
           "automargin": true,
           "gridcolor": "white",
           "linecolor": "white",
           "ticks": "",
           "title": {
            "standoff": 15
           },
           "zerolinecolor": "white",
           "zerolinewidth": 2
          },
          "yaxis": {
           "automargin": true,
           "gridcolor": "white",
           "linecolor": "white",
           "ticks": "",
           "title": {
            "standoff": 15
           },
           "zerolinecolor": "white",
           "zerolinewidth": 2
          }
         }
        },
        "width": 800
       }
      }
     },
     "metadata": {},
     "output_type": "display_data"
    }
   ],
   "source": [
    "fig = visualize_meshes_plotly(\n",
    "    panel_dict[\"panel_mesh\"],\n",
    "    vertices_list=[\n",
    "        # panel_dict[\"panel_mesh\"].vertices[panel_dict[\"panel_boundary_vertices\"]]\n",
    "        panel_dict[\"panel_mesh\"].vertices[:3]\n",
    "        \n",
    "    ],\n",
    "    vertices_color_list=[\"red\"],\n",
    "    show_edges=False,\n",
    "    show=False\n",
    ")\n",
    "fig.show()"
   ]
  },
  {
   "cell_type": "code",
   "execution_count": null,
   "metadata": {},
   "outputs": [],
   "source": []
  },
  {
   "cell_type": "code",
   "execution_count": null,
   "metadata": {},
   "outputs": [],
   "source": []
  },
  {
   "cell_type": "code",
   "execution_count": null,
   "metadata": {},
   "outputs": [],
   "source": []
  },
  {
   "cell_type": "code",
   "execution_count": 49,
   "metadata": {},
   "outputs": [],
   "source": [
    "\n",
    "# IDX = 1551\n",
    "\n",
    "# IDX = random.randint(0, len(filtered_combination_path_list) - 1)\n",
    "# combination_path = filtered_combination_path_list[IDX]\n",
    "\n",
    "# print(\"IDX :\", IDX)\n",
    "# print(\"combination_path :\", combination_path)\n",
    "\n",
    "# spec_config_path = os.path.join(combination_path, \"static\", \"spec_config.json\")\n",
    "# with open(spec_config_path, \"r\") as f:\n",
    "#     spec_config = json.load(f)\n",
    "\n",
    "# garment_name_list = list(map(\n",
    "#     lambda x : os.path.basename(x[\"spec\"].replace(\"\\\\\", \"/\")),\n",
    "#     spec_config.values()\n",
    "# ))\n",
    "\n",
    "\n",
    "\n",
    "# with open(os.path.join(combination_path, \"static\", \"static__body_info.json\"), \"r\") as f:\n",
    "#     static_body_data = json.load(f)\n",
    "#     betas = torch.tensor(static_body_data['shape'], dtype=torch.float32).unsqueeze(0)\n",
    "#     pose = torch.tensor(\n",
    "#         np.deg2rad(static_body_data['pose']),\n",
    "#         dtype=torch.float32\n",
    "#     ).unsqueeze(0)  # Shape: (1, 52, 3)\n",
    "#     transl = torch.tensor(static_body_data['trans'], dtype=torch.float32).unsqueeze(0)\n",
    "\n",
    "#     body_pose = pose[0, 1:22].reshape(1, -1)  # Body joints (excluding global orientation)\n",
    "#     left_hand_pose = pose[0, 22:37].reshape(1, -1)  # Left hand joints\n",
    "#     right_hand_pose = pose[0, 37:52].reshape(1, -1)  # Right hand joints\n",
    "#     global_orient = pose[0, 0].unsqueeze(0)  # Global orientation\n",
    "\n",
    "#     # Get body mesh\n",
    "#     output = model(\n",
    "#         betas=betas,\n",
    "#         body_pose=body_pose,\n",
    "#         global_orient=global_orient,\n",
    "#         left_hand_pose=left_hand_pose,\n",
    "#         right_hand_pose=right_hand_pose,\n",
    "#         # transl=transl\n",
    "#     )\n",
    "#     vertices = output.vertices.detach().numpy()[0]\n",
    "#     faces = model.faces\n",
    "\n",
    "#     # SCALE = 2 * transl.numpy()[0, 1] / (vertices[:, 1].max() - vertices[:, 1].min())\n",
    "#     SCALE = 100\n",
    "#     Z_OFFSET = -3\n",
    "#     Y_OFFSET = 21\n",
    "\n",
    "#     static_body_mesh = trimesh.Trimesh(vertices=vertices, faces=faces)\n",
    "#     static_body_mesh.apply_scale(SCALE)\n",
    "\n",
    "#     static_body_mesh.vertices += transl.numpy()\n",
    "#     # static_body_mesh.vertices[:, 1] -= static_body_mesh.vertices[:, 1].min()\n",
    "#     static_body_mesh.vertices[:, 2] += Z_OFFSET\n",
    "#     static_body_mesh.vertices[:, 1] += Y_OFFSET\n",
    "\n",
    "# mesh_dict = {}\n",
    "# garment_dict = {}\n",
    "# for garment_name in garment_name_list :\n",
    "#     spec_file_path = os.path.join(\n",
    "#         combination_path, \"static\", f\"{garment_name}_specification.json\"\n",
    "#     )\n",
    "#     pattern = pyg.pattern.wrappers.VisPattern(spec_file_path)\n",
    "#     drawn_pattern_list = list(map(\n",
    "#         lambda pannel_name : pattern._draw_a_panel(\n",
    "#             pannel_name, apply_transform=False, fill=True\n",
    "#         ),\n",
    "#         pattern.panel_order()\n",
    "#     ))\n",
    "#     panel_svg_path_dict = {\n",
    "#         panel_name : pattern._draw_a_panel(\n",
    "#             panel_name, apply_transform=False, fill=True\n",
    "#         )\n",
    "#         for panel_name in pattern.panel_order()\n",
    "#     }\n",
    "\n",
    "#     stitch_dict = {\n",
    "#         i : v for i, v in enumerate(pattern.pattern['stitches'])\n",
    "#     }\n",
    "    \n",
    "#     mesh = trimesh.load_mesh(os.path.join(\n",
    "#         combination_path, \"static\", f\"{garment_name}_{garment_name}.obj\",\n",
    "#     ), process=False)\n",
    "\n",
    "#     neighbor_idx_list = mesh.vertex_neighbors\n",
    "    \n",
    "#     with open(\n",
    "#         os.path.join(\n",
    "#             # combination_path, \"static\", f\"{garment_name}_{garment_name}_segmentation_filtered.txt\"\n",
    "#             combination_path, \"static\", f\"{garment_name}_{garment_name}_segmentation.txt\"\n",
    "#         ),\n",
    "#         \"r\"\n",
    "#     ) as f:\n",
    "#         mesh_segmentation_list = list(map(\n",
    "#             lambda x : x.strip(),\n",
    "#             f.readlines()\n",
    "#         ))\n",
    "#         vertex_mask_dict = {}\n",
    "#         for panel_name in panel_svg_path_dict.keys() :\n",
    "#             vertex_mask_dict[panel_name] = np.array(list(map(\n",
    "#                 lambda x : x == panel_name,\n",
    "#                 mesh_segmentation_list\n",
    "#             )))\n",
    "#         vertex_mask_dict[\"stitch\"] = np.array(list(map(\n",
    "#             lambda x : x == \"stitch\",\n",
    "#             mesh_segmentation_list\n",
    "#         )))\n",
    "#         vertex_mask_dict[\"None\"] = np.array(list(map(\n",
    "#             lambda x : x == \"None\",\n",
    "#             mesh_segmentation_list\n",
    "#         )))\n",
    "\n",
    "#     fig = visualize_meshes_plotly(\n",
    "#         [mesh],\n",
    "#         show_edges=False,\n",
    "#         # vertices_list = list(map(\n",
    "#         #     lambda x : mesh.vertices[\n",
    "#         #         x\n",
    "#         #     ],\n",
    "#         #     vertex_mask_dict.values()\n",
    "#         # ))[:1],\n",
    "#         # color_list = [\"red\", \"blue\", \"green\", \"yellow\", \"white\", \"orange\", \"purple\", \"pink\", \"brown\", \"gray\", \"black\", \"white\"],\n",
    "        \n",
    "#         vertices_list = [\n",
    "#             mesh.vertices[vertex_mask_dict[\"stitch\"]],\n",
    "#             mesh.vertices[vertex_mask_dict[\"None\"]],\n",
    "#         ],\n",
    "#         vertices_color_list = [\"red\", \"blue\"],\n",
    "#         show=False\n",
    "#     )\n",
    "#     fig.show()\n",
    "\n",
    "#     (\n",
    "#         panel_mesh_list, panel_segmentation_list,\n",
    "#         garment_to_panel_idx_map_list, panel_to_garment_idx_map_list\n",
    "#     ) = disassemble_mesh_to_panels(mesh, mesh_segmentation_list)\n",
    "    \n",
    "#     panel_dict = {}\n",
    "#     for (\n",
    "#         panel_mesh, panel_segmentation_list, \n",
    "#         garment_to_panel_idx_map, panel_to_garment_idx_map\n",
    "#     )in zip(\n",
    "#         panel_mesh_list, panel_segmentation_list,\n",
    "#         garment_to_panel_idx_map_list, panel_to_garment_idx_map_list\n",
    "#     ) :\n",
    "#         panel_vertex_mask_dict = {}\n",
    "#         for panel_name in panel_svg_path_dict.keys() :\n",
    "#             panel_vertex_mask_dict[panel_name] = np.array(list(map(\n",
    "#                 lambda x : x == panel_name,\n",
    "#                 panel_segmentation_list\n",
    "#             )))\n",
    "#         panel_vertex_mask_dict[\"stitch\"] = np.array(list(map(\n",
    "#             lambda x : x == \"stitch\",\n",
    "#             panel_segmentation_list\n",
    "#         )))\n",
    "#         panel_vertex_mask_dict[\"None\"] = np.array(list(map(\n",
    "#             lambda x : x == \"None\",\n",
    "#             panel_segmentation_list\n",
    "#         )))\n",
    "        \n",
    "#         for panel_name, mask in panel_vertex_mask_dict.items() :\n",
    "#             print(panel_name, mask.sum())\n",
    "        \n",
    "#         fig = visualize_meshes_plotly(\n",
    "#             panel_mesh,\n",
    "#             vertices_list = [\n",
    "#                 panel_mesh.vertices[panel_vertex_mask_dict[\"stitch\"]],\n",
    "#                 panel_mesh.vertices[panel_vertex_mask_dict[\"None\"]],\n",
    "#             ],\n",
    "#             vertices_color_list = [\"red\", \"blue\"],\n",
    "#             show_edges=False,\n",
    "#             show=False\n",
    "#         )\n",
    "#         fig.show()\n",
    "        \n",
    "        \n",
    "#     garment_dict[garment_name] = {\n",
    "#         \"panel_svg_path_dict\" : panel_svg_path_dict,\n",
    "#         \"stitch_dict\" : stitch_dict,\n",
    "#         \"mesh\" : mesh,\n",
    "#         \"panel_mesh_list\" : panel_mesh_list,\n",
    "#         \"panel_segmentation_list\" : panel_segmentation_list,\n",
    "#     }\n",
    "    "
   ]
  },
  {
   "cell_type": "code",
   "execution_count": 21,
   "metadata": {},
   "outputs": [
    {
     "data": {
      "text/plain": [
       "[TrackedArray([[ 71.534477,  79.894379, -30.163786],\n",
       "               [ 72.194023,  80.347786, -32.65115 ],\n",
       "               [ 71.373062,  80.751518, -31.604897],\n",
       "               ...,\n",
       "               [ 67.776794,  21.107845, -33.875992],\n",
       "               [ 67.288666,  20.607347, -34.90855 ],\n",
       "               [ 66.696274,  20.134119, -35.898266]]),\n",
       " TrackedArray([[ 60.822735,  75.276833, -15.802821],\n",
       "               [ 60.283657,  76.008743, -15.494904],\n",
       "               [ 59.928192,  74.232895, -15.20603 ],\n",
       "               ...,\n",
       "               [ 67.23082 ,  60.707123, -34.6385  ],\n",
       "               [ 66.479416,  40.416161, -35.763733],\n",
       "               [ 42.37682 ,  53.735226, -43.135204]]),\n",
       " TrackedArray([[ 32.54216 ,  59.391609, -34.140446],\n",
       "               [ 32.799213,  60.520199, -34.097122],\n",
       "               [ 31.902117,  60.11599 , -34.00824 ],\n",
       "               ...,\n",
       "               [ 66.462044,  69.332375, -18.375847],\n",
       "               [ 67.135773,  72.891144, -18.616676],\n",
       "               [ 60.794945,  72.54361 , -15.765102]]),\n",
       " TrackedArray([[ 75.48851 ,  34.334545, -15.356225],\n",
       "               [ 76.671967,  34.738605, -15.504778],\n",
       "               [ 77.542801,  35.083233, -16.346285],\n",
       "               ...,\n",
       "               [ 58.575603, 100.051102, -38.053989],\n",
       "               [ 59.908611,  99.95005 , -38.000618],\n",
       "               [ 61.222843,  99.963402, -37.701748]])]"
      ]
     },
     "execution_count": 21,
     "metadata": {},
     "output_type": "execute_result"
    }
   ],
   "source": [
    "list(map(\n",
    "    lambda x : mesh.vertices[\n",
    "        x\n",
    "    ],\n",
    "    vertex_mask_dict.values()\n",
    "))\n"
   ]
  },
  {
   "cell_type": "code",
   "execution_count": 27,
   "metadata": {},
   "outputs": [
    {
     "data": {
      "text/plain": [
       "dict_keys(['skirt_back', 'skirt_front', 'top_back', 'top_front'])"
      ]
     },
     "execution_count": 27,
     "metadata": {},
     "output_type": "execute_result"
    }
   ],
   "source": [
    "vertex_mask_dict.keys()"
   ]
  }
 ],
 "metadata": {
  "kernelspec": {
   "display_name": "garment",
   "language": "python",
   "name": "python3"
  },
  "language_info": {
   "codemirror_mode": {
    "name": "ipython",
    "version": 3
   },
   "file_extension": ".py",
   "mimetype": "text/x-python",
   "name": "python",
   "nbconvert_exporter": "python",
   "pygments_lexer": "ipython3",
   "version": "3.10.16"
  }
 },
 "nbformat": 4,
 "nbformat_minor": 2
}
