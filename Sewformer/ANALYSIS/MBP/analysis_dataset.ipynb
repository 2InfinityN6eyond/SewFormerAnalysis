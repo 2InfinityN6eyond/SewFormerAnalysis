{
 "cells": [
  {
   "cell_type": "code",
   "execution_count": 1,
   "metadata": {},
   "outputs": [],
   "source": [
    "import os, sys\n",
    "sys.path.append(os.path.dirname(os.getcwd()))\n",
    "sys.path.append(os.path.dirname(os.path.dirname(os.getcwd())))\n",
    "\n",
    "from glob import glob\n",
    "import math\n",
    "from pprint import pprint\n",
    "import numpy as np\n",
    "import matplotlib.pyplot as plt\n",
    "from PIL import Image\n",
    "import time\n",
    "import json\n",
    "import random\n",
    "import pandas as pd\n",
    "from tqdm import tqdm\n",
    "import trimesh\n",
    "\n",
    "import torch\n",
    "\n",
    "from ANALYSIS.analysis_utils import (\n",
    "    plot_panel_info,\n",
    "    visualize_meshes_plotly,\n",
    "    filter_segmentation_map,\n",
    "    filter_segmentation_map_clusters,\n",
    "    is_clockwise,\n",
    ")\n",
    "\n",
    "from env_constants import SEWFORMER_PROJ_ROOT, DATASET_ROOT, PYGARMENT_ROOT\n",
    "\n",
    "sys.path.append(PYGARMENT_ROOT)\n",
    "\n",
    "import pygarment as pyg"
   ]
  },
  {
   "cell_type": "code",
   "execution_count": 2,
   "metadata": {},
   "outputs": [
    {
     "name": "stderr",
     "output_type": "stream",
     "text": [
      "100%|██████████| 1954/1954 [00:00<00:00, 63318.32it/s]"
     ]
    },
    {
     "name": "stdout",
     "output_type": "stream",
     "text": [
      "No spec_config.json in /Users/hjp/HJP/KUAICV/VTO/DATASET/sewfactory/sewfactory/dress_sleeveless_M827MSUPRJ\n",
      "No spec_config.json in /Users/hjp/HJP/KUAICV/VTO/DATASET/sewfactory/sewfactory/dress_sleeveless_ME7Y3S7MLB\n",
      "No spec_config.json in /Users/hjp/HJP/KUAICV/VTO/DATASET/sewfactory/sewfactory/dress_sleeveless_MG7MML3QGT\n",
      "No spec_config.json in /Users/hjp/HJP/KUAICV/VTO/DATASET/sewfactory/sewfactory/dress_sleeveless_NIJ4SIHR44\n",
      "No spec_config.json in /Users/hjp/HJP/KUAICV/VTO/DATASET/sewfactory/sewfactory/dress_sleeveless_VIXKCSZRM5\n",
      "No spec_config.json in /Users/hjp/HJP/KUAICV/VTO/DATASET/sewfactory/sewfactory/jumpsuit_sleeveless_GR6S0C83IQ\n",
      "No spec_config.json in /Users/hjp/HJP/KUAICV/VTO/DATASET/sewfactory/sewfactory/jumpsuit_sleeveless_KBMBR543B1\n",
      "No spec_config.json in /Users/hjp/HJP/KUAICV/VTO/DATASET/sewfactory/sewfactory/jumpsuit_sleeveless_KM5DJC1GHE\n",
      "No spec_config.json in /Users/hjp/HJP/KUAICV/VTO/DATASET/sewfactory/sewfactory/jumpsuit_sleeveless_LCRSE6412S\n",
      "No spec_config.json in /Users/hjp/HJP/KUAICV/VTO/DATASET/sewfactory/sewfactory/jumpsuit_sleeveless_MB4PAPEQ47\n",
      "No spec_config.json in /Users/hjp/HJP/KUAICV/VTO/DATASET/sewfactory/sewfactory/jumpsuit_sleeveless_WLQGTMUPBR\n",
      "No spec_config.json in /Users/hjp/HJP/KUAICV/VTO/DATASET/sewfactory/sewfactory/jumpsuit_sleeveless_XALLAL6BCZ\n",
      "No spec_config.json in /Users/hjp/HJP/KUAICV/VTO/DATASET/sewfactory/sewfactory/jumpsuit_sleeveless_YNAD2IMNW6\n",
      "No spec_config.json in /Users/hjp/HJP/KUAICV/VTO/DATASET/sewfactory/sewfactory/tee_sleeveless_ILE3DX3CEA_pants_straight_sides_NV1DTVFKXW\n",
      "No spec_config.json in /Users/hjp/HJP/KUAICV/VTO/DATASET/sewfactory/sewfactory/tee_sleeveless_J4YCBJRYX9_skirt_2_panels_6JUQEONAMD\n",
      "No spec_config.json in /Users/hjp/HJP/KUAICV/VTO/DATASET/sewfactory/sewfactory/tee_sleeveless_KFPQ41C0EH_skirt_4_panels_7F901UHMS0\n",
      "No spec_config.json in /Users/hjp/HJP/KUAICV/VTO/DATASET/sewfactory/sewfactory/tee_sleeveless_KPCTATGQEL_pants_straight_sides_NGIP24W526\n",
      "No spec_config.json in /Users/hjp/HJP/KUAICV/VTO/DATASET/sewfactory/sewfactory/tee_sleeveless_KPS602ZGGQ_skirt_4_panels_O3BNBKW8VJ\n",
      "No spec_config.json in /Users/hjp/HJP/KUAICV/VTO/DATASET/sewfactory/sewfactory/tee_sleeveless_LNS3A9GWUB_skirt_2_panels_O9V9JKKQ1Z\n",
      "No spec_config.json in /Users/hjp/HJP/KUAICV/VTO/DATASET/sewfactory/sewfactory/tee_sleeveless_LWJ0VGHHZL_wb_pants_straight_XDZBZT0A3W\n",
      "No spec_config.json in /Users/hjp/HJP/KUAICV/VTO/DATASET/sewfactory/sewfactory/tee_sleeveless_M3OEROEHQ0_pants_straight_sides_XDULCJEVIP\n",
      "No spec_config.json in /Users/hjp/HJP/KUAICV/VTO/DATASET/sewfactory/sewfactory/tee_sleeveless_MSUXA3TQLY_skirt_4_panels_MKDGQ915KA\n",
      "No spec_config.json in /Users/hjp/HJP/KUAICV/VTO/DATASET/sewfactory/sewfactory/tee_sleeveless_NLEOWY7JDC_wb_pants_straight_WL618JLD7F\n",
      "No spec_config.json in /Users/hjp/HJP/KUAICV/VTO/DATASET/sewfactory/sewfactory/tee_sleeveless_O3TRSPC8RB_skirt_4_panels_3MWMDRHKG7\n",
      "No spec_config.json in /Users/hjp/HJP/KUAICV/VTO/DATASET/sewfactory/sewfactory/tee_sleeveless_O5OHMRDEZT_skirt_4_panels_CWFFE7VEHP\n",
      "No spec_config.json in /Users/hjp/HJP/KUAICV/VTO/DATASET/sewfactory/sewfactory/tee_sleeveless_OV6GUFVGKI_skirt_4_panels_QV5CE9RZJG\n",
      "No spec_config.json in /Users/hjp/HJP/KUAICV/VTO/DATASET/sewfactory/sewfactory/tee_sleeveless_OXYBN5LBT2_skirt_4_panels_DQTPA3WS5T\n",
      "No spec_config.json in /Users/hjp/HJP/KUAICV/VTO/DATASET/sewfactory/sewfactory/tee_sleeveless_PBAHWIOIDS_wb_pants_straight_WCNFMW7N8S\n",
      "No spec_config.json in /Users/hjp/HJP/KUAICV/VTO/DATASET/sewfactory/sewfactory/tee_sleeveless_PC30GTH4OL_pants_straight_sides_V5I1GMKLQX\n",
      "No spec_config.json in /Users/hjp/HJP/KUAICV/VTO/DATASET/sewfactory/sewfactory/tee_sleeveless_PFWMKWLDYF_wb_pants_straight_UXT1T5E1B8\n",
      "No spec_config.json in /Users/hjp/HJP/KUAICV/VTO/DATASET/sewfactory/sewfactory/tee_sleeveless_PNUUDA229R_wb_pants_straight_QIOIW29AIS\n",
      "No spec_config.json in /Users/hjp/HJP/KUAICV/VTO/DATASET/sewfactory/sewfactory/tee_sleeveless_Q092QUMT1X_skirt_8_panels_XWSB15HD52\n",
      "No spec_config.json in /Users/hjp/HJP/KUAICV/VTO/DATASET/sewfactory/sewfactory/tee_sleeveless_QX2K7F6BQS_skirt_4_panels_UBUCWE7KM6\n",
      "No spec_config.json in /Users/hjp/HJP/KUAICV/VTO/DATASET/sewfactory/sewfactory/tee_sleeveless_RKO66L266R_wb_pants_straight_Y7DXQ2DJF9\n",
      "No spec_config.json in /Users/hjp/HJP/KUAICV/VTO/DATASET/sewfactory/sewfactory/tee_sleeveless_RMCVZ5Q9KQ_skirt_8_panels_YBQ1VHAVEU\n",
      "No spec_config.json in /Users/hjp/HJP/KUAICV/VTO/DATASET/sewfactory/sewfactory/tee_sleeveless_RO2UE91P0T_skirt_4_panels_T9C1IT0I01\n",
      "No spec_config.json in /Users/hjp/HJP/KUAICV/VTO/DATASET/sewfactory/sewfactory/tee_sleeveless_RXB3S5MC63_skirt_8_panels_S1VOVAE7I1\n",
      "No spec_config.json in /Users/hjp/HJP/KUAICV/VTO/DATASET/sewfactory/sewfactory/tee_sleeveless_RXQBGAK0WO_skirt_8_panels_VLUDJLXPJI\n",
      "No spec_config.json in /Users/hjp/HJP/KUAICV/VTO/DATASET/sewfactory/sewfactory/tee_sleeveless_S37CGIE49B_pants_straight_sides_TVAPB4PEKL\n",
      "No spec_config.json in /Users/hjp/HJP/KUAICV/VTO/DATASET/sewfactory/sewfactory/tee_sleeveless_SD740MXXNO_skirt_8_panels_TX9B47HVIK\n",
      "No spec_config.json in /Users/hjp/HJP/KUAICV/VTO/DATASET/sewfactory/sewfactory/tee_sleeveless_T1PANPTGP0_skirt_4_panels_WVCJ9CQ8WB\n",
      "No spec_config.json in /Users/hjp/HJP/KUAICV/VTO/DATASET/sewfactory/sewfactory/tee_sleeveless_T83HPM4E2N_pants_straight_sides_P7CXR4QYVV\n",
      "No spec_config.json in /Users/hjp/HJP/KUAICV/VTO/DATASET/sewfactory/sewfactory/tee_sleeveless_T8D4ODRTV3_pants_straight_sides_SA1HVFS3W5\n",
      "No spec_config.json in /Users/hjp/HJP/KUAICV/VTO/DATASET/sewfactory/sewfactory/tee_sleeveless_TTS2QTOJ8L_skirt_4_panels_7KV2XRPHMA\n",
      "No spec_config.json in /Users/hjp/HJP/KUAICV/VTO/DATASET/sewfactory/sewfactory/tee_sleeveless_TUBP0PETDY_wb_pants_straight_ZN2ZA855BF\n",
      "No spec_config.json in /Users/hjp/HJP/KUAICV/VTO/DATASET/sewfactory/sewfactory/tee_sleeveless_TUBZTAJ79F_skirt_2_panels_42NJWJM180\n",
      "No spec_config.json in /Users/hjp/HJP/KUAICV/VTO/DATASET/sewfactory/sewfactory/tee_sleeveless_TWYMV1SMQO_skirt_2_panels_F9DWDKN023\n",
      "No spec_config.json in /Users/hjp/HJP/KUAICV/VTO/DATASET/sewfactory/sewfactory/tee_sleeveless_XKP625XP6Q_pants_straight_sides_P7D5QH9AFO\n",
      "No spec_config.json in /Users/hjp/HJP/KUAICV/VTO/DATASET/sewfactory/sewfactory/tee_sleeveless_XMEGJPAQ6A_pants_straight_sides_N3TCCNZXWC\n",
      "No spec_config.json in /Users/hjp/HJP/KUAICV/VTO/DATASET/sewfactory/sewfactory/tee_sleeveless_Y7PXNYMYTL_skirt_4_panels_ZRBPPHPQ0V\n",
      "No spec_config.json in /Users/hjp/HJP/KUAICV/VTO/DATASET/sewfactory/sewfactory/tee_sleeveless_YCJDJNHJG8_pants_straight_sides_P3JJVXDUKR\n",
      "No spec_config.json in /Users/hjp/HJP/KUAICV/VTO/DATASET/sewfactory/sewfactory/tee_sleeveless_YN12SA5A26_wb_pants_straight_S57T8R1SJ8\n",
      "No spec_config.json in /Users/hjp/HJP/KUAICV/VTO/DATASET/sewfactory/sewfactory/wb_dress_sleeveless_33W7DJVNXD\n",
      "No spec_config.json in /Users/hjp/HJP/KUAICV/VTO/DATASET/sewfactory/sewfactory/wb_dress_sleeveless_65VSQLA7VF\n",
      "No spec_config.json in /Users/hjp/HJP/KUAICV/VTO/DATASET/sewfactory/sewfactory/wb_dress_sleeveless_7PQJQ1FDPM\n",
      "No spec_config.json in /Users/hjp/HJP/KUAICV/VTO/DATASET/sewfactory/sewfactory/wb_dress_sleeveless_7ZXHM8MLAO\n",
      "No spec_config.json in /Users/hjp/HJP/KUAICV/VTO/DATASET/sewfactory/sewfactory/wb_dress_sleeveless_8CJZLQ95ND\n",
      "No spec_config.json in /Users/hjp/HJP/KUAICV/VTO/DATASET/sewfactory/sewfactory/wb_dress_sleeveless_9FGW3JNNOQ\n",
      "No spec_config.json in /Users/hjp/HJP/KUAICV/VTO/DATASET/sewfactory/sewfactory/wb_dress_sleeveless_9MJXFC5SKN\n",
      "No spec_config.json in /Users/hjp/HJP/KUAICV/VTO/DATASET/sewfactory/sewfactory/wb_dress_sleeveless_AKBAIGH1BM\n",
      "No spec_config.json in /Users/hjp/HJP/KUAICV/VTO/DATASET/sewfactory/sewfactory/wb_dress_sleeveless_C2SO7A7Z84\n",
      "No spec_config.json in /Users/hjp/HJP/KUAICV/VTO/DATASET/sewfactory/sewfactory/wb_dress_sleeveless_C7NP2D75DM\n",
      "No spec_config.json in /Users/hjp/HJP/KUAICV/VTO/DATASET/sewfactory/sewfactory/wb_dress_sleeveless_C7SYMNLOT4\n",
      "No spec_config.json in /Users/hjp/HJP/KUAICV/VTO/DATASET/sewfactory/sewfactory/wb_dress_sleeveless_CHU6OS335W\n",
      "No spec_config.json in /Users/hjp/HJP/KUAICV/VTO/DATASET/sewfactory/sewfactory/wb_dress_sleeveless_COPIU7CW6A\n",
      "No spec_config.json in /Users/hjp/HJP/KUAICV/VTO/DATASET/sewfactory/sewfactory/wb_dress_sleeveless_ELUS24OIB9\n",
      "No spec_config.json in /Users/hjp/HJP/KUAICV/VTO/DATASET/sewfactory/sewfactory/wb_dress_sleeveless_G5J3XJCLJI\n",
      "No spec_config.json in /Users/hjp/HJP/KUAICV/VTO/DATASET/sewfactory/sewfactory/wb_dress_sleeveless_H2ZJ15HI7B\n",
      "No spec_config.json in /Users/hjp/HJP/KUAICV/VTO/DATASET/sewfactory/sewfactory/wb_dress_sleeveless_J1WC0O1RZO\n",
      "No spec_config.json in /Users/hjp/HJP/KUAICV/VTO/DATASET/sewfactory/sewfactory/wb_dress_sleeveless_J7TE6F9STQ\n",
      "No spec_config.json in /Users/hjp/HJP/KUAICV/VTO/DATASET/sewfactory/sewfactory/wb_dress_sleeveless_JVILVWUH5P\n",
      "No spec_config.json in /Users/hjp/HJP/KUAICV/VTO/DATASET/sewfactory/sewfactory/wb_dress_sleeveless_NHIS6FYM3J\n",
      "No spec_config.json in /Users/hjp/HJP/KUAICV/VTO/DATASET/sewfactory/sewfactory/wb_dress_sleeveless_O7SGOA29YJ\n",
      "No spec_config.json in /Users/hjp/HJP/KUAICV/VTO/DATASET/sewfactory/sewfactory/wb_dress_sleeveless_OKPVYML06L\n",
      "No spec_config.json in /Users/hjp/HJP/KUAICV/VTO/DATASET/sewfactory/sewfactory/wb_dress_sleeveless_TGBRCKRTB9\n"
     ]
    },
    {
     "name": "stderr",
     "output_type": "stream",
     "text": [
      "\n"
     ]
    },
    {
     "data": {
      "text/plain": [
       "1879"
      ]
     },
     "execution_count": 2,
     "metadata": {},
     "output_type": "execute_result"
    }
   ],
   "source": [
    "def filter_fn(path):\n",
    "    if not os.path.isdir(path):\n",
    "        print(f\"{path} is not a directory\")\n",
    "        return False\n",
    "    if not os.path.exists(os.path.join(path, \"static\", \"spec_config.json\")):\n",
    "        print(f\"No spec_config.json in {path}\")\n",
    "        return False\n",
    "    return True\n",
    "\n",
    "raw_combination_path_list = sorted(glob(os.path.join(DATASET_ROOT, \"sewfactory\", \"*\")))\n",
    "combination_path_list = []\n",
    "for garment_path in tqdm(raw_combination_path_list):\n",
    "    if filter_fn(garment_path):\n",
    "        combination_path_list.append(garment_path)\n",
    "len(combination_path_list)"
   ]
  },
  {
   "cell_type": "code",
   "execution_count": 3,
   "metadata": {},
   "outputs": [
    {
     "name": "stdout",
     "output_type": "stream",
     "text": [
      "WARNING: You are using a SMPL+H model, with only 10 shape coefficients.\n"
     ]
    }
   ],
   "source": [
    "import json\n",
    "import numpy as np\n",
    "import smplx\n",
    "import torch\n",
    "import trimesh\n",
    "\n",
    "SMPLH_PATH = os.path.join(\n",
    "    SEWFORMER_PROJ_ROOT, \"Sewformer\", \"assets\",\n",
    ")\n",
    "\n",
    "# Create SMPL-H model\n",
    "model = smplx.create(\n",
    "    model_path=SMPLH_PATH,\n",
    "    model_type='smplh',  # Specifically use SMPL-H\n",
    "    ext='pkl',\n",
    "    gender='female',\n",
    "    use_pca=False,  # Important: disable PCA for hand poses\n",
    "    batch_size=1,\n",
    ")"
   ]
  },
  {
   "cell_type": "code",
   "execution_count": 24,
   "metadata": {},
   "outputs": [
    {
     "name": "stderr",
     "output_type": "stream",
     "text": [
      " 21%|██        | 398/1879 [06:01<13:07,  1.88it/s]"
     ]
    },
    {
     "name": "stdout",
     "output_type": "stream",
     "text": [
      "/Users/hjp/HJP/KUAICV/VTO/DATASET/sewfactory/sewfactory/jumpsuit_sleeveless_BSCJNM8VBX jumpsuit_sleeveless_BSCJNM8VBX 10842 10843\n",
      "/Users/hjp/HJP/KUAICV/VTO/DATASET/sewfactory/sewfactory/jumpsuit_sleeveless_BSCJNM8VBX\n",
      "jumpsuit_sleeveless_BSCJNM8VBX\n",
      "list index out of range\n",
      "\n"
     ]
    },
    {
     "name": "stderr",
     "output_type": "stream",
     "text": [
      " 24%|██▍       | 458/1879 [06:49<13:29,  1.75it/s]"
     ]
    },
    {
     "name": "stdout",
     "output_type": "stream",
     "text": [
      "/Users/hjp/HJP/KUAICV/VTO/DATASET/sewfactory/sewfactory/jumpsuit_sleeveless_EVYB2P4PN2 jumpsuit_sleeveless_EVYB2P4PN2 10854 10855\n",
      "/Users/hjp/HJP/KUAICV/VTO/DATASET/sewfactory/sewfactory/jumpsuit_sleeveless_EVYB2P4PN2\n",
      "jumpsuit_sleeveless_EVYB2P4PN2\n",
      "list index out of range\n",
      "\n"
     ]
    },
    {
     "name": "stderr",
     "output_type": "stream",
     "text": [
      " 30%|███       | 566/1879 [08:07<12:23,  1.77it/s]"
     ]
    },
    {
     "name": "stdout",
     "output_type": "stream",
     "text": [
      "/Users/hjp/HJP/KUAICV/VTO/DATASET/sewfactory/sewfactory/jumpsuit_sleeveless_JT9BT9LZYA jumpsuit_sleeveless_JT9BT9LZYA 7748 7750\n",
      "/Users/hjp/HJP/KUAICV/VTO/DATASET/sewfactory/sewfactory/jumpsuit_sleeveless_JT9BT9LZYA\n",
      "jumpsuit_sleeveless_JT9BT9LZYA\n",
      "list index out of range\n",
      "\n"
     ]
    },
    {
     "name": "stderr",
     "output_type": "stream",
     "text": [
      " 33%|███▎      | 622/1879 [08:47<11:37,  1.80it/s]"
     ]
    },
    {
     "name": "stdout",
     "output_type": "stream",
     "text": [
      "/Users/hjp/HJP/KUAICV/VTO/DATASET/sewfactory/sewfactory/jumpsuit_sleeveless_M2J7PJODQW jumpsuit_sleeveless_M2J7PJODQW 10526 10531\n",
      "/Users/hjp/HJP/KUAICV/VTO/DATASET/sewfactory/sewfactory/jumpsuit_sleeveless_M2J7PJODQW\n",
      "jumpsuit_sleeveless_M2J7PJODQW\n",
      "list index out of range\n",
      "\n"
     ]
    },
    {
     "name": "stderr",
     "output_type": "stream",
     "text": [
      " 35%|███▌      | 666/1879 [09:18<11:02,  1.83it/s]"
     ]
    },
    {
     "name": "stdout",
     "output_type": "stream",
     "text": [
      "/Users/hjp/HJP/KUAICV/VTO/DATASET/sewfactory/sewfactory/jumpsuit_sleeveless_NZEMFHR1V6 jumpsuit_sleeveless_NZEMFHR1V6 8463 8465\n",
      "/Users/hjp/HJP/KUAICV/VTO/DATASET/sewfactory/sewfactory/jumpsuit_sleeveless_NZEMFHR1V6\n",
      "jumpsuit_sleeveless_NZEMFHR1V6\n",
      "list index out of range\n",
      "\n"
     ]
    },
    {
     "name": "stderr",
     "output_type": "stream",
     "text": [
      " 41%|████▏     | 778/1879 [10:41<10:09,  1.81it/s]"
     ]
    },
    {
     "name": "stdout",
     "output_type": "stream",
     "text": [
      "/Users/hjp/HJP/KUAICV/VTO/DATASET/sewfactory/sewfactory/jumpsuit_sleeveless_RAY4CYJLSK jumpsuit_sleeveless_RAY4CYJLSK 9778 9779\n",
      "/Users/hjp/HJP/KUAICV/VTO/DATASET/sewfactory/sewfactory/jumpsuit_sleeveless_RAY4CYJLSK\n",
      "jumpsuit_sleeveless_RAY4CYJLSK\n",
      "list index out of range\n",
      "\n"
     ]
    },
    {
     "name": "stderr",
     "output_type": "stream",
     "text": [
      " 43%|████▎     | 807/1879 [11:04<12:08,  1.47it/s]"
     ]
    },
    {
     "name": "stdout",
     "output_type": "stream",
     "text": [
      "/Users/hjp/HJP/KUAICV/VTO/DATASET/sewfactory/sewfactory/jumpsuit_sleeveless_S7ENFV914A jumpsuit_sleeveless_S7ENFV914A 8049 8050\n",
      "/Users/hjp/HJP/KUAICV/VTO/DATASET/sewfactory/sewfactory/jumpsuit_sleeveless_S7ENFV914A\n",
      "jumpsuit_sleeveless_S7ENFV914A\n",
      "list index out of range\n",
      "\n"
     ]
    },
    {
     "name": "stderr",
     "output_type": "stream",
     "text": [
      " 53%|█████▎    | 997/1879 [13:26<08:56,  1.64it/s]"
     ]
    },
    {
     "name": "stdout",
     "output_type": "stream",
     "text": [
      "/Users/hjp/HJP/KUAICV/VTO/DATASET/sewfactory/sewfactory/jumpsuit_sleeveless_YEYTT0M84K jumpsuit_sleeveless_YEYTT0M84K 12587 12592\n",
      "/Users/hjp/HJP/KUAICV/VTO/DATASET/sewfactory/sewfactory/jumpsuit_sleeveless_YEYTT0M84K\n",
      "jumpsuit_sleeveless_YEYTT0M84K\n",
      "list index out of range\n",
      "\n"
     ]
    },
    {
     "name": "stderr",
     "output_type": "stream",
     "text": [
      " 59%|█████▉    | 1112/1879 [15:46<13:33,  1.06s/it]"
     ]
    },
    {
     "name": "stdout",
     "output_type": "stream",
     "text": [
      "/Users/hjp/HJP/KUAICV/VTO/DATASET/sewfactory/sewfactory/tee_DQVUSEW7J7_wb_pants_straight_IJUMFP6UQ2 wb_pants_straight_IJUMFP6UQ2 6639 6641\n",
      "/Users/hjp/HJP/KUAICV/VTO/DATASET/sewfactory/sewfactory/tee_DQVUSEW7J7_wb_pants_straight_IJUMFP6UQ2\n",
      "wb_pants_straight_IJUMFP6UQ2\n",
      "list index out of range\n",
      "\n"
     ]
    },
    {
     "name": "stderr",
     "output_type": "stream",
     "text": [
      " 62%|██████▏   | 1171/1879 [17:02<14:54,  1.26s/it]"
     ]
    },
    {
     "name": "stdout",
     "output_type": "stream",
     "text": [
      "/Users/hjp/HJP/KUAICV/VTO/DATASET/sewfactory/sewfactory/tee_JPW14WNEIR_wb_pants_straight_QLCC1AOW8D wb_pants_straight_QLCC1AOW8D 8967 8969\n",
      "/Users/hjp/HJP/KUAICV/VTO/DATASET/sewfactory/sewfactory/tee_JPW14WNEIR_wb_pants_straight_QLCC1AOW8D\n",
      "wb_pants_straight_QLCC1AOW8D\n",
      "list index out of range\n",
      "\n"
     ]
    },
    {
     "name": "stderr",
     "output_type": "stream",
     "text": [
      " 66%|██████▌   | 1238/1879 [18:34<12:54,  1.21s/it]"
     ]
    },
    {
     "name": "stdout",
     "output_type": "stream",
     "text": [
      "/Users/hjp/HJP/KUAICV/VTO/DATASET/sewfactory/sewfactory/tee_RJVXD3LCW9_pants_straight_sides_PNPD109M6T pants_straight_sides_PNPD109M6T 9023 9025\n",
      "/Users/hjp/HJP/KUAICV/VTO/DATASET/sewfactory/sewfactory/tee_RJVXD3LCW9_pants_straight_sides_PNPD109M6T\n",
      "pants_straight_sides_PNPD109M6T\n",
      "list index out of range\n",
      "\n"
     ]
    },
    {
     "name": "stderr",
     "output_type": "stream",
     "text": [
      " 69%|██████▊   | 1289/1879 [19:43<14:18,  1.46s/it]"
     ]
    },
    {
     "name": "stdout",
     "output_type": "stream",
     "text": [
      "/Users/hjp/HJP/KUAICV/VTO/DATASET/sewfactory/sewfactory/tee_WLRECYW27H_pants_straight_sides_Y0VV77EMBI pants_straight_sides_Y0VV77EMBI 5387 5389\n",
      "/Users/hjp/HJP/KUAICV/VTO/DATASET/sewfactory/sewfactory/tee_WLRECYW27H_pants_straight_sides_Y0VV77EMBI\n",
      "pants_straight_sides_Y0VV77EMBI\n",
      "list index out of range\n",
      "\n"
     ]
    },
    {
     "name": "stderr",
     "output_type": "stream",
     "text": [
      " 78%|███████▊  | 1467/1879 [23:00<08:24,  1.23s/it]"
     ]
    },
    {
     "name": "stdout",
     "output_type": "stream",
     "text": [
      "/Users/hjp/HJP/KUAICV/VTO/DATASET/sewfactory/sewfactory/tee_sleeveless_IT8WVERF1P_skirt_2_panels_76QE4X5FRV\n",
      "tee_sleeveless_IT8WVERF1P\n",
      "[Errno 2] No such file or directory: '/Users/hjp/HJP/KUAICV/VTO/DATASET/sewfactory/sewfactory/tee_sleeveless_IT8WVERF1P_skirt_2_panels_76QE4X5FRV/static/tee_sleeveless_IT8WVERF1P_specification.json'\n",
      "\n"
     ]
    },
    {
     "name": "stderr",
     "output_type": "stream",
     "text": [
      " 78%|███████▊  | 1471/1879 [23:03<05:36,  1.21it/s]"
     ]
    },
    {
     "name": "stdout",
     "output_type": "stream",
     "text": [
      "/Users/hjp/HJP/KUAICV/VTO/DATASET/sewfactory/sewfactory/tee_sleeveless_JFOFJ82JG1_skirt_4_panels_9623YB8JF5\n",
      "skirt_4_panels_9623YB8JF5\n",
      "[Errno 2] No such file or directory: '/Users/hjp/HJP/KUAICV/VTO/DATASET/sewfactory/sewfactory/tee_sleeveless_JFOFJ82JG1_skirt_4_panels_9623YB8JF5/static/skirt_4_panels_9623YB8JF5_specification.json'\n",
      "\n",
      "/Users/hjp/HJP/KUAICV/VTO/DATASET/sewfactory/sewfactory/tee_sleeveless_JLPZ0T1M4U_skirt_2_panels_HZJJN55ZPS tee_sleeveless_JLPZ0T1M4U 4433 4434\n",
      "/Users/hjp/HJP/KUAICV/VTO/DATASET/sewfactory/sewfactory/tee_sleeveless_JLPZ0T1M4U_skirt_2_panels_HZJJN55ZPS\n",
      "tee_sleeveless_JLPZ0T1M4U\n",
      "list index out of range\n",
      "\n"
     ]
    },
    {
     "name": "stderr",
     "output_type": "stream",
     "text": [
      " 79%|███████▉  | 1488/1879 [23:19<06:39,  1.02s/it]"
     ]
    },
    {
     "name": "stdout",
     "output_type": "stream",
     "text": [
      "/Users/hjp/HJP/KUAICV/VTO/DATASET/sewfactory/sewfactory/tee_sleeveless_KWB9F1ZIW9_pants_straight_sides_X0IPM3Q55W\n",
      "tee_sleeveless_KWB9F1ZIW9\n",
      "string is not a file: `/Users/hjp/HJP/KUAICV/VTO/DATASET/sewfactory/sewfactory/tee_sleeveless_KWB9F1ZIW9_pants_straight_sides_X0IPM3Q55W/static/tee_sleeveless_KWB9F1ZIW9_tee_sleeveless_KWB9F1ZIW9.obj`\n",
      "\n"
     ]
    },
    {
     "name": "stderr",
     "output_type": "stream",
     "text": [
      " 79%|███████▉  | 1492/1879 [23:22<05:00,  1.29it/s]"
     ]
    },
    {
     "name": "stdout",
     "output_type": "stream",
     "text": [
      "/Users/hjp/HJP/KUAICV/VTO/DATASET/sewfactory/sewfactory/tee_sleeveless_LAOPQCXSI4_skirt_8_panels_USGUKQ69W9\n",
      "tee_sleeveless_LAOPQCXSI4\n",
      "[Errno 2] No such file or directory: '/Users/hjp/HJP/KUAICV/VTO/DATASET/sewfactory/sewfactory/tee_sleeveless_LAOPQCXSI4_skirt_8_panels_USGUKQ69W9/static/tee_sleeveless_LAOPQCXSI4_specification.json'\n",
      "\n"
     ]
    },
    {
     "name": "stderr",
     "output_type": "stream",
     "text": [
      " 81%|████████  | 1517/1879 [23:48<07:36,  1.26s/it]"
     ]
    },
    {
     "name": "stdout",
     "output_type": "stream",
     "text": [
      "/Users/hjp/HJP/KUAICV/VTO/DATASET/sewfactory/sewfactory/tee_sleeveless_NJILQNVVX8_skirt_8_panels_RJ55XPVQ7O\n",
      "tee_sleeveless_NJILQNVVX8\n",
      "[Errno 2] No such file or directory: '/Users/hjp/HJP/KUAICV/VTO/DATASET/sewfactory/sewfactory/tee_sleeveless_NJILQNVVX8_skirt_8_panels_RJ55XPVQ7O/static/tee_sleeveless_NJILQNVVX8_specification.json'\n",
      "\n"
     ]
    },
    {
     "name": "stderr",
     "output_type": "stream",
     "text": [
      " 81%|████████▏ | 1528/1879 [23:59<07:42,  1.32s/it]"
     ]
    },
    {
     "name": "stdout",
     "output_type": "stream",
     "text": [
      "/Users/hjp/HJP/KUAICV/VTO/DATASET/sewfactory/sewfactory/tee_sleeveless_OFUZSLJTM2_skirt_2_panels_E2BNLSI06E\n",
      "tee_sleeveless_OFUZSLJTM2\n",
      "string is not a file: `/Users/hjp/HJP/KUAICV/VTO/DATASET/sewfactory/sewfactory/tee_sleeveless_OFUZSLJTM2_skirt_2_panels_E2BNLSI06E/static/tee_sleeveless_OFUZSLJTM2_tee_sleeveless_OFUZSLJTM2.obj`\n",
      "\n"
     ]
    },
    {
     "name": "stderr",
     "output_type": "stream",
     "text": [
      " 84%|████████▎ | 1571/1879 [24:47<05:13,  1.02s/it]"
     ]
    },
    {
     "name": "stdout",
     "output_type": "stream",
     "text": [
      "/Users/hjp/HJP/KUAICV/VTO/DATASET/sewfactory/sewfactory/tee_sleeveless_RPRJS28HUT_skirt_2_panels_XSJXR0MW0U\n",
      "tee_sleeveless_RPRJS28HUT\n",
      "[Errno 2] No such file or directory: '/Users/hjp/HJP/KUAICV/VTO/DATASET/sewfactory/sewfactory/tee_sleeveless_RPRJS28HUT_skirt_2_panels_XSJXR0MW0U/static/tee_sleeveless_RPRJS28HUT_specification.json'\n",
      "\n"
     ]
    },
    {
     "name": "stderr",
     "output_type": "stream",
     "text": [
      " 88%|████████▊ | 1658/1879 [26:23<03:36,  1.02it/s]"
     ]
    },
    {
     "name": "stdout",
     "output_type": "stream",
     "text": [
      "/Users/hjp/HJP/KUAICV/VTO/DATASET/sewfactory/sewfactory/tee_sleeveless_X9GB4LV4KT_wb_pants_straight_X20EO98K6B\n",
      "tee_sleeveless_X9GB4LV4KT\n",
      "string is not a file: `/Users/hjp/HJP/KUAICV/VTO/DATASET/sewfactory/sewfactory/tee_sleeveless_X9GB4LV4KT_wb_pants_straight_X20EO98K6B/static/tee_sleeveless_X9GB4LV4KT_tee_sleeveless_X9GB4LV4KT.obj`\n",
      "\n"
     ]
    },
    {
     "name": "stderr",
     "output_type": "stream",
     "text": [
      " 92%|█████████▏| 1720/1879 [27:31<03:11,  1.21s/it]"
     ]
    },
    {
     "name": "stdout",
     "output_type": "stream",
     "text": [
      "/Users/hjp/HJP/KUAICV/VTO/DATASET/sewfactory/sewfactory/wb_dress_sleeveless_AN2FZQJEC7\n",
      "wb_dress_sleeveless_AN2FZQJEC7\n",
      "[Errno 2] No such file or directory: '/Users/hjp/HJP/KUAICV/VTO/DATASET/sewfactory/sewfactory/wb_dress_sleeveless_AN2FZQJEC7/static/wb_dress_sleeveless_AN2FZQJEC7_specification.json'\n",
      "\n"
     ]
    },
    {
     "name": "stderr",
     "output_type": "stream",
     "text": [
      " 92%|█████████▏| 1728/1879 [27:40<03:04,  1.22s/it]"
     ]
    },
    {
     "name": "stdout",
     "output_type": "stream",
     "text": [
      "/Users/hjp/HJP/KUAICV/VTO/DATASET/sewfactory/sewfactory/wb_dress_sleeveless_FE6NJ0TK3A\n",
      "wb_dress_sleeveless_FE6NJ0TK3A\n",
      "[Errno 2] No such file or directory: '/Users/hjp/HJP/KUAICV/VTO/DATASET/sewfactory/sewfactory/wb_dress_sleeveless_FE6NJ0TK3A/static/wb_dress_sleeveless_FE6NJ0TK3A_specification.json'\n",
      "\n"
     ]
    },
    {
     "name": "stderr",
     "output_type": "stream",
     "text": [
      "100%|██████████| 1879/1879 [30:24<00:00,  1.03it/s]\n"
     ]
    },
    {
     "data": {
      "text/html": [
       "<div>\n",
       "<style scoped>\n",
       "    .dataframe tbody tr th:only-of-type {\n",
       "        vertical-align: middle;\n",
       "    }\n",
       "\n",
       "    .dataframe tbody tr th {\n",
       "        vertical-align: top;\n",
       "    }\n",
       "\n",
       "    .dataframe thead th {\n",
       "        text-align: right;\n",
       "    }\n",
       "</style>\n",
       "<table border=\"1\" class=\"dataframe\">\n",
       "  <thead>\n",
       "    <tr style=\"text-align: right;\">\n",
       "      <th></th>\n",
       "      <th>garment_name</th>\n",
       "      <th>matching_combination_name</th>\n",
       "      <th>panel_count</th>\n",
       "      <th>stitch_count</th>\n",
       "      <th>panel_name_contains_digit</th>\n",
       "      <th>contains_clockwise_panel</th>\n",
       "      <th>mesh_len_segmentation_match</th>\n",
       "      <th>mesh_filter_failed</th>\n",
       "      <th>none_vertex_count</th>\n",
       "      <th>stitch_vertex_count</th>\n",
       "      <th>none_filtered_vertex_count</th>\n",
       "      <th>stitch_filtered_vertex_count</th>\n",
       "    </tr>\n",
       "  </thead>\n",
       "  <tbody>\n",
       "    <tr>\n",
       "      <th>0</th>\n",
       "      <td>dress_sleeveless_02OIQPCOWU</td>\n",
       "      <td>dress_sleeveless_02OIQPCOWU</td>\n",
       "      <td>4</td>\n",
       "      <td>10</td>\n",
       "      <td>False</td>\n",
       "      <td>False</td>\n",
       "      <td>True</td>\n",
       "      <td>False</td>\n",
       "      <td>238</td>\n",
       "      <td>234</td>\n",
       "      <td>0</td>\n",
       "      <td>0</td>\n",
       "    </tr>\n",
       "    <tr>\n",
       "      <th>1</th>\n",
       "      <td>dress_sleeveless_09OPJBWSO8</td>\n",
       "      <td>dress_sleeveless_09OPJBWSO8</td>\n",
       "      <td>4</td>\n",
       "      <td>10</td>\n",
       "      <td>False</td>\n",
       "      <td>False</td>\n",
       "      <td>True</td>\n",
       "      <td>False</td>\n",
       "      <td>244</td>\n",
       "      <td>240</td>\n",
       "      <td>0</td>\n",
       "      <td>0</td>\n",
       "    </tr>\n",
       "    <tr>\n",
       "      <th>2</th>\n",
       "      <td>dress_sleeveless_09TBE1ATRH</td>\n",
       "      <td>dress_sleeveless_09TBE1ATRH</td>\n",
       "      <td>4</td>\n",
       "      <td>10</td>\n",
       "      <td>False</td>\n",
       "      <td>False</td>\n",
       "      <td>True</td>\n",
       "      <td>False</td>\n",
       "      <td>232</td>\n",
       "      <td>228</td>\n",
       "      <td>0</td>\n",
       "      <td>0</td>\n",
       "    </tr>\n",
       "    <tr>\n",
       "      <th>3</th>\n",
       "      <td>dress_sleeveless_0C4VMNOCLU</td>\n",
       "      <td>dress_sleeveless_0C4VMNOCLU</td>\n",
       "      <td>4</td>\n",
       "      <td>10</td>\n",
       "      <td>False</td>\n",
       "      <td>False</td>\n",
       "      <td>True</td>\n",
       "      <td>False</td>\n",
       "      <td>274</td>\n",
       "      <td>270</td>\n",
       "      <td>0</td>\n",
       "      <td>0</td>\n",
       "    </tr>\n",
       "    <tr>\n",
       "      <th>4</th>\n",
       "      <td>dress_sleeveless_0DAY6M9ZYC</td>\n",
       "      <td>dress_sleeveless_0DAY6M9ZYC</td>\n",
       "      <td>4</td>\n",
       "      <td>10</td>\n",
       "      <td>False</td>\n",
       "      <td>False</td>\n",
       "      <td>True</td>\n",
       "      <td>False</td>\n",
       "      <td>242</td>\n",
       "      <td>238</td>\n",
       "      <td>0</td>\n",
       "      <td>0</td>\n",
       "    </tr>\n",
       "    <tr>\n",
       "      <th>...</th>\n",
       "      <td>...</td>\n",
       "      <td>...</td>\n",
       "      <td>...</td>\n",
       "      <td>...</td>\n",
       "      <td>...</td>\n",
       "      <td>...</td>\n",
       "      <td>...</td>\n",
       "      <td>...</td>\n",
       "      <td>...</td>\n",
       "      <td>...</td>\n",
       "      <td>...</td>\n",
       "      <td>...</td>\n",
       "    </tr>\n",
       "    <tr>\n",
       "      <th>2520</th>\n",
       "      <td>wb_dress_sleeveless_Z1IW81L0N1</td>\n",
       "      <td>wb_dress_sleeveless_Z1IW81L0N1</td>\n",
       "      <td>6</td>\n",
       "      <td>12</td>\n",
       "      <td>False</td>\n",
       "      <td>False</td>\n",
       "      <td>True</td>\n",
       "      <td>False</td>\n",
       "      <td>380</td>\n",
       "      <td>372</td>\n",
       "      <td>0</td>\n",
       "      <td>0</td>\n",
       "    </tr>\n",
       "    <tr>\n",
       "      <th>2521</th>\n",
       "      <td>wb_dress_sleeveless_Z9G8LZ1IN0</td>\n",
       "      <td>wb_dress_sleeveless_Z9G8LZ1IN0</td>\n",
       "      <td>6</td>\n",
       "      <td>12</td>\n",
       "      <td>False</td>\n",
       "      <td>False</td>\n",
       "      <td>True</td>\n",
       "      <td>False</td>\n",
       "      <td>416</td>\n",
       "      <td>408</td>\n",
       "      <td>0</td>\n",
       "      <td>0</td>\n",
       "    </tr>\n",
       "    <tr>\n",
       "      <th>2522</th>\n",
       "      <td>wb_dress_sleeveless_ZQE9US31KP</td>\n",
       "      <td>wb_dress_sleeveless_ZQE9US31KP</td>\n",
       "      <td>6</td>\n",
       "      <td>12</td>\n",
       "      <td>False</td>\n",
       "      <td>False</td>\n",
       "      <td>True</td>\n",
       "      <td>False</td>\n",
       "      <td>386</td>\n",
       "      <td>378</td>\n",
       "      <td>0</td>\n",
       "      <td>0</td>\n",
       "    </tr>\n",
       "    <tr>\n",
       "      <th>2523</th>\n",
       "      <td>wb_dress_sleeveless_ZVM7I1QKYL</td>\n",
       "      <td>wb_dress_sleeveless_ZVM7I1QKYL</td>\n",
       "      <td>6</td>\n",
       "      <td>12</td>\n",
       "      <td>False</td>\n",
       "      <td>False</td>\n",
       "      <td>True</td>\n",
       "      <td>False</td>\n",
       "      <td>344</td>\n",
       "      <td>336</td>\n",
       "      <td>0</td>\n",
       "      <td>0</td>\n",
       "    </tr>\n",
       "    <tr>\n",
       "      <th>2524</th>\n",
       "      <td>wb_dress_sleeveless_ZXJD88A059</td>\n",
       "      <td>wb_dress_sleeveless_ZXJD88A059</td>\n",
       "      <td>6</td>\n",
       "      <td>12</td>\n",
       "      <td>False</td>\n",
       "      <td>False</td>\n",
       "      <td>True</td>\n",
       "      <td>True</td>\n",
       "      <td>432</td>\n",
       "      <td>424</td>\n",
       "      <td>80</td>\n",
       "      <td>0</td>\n",
       "    </tr>\n",
       "  </tbody>\n",
       "</table>\n",
       "<p>2525 rows × 12 columns</p>\n",
       "</div>"
      ],
      "text/plain": [
       "                        garment_name       matching_combination_name  \\\n",
       "0        dress_sleeveless_02OIQPCOWU     dress_sleeveless_02OIQPCOWU   \n",
       "1        dress_sleeveless_09OPJBWSO8     dress_sleeveless_09OPJBWSO8   \n",
       "2        dress_sleeveless_09TBE1ATRH     dress_sleeveless_09TBE1ATRH   \n",
       "3        dress_sleeveless_0C4VMNOCLU     dress_sleeveless_0C4VMNOCLU   \n",
       "4        dress_sleeveless_0DAY6M9ZYC     dress_sleeveless_0DAY6M9ZYC   \n",
       "...                              ...                             ...   \n",
       "2520  wb_dress_sleeveless_Z1IW81L0N1  wb_dress_sleeveless_Z1IW81L0N1   \n",
       "2521  wb_dress_sleeveless_Z9G8LZ1IN0  wb_dress_sleeveless_Z9G8LZ1IN0   \n",
       "2522  wb_dress_sleeveless_ZQE9US31KP  wb_dress_sleeveless_ZQE9US31KP   \n",
       "2523  wb_dress_sleeveless_ZVM7I1QKYL  wb_dress_sleeveless_ZVM7I1QKYL   \n",
       "2524  wb_dress_sleeveless_ZXJD88A059  wb_dress_sleeveless_ZXJD88A059   \n",
       "\n",
       "      panel_count  stitch_count  panel_name_contains_digit  \\\n",
       "0               4            10                      False   \n",
       "1               4            10                      False   \n",
       "2               4            10                      False   \n",
       "3               4            10                      False   \n",
       "4               4            10                      False   \n",
       "...           ...           ...                        ...   \n",
       "2520            6            12                      False   \n",
       "2521            6            12                      False   \n",
       "2522            6            12                      False   \n",
       "2523            6            12                      False   \n",
       "2524            6            12                      False   \n",
       "\n",
       "      contains_clockwise_panel  mesh_len_segmentation_match  \\\n",
       "0                        False                         True   \n",
       "1                        False                         True   \n",
       "2                        False                         True   \n",
       "3                        False                         True   \n",
       "4                        False                         True   \n",
       "...                        ...                          ...   \n",
       "2520                     False                         True   \n",
       "2521                     False                         True   \n",
       "2522                     False                         True   \n",
       "2523                     False                         True   \n",
       "2524                     False                         True   \n",
       "\n",
       "      mesh_filter_failed  none_vertex_count  stitch_vertex_count  \\\n",
       "0                  False                238                  234   \n",
       "1                  False                244                  240   \n",
       "2                  False                232                  228   \n",
       "3                  False                274                  270   \n",
       "4                  False                242                  238   \n",
       "...                  ...                ...                  ...   \n",
       "2520               False                380                  372   \n",
       "2521               False                416                  408   \n",
       "2522               False                386                  378   \n",
       "2523               False                344                  336   \n",
       "2524                True                432                  424   \n",
       "\n",
       "      none_filtered_vertex_count  stitch_filtered_vertex_count  \n",
       "0                              0                             0  \n",
       "1                              0                             0  \n",
       "2                              0                             0  \n",
       "3                              0                             0  \n",
       "4                              0                             0  \n",
       "...                          ...                           ...  \n",
       "2520                           0                             0  \n",
       "2521                           0                             0  \n",
       "2522                           0                             0  \n",
       "2523                           0                             0  \n",
       "2524                          80                             0  \n",
       "\n",
       "[2525 rows x 12 columns]"
      ]
     },
     "execution_count": 24,
     "metadata": {},
     "output_type": "execute_result"
    }
   ],
   "source": [
    "garment_name_dict = {} # check if some garment is duplicated\n",
    "garment_name_list = []\n",
    "matching_combination_name_list = []\n",
    "panel_count_list = []\n",
    "stitch_count_list = []\n",
    "panel_name_contains_digit_list = []\n",
    "contains_clockwise_panel_list = []\n",
    "edge_type_list_list = []\n",
    "mesh_len_segmentation_match_list = []\n",
    "mesh_filter_failed_list = []\n",
    "none_vertex_count_list = []\n",
    "none_filtered_vertex_count_list = []\n",
    "stitch_vertex_count_list = []\n",
    "stitch_filtered_vertex_count_list = []\n",
    "\n",
    "for combination_path in tqdm(combination_path_list) :\n",
    "    spec_config_path = os.path.join(combination_path, \"static\", \"spec_config.json\")\n",
    "    with open(spec_config_path, \"r\") as f:\n",
    "        spec_config = json.load(open(spec_config_path, \"r\"))\n",
    "\n",
    "    combination_garment_name_list = list(map(\n",
    "        lambda x : os.path.basename(x[\"spec\"].replace(\"\\\\\", \"/\")),\n",
    "        spec_config.values()\n",
    "    ))\n",
    "\n",
    "    try :\n",
    "        # mesh_list = []\n",
    "        for garment_name in combination_garment_name_list :\n",
    "            if garment_name not in garment_name_dict :\n",
    "                garment_name_dict[garment_name] = 0\n",
    "            else :\n",
    "                print(f\"duplicating garment name {garment_name}\")\n",
    "                break\n",
    "            garment_name_dict[garment_name] += 1\n",
    "            \n",
    "\n",
    "\n",
    "            spec_file_path = os.path.join(\n",
    "                combination_path, \"static\", f\"{garment_name}_specification.json\"\n",
    "            )\n",
    "            pattern = pyg.pattern.wrappers.VisPattern(spec_file_path)\n",
    "            drawn_pattern_list = list(map(\n",
    "                lambda pannel_name : pattern._draw_a_panel(\n",
    "                    pannel_name, apply_transform=False, fill=True\n",
    "                ),\n",
    "                pattern.panel_order()\n",
    "            ))\n",
    "            panel_svg_path_dict = {\n",
    "                panel_name : pattern._draw_a_panel(\n",
    "                    panel_name, apply_transform=False, fill=True\n",
    "                )\n",
    "                for panel_name in pattern.panel_order()\n",
    "            }\n",
    "\n",
    "            stitch_dict = {\n",
    "                i : v for i, v in enumerate(pattern.pattern['stitches'])\n",
    "            }\n",
    "\n",
    "            # find if panel name contains digit\n",
    "            panel_name_contains_digit = any(map(\n",
    "                lambda x : any(char.isdigit() for char in x),\n",
    "                pattern.panel_order()\n",
    "            ))\n",
    "\n",
    "\n",
    "            contains_clockwise_panel = False\n",
    "            for panel_name, panel in panel_svg_path_dict.items() :\n",
    "                point_list = []\n",
    "                edges = list(panel[0])\n",
    "                for edge in edges :\n",
    "                    point_list.append((edge.start.real, edge.start.imag))\n",
    "                if is_clockwise(point_list) :\n",
    "                    contains_clockwise_panel = True\n",
    "                    break\n",
    "                \n",
    "                \n",
    "            edge_type_set = set()\n",
    "            for panel_name, panel in panel_svg_path_dict.items() :\n",
    "                for edge in panel :\n",
    "                    if type(edge) not in edge_type_set :\n",
    "                        edge_type_set.add(type(edge))\n",
    "\n",
    "            mesh = trimesh.load_mesh(os.path.join(\n",
    "                combination_path, \"static\", f\"{garment_name}_{garment_name}.obj\"\n",
    "            ))\n",
    "\n",
    "            with open(\n",
    "                os.path.join(\n",
    "                    combination_path, \"static\", f\"{garment_name}_{garment_name}_segmentation.txt\"\n",
    "                ),\n",
    "                \"r\"\n",
    "            ) as f:\n",
    "                mesh_segmentation_list = list(map(\n",
    "                    lambda x : x.strip(),\n",
    "                    f.readlines()\n",
    "                ))\n",
    "            \n",
    "            \n",
    "            if len(mesh_segmentation_list) != mesh.vertices.shape[0] :    \n",
    "                print(f\"{combination_path} {garment_name} {mesh.vertices.shape[0]} {len(mesh_segmentation_list)}\")\n",
    "                mesh_len_segmentation_match = False\n",
    "            else :\n",
    "                mesh_len_segmentation_match = True\n",
    "                \n",
    "            \n",
    "            \n",
    "            filtered_mesh_segmentation_list = filter_segmentation_map(          mesh, mesh_segmentation_list)\n",
    "            filtered_mesh_segmentation_list = filter_segmentation_map_clusters( mesh, filtered_mesh_segmentation_list, threshold=80)\n",
    "            filtered_mesh_segmentation_list = filter_segmentation_map(          mesh, filtered_mesh_segmentation_list)\n",
    "            filtered_mesh_segmentation_list = filter_segmentation_map_clusters( mesh, filtered_mesh_segmentation_list, threshold=80)\n",
    "            filtered_mesh_segmentation_list = filter_segmentation_map(          mesh, filtered_mesh_segmentation_list)\n",
    "            filtered_mesh_segmentation_list = filter_segmentation_map_clusters( mesh, filtered_mesh_segmentation_list, threshold=80)\n",
    "            filtered_mesh_segmentation_list = filter_segmentation_map(          mesh, filtered_mesh_segmentation_list)\n",
    "            \n",
    "            vertex_mask_dict = {}\n",
    "            for panel_name in panel_svg_path_dict.keys() :\n",
    "                vertex_mask_dict[panel_name] = np.array(list(map(\n",
    "                    lambda x : x == panel_name,\n",
    "                    mesh_segmentation_list\n",
    "                )))\n",
    "            vertex_mask_dict[\"stitch\"] = np.array(list(map(\n",
    "                lambda x : x == \"stitch\",\n",
    "                mesh_segmentation_list\n",
    "            )))\n",
    "            vertex_mask_dict[\"None\"] = np.array(list(map(\n",
    "                lambda x : x == \"None\",\n",
    "                mesh_segmentation_list\n",
    "            )))\n",
    "            \n",
    "\n",
    "            filtered_vertex_mask_dict = {}\n",
    "            for panel_name in panel_svg_path_dict.keys() :\n",
    "                filtered_vertex_mask_dict[panel_name] = np.array(list(map(\n",
    "                    lambda x : x == panel_name,\n",
    "                    filtered_mesh_segmentation_list\n",
    "                )))\n",
    "            \n",
    "            mesh_filter_failed = False\n",
    "            \n",
    "            stitch_mask = np.array(list(map(\n",
    "                lambda x : x == \"stitch\",\n",
    "                filtered_mesh_segmentation_list\n",
    "            )))\n",
    "            if stitch_mask.sum() > 0 :\n",
    "                mesh_filter_failed = True\n",
    "                filtered_vertex_mask_dict[\"stitch\"] = stitch_mask\n",
    "            \n",
    "            none_mask = np.array(list(map(\n",
    "                lambda x : x == \"None\",\n",
    "                filtered_mesh_segmentation_list\n",
    "            )))\n",
    "            if none_mask.sum() > 0 :\n",
    "                mesh_filter_failed = True\n",
    "                filtered_vertex_mask_dict[\"None\"] = none_mask\n",
    "            \n",
    "            \n",
    "            with open(\n",
    "                os.path.join(\n",
    "                    combination_path, \"static\", f\"{garment_name}_{garment_name}_segmentation_filtered.txt\"\n",
    "                ),\n",
    "                \"w\"\n",
    "            ) as f :\n",
    "                f.write(\"\\n\".join(filtered_mesh_segmentation_list))\n",
    "                f.write(\"\\n\")\n",
    "        \n",
    "            \n",
    "            garment_name_list.append(garment_name)\n",
    "            matching_combination_name_list.append(os.path.basename(combination_path))\n",
    "            panel_count_list.append(len(panel_svg_path_dict))\n",
    "            stitch_count_list.append(len(stitch_dict))\n",
    "            panel_name_contains_digit_list.append(panel_name_contains_digit)\n",
    "            contains_clockwise_panel_list.append(contains_clockwise_panel)\n",
    "            edge_type_list_list.append(list(edge_type_set))\n",
    "            mesh_len_segmentation_match_list.append(mesh_len_segmentation_match)\n",
    "            none_vertex_count_list.append(\n",
    "                (np.array(mesh_segmentation_list) == \"None\").sum()\n",
    "            )\n",
    "            stitch_vertex_count_list.append(\n",
    "                (np.array(mesh_segmentation_list) == \"stitch\").sum()\n",
    "            )\n",
    "            stitch_filtered_vertex_count_list.append(\n",
    "                stitch_mask.sum()\n",
    "            )\n",
    "            none_filtered_vertex_count_list.append(\n",
    "                none_mask.sum()\n",
    "            )\n",
    "            mesh_filter_failed_list.append(mesh_filter_failed)\n",
    "    except Exception as e :\n",
    "        print(f\"{combination_path}\")\n",
    "        print(f\"{garment_name}\")\n",
    "        print(f\"{e}\")\n",
    "        print()\n",
    "\n",
    "    \n",
    "garment_df = pd.DataFrame(\n",
    "    {\n",
    "        \"garment_name\" : garment_name_list,\n",
    "        \"matching_combination_name\" : matching_combination_name_list,\n",
    "        \"panel_count\" : panel_count_list,\n",
    "        \"stitch_count\" : stitch_count_list,\n",
    "        \"panel_name_contains_digit\" : panel_name_contains_digit_list,\n",
    "        \"contains_clockwise_panel\" : contains_clockwise_panel_list,\n",
    "        # \"edge_type_list\" : edge_type_list_list,\n",
    "        \"mesh_len_segmentation_match\" : mesh_len_segmentation_match_list,   \n",
    "        \"mesh_filter_failed\" : mesh_filter_failed_list,\n",
    "        \"none_vertex_count\" : none_vertex_count_list,\n",
    "        \"stitch_vertex_count\" : stitch_vertex_count_list,\n",
    "        \"none_filtered_vertex_count\" : none_filtered_vertex_count_list,\n",
    "        \"stitch_filtered_vertex_count\" : stitch_filtered_vertex_count_list,\n",
    "    }\n",
    ")\n",
    "garment_df.to_csv(\n",
    "    f\"garment_df_{time.strftime('%Y%m%d_%H%M%S')}.csv\",\n",
    "    index=False\n",
    ")\n",
    "garment_df"
   ]
  },
  {
   "cell_type": "code",
   "execution_count": 23,
   "metadata": {},
   "outputs": [
    {
     "name": "stdout",
     "output_type": "stream",
     "text": [
      "268\n",
      "23\n",
      "251\n"
     ]
    }
   ],
   "source": [
    "print(garment_df[\"mesh_filter_failed\"].sum())\n",
    "print((garment_df[\"none_filtered_vertex_count\"] > 0).sum())\n",
    "print((garment_df[\"stitch_filtered_vertex_count\"] > 0).sum())\n",
    "\n",
    "# 268\n",
    "# 23\n",
    "# 251"
   ]
  },
  {
   "cell_type": "code",
   "execution_count": null,
   "metadata": {},
   "outputs": [],
   "source": [
    "def detect_stitch_vertices(mesh, vertex_labels):\n",
    "    \"\"\"\n",
    "    Reclassifies boundary vertices as stitches if they are between two or more distinct panels.\n",
    "\n",
    "    Parameters:\n",
    "    mesh: trimesh.Trimesh - The garment mesh\n",
    "    vertex_labels: np.array - Array of panel labels for each vertex\n",
    "\n",
    "    Returns:\n",
    "    updated_labels: np.array - Updated labels with stitch vertices reassigned\n",
    "    \"\"\"\n",
    "\n",
    "    updated_labels = vertex_labels.copy()  # Copy original labels\n",
    "\n",
    "    for v_idx in range(len(mesh.vertices)):  # Iterate through all vertices\n",
    "        neighbors = mesh.vertex_neighbors[v_idx]  # Get neighboring vertices\n",
    "        neighbor_labels = set(vertex_labels[n] for n in neighbors)  # Collect unique panel labels\n",
    "        \n",
    "        if len(neighbor_labels) > 1:  # More than one unique panel => stitch\n",
    "            updated_labels[v_idx] = \"stitch\"\n",
    "\n",
    "    return updated_labels"
   ]
  },
  {
   "cell_type": "code",
   "execution_count": 21,
   "metadata": {},
   "outputs": [],
   "source": [
    "filtered_combination_path_list = np.unique(garment_df[\n",
    "    garment_df[\"mesh_filter_failed\"] == False\n",
    "][\"matching_combination_name\"]).tolist()"
   ]
  },
  {
   "cell_type": "code",
   "execution_count": 22,
   "metadata": {},
   "outputs": [
    {
     "data": {
      "text/plain": [
       "1633"
      ]
     },
     "execution_count": 22,
     "metadata": {},
     "output_type": "execute_result"
    }
   ],
   "source": []
  }
 ],
 "metadata": {
  "kernelspec": {
   "display_name": "garment",
   "language": "python",
   "name": "python3"
  },
  "language_info": {
   "codemirror_mode": {
    "name": "ipython",
    "version": 3
   },
   "file_extension": ".py",
   "mimetype": "text/x-python",
   "name": "python",
   "nbconvert_exporter": "python",
   "pygments_lexer": "ipython3",
   "version": "3.10.16"
  }
 },
 "nbformat": 4,
 "nbformat_minor": 2
}
