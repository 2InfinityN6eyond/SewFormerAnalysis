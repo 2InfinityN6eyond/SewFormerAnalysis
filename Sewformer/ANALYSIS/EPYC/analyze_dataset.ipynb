{
 "cells": [
  {
   "cell_type": "code",
   "execution_count": null,
   "metadata": {},
   "outputs": [],
   "source": []
  },
  {
   "cell_type": "code",
   "execution_count": 1,
   "metadata": {},
   "outputs": [
    {
     "name": "stdout",
     "output_type": "stream",
     "text": [
      "/data/hjp/VTO2025/REFERENCES/sewformer/Sewformer/ANALYSIS/EPYC\n"
     ]
    },
    {
     "data": {
      "text/plain": [
       "'/data/hjp/VTO2025/DATASETs/sewfactory/TARs'"
      ]
     },
     "execution_count": 1,
     "metadata": {},
     "output_type": "execute_result"
    }
   ],
   "source": [
    "import os, sys\n",
    "\n",
    "print(os.getcwd())\n",
    "\n",
    "sys.path += [\n",
    "    os.path.dirname(os.path.dirname(os.path.abspath(os.getcwd()))),\n",
    "    os.path.dirname(os.path.dirname(os.path.dirname(os.path.abspath(os.getcwd())))),\n",
    "]\n",
    "\n",
    "from env_constants import SEWFORMER_ROOT, DATASET_ROOT\n",
    "\n",
    "DATASET_ROOT"
   ]
  },
  {
   "cell_type": "code",
   "execution_count": 3,
   "metadata": {},
   "outputs": [],
   "source": [
    "sys.path += [\n",
    "    SEWFORMER_ROOT,\n",
    "    DATASET_ROOT,\n",
    "]\n",
    "\n",
    "\n"
   ]
  },
  {
   "cell_type": "code",
   "execution_count": 4,
   "metadata": {},
   "outputs": [
    {
     "name": "stdout",
     "output_type": "stream",
     "text": [
      "/data/hjp/VTO2025/REFERENCES/sewformer/SewFactory/packages\n"
     ]
    }
   ],
   "source": [
    "from data.dataset import GarmentDetrDataset"
   ]
  },
  {
   "cell_type": "code",
   "execution_count": null,
   "metadata": {},
   "outputs": [],
   "source": [
    "\n",
    "root_path = \n",
    "sim_root = \n",
    "config = {}\n",
    "datapoints_names = []\n",
    "dataset_start_ids = []  # (folder, start_id) tuples -- ordered by start id\n",
    "\n",
    "\n",
    "folders = [folder for folder in os.listdir(root_path) if os.path.isdir(os.path.join(root_path, folder))]\n",
    "for folder in folders:\n",
    "    dataset_start_ids.append((folder, len(datapoints_names)))\n",
    "    if os.path.exists(os.path.join(root_path, folder, \"renders\")):\n",
    "        gt_folder = os.path.join(root_path, folder, \"static\")\n",
    "        img_names = [os.path.join(sim_root, folder, fn) for fn in os.listdir(os.path.join(root_path, folder, \"renders\")) if fn.endswith(\".png\")]\n",
    "        for img_name in img_names:\n",
    "            if os.path.exists(img_name):\n",
    "                merge_names = [(img_name, None, gt_folder)]\n",
    "                datapoints_names += merge_names\n",
    "    else:\n",
    "        gt_folder = os.path.join(root_path, folder)\n",
    "        merge_names = [(None, None, gt_folder)]\n",
    "        datapoints_names += merge_names"
   ]
  }
 ],
 "metadata": {
  "kernelspec": {
   "display_name": "garment",
   "language": "python",
   "name": "python3"
  },
  "language_info": {
   "codemirror_mode": {
    "name": "ipython",
    "version": 3
   },
   "file_extension": ".py",
   "mimetype": "text/x-python",
   "name": "python",
   "nbconvert_exporter": "python",
   "pygments_lexer": "ipython3",
   "version": "3.10.16"
  }
 },
 "nbformat": 4,
 "nbformat_minor": 2
}
