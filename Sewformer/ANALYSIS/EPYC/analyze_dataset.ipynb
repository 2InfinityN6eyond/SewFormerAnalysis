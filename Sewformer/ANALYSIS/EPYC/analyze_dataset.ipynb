{
 "cells": [
  {
   "cell_type": "code",
   "execution_count": null,
   "metadata": {},
   "outputs": [],
   "source": []
  },
  {
   "cell_type": "code",
<<<<<<< HEAD
   "execution_count": 15,
   "metadata": {},
   "outputs": [],
   "source": [
    "from pprint import pprint"
   ]
  },
  {
   "cell_type": "code",
   "execution_count": 2,
=======
   "execution_count": 1,
>>>>>>> eea89e80f8f1d9bc7771521cd7dddc40baa6ae1a
   "metadata": {},
   "outputs": [
    {
     "name": "stdout",
     "output_type": "stream",
     "text": [
<<<<<<< HEAD
      "/data/hjp/VTO2025/REFERENCES/sewformer/Sewformer/ANALYSIS/EPYC\n",
      "CURRENT DIR :  /data/hjp/VTO2025/REFERENCES/sewformer/Sewformer/data\n",
      "PARENT DIR :  /data/hjp/VTO2025/REFERENCES/sewformer/Sewformer\n"
     ]
=======
      "/data/hjp/VTO2025/REFERENCES/sewformer/Sewformer/ANALYSIS/EPYC\n"
     ]
    },
    {
     "data": {
      "text/plain": [
       "'/data/hjp/VTO2025/DATASETs/sewfactory/TARs'"
      ]
     },
     "execution_count": 1,
     "metadata": {},
     "output_type": "execute_result"
>>>>>>> eea89e80f8f1d9bc7771521cd7dddc40baa6ae1a
    }
   ],
   "source": [
    "import os, sys\n",
    "\n",
    "print(os.getcwd())\n",
    "\n",
    "sys.path += [\n",
    "    os.path.dirname(os.path.dirname(os.path.abspath(os.getcwd()))),\n",
    "    os.path.dirname(os.path.dirname(os.path.dirname(os.path.abspath(os.getcwd())))),\n",
    "]\n",
    "\n",
<<<<<<< HEAD
    "from env_constants import SEWFORMER_PROJ_ROOT, DATASET_ROOT\n",
    "\n",
    "sys.path += [\n",
    "    SEWFORMER_PROJ_ROOT,\n",
    "    DATASET_ROOT,\n",
    "]\n",
    "\n",
    "from data.dataset import GarmentDetrDataset"
=======
    "from env_constants import SEWFORMER_ROOT, DATASET_ROOT\n",
    "\n",
    "DATASET_ROOT"
>>>>>>> eea89e80f8f1d9bc7771521cd7dddc40baa6ae1a
   ]
  },
  {
   "cell_type": "code",
   "execution_count": 3,
   "metadata": {},
<<<<<<< HEAD
   "outputs": [
    {
     "data": {
      "text/plain": [
       "'/data/hjp/VTO2025/DATASETs/SewFactory'"
      ]
     },
     "execution_count": 3,
     "metadata": {},
     "output_type": "execute_result"
    }
   ],
   "source": [
    "DATASET_ROOT"
=======
   "outputs": [],
   "source": [
    "sys.path += [\n",
    "    SEWFORMER_ROOT,\n",
    "    DATASET_ROOT,\n",
    "]\n",
    "\n",
    "\n"
>>>>>>> eea89e80f8f1d9bc7771521cd7dddc40baa6ae1a
   ]
  },
  {
   "cell_type": "code",
   "execution_count": 4,
   "metadata": {},
<<<<<<< HEAD
   "outputs": [],
   "source": [
    "\n",
    "root_path = os.path.join(DATASET_ROOT, \"sewfactory\")\n",
    "sim_root = os.path.join(DATASET_ROOT, \"simimages\")\n",
=======
   "outputs": [
    {
     "name": "stdout",
     "output_type": "stream",
     "text": [
      "/data/hjp/VTO2025/REFERENCES/sewformer/SewFactory/packages\n"
     ]
    }
   ],
   "source": [
    "from data.dataset import GarmentDetrDataset"
   ]
  },
  {
   "cell_type": "code",
   "execution_count": null,
   "metadata": {},
   "outputs": [],
   "source": [
    "\n",
    "root_path = \n",
    "sim_root = \n",
>>>>>>> eea89e80f8f1d9bc7771521cd7dddc40baa6ae1a
    "config = {}\n",
    "datapoints_names = []\n",
    "dataset_start_ids = []  # (folder, start_id) tuples -- ordered by start id\n",
    "\n",
    "\n",
    "folders = [folder for folder in os.listdir(root_path) if os.path.isdir(os.path.join(root_path, folder))]\n",
    "for folder in folders:\n",
    "    dataset_start_ids.append((folder, len(datapoints_names)))\n",
    "    if os.path.exists(os.path.join(root_path, folder, \"renders\")):\n",
    "        gt_folder = os.path.join(root_path, folder, \"static\")\n",
    "        img_names = [os.path.join(sim_root, folder, fn) for fn in os.listdir(os.path.join(root_path, folder, \"renders\")) if fn.endswith(\".png\")]\n",
    "        for img_name in img_names:\n",
    "            if os.path.exists(img_name):\n",
    "                merge_names = [(img_name, None, gt_folder)]\n",
    "                datapoints_names += merge_names\n",
    "    else:\n",
    "        gt_folder = os.path.join(root_path, folder)\n",
    "        merge_names = [(None, None, gt_folder)]\n",
    "        datapoints_names += merge_names"
   ]
<<<<<<< HEAD
  },
  {
   "cell_type": "code",
   "execution_count": 5,
   "metadata": {},
   "outputs": [
    {
     "name": "stdout",
     "output_type": "stream",
     "text": [
      "657841\n"
     ]
    },
    {
     "ename": "NameError",
     "evalue": "name 'pprint' is not defined",
     "output_type": "error",
     "traceback": [
      "\u001b[0;31m---------------------------------------------------------------------------\u001b[0m",
      "\u001b[0;31mNameError\u001b[0m                                 Traceback (most recent call last)",
      "Cell \u001b[0;32mIn[5], line 2\u001b[0m\n\u001b[1;32m      1\u001b[0m \u001b[38;5;28mprint\u001b[39m(\u001b[38;5;28mlen\u001b[39m(datapoints_names))\n\u001b[0;32m----> 2\u001b[0m \u001b[43mpprint\u001b[49m(datapoints_names[\u001b[38;5;241m0\u001b[39m])\n",
      "\u001b[0;31mNameError\u001b[0m: name 'pprint' is not defined"
     ]
    }
   ],
   "source": [
    "print(len(datapoints_names))\n",
    "pprint(datapoints_names[0])"
   ]
=======
>>>>>>> eea89e80f8f1d9bc7771521cd7dddc40baa6ae1a
  }
 ],
 "metadata": {
  "kernelspec": {
   "display_name": "garment",
   "language": "python",
   "name": "python3"
  },
  "language_info": {
   "codemirror_mode": {
    "name": "ipython",
    "version": 3
   },
   "file_extension": ".py",
   "mimetype": "text/x-python",
   "name": "python",
   "nbconvert_exporter": "python",
   "pygments_lexer": "ipython3",
   "version": "3.10.16"
  }
 },
 "nbformat": 4,
 "nbformat_minor": 2
}
