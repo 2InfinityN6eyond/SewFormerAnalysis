{
 "cells": [
  {
   "cell_type": "code",
   "execution_count": null,
   "metadata": {},
   "outputs": [],
   "source": []
  },
  {
   "cell_type": "code",
   "execution_count": 5,
   "metadata": {},
   "outputs": [
    {
     "data": {
      "text/plain": [
       "'DESKTOP-0IJAC10'"
      ]
     },
     "execution_count": 5,
     "metadata": {},
     "output_type": "execute_result"
    }
   ],
   "source": [
    "import os, socket\n",
    "\n",
    "socket.gethostname()"
   ]
  },
  {
   "cell_type": "code",
   "execution_count": 6,
   "metadata": {},
   "outputs": [
    {
     "data": {
      "text/plain": [
       "'c:\\\\Users\\\\dytpq0916\\\\VTO2025\\\\REFERENCES\\\\SewFormerAnalysis\\\\Sewformer\\\\ANALYSIS\\\\WINPC'"
      ]
     },
     "execution_count": 6,
     "metadata": {},
     "output_type": "execute_result"
    }
   ],
   "source": [
    "pwd"
   ]
  },
  {
   "cell_type": "markdown",
   "metadata": {},
   "source": [
    " 'C:\\Program Files\\Autodesk\\Maya2022\\bin\\mayapy.exe' -m IPython\n",
    "\n",
    " & 'C:\\Program Files\\Autodesk\\Maya2022\\bin\\mayapy.exe'"
   ]
  },
  {
   "cell_type": "code",
   "execution_count": 1,
   "metadata": {},
   "outputs": [
    {
     "name": "stderr",
     "output_type": "stream",
     "text": [
      "c:\\Users\\dytpq0916\\VTO2025\\REFERENCES\\SewFormerAnalysis\\Sewformer\\env_constants.py:24: SyntaxWarning: invalid escape sequence '\\V'\n",
      "  DATASET_ROOT        = \"D:\\VTO2025\\sewfactory\"\n",
      "C:\\Users\\dytpq0916\\VTO2025\\REFERENCES\\GarmentCodeAnalysis\\pygarment\\garmentcode\\utils.py:83: SyntaxWarning: invalid escape sequence '\\i'\n",
      "  raise ValueError(f'lin_interpolation::ERROR::Expected a factor \\in [0, 1], got {factor}')\n",
      "C:\\Users\\dytpq0916\\VTO2025\\REFERENCES\\GarmentCodeAnalysis\\pygarment\\pattern\\core.py:636: SyntaxWarning: invalid escape sequence '\\c'\n",
      "  \"\"\"\n"
     ]
    }
   ],
   "source": [
    "import os, sys\n",
    "sys.path.append(os.path.dirname(os.getcwd()))\n",
    "sys.path.append(os.path.dirname(os.path.dirname(os.getcwd())))\n",
    "\n",
    "from glob import glob\n",
    "import math\n",
    "from pprint import pprint\n",
    "import numpy as np\n",
    "import matplotlib.pyplot as plt\n",
    "from PIL import Image\n",
    "import time\n",
    "import json\n",
    "import random\n",
    "import pandas as pd\n",
    "from tqdm import tqdm\n",
    "import trimesh\n",
    "import pickle\n",
    "import pandas as pd\n",
    "# import torch\n",
    "\n",
    "from ANALYSIS.analysis_utils import (\n",
    "    plot_panel_info,\n",
    "    visualize_meshes_plotly,\n",
    "    filter_segmentation_map,\n",
    "    filter_segmentation_map_clusters,\n",
    "    is_clockwise,\n",
    ")\n",
    "\n",
    "from env_constants import SEWFORMER_PROJ_ROOT, DATASET_ROOT, PYGARMENT_ROOT\n",
    "\n",
    "sys.path.append(PYGARMENT_ROOT)\n",
    "\n",
    "import pygarment as pyg"
   ]
  },
  {
   "cell_type": "code",
   "execution_count": 6,
   "metadata": {},
   "outputs": [],
   "source": [
    "garment_df = pd.read_csv(\"garment_df_20250215_165422.csv\")\n",
    "\n",
    "filtered_combination_name_list = np.unique(garment_df[\n",
    "    garment_df[\"mesh_filter_failed\"] == False\n",
    "][\"matching_combination_name\"]).tolist()\n",
    "\n",
    "filtered_combination_path_list = list(map(\n",
    "    lambda x : os.path.join(DATASET_ROOT, 'sewfactory', x),\n",
    "    filtered_combination_name_list\n",
    "))"
   ]
  },
  {
   "cell_type": "code",
   "execution_count": null,
   "metadata": {},
   "outputs": [],
   "source": []
  },
  {
   "cell_type": "code",
   "execution_count": 7,
   "metadata": {},
   "outputs": [],
   "source": [
    "joints_name = (\n",
    "    'Pelvis', 'L_Hip', 'R_Hip', 'Torso', 'L_Knee', 'R_Knee',\n",
    "    'Spine', 'L_Ankle', 'R_Ankle', 'Chest', 'L_Toe', 'R_Toe',\n",
    "    'Neck', 'L_Thorax', 'R_Thorax', 'Head', 'L_Shoulder', 'R_Shoulder',\n",
    "    'L_Elbow', 'R_Elbow', 'L_Wrist', 'R_Wrist', 'L_Hand', 'R_Hand', 'Nose',\n",
    "    'L_Eye', 'R_Eye', 'L_Ear', 'R_Ear', 'Head_top'\n",
    ")\n",
    "skeleton = (\n",
    "    (0,1), (1,4), (4,7), (7,10), (0,2), (2,5), (5,8), (8,11), (0,3), (3,6), (6,9),\n",
    "    (9,14), (14,17), (17,19), (19, 21), (21,23), (9,13), (13,16), (16,18), (18,20),\n",
    "    (20,22), (9,12), (12,24), (24,15), (24,25), (24,26), (25,27), (26,28), (24,29)\n",
    ")"
   ]
  },
  {
   "cell_type": "code",
   "execution_count": null,
   "metadata": {},
   "outputs": [],
   "source": [
    "def amass_to_pose(src_path, save_path,save_path1):\n",
    "    bdata = np.load(src_path, allow_pickle=True)\n",
    "    fps = 0\n",
    "    try:\n",
    "        fps = bdata['mocap_framerate']\n",
    "        frame_number = bdata['trans'].shape[0]\n",
    "    except:\n",
    "#         print(list(bdata.keys()))\n",
    "        return fps\n",
    "    \n",
    "    fId = 0 # frame id of the mocap sequence\n",
    "    pose_seq = []\n",
    "    vertex_seq = []\n",
    "    if bdata['gender'] == 'male':\n",
    "        bm = male_bm\n",
    "    else:\n",
    "        bm = female_bm\n",
    "    down_sample = int(fps / ex_fps)\n",
    "#     print(frame_number)\n",
    "#     print(fps)\n",
    "    root_data=0\n",
    "    with torch.no_grad():\n",
    "        for fId in range(0, frame_number, down_sample):\n",
    "            root_orient = torch.Tensor(bdata['poses'][fId:fId+1, :3]).to(comp_device) # controls the global root orientation\n",
    "            #tt_test=root_orient[0][2].detach().clone()\n",
    "            if fId==0:\n",
    "                root_data=root_orient\n",
    "            root_orient=root_orient-root_data\n",
    "            #root_orient[0][1]=tt_test\n",
    "            pose_body = torch.Tensor(bdata['poses'][fId:fId+1, 3:66]).to(comp_device) # controls the body\n",
    "            pose_hand = torch.Tensor(bdata['poses'][fId:fId+1, 66:]).to(comp_device) # controls the finger articulation\n",
    "            betas = torch.Tensor(bdata['betas'][:10][np.newaxis]).to(comp_device) # controls the body shape\n",
    "\n",
    "            #trans = torch.Tensor(bdata['trans'][fId:fId+1]).to(comp_device)    \n",
    "            body = bm(pose_body=pose_body, pose_hand=pose_hand, betas=betas, root_orient=root_orient)\n",
    "            joint_loc = body.Jtr[0] #+ trans\n",
    "            vertex=body.v[0]\n",
    "            pose_seq.append(joint_loc.unsqueeze(0))\n",
    "            vertex_seq.append(vertex.unsqueeze(0))\n",
    "    pose_seq = torch.cat(pose_seq, dim=0)\n",
    "    vertex_seq = torch.cat(vertex_seq, dim=0).detach().cpu().numpy()\n",
    "    \n",
    "    pose_seq_np = pose_seq.detach().cpu().numpy()\n",
    "    np.save(save_path, pose_seq_np)\n",
    "    np.save(save_path1,vertex_seq)\n",
    "    return fps"
   ]
  },
  {
   "cell_type": "code",
   "execution_count": null,
   "metadata": {},
   "outputs": [],
   "source": []
  },
  {
   "cell_type": "code",
   "execution_count": 13,
   "metadata": {},
   "outputs": [
    {
     "data": {
      "text/plain": [
       "((10,), (3,), (52, 3))"
      ]
     },
     "execution_count": 13,
     "metadata": {},
     "output_type": "execute_result"
    }
   ],
   "source": [
    "body_info_path = os.path.join(\n",
    "    SEWFORMER_PROJ_ROOT,\n",
    "    \"SewFactory\", \"examples\", \"fuckingHell__body_info.json\"\n",
    ")\n",
    "\n",
    "body_info = json.load(open(body_info_path, \"r\"))\n",
    "\n",
    "body_info.keys()\n",
    "\n",
    "np.array(body_info[\"shape\"]).shape, np.array(body_info[\"trans\"]).shape, np.array(body_info[\"pose\"]).shape\n"
   ]
  },
  {
   "cell_type": "code",
   "execution_count": 14,
   "metadata": {},
   "outputs": [
    {
     "data": {
      "text/plain": [
       "array([[ 0.76705712,  1.66349971,  1.84736717],\n",
       "       [-0.13965544, -0.08009317, -0.04988057],\n",
       "       [ 0.25977683,  0.03148104, -0.0783634 ],\n",
       "       [-0.19558825,  0.0770316 ,  0.08279401],\n",
       "       [ 0.        ,  0.        ,  0.        ],\n",
       "       [ 0.00602317,  0.02500766, -0.14073037],\n",
       "       [ 0.98920232, -0.10086214, -0.06216767],\n",
       "       [ 0.21144934, -0.15072259,  0.16301364],\n",
       "       [ 0.        ,  0.        ,  0.        ],\n",
       "       [ 0.09141605,  0.07704409, -0.09555406],\n",
       "       [ 0.11973252, -0.01931608,  0.03081282],\n",
       "       [-0.03203873,  0.04941078,  0.00402705],\n",
       "       [-0.10786904,  0.05210842,  0.10010238],\n",
       "       [ 0.02678382, -0.05839427, -0.04454228],\n",
       "       [ 0.05099276, -0.06246081, -0.34794655],\n",
       "       [ 0.15228388, -0.16913849, -1.12803459],\n",
       "       [ 0.26461682, -0.44811746,  0.27054751],\n",
       "       [-0.32592213, -0.26719871, -0.17984928],\n",
       "       [-0.07072913,  0.2990959 ,  0.39636588],\n",
       "       [-0.20578609,  0.64986241,  0.85632759],\n",
       "       [-0.66297793,  0.27196911, -0.39488003],\n",
       "       [-0.54853803,  0.14015575, -0.08892171],\n",
       "       [ 0.11167871,  0.04289218, -0.41644183],\n",
       "       [ 0.10881133, -0.06598568, -0.75621998],\n",
       "       [-0.09639297, -0.09091566, -0.18845929],\n",
       "       [-0.11809504,  0.05094385, -0.52958453],\n",
       "       [-0.14369841,  0.0552417 , -0.70485711],\n",
       "       [-0.01918292, -0.09233685, -0.33791351],\n",
       "       [-0.45703298, -0.19628395, -0.62545753],\n",
       "       [-0.21465237, -0.06599829, -0.50689423],\n",
       "       [-0.36972436, -0.06034463, -0.07949023],\n",
       "       [-0.14186969, -0.08585263, -0.63552827],\n",
       "       [-0.3033416 , -0.05788098, -0.6313892 ],\n",
       "       [-0.17612089, -0.13209307, -0.37335458],\n",
       "       [ 0.85096431,  0.27692273, -0.09154807],\n",
       "       [-0.49983943,  0.02655647,  0.05288088],\n",
       "       [ 0.53555918,  0.04596104, -0.27735803],\n",
       "       [ 0.11167871, -0.04289218,  0.41644183],\n",
       "       [ 0.10881133,  0.06598568,  0.75621998],\n",
       "       [-0.09639297,  0.09091566,  0.18845929],\n",
       "       [-0.11809504, -0.05094385,  0.52958453],\n",
       "       [-0.14369841, -0.0552417 ,  0.70485711],\n",
       "       [-0.01918292,  0.09233685,  0.33791351],\n",
       "       [-0.45703298,  0.19628395,  0.62545753],\n",
       "       [-0.21465237,  0.06599829,  0.50689423],\n",
       "       [-0.36972436,  0.06034463,  0.07949023],\n",
       "       [-0.14186969,  0.08585263,  0.63552827],\n",
       "       [-0.3033416 ,  0.05788098,  0.6313892 ],\n",
       "       [-0.17612089,  0.13209307,  0.37335458],\n",
       "       [ 0.85096431, -0.27692273,  0.09154807],\n",
       "       [-0.49983943, -0.02655647, -0.05288088],\n",
       "       [ 0.        , -0.        ,  0.        ]])"
      ]
     },
     "execution_count": 14,
     "metadata": {},
     "output_type": "execute_result"
    }
   ],
   "source": [
    "np.array(body_info[\"pose\"])\n"
   ]
  },
  {
   "cell_type": "code",
   "execution_count": 5,
   "metadata": {},
   "outputs": [],
   "source": [
    "pose_file_path = os.path.join(\n",
    "    SEWFORMER_PROJ_ROOT,\n",
    "    \"SewFactory\", \"examples\", \"human_poses\",\n",
    "    \"walkdog_poses.npz\"\n",
    ")\n",
    "\n",
    "data = np.load(pose_file_path)\n",
    "if 'poses' in data.keys():\n",
    "    poses = data['poses']\n",
    "    N = poses.shape[0]\n",
    "    cdata_ids = list(range(int(0.1*N), int(0.9*N),1))\n",
    "    poses = data['poses'][cdata_ids].astype(np.float32)\n",
    "    trans = data['trans'][cdata_ids].astype(np.float32)\n",
    "    total_frames = poses.shape[0]\n",
    "gender = data['gender']"
   ]
  },
  {
   "cell_type": "code",
   "execution_count": 9,
   "metadata": {},
   "outputs": [
    {
     "data": {
      "text/plain": [
       "((1564, 156), (1564, 3), 1564, array('male', dtype='<U4'))"
      ]
     },
     "execution_count": 9,
     "metadata": {},
     "output_type": "execute_result"
    }
   ],
   "source": [
    "poses.shape, trans.shape, total_frames, gender"
   ]
  },
  {
   "cell_type": "markdown",
   "metadata": {},
   "source": []
  },
  {
   "cell_type": "code",
   "execution_count": 2,
   "metadata": {},
   "outputs": [
    {
     "data": {
      "text/plain": [
       "'c:\\\\Users\\\\dytpq0916\\\\VTO2025\\\\REFERENCES\\\\SewFormerAnalysis'"
      ]
     },
     "execution_count": 2,
     "metadata": {},
     "output_type": "execute_result"
    }
   ],
   "source": [
    "SEWFORMER_PROJ_ROOT"
   ]
  },
  {
   "cell_type": "code",
   "execution_count": 23,
   "metadata": {},
   "outputs": [
    {
     "name": "stdout",
     "output_type": "stream",
     "text": [
      "[ True  True False]  [0.7670571 1.6634997 1.8473672]            [0.76705712 1.66349971 1.84736717]\n",
      "[ True  True  True]  [-0.13965544 -0.08009317 -0.04988057]            [-0.13965544 -0.08009317 -0.04988057]\n",
      "[False False False]  [ 0.00602317  0.02500766 -0.14073037]            [ 0.25977683  0.03148104 -0.0783634 ]\n",
      "[False False False]  [ 0.09141605  0.07704409 -0.09555406]            [-0.19558825  0.0770316   0.08279401]\n",
      "[False False False]  [ 0.25977683  0.03148104 -0.0783634 ]            [0. 0. 0.]\n",
      "[False False False]  [ 0.9892023  -0.10086214 -0.06216767]            [ 0.00602317  0.02500766 -0.14073037]\n",
      "[False False False]  [ 0.11973252 -0.01931608  0.03081282]            [ 0.98920232 -0.10086214 -0.06216767]\n",
      "[False False False]  [-0.19558825  0.0770316   0.08279401]            [ 0.21144934 -0.15072259  0.16301364]\n",
      "[False False False]  [ 0.21144934 -0.1507226   0.16301364]            [0. 0. 0.]\n",
      "[False False False]  [-0.03203873  0.04941078  0.00402705]            [ 0.09141605  0.07704409 -0.09555406]\n",
      "[False False False]  [0. 0. 0.]            [ 0.11973252 -0.01931608  0.03081282]\n",
      "[False False False]  [0. 0. 0.]            [-0.03203873  0.04941078  0.00402705]\n",
      "[ True  True  True]  [-0.10786904  0.05210842  0.10010238]            [-0.10786904  0.05210842  0.10010238]\n",
      "[False False False]  [ 0.05099276 -0.06246081 -0.34794655]            [ 0.02678382 -0.05839427 -0.04454228]\n",
      "[False False False]  [-0.07072913  0.2990959   0.39636588]            [ 0.05099276 -0.06246081 -0.34794655]\n",
      "[False False False]  [ 0.02678382 -0.05839427 -0.04454228]            [ 0.15228388 -0.16913849 -1.12803459]\n",
      "[False False False]  [ 0.15228388 -0.16913849 -1.1280346 ]            [ 0.26461682 -0.44811746  0.27054751]\n",
      "[False False False]  [-0.2057861  0.6498624  0.8563276]            [-0.32592213 -0.26719871 -0.17984928]\n",
      "[False False False]  [ 0.26461682 -0.44811746  0.2705475 ]            [-0.07072913  0.2990959   0.39636588]\n",
      "[False False False]  [-0.66297793  0.2719691  -0.39488003]            [-0.20578609  0.64986241  0.85632759]\n",
      "[False False False]  [-0.32592213 -0.2671987  -0.17984928]            [-0.66297793  0.27196911 -0.39488003]\n",
      "[ True  True  True]  [-0.548538    0.14015575 -0.08892171]            [-0.54853803  0.14015575 -0.08892171]\n",
      "[ True  True  True]  [ 0.11167871  0.04289218 -0.41644183]            [ 0.11167871  0.04289218 -0.41644183]\n",
      "[ True  True  True]  [ 0.10881133 -0.06598568 -0.75622   ]            [ 0.10881133 -0.06598568 -0.75621998]\n",
      "[ True  True  True]  [-0.09639297 -0.09091566 -0.18845929]            [-0.09639297 -0.09091566 -0.18845929]\n",
      "[ True  True  True]  [-0.11809504  0.05094385 -0.5295845 ]            [-0.11809504  0.05094385 -0.52958453]\n",
      "[ True  True  True]  [-0.14369841  0.0552417  -0.7048571 ]            [-0.14369841  0.0552417  -0.70485711]\n",
      "[ True  True  True]  [-0.01918292 -0.09233685 -0.3379135 ]            [-0.01918292 -0.09233685 -0.33791351]\n",
      "[ True  True False]  [-0.45703298 -0.19628395 -0.6254575 ]            [-0.45703298 -0.19628395 -0.62545753]\n",
      "[ True  True False]  [-0.21465237 -0.06599829 -0.50689423]            [-0.21465237 -0.06599829 -0.50689423]\n",
      "[ True  True  True]  [-0.36972436 -0.06034463 -0.07949023]            [-0.36972436 -0.06034463 -0.07949023]\n",
      "[ True  True False]  [-0.1418697  -0.08585263 -0.63552827]            [-0.14186969 -0.08585263 -0.63552827]\n",
      "[False False  True]  [-0.3033416  -0.05788098 -0.6313892 ]            [-0.3033416  -0.05788098 -0.6313892 ]\n",
      "[ True  True  True]  [-0.17612089 -0.13209307 -0.37335458]            [-0.17612089 -0.13209307 -0.37335458]\n",
      "[ True  True  True]  [ 0.8509643   0.27692273 -0.09154807]            [ 0.85096431  0.27692273 -0.09154807]\n",
      "[ True  True  True]  [-0.49983943  0.02655647  0.05288088]            [-0.49983943  0.02655647  0.05288088]\n",
      "[ True  True  True]  [ 0.5355592   0.04596104 -0.27735803]            [ 0.53555918  0.04596104 -0.27735803]\n",
      "[ True  True  True]  [ 0.11167871 -0.04289218  0.41644183]            [ 0.11167871 -0.04289218  0.41644183]\n",
      "[ True  True  True]  [0.10881133 0.06598568 0.75622   ]            [0.10881133 0.06598568 0.75621998]\n",
      "[ True  True  True]  [-0.09639297  0.09091566  0.18845929]            [-0.09639297  0.09091566  0.18845929]\n",
      "[ True  True  True]  [-0.11809504 -0.05094385  0.5295845 ]            [-0.11809504 -0.05094385  0.52958453]\n",
      "[ True  True  True]  [-0.14369841 -0.0552417   0.7048571 ]            [-0.14369841 -0.0552417   0.70485711]\n",
      "[ True  True  True]  [-0.01918292  0.09233685  0.3379135 ]            [-0.01918292  0.09233685  0.33791351]\n",
      "[ True  True False]  [-0.45703298  0.19628395  0.6254575 ]            [-0.45703298  0.19628395  0.62545753]\n",
      "[ True  True False]  [-0.21465237  0.06599829  0.50689423]            [-0.21465237  0.06599829  0.50689423]\n",
      "[ True  True  True]  [-0.36972436  0.06034463  0.07949023]            [-0.36972436  0.06034463  0.07949023]\n",
      "[ True  True False]  [-0.1418697   0.08585263  0.63552827]            [-0.14186969  0.08585263  0.63552827]\n",
      "[False False  True]  [-0.3033416   0.05788098  0.6313892 ]            [-0.3033416   0.05788098  0.6313892 ]\n",
      "[ True  True  True]  [-0.17612089  0.13209307  0.37335458]            [-0.17612089  0.13209307  0.37335458]\n",
      "[ True  True  True]  [ 0.8509643  -0.27692273  0.09154807]            [ 0.85096431 -0.27692273  0.09154807]\n",
      "[ True  True  True]  [-0.49983943 -0.02655647 -0.05288088]            [-0.49983943 -0.02655647 -0.05288088]\n",
      "[False False False]  [ 0.5355592  -0.04596104  0.27735803]            [ 0. -0.  0.]\n"
     ]
    }
   ],
   "source": [
    "IDX = 0\n",
    "poses[3].reshape(-1, 3) == np.array(body_info[\"pose\"])\n",
    "\n",
    "for row1, row2 in zip(poses[3].reshape(-1, 3), np.array(body_info[\"pose\"])):\n",
    "    print(f\"{row1 == row2}  {row1}            {row2}\")\n",
    "\n",
    "\n",
    "\n",
    "\n",
    "\n"
   ]
  },
  {
   "cell_type": "code",
   "execution_count": null,
   "metadata": {},
   "outputs": [],
   "source": []
  },
  {
   "cell_type": "code",
   "execution_count": null,
   "metadata": {},
   "outputs": [],
   "source": []
  },
  {
   "cell_type": "markdown",
   "metadata": {},
   "source": []
  }
 ],
 "metadata": {
  "kernelspec": {
   "display_name": "base",
   "language": "python",
   "name": "python3"
  },
  "language_info": {
   "codemirror_mode": {
    "name": "ipython",
    "version": 3
   },
   "file_extension": ".py",
   "mimetype": "text/x-python",
   "name": "python",
   "nbconvert_exporter": "python",
   "pygments_lexer": "ipython3",
   "version": "3.12.7"
  }
 },
 "nbformat": 4,
 "nbformat_minor": 2
}
