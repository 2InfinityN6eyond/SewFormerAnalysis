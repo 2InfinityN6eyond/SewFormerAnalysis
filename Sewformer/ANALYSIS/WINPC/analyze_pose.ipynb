{
 "cells": [
  {
   "cell_type": "code",
   "execution_count": null,
   "metadata": {},
   "outputs": [],
   "source": []
  },
  {
   "cell_type": "code",
   "execution_count": 2,
   "metadata": {},
   "outputs": [
    {
     "data": {
      "text/plain": [
       "'DESKTOP-0IJAC10'"
      ]
     },
     "execution_count": 2,
     "metadata": {},
     "output_type": "execute_result"
    }
   ],
   "source": [
    "import os, socket\n",
    "\n",
    "socket.gethostname()"
   ]
  },
  {
   "cell_type": "code",
   "execution_count": 3,
   "metadata": {},
   "outputs": [
    {
     "data": {
      "text/plain": [
       "'c:\\\\Users\\\\dytpq0916\\\\VTO2025\\\\REFERENCES\\\\SewFormerAnalysis\\\\Sewformer\\\\ANALYSIS\\\\WINPC'"
      ]
     },
     "execution_count": 3,
     "metadata": {},
     "output_type": "execute_result"
    }
   ],
   "source": [
    "pwd"
   ]
  },
  {
   "cell_type": "markdown",
   "metadata": {},
   "source": [
    " 'C:\\Program Files\\Autodesk\\Maya2022\\bin\\mayapy.exe' -m IPython\n",
    "\n",
    " & 'C:\\Program Files\\Autodesk\\Maya2022\\bin\\mayapy.exe'"
   ]
  },
  {
   "cell_type": "code",
   "execution_count": 5,
   "metadata": {},
   "outputs": [],
   "source": [
    "import os, sys\n",
    "sys.path.append(os.path.dirname(os.getcwd()))\n",
    "sys.path.append(os.path.dirname(os.path.dirname(os.getcwd())))\n",
    "\n",
    "from glob import glob\n",
    "import math\n",
    "from pprint import pprint\n",
    "import numpy as np\n",
    "import matplotlib.pyplot as plt\n",
    "from PIL import Image\n",
    "import time\n",
    "import json\n",
    "import random\n",
    "import pandas as pd\n",
    "from tqdm import tqdm\n",
    "import trimesh\n",
    "import pickle\n",
    "import pandas as pd\n",
    "import torch\n",
    "\n",
    "from ANALYSIS.analysis_utils import (\n",
    "    plot_panel_info,\n",
    "    visualize_meshes_plotly,\n",
    "    filter_segmentation_map,\n",
    "    filter_segmentation_map_clusters,\n",
    "    is_clockwise,\n",
    ")\n",
    "\n",
    "from env_constants import SEWFORMER_PROJ_ROOT, DATASET_ROOT, PYGARMENT_ROOT\n",
    "\n",
    "sys.path.append(PYGARMENT_ROOT)\n",
    "\n",
    "import pygarment as pyg"
   ]
  },
  {
   "cell_type": "code",
   "execution_count": 6,
   "metadata": {},
   "outputs": [],
   "source": [
    "garment_df = pd.read_csv(\"garment_df_20250215_165422.csv\")\n",
    "\n",
    "filtered_combination_name_list = np.unique(garment_df[\n",
    "    garment_df[\"mesh_filter_failed\"] == False\n",
    "][\"matching_combination_name\"]).tolist()\n",
    "\n",
    "filtered_combination_path_list = list(map(\n",
    "    lambda x : os.path.join(DATASET_ROOT, 'sewfactory', x),\n",
    "    filtered_combination_name_list\n",
    "))"
   ]
  },
  {
   "cell_type": "code",
   "execution_count": 7,
   "metadata": {},
   "outputs": [],
   "source": [
    "joints_name = (\n",
    "    'Pelvis', 'L_Hip', 'R_Hip', 'Torso', 'L_Knee', 'R_Knee',\n",
    "    'Spine', 'L_Ankle', 'R_Ankle', 'Chest', 'L_Toe', 'R_Toe',\n",
    "    'Neck', 'L_Thorax', 'R_Thorax', 'Head', 'L_Shoulder', 'R_Shoulder',\n",
    "    'L_Elbow', 'R_Elbow', 'L_Wrist', 'R_Wrist', 'L_Hand', 'R_Hand', 'Nose',\n",
    "    'L_Eye', 'R_Eye', 'L_Ear', 'R_Ear', 'Head_top'\n",
    ")\n",
    "skeleton = (\n",
    "    (0,1), (1,4), (4,7), (7,10), (0,2), (2,5), (5,8), (8,11), (0,3), (3,6), (6,9),\n",
    "    (9,14), (14,17), (17,19), (19, 21), (21,23), (9,13), (13,16), (16,18), (18,20),\n",
    "    (20,22), (9,12), (12,24), (24,15), (24,25), (24,26), (25,27), (26,28), (24,29)\n",
    ")"
   ]
  },
  {
   "cell_type": "code",
   "execution_count": null,
   "metadata": {},
   "outputs": [],
   "source": [
    "def amass_to_pose(src_path, save_path,save_path1):\n",
    "    bdata = np.load(src_path, allow_pickle=True)\n",
    "    fps = 0\n",
    "    try:\n",
    "        fps = bdata['mocap_framerate']\n",
    "        frame_number = bdata['trans'].shape[0]\n",
    "    except:\n",
    "#         print(list(bdata.keys()))\n",
    "        return fps\n",
    "    \n",
    "    fId = 0 # frame id of the mocap sequence\n",
    "    pose_seq = []\n",
    "    vertex_seq = []\n",
    "    if bdata['gender'] == 'male':\n",
    "        bm = male_bm\n",
    "    else:\n",
    "        bm = female_bm\n",
    "    down_sample = int(fps / ex_fps)\n",
    "#     print(frame_number)\n",
    "#     print(fps)\n",
    "    root_data=0\n",
    "    with torch.no_grad():\n",
    "        for fId in range(0, frame_number, down_sample):\n",
    "            root_orient = torch.Tensor(bdata['poses'][fId:fId+1, :3]).to(comp_device) # controls the global root orientation\n",
    "            #tt_test=root_orient[0][2].detach().clone()\n",
    "            if fId==0:\n",
    "                root_data=root_orient\n",
    "            root_orient=root_orient-root_data\n",
    "            #root_orient[0][1]=tt_test\n",
    "            pose_body = torch.Tensor(bdata['poses'][fId:fId+1, 3:66]).to(comp_device) # controls the body\n",
    "            pose_hand = torch.Tensor(bdata['poses'][fId:fId+1, 66:]).to(comp_device) # controls the finger articulation\n",
    "            betas = torch.Tensor(bdata['betas'][:10][np.newaxis]).to(comp_device) # controls the body shape\n",
    "\n",
    "            #trans = torch.Tensor(bdata['trans'][fId:fId+1]).to(comp_device)    \n",
    "            body = bm(pose_body=pose_body, pose_hand=pose_hand, betas=betas, root_orient=root_orient)\n",
    "            joint_loc = body.Jtr[0] #+ trans\n",
    "            vertex=body.v[0]\n",
    "            pose_seq.append(joint_loc.unsqueeze(0))\n",
    "            vertex_seq.append(vertex.unsqueeze(0))\n",
    "    pose_seq = torch.cat(pose_seq, dim=0)\n",
    "    vertex_seq = torch.cat(vertex_seq, dim=0).detach().cpu().numpy()\n",
    "    \n",
    "    pose_seq_np = pose_seq.detach().cpu().numpy()\n",
    "    np.save(save_path, pose_seq_np)\n",
    "    np.save(save_path1,vertex_seq)\n",
    "    return fps"
   ]
  },
  {
   "cell_type": "code",
   "execution_count": null,
   "metadata": {},
   "outputs": [],
   "source": []
  },
  {
   "cell_type": "markdown",
   "metadata": {},
   "source": []
  }
 ],
 "metadata": {
  "kernelspec": {
   "display_name": "base",
   "language": "python",
   "name": "python3"
  },
  "language_info": {
   "codemirror_mode": {
    "name": "ipython",
    "version": 3
   },
   "file_extension": ".py",
   "mimetype": "text/x-python",
   "name": "python",
   "nbconvert_exporter": "python",
   "pygments_lexer": "ipython3",
   "version": "3.12.7"
  }
 },
 "nbformat": 4,
 "nbformat_minor": 2
}
