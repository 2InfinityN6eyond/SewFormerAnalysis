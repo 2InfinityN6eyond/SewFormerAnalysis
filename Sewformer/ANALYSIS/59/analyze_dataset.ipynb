{
 "cells": [
  {
   "cell_type": "code",
   "execution_count": 1,
   "metadata": {},
   "outputs": [],
   "source": [
    "import os, sys\n",
    "sys.path.append(os.path.dirname(os.getcwd()))\n",
    "sys.path.append(os.path.dirname(os.path.dirname(os.getcwd())))\n",
    "\n",
    "from glob import glob\n",
    "import math\n",
    "from pprint import pprint\n",
    "import numpy as np\n",
    "import matplotlib.pyplot as plt\n",
    "from PIL import Image\n",
    "import time\n",
    "import json\n",
    "import random\n",
    "import pandas as pd\n",
    "from tqdm import tqdm\n",
    "import trimesh\n",
    "\n",
    "import torch\n",
    "\n",
    "from ANALYSIS.analysis_utils import (\n",
    "    plot_panel_info,\n",
    "    visualize_meshes_plotly,\n",
    "    filter_segmentation_map,\n",
    "    filter_segmentation_map_clusters,\n",
    "    is_clockwise,\n",
    ")\n",
    "\n",
    "from env_constants import SEWFORMER_PROJ_ROOT, DATASET_ROOT, PYGARMENT_ROOT, SEWING_DATA_ROOT\n",
    "\n",
    "sys.path.append(PYGARMENT_ROOT)\n",
    "\n",
    "import pygarment as pyg"
   ]
  },
  {
   "cell_type": "code",
   "execution_count": 2,
   "metadata": {},
   "outputs": [
    {
     "name": "stderr",
     "output_type": "stream",
     "text": [
      "  0%|          | 0/13707 [00:00<?, ?it/s]"
     ]
    },
    {
     "name": "stderr",
     "output_type": "stream",
     "text": [
      "100%|██████████| 13707/13707 [00:00<00:00, 131024.50it/s]"
     ]
    },
    {
     "name": "stdout",
     "output_type": "stream",
     "text": [
      "No spec_config.json in /media/hjp/05aba9a7-0e74-4e54-9bc9-5f11b9c4c757/SewFactory/sewfactory/sewfactory/tee_sleeveless_C2EFEDVIB0_wb_pants_straight_U3CBKG8WW1\n"
     ]
    },
    {
     "name": "stderr",
     "output_type": "stream",
     "text": [
      "\n"
     ]
    },
    {
     "data": {
      "text/plain": [
       "13706"
      ]
     },
     "execution_count": 2,
     "metadata": {},
     "output_type": "execute_result"
    }
   ],
   "source": [
    "def filter_fn(path):\n",
    "    if not os.path.isdir(path):\n",
    "        print(f\"{path} is not a directory\")\n",
    "        return False\n",
    "    if not os.path.exists(os.path.join(path, \"static\", \"spec_config.json\")):\n",
    "        print(f\"No spec_config.json in {path}\")\n",
    "        return False\n",
    "    return True\n",
    "\n",
    "raw_combination_path_list = sorted(glob(os.path.join(DATASET_ROOT, \"sewfactory\", \"*\")))\n",
    "combination_path_list = []\n",
    "for garment_path in tqdm(raw_combination_path_list):\n",
    "    if filter_fn(garment_path):\n",
    "        combination_path_list.append(garment_path)\n",
    "len(combination_path_list)"
   ]
  },
  {
   "cell_type": "code",
   "execution_count": 3,
   "metadata": {},
   "outputs": [
    {
     "name": "stdout",
     "output_type": "stream",
     "text": [
      "WARNING: You are using a SMPL+H model, with only 10 shape coefficients.\n"
     ]
    }
   ],
   "source": [
    "import json\n",
    "import numpy as np\n",
    "import smplx\n",
    "import torch\n",
    "import trimesh\n",
    "\n",
    "SMPLH_PATH = os.path.join(\n",
    "    SEWFORMER_PROJ_ROOT, \"Sewformer\", \"assets\",\n",
    ")\n",
    "\n",
    "# Create SMPL-H model\n",
    "model = smplx.create(\n",
    "    model_path=SMPLH_PATH,\n",
    "    model_type='smplh',  # Specifically use SMPL-H\n",
    "    ext='pkl',\n",
    "    gender='female',\n",
    "    use_pca=False,  # Important: disable PCA for hand poses\n",
    "    batch_size=1,\n",
    ")"
   ]
  },
  {
   "cell_type": "code",
   "execution_count": 5,
   "metadata": {},
   "outputs": [],
   "source": [
    "# garment_name_dict = {} # check if some garment is duplicated\n",
    "# garment_name_list = []\n",
    "# matching_combination_name_list = []\n",
    "# panel_count_list = []\n",
    "# stitch_count_list = []\n",
    "# panel_name_contains_digit_list = []\n",
    "# contains_clockwise_panel_list = []\n",
    "# edge_type_list_list = []\n",
    "# mesh_len_segmentation_match_list = []\n",
    "# mesh_filter_failed_list = []\n",
    "# none_vertex_count_list = []\n",
    "# none_filtered_vertex_count_list = []\n",
    "# stitch_vertex_count_list = []\n",
    "# stitch_filtered_vertex_count_list = []\n",
    "\n",
    "# for combination_path in tqdm(combination_path_list) :\n",
    "#     spec_config_path = os.path.join(combination_path, \"static\", \"spec_config.json\")\n",
    "#     with open(spec_config_path, \"r\") as f:\n",
    "#         spec_config = json.load(open(spec_config_path, \"r\"))\n",
    "\n",
    "#     combination_garment_name_list = list(map(\n",
    "#         lambda x : os.path.basename(x[\"spec\"].replace(\"\\\\\", \"/\")),\n",
    "#         spec_config.values()\n",
    "#     ))\n",
    "\n",
    "#     # mesh_list = []\n",
    "#     for garment_name in combination_garment_name_list :\n",
    "#         if garment_name not in garment_name_dict :\n",
    "#             garment_name_dict[garment_name] = 0\n",
    "#         else :\n",
    "#             print(f\"duplicating garment name {garment_name}\")\n",
    "#             break\n",
    "#         garment_name_dict[garment_name] += 1\n",
    "        \n",
    "#         garment_name_list.append(garment_name)\n",
    "\n",
    "#         matching_combination_name_list.append(os.path.basename(combination_path))\n",
    "\n",
    "#         spec_file_path = os.path.join(\n",
    "#             combination_path, \"static\", f\"{garment_name}_specification.json\"\n",
    "#         )\n",
    "#         pattern = pyg.pattern.wrappers.VisPattern(spec_file_path)\n",
    "#         drawn_pattern_list = list(map(\n",
    "#             lambda pannel_name : pattern._draw_a_panel(\n",
    "#                 pannel_name, apply_transform=False, fill=True\n",
    "#             ),\n",
    "#             pattern.panel_order()\n",
    "#         ))\n",
    "#         panel_svg_path_dict = {\n",
    "#             panel_name : pattern._draw_a_panel(\n",
    "#                 panel_name, apply_transform=False, fill=True\n",
    "#             )\n",
    "#             for panel_name in pattern.panel_order()\n",
    "#         }\n",
    "#         panel_count_list.append(len(panel_svg_path_dict))\n",
    "\n",
    "#         stitch_dict = {\n",
    "#             i : v for i, v in enumerate(pattern.pattern['stitches'])\n",
    "#         }\n",
    "#         stitch_count_list.append(len(stitch_dict))\n",
    "\n",
    "#         # find if panel name contains digit\n",
    "#         panel_name_contains_digit = any(map(\n",
    "#             lambda x : any(char.isdigit() for char in x),\n",
    "#             pattern.panel_order()\n",
    "#         ))\n",
    "#         panel_name_contains_digit_list.append(panel_name_contains_digit)\n",
    "\n",
    "\n",
    "#         contains_clockwise_panel = False\n",
    "#         for panel_name, panel in panel_svg_path_dict.items() :\n",
    "#             point_list = []\n",
    "#             edges = list(panel[0])\n",
    "#             for edge in edges :\n",
    "#                 point_list.append((edge.start.real, edge.start.imag))\n",
    "#             if is_clockwise(point_list) :\n",
    "#                 contains_clockwise_panel = True\n",
    "#                 break\n",
    "#         contains_clockwise_panel_list.append(contains_clockwise_panel)\n",
    "            \n",
    "            \n",
    "#         edge_type_set = set()\n",
    "#         for panel_name, panel in panel_svg_path_dict.items() :\n",
    "#             for edge in panel :\n",
    "#                 if type(edge) not in edge_type_set :\n",
    "#                     edge_type_set.add(type(edge))\n",
    "#         edge_type_list_list.append(list(edge_type_set))\n",
    "\n",
    "#         mesh = trimesh.load_mesh(os.path.join(\n",
    "#             combination_path, \"static\", f\"{garment_name}_{garment_name}.obj\"\n",
    "#         ))\n",
    "\n",
    "#         with open(\n",
    "#             os.path.join(\n",
    "#                 combination_path, \"static\", f\"{garment_name}_{garment_name}_segmentation.txt\"\n",
    "#             ),\n",
    "#             \"r\"\n",
    "#         ) as f:\n",
    "#             mesh_segmentation_list = list(map(\n",
    "#                 lambda x : x.strip(),\n",
    "#                 f.readlines()\n",
    "#             ))\n",
    "        \n",
    "#         if len(mesh_segmentation_list) != mesh.vertices.shape[0] :    \n",
    "#             print(f\"{combination_path} {garment_name} {mesh.vertices.shape[0]} {len(mesh_segmentation_list)}\")\n",
    "#             mesh_len_segmentation_match_list.append(False)\n",
    "#         else :\n",
    "#             mesh_len_segmentation_match_list.append(True)\n",
    "            \n",
    "#         none_vertex_count_list.append(\n",
    "#             (np.array(mesh_segmentation_list) == \"None\").sum()\n",
    "#         )\n",
    "#         stitch_vertex_count_list.append(\n",
    "#             (np.array(mesh_segmentation_list) == \"stitch\").sum()\n",
    "#         )\n",
    "        \n",
    "        \n",
    "#         filtered_mesh_segmentation_list = filter_segmentation_map(          mesh, mesh_segmentation_list)\n",
    "#         filtered_mesh_segmentation_list = filter_segmentation_map_clusters( mesh, filtered_mesh_segmentation_list, threshold=80)\n",
    "#         filtered_mesh_segmentation_list = filter_segmentation_map(          mesh, filtered_mesh_segmentation_list)\n",
    "#         filtered_mesh_segmentation_list = filter_segmentation_map_clusters( mesh, filtered_mesh_segmentation_list, threshold=80)\n",
    "#         filtered_mesh_segmentation_list = filter_segmentation_map(          mesh, filtered_mesh_segmentation_list)\n",
    "        \n",
    "#         vertex_mask_dict = {}\n",
    "#         for panel_name in panel_svg_path_dict.keys() :\n",
    "#             vertex_mask_dict[panel_name] = np.array(list(map(\n",
    "#                 lambda x : x == panel_name,\n",
    "#                 mesh_segmentation_list\n",
    "#             )))\n",
    "#         vertex_mask_dict[\"stitch\"] = np.array(list(map(\n",
    "#             lambda x : x == \"stitch\",\n",
    "#             mesh_segmentation_list\n",
    "#         )))\n",
    "#         vertex_mask_dict[\"None\"] = np.array(list(map(\n",
    "#             lambda x : x == \"None\",\n",
    "#             mesh_segmentation_list\n",
    "#         )))\n",
    "        \n",
    "\n",
    "#         filtered_vertex_mask_dict = {}\n",
    "#         for panel_name in panel_svg_path_dict.keys() :\n",
    "#             filtered_vertex_mask_dict[panel_name] = np.array(list(map(\n",
    "#                 lambda x : x == panel_name,\n",
    "#                 filtered_mesh_segmentation_list\n",
    "#             )))\n",
    "        \n",
    "#         mesh_filter_failed = False\n",
    "        \n",
    "#         stitch_mask = np.array(list(map(\n",
    "#             lambda x : x == \"stitch\",\n",
    "#             filtered_mesh_segmentation_list\n",
    "#         )))\n",
    "#         stitch_filtered_vertex_count_list.append(\n",
    "#             stitch_mask.sum()\n",
    "#         )\n",
    "#         if stitch_mask.sum() > 0 :\n",
    "#             mesh_filter_failed = True\n",
    "#             filtered_vertex_mask_dict[\"stitch\"] = stitch_mask\n",
    "        \n",
    "#         none_mask = np.array(list(map(\n",
    "#             lambda x : x == \"None\",\n",
    "#             filtered_mesh_segmentation_list\n",
    "#         )))\n",
    "#         none_filtered_vertex_count_list.append(\n",
    "#             none_mask.sum()\n",
    "#         )\n",
    "#         if none_mask.sum() > 0 :\n",
    "#             mesh_filter_failed = True\n",
    "#             filtered_vertex_mask_dict[\"None\"] = none_mask\n",
    "        \n",
    "#         mesh_filter_failed_list.append(mesh_filter_failed)\n",
    "        \n",
    "#         with open(\n",
    "#             os.path.join(\n",
    "#                 combination_path, \"static\", f\"{garment_name}_{garment_name}_segmentation_filtered.txt\"\n",
    "#             ),\n",
    "#             \"w\"\n",
    "#         ) as f :\n",
    "#             f.write(\"\\n\".join(filtered_mesh_segmentation_list))\n",
    "#             f.write(\"\\n\")\n",
    "        \n",
    "    \n",
    "# garment_df = pd.DataFrame(\n",
    "#     {\n",
    "#         \"garment_name\" : garment_name_list,\n",
    "#         \"matching_combination_name\" : matching_combination_name_list,\n",
    "#         \"panel_count\" : panel_count_list,\n",
    "#         \"stitch_count\" : stitch_count_list,\n",
    "#         \"panel_name_contains_digit\" : panel_name_contains_digit_list,\n",
    "#         \"contains_clockwise_panel\" : contains_clockwise_panel_list,\n",
    "#         # \"edge_type_list\" : edge_type_list_list,\n",
    "#         \"mesh_len_segmentation_match\" : mesh_len_segmentation_match_list,   \n",
    "#         \"mesh_filter_failed\" : mesh_filter_failed_list,\n",
    "#         \"none_vertex_count\" : none_vertex_count_list,\n",
    "#         \"stitch_vertex_count\" : stitch_vertex_count_list,\n",
    "#         \"none_filtered_vertex_count\" : none_filtered_vertex_count_list,\n",
    "#         \"stitch_filtered_vertex_count\" : stitch_filtered_vertex_count_list,\n",
    "#     }\n",
    "# )\n",
    "# garment_df.to_csv(\n",
    "#     f\"garment_df_{time.strftime('%Y%m%d_%H%M%S')}.csv\",\n",
    "#     index=False\n",
    "# )\n",
    "# garment_df"
   ]
  },
  {
   "cell_type": "code",
   "execution_count": 6,
   "metadata": {},
   "outputs": [
    {
     "name": "stderr",
     "output_type": "stream",
     "text": [
      " 18%|█▊        | 2512/13706 [51:36<2:51:21,  1.09it/s]"
     ]
    },
    {
     "name": "stdout",
     "output_type": "stream",
     "text": [
      "/media/hjp/05aba9a7-0e74-4e54-9bc9-5f11b9c4c757/SewFactory/sewfactory/sewfactory/jumpsuit_sleeveless_AK33VX0UB0 jumpsuit_sleeveless_AK33VX0UB0 7596 7597\n",
      "/media/hjp/05aba9a7-0e74-4e54-9bc9-5f11b9c4c757/SewFactory/sewfactory/sewfactory/jumpsuit_sleeveless_AK33VX0UB0\n",
      "jumpsuit_sleeveless_AK33VX0UB0\n",
      "list index out of range\n",
      "\n"
     ]
    },
    {
     "name": "stderr",
     "output_type": "stream",
     "text": [
      " 19%|█▉        | 2591/13706 [52:58<2:21:06,  1.31it/s]"
     ]
    },
    {
     "name": "stdout",
     "output_type": "stream",
     "text": [
      "/media/hjp/05aba9a7-0e74-4e54-9bc9-5f11b9c4c757/SewFactory/sewfactory/sewfactory/jumpsuit_sleeveless_BGEXKZVPE0 jumpsuit_sleeveless_BGEXKZVPE0 9433 9434\n",
      "/media/hjp/05aba9a7-0e74-4e54-9bc9-5f11b9c4c757/SewFactory/sewfactory/sewfactory/jumpsuit_sleeveless_BGEXKZVPE0\n",
      "jumpsuit_sleeveless_BGEXKZVPE0\n",
      "list index out of range\n",
      "\n"
     ]
    },
    {
     "name": "stderr",
     "output_type": "stream",
     "text": [
      " 19%|█▉        | 2629/13706 [53:34<2:30:03,  1.23it/s]"
     ]
    },
    {
     "name": "stdout",
     "output_type": "stream",
     "text": [
      "/media/hjp/05aba9a7-0e74-4e54-9bc9-5f11b9c4c757/SewFactory/sewfactory/sewfactory/jumpsuit_sleeveless_BSCJNM8VBX jumpsuit_sleeveless_BSCJNM8VBX 10842 10843\n",
      "/media/hjp/05aba9a7-0e74-4e54-9bc9-5f11b9c4c757/SewFactory/sewfactory/sewfactory/jumpsuit_sleeveless_BSCJNM8VBX\n",
      "jumpsuit_sleeveless_BSCJNM8VBX\n",
      "list index out of range\n",
      "\n"
     ]
    },
    {
     "name": "stderr",
     "output_type": "stream",
     "text": [
      " 20%|█▉        | 2681/13706 [54:29<2:53:41,  1.06it/s]"
     ]
    },
    {
     "name": "stdout",
     "output_type": "stream",
     "text": [
      "/media/hjp/05aba9a7-0e74-4e54-9bc9-5f11b9c4c757/SewFactory/sewfactory/sewfactory/jumpsuit_sleeveless_CFATMM0CKV jumpsuit_sleeveless_CFATMM0CKV 9351 9353\n",
      "/media/hjp/05aba9a7-0e74-4e54-9bc9-5f11b9c4c757/SewFactory/sewfactory/sewfactory/jumpsuit_sleeveless_CFATMM0CKV\n",
      "jumpsuit_sleeveless_CFATMM0CKV\n",
      "list index out of range\n",
      "\n"
     ]
    },
    {
     "name": "stderr",
     "output_type": "stream",
     "text": [
      " 20%|█▉        | 2702/13706 [54:49<2:23:21,  1.28it/s]"
     ]
    },
    {
     "name": "stdout",
     "output_type": "stream",
     "text": [
      "/media/hjp/05aba9a7-0e74-4e54-9bc9-5f11b9c4c757/SewFactory/sewfactory/sewfactory/jumpsuit_sleeveless_CQ9FD8XGCJ jumpsuit_sleeveless_CQ9FD8XGCJ 9414 9416\n",
      "/media/hjp/05aba9a7-0e74-4e54-9bc9-5f11b9c4c757/SewFactory/sewfactory/sewfactory/jumpsuit_sleeveless_CQ9FD8XGCJ\n",
      "jumpsuit_sleeveless_CQ9FD8XGCJ\n",
      "list index out of range\n",
      "\n"
     ]
    },
    {
     "name": "stderr",
     "output_type": "stream",
     "text": [
      " 20%|█▉        | 2734/13706 [55:21<2:30:14,  1.22it/s]"
     ]
    },
    {
     "name": "stdout",
     "output_type": "stream",
     "text": [
      "/media/hjp/05aba9a7-0e74-4e54-9bc9-5f11b9c4c757/SewFactory/sewfactory/sewfactory/jumpsuit_sleeveless_D53MB9P51A jumpsuit_sleeveless_D53MB9P51A 6118 6120\n",
      "/media/hjp/05aba9a7-0e74-4e54-9bc9-5f11b9c4c757/SewFactory/sewfactory/sewfactory/jumpsuit_sleeveless_D53MB9P51A\n",
      "jumpsuit_sleeveless_D53MB9P51A\n",
      "list index out of range\n",
      "\n"
     ]
    },
    {
     "name": "stderr",
     "output_type": "stream",
     "text": [
      " 21%|██        | 2895/13706 [58:08<2:20:14,  1.28it/s]"
     ]
    },
    {
     "name": "stdout",
     "output_type": "stream",
     "text": [
      "/media/hjp/05aba9a7-0e74-4e54-9bc9-5f11b9c4c757/SewFactory/sewfactory/sewfactory/jumpsuit_sleeveless_EVYB2P4PN2 jumpsuit_sleeveless_EVYB2P4PN2 10854 10855\n",
      "/media/hjp/05aba9a7-0e74-4e54-9bc9-5f11b9c4c757/SewFactory/sewfactory/sewfactory/jumpsuit_sleeveless_EVYB2P4PN2\n",
      "jumpsuit_sleeveless_EVYB2P4PN2\n",
      "list index out of range\n",
      "\n"
     ]
    },
    {
     "name": "stderr",
     "output_type": "stream",
     "text": [
      " 22%|██▏       | 3008/13706 [1:00:05<2:12:19,  1.35it/s]"
     ]
    },
    {
     "name": "stdout",
     "output_type": "stream",
     "text": [
      "/media/hjp/05aba9a7-0e74-4e54-9bc9-5f11b9c4c757/SewFactory/sewfactory/sewfactory/jumpsuit_sleeveless_G65FKAP5OG jumpsuit_sleeveless_G65FKAP5OG 7877 7879\n",
      "/media/hjp/05aba9a7-0e74-4e54-9bc9-5f11b9c4c757/SewFactory/sewfactory/sewfactory/jumpsuit_sleeveless_G65FKAP5OG\n",
      "jumpsuit_sleeveless_G65FKAP5OG\n",
      "list index out of range\n",
      "\n"
     ]
    },
    {
     "name": "stderr",
     "output_type": "stream",
     "text": [
      " 23%|██▎       | 3112/13706 [1:01:56<2:26:16,  1.21it/s]"
     ]
    },
    {
     "name": "stdout",
     "output_type": "stream",
     "text": [
      "/media/hjp/05aba9a7-0e74-4e54-9bc9-5f11b9c4c757/SewFactory/sewfactory/sewfactory/jumpsuit_sleeveless_H4RJDH5JKK jumpsuit_sleeveless_H4RJDH5JKK 9796 9799\n",
      "/media/hjp/05aba9a7-0e74-4e54-9bc9-5f11b9c4c757/SewFactory/sewfactory/sewfactory/jumpsuit_sleeveless_H4RJDH5JKK\n",
      "jumpsuit_sleeveless_H4RJDH5JKK\n",
      "list index out of range\n",
      "\n"
     ]
    },
    {
     "name": "stderr",
     "output_type": "stream",
     "text": [
      " 23%|██▎       | 3209/13706 [1:03:36<2:22:00,  1.23it/s]"
     ]
    },
    {
     "name": "stdout",
     "output_type": "stream",
     "text": [
      "/media/hjp/05aba9a7-0e74-4e54-9bc9-5f11b9c4c757/SewFactory/sewfactory/sewfactory/jumpsuit_sleeveless_HTA0MV3KYO jumpsuit_sleeveless_HTA0MV3KYO 6819 6821\n",
      "/media/hjp/05aba9a7-0e74-4e54-9bc9-5f11b9c4c757/SewFactory/sewfactory/sewfactory/jumpsuit_sleeveless_HTA0MV3KYO\n",
      "jumpsuit_sleeveless_HTA0MV3KYO\n",
      "list index out of range\n",
      "\n"
     ]
    },
    {
     "name": "stderr",
     "output_type": "stream",
     "text": [
      " 23%|██▎       | 3217/13706 [1:03:44<2:20:01,  1.25it/s]"
     ]
    },
    {
     "name": "stdout",
     "output_type": "stream",
     "text": [
      "/media/hjp/05aba9a7-0e74-4e54-9bc9-5f11b9c4c757/SewFactory/sewfactory/sewfactory/jumpsuit_sleeveless_HUY72Y3WFT jumpsuit_sleeveless_HUY72Y3WFT 6367 6369\n",
      "/media/hjp/05aba9a7-0e74-4e54-9bc9-5f11b9c4c757/SewFactory/sewfactory/sewfactory/jumpsuit_sleeveless_HUY72Y3WFT\n",
      "jumpsuit_sleeveless_HUY72Y3WFT\n",
      "list index out of range\n",
      "\n"
     ]
    },
    {
     "name": "stderr",
     "output_type": "stream",
     "text": [
      " 24%|██▍       | 3293/13706 [1:05:01<2:35:30,  1.12it/s]"
     ]
    },
    {
     "name": "stdout",
     "output_type": "stream",
     "text": [
      "/media/hjp/05aba9a7-0e74-4e54-9bc9-5f11b9c4c757/SewFactory/sewfactory/sewfactory/jumpsuit_sleeveless_IBELFL3S1J jumpsuit_sleeveless_IBELFL3S1J 11763 11764\n"
     ]
    },
    {
     "name": "stderr",
     "output_type": "stream",
     "text": [
      " 24%|██▍       | 3294/13706 [1:05:01<2:04:30,  1.39it/s]"
     ]
    },
    {
     "name": "stdout",
     "output_type": "stream",
     "text": [
      "/media/hjp/05aba9a7-0e74-4e54-9bc9-5f11b9c4c757/SewFactory/sewfactory/sewfactory/jumpsuit_sleeveless_IBELFL3S1J\n",
      "jumpsuit_sleeveless_IBELFL3S1J\n",
      "list index out of range\n",
      "\n"
     ]
    },
    {
     "name": "stderr",
     "output_type": "stream",
     "text": [
      " 26%|██▌       | 3518/13706 [1:08:59<2:29:26,  1.14it/s]"
     ]
    },
    {
     "name": "stdout",
     "output_type": "stream",
     "text": [
      "/media/hjp/05aba9a7-0e74-4e54-9bc9-5f11b9c4c757/SewFactory/sewfactory/sewfactory/jumpsuit_sleeveless_JKIMFC2CPO jumpsuit_sleeveless_JKIMFC2CPO 11284 11285\n",
      "/media/hjp/05aba9a7-0e74-4e54-9bc9-5f11b9c4c757/SewFactory/sewfactory/sewfactory/jumpsuit_sleeveless_JKIMFC2CPO\n",
      "jumpsuit_sleeveless_JKIMFC2CPO\n",
      "list index out of range\n",
      "\n"
     ]
    },
    {
     "name": "stderr",
     "output_type": "stream",
     "text": [
      " 26%|██▌       | 3569/13706 [1:09:52<2:11:44,  1.28it/s]"
     ]
    },
    {
     "name": "stdout",
     "output_type": "stream",
     "text": [
      "/media/hjp/05aba9a7-0e74-4e54-9bc9-5f11b9c4c757/SewFactory/sewfactory/sewfactory/jumpsuit_sleeveless_JT9BT9LZYA jumpsuit_sleeveless_JT9BT9LZYA 7748 7750\n",
      "/media/hjp/05aba9a7-0e74-4e54-9bc9-5f11b9c4c757/SewFactory/sewfactory/sewfactory/jumpsuit_sleeveless_JT9BT9LZYA\n",
      "jumpsuit_sleeveless_JT9BT9LZYA\n",
      "list index out of range\n",
      "\n"
     ]
    },
    {
     "name": "stderr",
     "output_type": "stream",
     "text": [
      " 28%|██▊       | 3787/13706 [1:13:39<2:11:35,  1.26it/s]"
     ]
    },
    {
     "name": "stdout",
     "output_type": "stream",
     "text": [
      "/media/hjp/05aba9a7-0e74-4e54-9bc9-5f11b9c4c757/SewFactory/sewfactory/sewfactory/jumpsuit_sleeveless_L7WSP7ISLJ jumpsuit_sleeveless_L7WSP7ISLJ 10827 10828\n",
      "/media/hjp/05aba9a7-0e74-4e54-9bc9-5f11b9c4c757/SewFactory/sewfactory/sewfactory/jumpsuit_sleeveless_L7WSP7ISLJ\n",
      "jumpsuit_sleeveless_L7WSP7ISLJ\n",
      "list index out of range\n",
      "\n"
     ]
    },
    {
     "name": "stderr",
     "output_type": "stream",
     "text": [
      " 28%|██▊       | 3804/13706 [1:13:55<2:07:13,  1.30it/s]"
     ]
    },
    {
     "name": "stdout",
     "output_type": "stream",
     "text": [
      "/media/hjp/05aba9a7-0e74-4e54-9bc9-5f11b9c4c757/SewFactory/sewfactory/sewfactory/jumpsuit_sleeveless_LAOMYEW6C6 jumpsuit_sleeveless_LAOMYEW6C6 9792 9793\n",
      "/media/hjp/05aba9a7-0e74-4e54-9bc9-5f11b9c4c757/SewFactory/sewfactory/sewfactory/jumpsuit_sleeveless_LAOMYEW6C6\n",
      "jumpsuit_sleeveless_LAOMYEW6C6\n",
      "list index out of range\n",
      "\n"
     ]
    },
    {
     "name": "stderr",
     "output_type": "stream",
     "text": [
      " 28%|██▊       | 3833/13706 [1:14:24<2:20:22,  1.17it/s]"
     ]
    },
    {
     "name": "stdout",
     "output_type": "stream",
     "text": [
      "/media/hjp/05aba9a7-0e74-4e54-9bc9-5f11b9c4c757/SewFactory/sewfactory/sewfactory/jumpsuit_sleeveless_LICUWN97HM jumpsuit_sleeveless_LICUWN97HM 8854 8856\n",
      "/media/hjp/05aba9a7-0e74-4e54-9bc9-5f11b9c4c757/SewFactory/sewfactory/sewfactory/jumpsuit_sleeveless_LICUWN97HM\n",
      "jumpsuit_sleeveless_LICUWN97HM\n",
      "list index out of range\n",
      "\n"
     ]
    },
    {
     "name": "stderr",
     "output_type": "stream",
     "text": [
      " 28%|██▊       | 3848/13706 [1:14:40<2:06:23,  1.30it/s]"
     ]
    },
    {
     "name": "stdout",
     "output_type": "stream",
     "text": [
      "/media/hjp/05aba9a7-0e74-4e54-9bc9-5f11b9c4c757/SewFactory/sewfactory/sewfactory/jumpsuit_sleeveless_LK87W2YEHT jumpsuit_sleeveless_LK87W2YEHT 6113 6114\n",
      "/media/hjp/05aba9a7-0e74-4e54-9bc9-5f11b9c4c757/SewFactory/sewfactory/sewfactory/jumpsuit_sleeveless_LK87W2YEHT\n",
      "jumpsuit_sleeveless_LK87W2YEHT\n",
      "list index out of range\n",
      "\n"
     ]
    },
    {
     "name": "stderr",
     "output_type": "stream",
     "text": [
      " 28%|██▊       | 3896/13706 [1:15:26<2:03:44,  1.32it/s]"
     ]
    },
    {
     "name": "stdout",
     "output_type": "stream",
     "text": [
      "/media/hjp/05aba9a7-0e74-4e54-9bc9-5f11b9c4c757/SewFactory/sewfactory/sewfactory/jumpsuit_sleeveless_LUELGGVLI3 jumpsuit_sleeveless_LUELGGVLI3 8897 8899\n",
      "/media/hjp/05aba9a7-0e74-4e54-9bc9-5f11b9c4c757/SewFactory/sewfactory/sewfactory/jumpsuit_sleeveless_LUELGGVLI3\n",
      "jumpsuit_sleeveless_LUELGGVLI3\n",
      "list index out of range\n",
      "\n"
     ]
    },
    {
     "name": "stderr",
     "output_type": "stream",
     "text": [
      " 29%|██▊       | 3913/13706 [1:15:42<1:39:20,  1.64it/s]"
     ]
    },
    {
     "name": "stdout",
     "output_type": "stream",
     "text": [
      "/media/hjp/05aba9a7-0e74-4e54-9bc9-5f11b9c4c757/SewFactory/sewfactory/sewfactory/jumpsuit_sleeveless_LWW1HHNYIT jumpsuit_sleeveless_LWW1HHNYIT 5565 5567\n",
      "/media/hjp/05aba9a7-0e74-4e54-9bc9-5f11b9c4c757/SewFactory/sewfactory/sewfactory/jumpsuit_sleeveless_LWW1HHNYIT\n",
      "jumpsuit_sleeveless_LWW1HHNYIT\n",
      "list index out of range\n",
      "\n"
     ]
    },
    {
     "name": "stderr",
     "output_type": "stream",
     "text": [
      " 29%|██▊       | 3919/13706 [1:15:49<2:48:59,  1.04s/it]"
     ]
    },
    {
     "name": "stdout",
     "output_type": "stream",
     "text": [
      "/media/hjp/05aba9a7-0e74-4e54-9bc9-5f11b9c4c757/SewFactory/sewfactory/sewfactory/jumpsuit_sleeveless_LYN9TZDGMX jumpsuit_sleeveless_LYN9TZDGMX 8758 8759\n"
     ]
    },
    {
     "name": "stderr",
     "output_type": "stream",
     "text": [
      " 29%|██▊       | 3920/13706 [1:15:49<2:14:26,  1.21it/s]"
     ]
    },
    {
     "name": "stdout",
     "output_type": "stream",
     "text": [
      "/media/hjp/05aba9a7-0e74-4e54-9bc9-5f11b9c4c757/SewFactory/sewfactory/sewfactory/jumpsuit_sleeveless_LYN9TZDGMX\n",
      "jumpsuit_sleeveless_LYN9TZDGMX\n",
      "list index out of range\n",
      "\n"
     ]
    },
    {
     "name": "stderr",
     "output_type": "stream",
     "text": [
      " 29%|██▊       | 3935/13706 [1:16:04<2:29:26,  1.09it/s]"
     ]
    },
    {
     "name": "stdout",
     "output_type": "stream",
     "text": [
      "/media/hjp/05aba9a7-0e74-4e54-9bc9-5f11b9c4c757/SewFactory/sewfactory/sewfactory/jumpsuit_sleeveless_M2J7PJODQW jumpsuit_sleeveless_M2J7PJODQW 10526 10531\n",
      "/media/hjp/05aba9a7-0e74-4e54-9bc9-5f11b9c4c757/SewFactory/sewfactory/sewfactory/jumpsuit_sleeveless_M2J7PJODQW\n",
      "jumpsuit_sleeveless_M2J7PJODQW\n",
      "list index out of range\n",
      "\n"
     ]
    },
    {
     "name": "stderr",
     "output_type": "stream",
     "text": [
      " 29%|██▉       | 3950/13706 [1:16:17<2:05:30,  1.30it/s]"
     ]
    },
    {
     "name": "stdout",
     "output_type": "stream",
     "text": [
      "/media/hjp/05aba9a7-0e74-4e54-9bc9-5f11b9c4c757/SewFactory/sewfactory/sewfactory/jumpsuit_sleeveless_M4T310KL9N jumpsuit_sleeveless_M4T310KL9N 8982 8983\n",
      "/media/hjp/05aba9a7-0e74-4e54-9bc9-5f11b9c4c757/SewFactory/sewfactory/sewfactory/jumpsuit_sleeveless_M4T310KL9N\n",
      "jumpsuit_sleeveless_M4T310KL9N\n",
      "list index out of range\n",
      "\n"
     ]
    },
    {
     "name": "stderr",
     "output_type": "stream",
     "text": [
      " 29%|██▉       | 3979/13706 [1:16:49<3:13:13,  1.19s/it]"
     ]
    },
    {
     "name": "stdout",
     "output_type": "stream",
     "text": [
      "/media/hjp/05aba9a7-0e74-4e54-9bc9-5f11b9c4c757/SewFactory/sewfactory/sewfactory/jumpsuit_sleeveless_MBEUWF3I7U jumpsuit_sleeveless_MBEUWF3I7U 11301 11302\n"
     ]
    },
    {
     "name": "stderr",
     "output_type": "stream",
     "text": [
      " 29%|██▉       | 3980/13706 [1:16:49<2:34:13,  1.05it/s]"
     ]
    },
    {
     "name": "stdout",
     "output_type": "stream",
     "text": [
      "/media/hjp/05aba9a7-0e74-4e54-9bc9-5f11b9c4c757/SewFactory/sewfactory/sewfactory/jumpsuit_sleeveless_MBEUWF3I7U\n",
      "jumpsuit_sleeveless_MBEUWF3I7U\n",
      "list index out of range\n",
      "\n"
     ]
    },
    {
     "name": "stderr",
     "output_type": "stream",
     "text": [
      " 29%|██▉       | 3983/13706 [1:16:51<2:02:07,  1.33it/s]"
     ]
    },
    {
     "name": "stdout",
     "output_type": "stream",
     "text": [
      "/media/hjp/05aba9a7-0e74-4e54-9bc9-5f11b9c4c757/SewFactory/sewfactory/sewfactory/jumpsuit_sleeveless_MBJIO1LYIC jumpsuit_sleeveless_MBJIO1LYIC 11266 11267\n",
      "/media/hjp/05aba9a7-0e74-4e54-9bc9-5f11b9c4c757/SewFactory/sewfactory/sewfactory/jumpsuit_sleeveless_MBJIO1LYIC\n",
      "jumpsuit_sleeveless_MBJIO1LYIC\n",
      "list index out of range\n",
      "\n"
     ]
    },
    {
     "name": "stderr",
     "output_type": "stream",
     "text": [
      " 29%|██▉       | 4006/13706 [1:17:15<2:23:21,  1.13it/s]"
     ]
    },
    {
     "name": "stdout",
     "output_type": "stream",
     "text": [
      "/media/hjp/05aba9a7-0e74-4e54-9bc9-5f11b9c4c757/SewFactory/sewfactory/sewfactory/jumpsuit_sleeveless_MG53ZFTAE3 jumpsuit_sleeveless_MG53ZFTAE3 8122 8124\n",
      "/media/hjp/05aba9a7-0e74-4e54-9bc9-5f11b9c4c757/SewFactory/sewfactory/sewfactory/jumpsuit_sleeveless_MG53ZFTAE3\n",
      "jumpsuit_sleeveless_MG53ZFTAE3\n",
      "list index out of range\n",
      "\n"
     ]
    },
    {
     "name": "stderr",
     "output_type": "stream",
     "text": [
      " 30%|██▉       | 4047/13706 [1:17:55<2:14:34,  1.20it/s]"
     ]
    },
    {
     "name": "stdout",
     "output_type": "stream",
     "text": [
      "/media/hjp/05aba9a7-0e74-4e54-9bc9-5f11b9c4c757/SewFactory/sewfactory/sewfactory/jumpsuit_sleeveless_MLJ6QVII3B jumpsuit_sleeveless_MLJ6QVII3B 7076 7077\n",
      "/media/hjp/05aba9a7-0e74-4e54-9bc9-5f11b9c4c757/SewFactory/sewfactory/sewfactory/jumpsuit_sleeveless_MLJ6QVII3B\n",
      "jumpsuit_sleeveless_MLJ6QVII3B\n",
      "list index out of range\n",
      "\n"
     ]
    },
    {
     "name": "stderr",
     "output_type": "stream",
     "text": [
      " 30%|██▉       | 4057/13706 [1:18:05<2:44:35,  1.02s/it]"
     ]
    },
    {
     "name": "stdout",
     "output_type": "stream",
     "text": [
      "/media/hjp/05aba9a7-0e74-4e54-9bc9-5f11b9c4c757/SewFactory/sewfactory/sewfactory/jumpsuit_sleeveless_MOR91AYTP3 jumpsuit_sleeveless_MOR91AYTP3 11895 11896\n"
     ]
    },
    {
     "name": "stderr",
     "output_type": "stream",
     "text": [
      " 30%|██▉       | 4058/13706 [1:18:05<2:09:51,  1.24it/s]"
     ]
    },
    {
     "name": "stdout",
     "output_type": "stream",
     "text": [
      "/media/hjp/05aba9a7-0e74-4e54-9bc9-5f11b9c4c757/SewFactory/sewfactory/sewfactory/jumpsuit_sleeveless_MOR91AYTP3\n",
      "jumpsuit_sleeveless_MOR91AYTP3\n",
      "list index out of range\n",
      "\n"
     ]
    },
    {
     "name": "stderr",
     "output_type": "stream",
     "text": [
      " 31%|███       | 4186/13706 [1:20:16<2:04:32,  1.27it/s]"
     ]
    },
    {
     "name": "stdout",
     "output_type": "stream",
     "text": [
      "/media/hjp/05aba9a7-0e74-4e54-9bc9-5f11b9c4c757/SewFactory/sewfactory/sewfactory/jumpsuit_sleeveless_NG4VD2NHP0 jumpsuit_sleeveless_NG4VD2NHP0 10161 10165\n",
      "/media/hjp/05aba9a7-0e74-4e54-9bc9-5f11b9c4c757/SewFactory/sewfactory/sewfactory/jumpsuit_sleeveless_NG4VD2NHP0\n",
      "jumpsuit_sleeveless_NG4VD2NHP0\n",
      "list index out of range\n",
      "\n"
     ]
    },
    {
     "name": "stderr",
     "output_type": "stream",
     "text": [
      " 31%|███       | 4266/13706 [1:21:39<2:24:47,  1.09it/s]"
     ]
    },
    {
     "name": "stdout",
     "output_type": "stream",
     "text": [
      "/media/hjp/05aba9a7-0e74-4e54-9bc9-5f11b9c4c757/SewFactory/sewfactory/sewfactory/jumpsuit_sleeveless_NZEMFHR1V6 jumpsuit_sleeveless_NZEMFHR1V6 8463 8465\n",
      "/media/hjp/05aba9a7-0e74-4e54-9bc9-5f11b9c4c757/SewFactory/sewfactory/sewfactory/jumpsuit_sleeveless_NZEMFHR1V6\n",
      "jumpsuit_sleeveless_NZEMFHR1V6\n",
      "list index out of range\n",
      "\n"
     ]
    },
    {
     "name": "stderr",
     "output_type": "stream",
     "text": [
      " 31%|███▏      | 4298/13706 [1:22:12<2:04:51,  1.26it/s]"
     ]
    },
    {
     "name": "stdout",
     "output_type": "stream",
     "text": [
      "/media/hjp/05aba9a7-0e74-4e54-9bc9-5f11b9c4c757/SewFactory/sewfactory/sewfactory/jumpsuit_sleeveless_O6FMOWLMMZ jumpsuit_sleeveless_O6FMOWLMMZ 8317 8318\n",
      "/media/hjp/05aba9a7-0e74-4e54-9bc9-5f11b9c4c757/SewFactory/sewfactory/sewfactory/jumpsuit_sleeveless_O6FMOWLMMZ\n",
      "jumpsuit_sleeveless_O6FMOWLMMZ\n",
      "list index out of range\n",
      "\n"
     ]
    },
    {
     "name": "stderr",
     "output_type": "stream",
     "text": [
      " 31%|███▏      | 4303/13706 [1:22:16<2:03:24,  1.27it/s]"
     ]
    },
    {
     "name": "stdout",
     "output_type": "stream",
     "text": [
      "/media/hjp/05aba9a7-0e74-4e54-9bc9-5f11b9c4c757/SewFactory/sewfactory/sewfactory/jumpsuit_sleeveless_O7E0QSX6TY jumpsuit_sleeveless_O7E0QSX6TY 8150 8151\n",
      "/media/hjp/05aba9a7-0e74-4e54-9bc9-5f11b9c4c757/SewFactory/sewfactory/sewfactory/jumpsuit_sleeveless_O7E0QSX6TY\n",
      "jumpsuit_sleeveless_O7E0QSX6TY\n",
      "list index out of range\n",
      "\n"
     ]
    },
    {
     "name": "stderr",
     "output_type": "stream",
     "text": [
      " 32%|███▏      | 4344/13706 [1:22:57<2:18:09,  1.13it/s]"
     ]
    },
    {
     "name": "stdout",
     "output_type": "stream",
     "text": [
      "/media/hjp/05aba9a7-0e74-4e54-9bc9-5f11b9c4c757/SewFactory/sewfactory/sewfactory/jumpsuit_sleeveless_OHG8JLX9S8 jumpsuit_sleeveless_OHG8JLX9S8 10762 10763\n",
      "/media/hjp/05aba9a7-0e74-4e54-9bc9-5f11b9c4c757/SewFactory/sewfactory/sewfactory/jumpsuit_sleeveless_OHG8JLX9S8\n",
      "jumpsuit_sleeveless_OHG8JLX9S8\n",
      "list index out of range\n",
      "\n"
     ]
    },
    {
     "name": "stderr",
     "output_type": "stream",
     "text": [
      " 33%|███▎      | 4533/13706 [1:26:19<2:56:50,  1.16s/it]"
     ]
    },
    {
     "name": "stdout",
     "output_type": "stream",
     "text": [
      "/media/hjp/05aba9a7-0e74-4e54-9bc9-5f11b9c4c757/SewFactory/sewfactory/sewfactory/jumpsuit_sleeveless_PHFOZWR71X jumpsuit_sleeveless_PHFOZWR71X 13308 13309\n"
     ]
    },
    {
     "name": "stderr",
     "output_type": "stream",
     "text": [
      " 33%|███▎      | 4534/13706 [1:26:19<2:19:26,  1.10it/s]"
     ]
    },
    {
     "name": "stdout",
     "output_type": "stream",
     "text": [
      "/media/hjp/05aba9a7-0e74-4e54-9bc9-5f11b9c4c757/SewFactory/sewfactory/sewfactory/jumpsuit_sleeveless_PHFOZWR71X\n",
      "jumpsuit_sleeveless_PHFOZWR71X\n",
      "list index out of range\n",
      "\n"
     ]
    },
    {
     "name": "stderr",
     "output_type": "stream",
     "text": [
      " 34%|███▍      | 4633/13706 [1:27:59<2:04:00,  1.22it/s]"
     ]
    },
    {
     "name": "stdout",
     "output_type": "stream",
     "text": [
      "/media/hjp/05aba9a7-0e74-4e54-9bc9-5f11b9c4c757/SewFactory/sewfactory/sewfactory/jumpsuit_sleeveless_Q4F1ZM0BCA jumpsuit_sleeveless_Q4F1ZM0BCA 10012 10013\n",
      "/media/hjp/05aba9a7-0e74-4e54-9bc9-5f11b9c4c757/SewFactory/sewfactory/sewfactory/jumpsuit_sleeveless_Q4F1ZM0BCA\n",
      "jumpsuit_sleeveless_Q4F1ZM0BCA\n",
      "list index out of range\n",
      "\n"
     ]
    },
    {
     "name": "stderr",
     "output_type": "stream",
     "text": [
      " 34%|███▍      | 4639/13706 [1:28:04<1:41:31,  1.49it/s]"
     ]
    },
    {
     "name": "stdout",
     "output_type": "stream",
     "text": [
      "/media/hjp/05aba9a7-0e74-4e54-9bc9-5f11b9c4c757/SewFactory/sewfactory/sewfactory/jumpsuit_sleeveless_Q5M35SHIR7 jumpsuit_sleeveless_Q5M35SHIR7 11377 11381\n",
      "/media/hjp/05aba9a7-0e74-4e54-9bc9-5f11b9c4c757/SewFactory/sewfactory/sewfactory/jumpsuit_sleeveless_Q5M35SHIR7\n",
      "jumpsuit_sleeveless_Q5M35SHIR7\n",
      "list index out of range\n",
      "\n"
     ]
    },
    {
     "name": "stderr",
     "output_type": "stream",
     "text": [
      " 34%|███▍      | 4649/13706 [1:28:14<1:57:50,  1.28it/s]"
     ]
    },
    {
     "name": "stdout",
     "output_type": "stream",
     "text": [
      "/media/hjp/05aba9a7-0e74-4e54-9bc9-5f11b9c4c757/SewFactory/sewfactory/sewfactory/jumpsuit_sleeveless_Q621HKO444 jumpsuit_sleeveless_Q621HKO444 10295 10296\n",
      "/media/hjp/05aba9a7-0e74-4e54-9bc9-5f11b9c4c757/SewFactory/sewfactory/sewfactory/jumpsuit_sleeveless_Q621HKO444\n",
      "jumpsuit_sleeveless_Q621HKO444\n",
      "list index out of range\n",
      "\n"
     ]
    },
    {
     "name": "stderr",
     "output_type": "stream",
     "text": [
      " 34%|███▍      | 4725/13706 [1:29:37<2:13:49,  1.12it/s]"
     ]
    },
    {
     "name": "stdout",
     "output_type": "stream",
     "text": [
      "/media/hjp/05aba9a7-0e74-4e54-9bc9-5f11b9c4c757/SewFactory/sewfactory/sewfactory/jumpsuit_sleeveless_QLXV1HU251 jumpsuit_sleeveless_QLXV1HU251 7252 7254\n",
      "/media/hjp/05aba9a7-0e74-4e54-9bc9-5f11b9c4c757/SewFactory/sewfactory/sewfactory/jumpsuit_sleeveless_QLXV1HU251\n",
      "jumpsuit_sleeveless_QLXV1HU251\n",
      "list index out of range\n",
      "\n"
     ]
    },
    {
     "name": "stderr",
     "output_type": "stream",
     "text": [
      " 35%|███▌      | 4818/13706 [1:31:15<1:53:13,  1.31it/s]"
     ]
    },
    {
     "name": "stdout",
     "output_type": "stream",
     "text": [
      "/media/hjp/05aba9a7-0e74-4e54-9bc9-5f11b9c4c757/SewFactory/sewfactory/sewfactory/jumpsuit_sleeveless_R7L1WHFXUV jumpsuit_sleeveless_R7L1WHFXUV 11285 11286\n",
      "/media/hjp/05aba9a7-0e74-4e54-9bc9-5f11b9c4c757/SewFactory/sewfactory/sewfactory/jumpsuit_sleeveless_R7L1WHFXUV\n",
      "jumpsuit_sleeveless_R7L1WHFXUV\n",
      "list index out of range\n",
      "\n"
     ]
    },
    {
     "name": "stderr",
     "output_type": "stream",
     "text": [
      " 35%|███▌      | 4831/13706 [1:31:28<2:09:50,  1.14it/s]"
     ]
    },
    {
     "name": "stdout",
     "output_type": "stream",
     "text": [
      "/media/hjp/05aba9a7-0e74-4e54-9bc9-5f11b9c4c757/SewFactory/sewfactory/sewfactory/jumpsuit_sleeveless_RAY4CYJLSK jumpsuit_sleeveless_RAY4CYJLSK 9778 9779\n",
      "/media/hjp/05aba9a7-0e74-4e54-9bc9-5f11b9c4c757/SewFactory/sewfactory/sewfactory/jumpsuit_sleeveless_RAY4CYJLSK\n",
      "jumpsuit_sleeveless_RAY4CYJLSK\n",
      "list index out of range\n",
      "\n"
     ]
    },
    {
     "name": "stderr",
     "output_type": "stream",
     "text": [
      " 36%|███▌      | 4904/13706 [1:32:45<2:28:07,  1.01s/it]"
     ]
    },
    {
     "name": "stdout",
     "output_type": "stream",
     "text": [
      "/media/hjp/05aba9a7-0e74-4e54-9bc9-5f11b9c4c757/SewFactory/sewfactory/sewfactory/jumpsuit_sleeveless_RR5TROCBBV jumpsuit_sleeveless_RR5TROCBBV 9551 9552\n"
     ]
    },
    {
     "name": "stderr",
     "output_type": "stream",
     "text": [
      " 36%|███▌      | 4905/13706 [1:32:46<1:58:00,  1.24it/s]"
     ]
    },
    {
     "name": "stdout",
     "output_type": "stream",
     "text": [
      "/media/hjp/05aba9a7-0e74-4e54-9bc9-5f11b9c4c757/SewFactory/sewfactory/sewfactory/jumpsuit_sleeveless_RR5TROCBBV\n",
      "jumpsuit_sleeveless_RR5TROCBBV\n",
      "list index out of range\n",
      "\n"
     ]
    },
    {
     "name": "stderr",
     "output_type": "stream",
     "text": [
      " 36%|███▌      | 4939/13706 [1:33:22<2:34:39,  1.06s/it]"
     ]
    },
    {
     "name": "stdout",
     "output_type": "stream",
     "text": [
      "/media/hjp/05aba9a7-0e74-4e54-9bc9-5f11b9c4c757/SewFactory/sewfactory/sewfactory/jumpsuit_sleeveless_RYFGI6C14C jumpsuit_sleeveless_RYFGI6C14C 12528 12532\n"
     ]
    },
    {
     "name": "stderr",
     "output_type": "stream",
     "text": [
      " 36%|███▌      | 4940/13706 [1:33:23<2:05:31,  1.16it/s]"
     ]
    },
    {
     "name": "stdout",
     "output_type": "stream",
     "text": [
      "/media/hjp/05aba9a7-0e74-4e54-9bc9-5f11b9c4c757/SewFactory/sewfactory/sewfactory/jumpsuit_sleeveless_RYFGI6C14C\n",
      "jumpsuit_sleeveless_RYFGI6C14C\n",
      "list index out of range\n",
      "\n"
     ]
    },
    {
     "name": "stderr",
     "output_type": "stream",
     "text": [
      " 36%|███▌      | 4956/13706 [1:33:39<2:22:54,  1.02it/s]"
     ]
    },
    {
     "name": "stdout",
     "output_type": "stream",
     "text": [
      "/media/hjp/05aba9a7-0e74-4e54-9bc9-5f11b9c4c757/SewFactory/sewfactory/sewfactory/jumpsuit_sleeveless_S13OAZ914K jumpsuit_sleeveless_S13OAZ914K 9008 9010\n"
     ]
    },
    {
     "name": "stderr",
     "output_type": "stream",
     "text": [
      " 36%|███▌      | 4957/13706 [1:33:40<1:53:51,  1.28it/s]"
     ]
    },
    {
     "name": "stdout",
     "output_type": "stream",
     "text": [
      "/media/hjp/05aba9a7-0e74-4e54-9bc9-5f11b9c4c757/SewFactory/sewfactory/sewfactory/jumpsuit_sleeveless_S13OAZ914K\n",
      "jumpsuit_sleeveless_S13OAZ914K\n",
      "list index out of range\n",
      "\n"
     ]
    },
    {
     "name": "stderr",
     "output_type": "stream",
     "text": [
      " 36%|███▋      | 4990/13706 [1:34:15<1:51:14,  1.31it/s]"
     ]
    },
    {
     "name": "stdout",
     "output_type": "stream",
     "text": [
      "/media/hjp/05aba9a7-0e74-4e54-9bc9-5f11b9c4c757/SewFactory/sewfactory/sewfactory/jumpsuit_sleeveless_S7ENFV914A jumpsuit_sleeveless_S7ENFV914A 8049 8050\n",
      "/media/hjp/05aba9a7-0e74-4e54-9bc9-5f11b9c4c757/SewFactory/sewfactory/sewfactory/jumpsuit_sleeveless_S7ENFV914A\n",
      "jumpsuit_sleeveless_S7ENFV914A\n",
      "list index out of range\n",
      "\n"
     ]
    },
    {
     "name": "stderr",
     "output_type": "stream",
     "text": [
      " 37%|███▋      | 5070/13706 [1:35:39<1:47:01,  1.34it/s]"
     ]
    },
    {
     "name": "stdout",
     "output_type": "stream",
     "text": [
      "/media/hjp/05aba9a7-0e74-4e54-9bc9-5f11b9c4c757/SewFactory/sewfactory/sewfactory/jumpsuit_sleeveless_SMPC9PPPMJ jumpsuit_sleeveless_SMPC9PPPMJ 6287 6288\n",
      "/media/hjp/05aba9a7-0e74-4e54-9bc9-5f11b9c4c757/SewFactory/sewfactory/sewfactory/jumpsuit_sleeveless_SMPC9PPPMJ\n",
      "jumpsuit_sleeveless_SMPC9PPPMJ\n",
      "list index out of range\n",
      "\n"
     ]
    },
    {
     "name": "stderr",
     "output_type": "stream",
     "text": [
      " 39%|███▊      | 5283/13706 [1:39:21<1:47:37,  1.30it/s]"
     ]
    },
    {
     "name": "stdout",
     "output_type": "stream",
     "text": [
      "/media/hjp/05aba9a7-0e74-4e54-9bc9-5f11b9c4c757/SewFactory/sewfactory/sewfactory/jumpsuit_sleeveless_U0JUVZ6YAK jumpsuit_sleeveless_U0JUVZ6YAK 8070 8072\n",
      "/media/hjp/05aba9a7-0e74-4e54-9bc9-5f11b9c4c757/SewFactory/sewfactory/sewfactory/jumpsuit_sleeveless_U0JUVZ6YAK\n",
      "jumpsuit_sleeveless_U0JUVZ6YAK\n",
      "list index out of range\n",
      "\n"
     ]
    },
    {
     "name": "stderr",
     "output_type": "stream",
     "text": [
      " 39%|███▉      | 5391/13706 [1:41:15<1:53:15,  1.22it/s]"
     ]
    },
    {
     "name": "stdout",
     "output_type": "stream",
     "text": [
      "/media/hjp/05aba9a7-0e74-4e54-9bc9-5f11b9c4c757/SewFactory/sewfactory/sewfactory/jumpsuit_sleeveless_UI23TNR8PE jumpsuit_sleeveless_UI23TNR8PE 10633 10634\n",
      "/media/hjp/05aba9a7-0e74-4e54-9bc9-5f11b9c4c757/SewFactory/sewfactory/sewfactory/jumpsuit_sleeveless_UI23TNR8PE\n",
      "jumpsuit_sleeveless_UI23TNR8PE\n",
      "list index out of range\n",
      "\n"
     ]
    },
    {
     "name": "stderr",
     "output_type": "stream",
     "text": [
      " 40%|███▉      | 5444/13706 [1:42:11<1:59:54,  1.15it/s]"
     ]
    },
    {
     "name": "stdout",
     "output_type": "stream",
     "text": [
      "/media/hjp/05aba9a7-0e74-4e54-9bc9-5f11b9c4c757/SewFactory/sewfactory/sewfactory/jumpsuit_sleeveless_UVI5S24OGH jumpsuit_sleeveless_UVI5S24OGH 6966 6968\n",
      "/media/hjp/05aba9a7-0e74-4e54-9bc9-5f11b9c4c757/SewFactory/sewfactory/sewfactory/jumpsuit_sleeveless_UVI5S24OGH\n",
      "jumpsuit_sleeveless_UVI5S24OGH\n",
      "list index out of range\n",
      "\n"
     ]
    },
    {
     "name": "stderr",
     "output_type": "stream",
     "text": [
      " 41%|████      | 5600/13706 [1:44:51<2:02:35,  1.10it/s]"
     ]
    },
    {
     "name": "stdout",
     "output_type": "stream",
     "text": [
      "/media/hjp/05aba9a7-0e74-4e54-9bc9-5f11b9c4c757/SewFactory/sewfactory/sewfactory/jumpsuit_sleeveless_VRJY1HQFQC jumpsuit_sleeveless_VRJY1HQFQC 10345 10346\n",
      "/media/hjp/05aba9a7-0e74-4e54-9bc9-5f11b9c4c757/SewFactory/sewfactory/sewfactory/jumpsuit_sleeveless_VRJY1HQFQC\n",
      "jumpsuit_sleeveless_VRJY1HQFQC\n",
      "list index out of range\n",
      "\n"
     ]
    },
    {
     "name": "stderr",
     "output_type": "stream",
     "text": [
      " 42%|████▏     | 5728/13706 [1:47:04<2:31:59,  1.14s/it]"
     ]
    },
    {
     "name": "stdout",
     "output_type": "stream",
     "text": [
      "/media/hjp/05aba9a7-0e74-4e54-9bc9-5f11b9c4c757/SewFactory/sewfactory/sewfactory/jumpsuit_sleeveless_WHYTMEVKG2 jumpsuit_sleeveless_WHYTMEVKG2 12024 12026\n"
     ]
    },
    {
     "name": "stderr",
     "output_type": "stream",
     "text": [
      " 42%|████▏     | 5729/13706 [1:47:05<2:02:14,  1.09it/s]"
     ]
    },
    {
     "name": "stdout",
     "output_type": "stream",
     "text": [
      "/media/hjp/05aba9a7-0e74-4e54-9bc9-5f11b9c4c757/SewFactory/sewfactory/sewfactory/jumpsuit_sleeveless_WHYTMEVKG2\n",
      "jumpsuit_sleeveless_WHYTMEVKG2\n",
      "list index out of range\n",
      "\n"
     ]
    },
    {
     "name": "stderr",
     "output_type": "stream",
     "text": [
      " 43%|████▎     | 5910/13706 [1:50:14<1:35:38,  1.36it/s]"
     ]
    },
    {
     "name": "stdout",
     "output_type": "stream",
     "text": [
      "/media/hjp/05aba9a7-0e74-4e54-9bc9-5f11b9c4c757/SewFactory/sewfactory/sewfactory/jumpsuit_sleeveless_XMPDP19PYC jumpsuit_sleeveless_XMPDP19PYC 9590 9591\n",
      "/media/hjp/05aba9a7-0e74-4e54-9bc9-5f11b9c4c757/SewFactory/sewfactory/sewfactory/jumpsuit_sleeveless_XMPDP19PYC\n",
      "jumpsuit_sleeveless_XMPDP19PYC\n",
      "list index out of range\n",
      "\n"
     ]
    },
    {
     "name": "stderr",
     "output_type": "stream",
     "text": [
      " 43%|████▎     | 5933/13706 [1:50:38<1:54:26,  1.13it/s]"
     ]
    },
    {
     "name": "stdout",
     "output_type": "stream",
     "text": [
      "/media/hjp/05aba9a7-0e74-4e54-9bc9-5f11b9c4c757/SewFactory/sewfactory/sewfactory/jumpsuit_sleeveless_XRJQAXS2G5 jumpsuit_sleeveless_XRJQAXS2G5 11807 11808\n"
     ]
    },
    {
     "name": "stderr",
     "output_type": "stream",
     "text": [
      " 43%|████▎     | 5934/13706 [1:50:38<1:35:37,  1.35it/s]"
     ]
    },
    {
     "name": "stdout",
     "output_type": "stream",
     "text": [
      "/media/hjp/05aba9a7-0e74-4e54-9bc9-5f11b9c4c757/SewFactory/sewfactory/sewfactory/jumpsuit_sleeveless_XRJQAXS2G5\n",
      "jumpsuit_sleeveless_XRJQAXS2G5\n",
      "list index out of range\n",
      "\n"
     ]
    },
    {
     "name": "stderr",
     "output_type": "stream",
     "text": [
      " 44%|████▎     | 5994/13706 [1:51:42<2:34:24,  1.20s/it]"
     ]
    },
    {
     "name": "stdout",
     "output_type": "stream",
     "text": [
      "/media/hjp/05aba9a7-0e74-4e54-9bc9-5f11b9c4c757/SewFactory/sewfactory/sewfactory/jumpsuit_sleeveless_Y3DPUDWQTX jumpsuit_sleeveless_Y3DPUDWQTX 10673 10674\n"
     ]
    },
    {
     "name": "stderr",
     "output_type": "stream",
     "text": [
      " 44%|████▎     | 5995/13706 [1:51:42<2:02:23,  1.05it/s]"
     ]
    },
    {
     "name": "stdout",
     "output_type": "stream",
     "text": [
      "/media/hjp/05aba9a7-0e74-4e54-9bc9-5f11b9c4c757/SewFactory/sewfactory/sewfactory/jumpsuit_sleeveless_Y3DPUDWQTX\n",
      "jumpsuit_sleeveless_Y3DPUDWQTX\n",
      "list index out of range\n",
      "\n"
     ]
    },
    {
     "name": "stderr",
     "output_type": "stream",
     "text": [
      " 44%|████▍     | 6036/13706 [1:52:27<1:41:29,  1.26it/s]"
     ]
    },
    {
     "name": "stdout",
     "output_type": "stream",
     "text": [
      "/media/hjp/05aba9a7-0e74-4e54-9bc9-5f11b9c4c757/SewFactory/sewfactory/sewfactory/jumpsuit_sleeveless_YBP9VMCU2C jumpsuit_sleeveless_YBP9VMCU2C 8185 8186\n",
      "/media/hjp/05aba9a7-0e74-4e54-9bc9-5f11b9c4c757/SewFactory/sewfactory/sewfactory/jumpsuit_sleeveless_YBP9VMCU2C\n",
      "jumpsuit_sleeveless_YBP9VMCU2C\n",
      "list index out of range\n",
      "\n"
     ]
    },
    {
     "name": "stderr",
     "output_type": "stream",
     "text": [
      " 44%|████▍     | 6056/13706 [1:52:49<2:13:23,  1.05s/it]"
     ]
    },
    {
     "name": "stdout",
     "output_type": "stream",
     "text": [
      "/media/hjp/05aba9a7-0e74-4e54-9bc9-5f11b9c4c757/SewFactory/sewfactory/sewfactory/jumpsuit_sleeveless_YEYTT0M84K jumpsuit_sleeveless_YEYTT0M84K 12587 12592\n"
     ]
    },
    {
     "name": "stderr",
     "output_type": "stream",
     "text": [
      " 44%|████▍     | 6057/13706 [1:52:49<1:44:53,  1.22it/s]"
     ]
    },
    {
     "name": "stdout",
     "output_type": "stream",
     "text": [
      "/media/hjp/05aba9a7-0e74-4e54-9bc9-5f11b9c4c757/SewFactory/sewfactory/sewfactory/jumpsuit_sleeveless_YEYTT0M84K\n",
      "jumpsuit_sleeveless_YEYTT0M84K\n",
      "list index out of range\n",
      "\n"
     ]
    },
    {
     "name": "stderr",
     "output_type": "stream",
     "text": [
      " 45%|████▌     | 6235/13706 [1:55:59<1:48:38,  1.15it/s]"
     ]
    },
    {
     "name": "stdout",
     "output_type": "stream",
     "text": [
      "/media/hjp/05aba9a7-0e74-4e54-9bc9-5f11b9c4c757/SewFactory/sewfactory/sewfactory/jumpsuit_sleeveless_ZG476GIL9P jumpsuit_sleeveless_ZG476GIL9P 7662 7664\n",
      "/media/hjp/05aba9a7-0e74-4e54-9bc9-5f11b9c4c757/SewFactory/sewfactory/sewfactory/jumpsuit_sleeveless_ZG476GIL9P\n",
      "jumpsuit_sleeveless_ZG476GIL9P\n",
      "list index out of range\n",
      "\n"
     ]
    },
    {
     "name": "stderr",
     "output_type": "stream",
     "text": [
      " 46%|████▌     | 6253/13706 [1:56:16<1:42:47,  1.21it/s]"
     ]
    },
    {
     "name": "stdout",
     "output_type": "stream",
     "text": [
      "/media/hjp/05aba9a7-0e74-4e54-9bc9-5f11b9c4c757/SewFactory/sewfactory/sewfactory/jumpsuit_sleeveless_ZLKEWUSJRY jumpsuit_sleeveless_ZLKEWUSJRY 9496 9497\n",
      "/media/hjp/05aba9a7-0e74-4e54-9bc9-5f11b9c4c757/SewFactory/sewfactory/sewfactory/jumpsuit_sleeveless_ZLKEWUSJRY\n",
      "jumpsuit_sleeveless_ZLKEWUSJRY\n",
      "list index out of range\n",
      "\n"
     ]
    },
    {
     "name": "stderr",
     "output_type": "stream",
     "text": [
      " 46%|████▋     | 6359/13706 [1:58:35<3:40:06,  1.80s/it]"
     ]
    },
    {
     "name": "stdout",
     "output_type": "stream",
     "text": [
      "/media/hjp/05aba9a7-0e74-4e54-9bc9-5f11b9c4c757/SewFactory/sewfactory/sewfactory/tee_0I999YWN3W_pants_straight_sides_W1DAZJQ9J0 pants_straight_sides_W1DAZJQ9J0 4042 4044\n",
      "/media/hjp/05aba9a7-0e74-4e54-9bc9-5f11b9c4c757/SewFactory/sewfactory/sewfactory/tee_0I999YWN3W_pants_straight_sides_W1DAZJQ9J0\n",
      "pants_straight_sides_W1DAZJQ9J0\n",
      "list index out of range\n",
      "\n"
     ]
    },
    {
     "name": "stderr",
     "output_type": "stream",
     "text": [
      " 48%|████▊     | 6542/13706 [2:04:29<3:27:24,  1.74s/it]"
     ]
    },
    {
     "name": "stdout",
     "output_type": "stream",
     "text": [
      "/media/hjp/05aba9a7-0e74-4e54-9bc9-5f11b9c4c757/SewFactory/sewfactory/sewfactory/tee_5FQLL94XM3_pants_straight_sides_NMM6UKK8R9 pants_straight_sides_NMM6UKK8R9 9324 9326\n",
      "/media/hjp/05aba9a7-0e74-4e54-9bc9-5f11b9c4c757/SewFactory/sewfactory/sewfactory/tee_5FQLL94XM3_pants_straight_sides_NMM6UKK8R9\n",
      "pants_straight_sides_NMM6UKK8R9\n",
      "list index out of range\n",
      "\n"
     ]
    },
    {
     "name": "stderr",
     "output_type": "stream",
     "text": [
      " 48%|████▊     | 6568/13706 [2:05:16<3:28:40,  1.75s/it]"
     ]
    },
    {
     "name": "stdout",
     "output_type": "stream",
     "text": [
      "/media/hjp/05aba9a7-0e74-4e54-9bc9-5f11b9c4c757/SewFactory/sewfactory/sewfactory/tee_645T3TCKL4_wb_pants_straight_Y051G411DU wb_pants_straight_Y051G411DU 5482 5484\n",
      "/media/hjp/05aba9a7-0e74-4e54-9bc9-5f11b9c4c757/SewFactory/sewfactory/sewfactory/tee_645T3TCKL4_wb_pants_straight_Y051G411DU\n",
      "wb_pants_straight_Y051G411DU\n",
      "list index out of range\n",
      "\n"
     ]
    },
    {
     "name": "stderr",
     "output_type": "stream",
     "text": [
      " 50%|████▉     | 6795/13706 [2:12:36<3:20:09,  1.74s/it]"
     ]
    },
    {
     "name": "stdout",
     "output_type": "stream",
     "text": [
      "/media/hjp/05aba9a7-0e74-4e54-9bc9-5f11b9c4c757/SewFactory/sewfactory/sewfactory/tee_BAF6I38EB3_wb_pants_straight_Q3T6CZLNXC wb_pants_straight_Q3T6CZLNXC 5329 5331\n",
      "/media/hjp/05aba9a7-0e74-4e54-9bc9-5f11b9c4c757/SewFactory/sewfactory/sewfactory/tee_BAF6I38EB3_wb_pants_straight_Q3T6CZLNXC\n",
      "wb_pants_straight_Q3T6CZLNXC\n",
      "list index out of range\n",
      "\n"
     ]
    },
    {
     "name": "stderr",
     "output_type": "stream",
     "text": [
      " 50%|████▉     | 6824/13706 [2:13:31<2:42:01,  1.41s/it]"
     ]
    },
    {
     "name": "stdout",
     "output_type": "stream",
     "text": [
      "/media/hjp/05aba9a7-0e74-4e54-9bc9-5f11b9c4c757/SewFactory/sewfactory/sewfactory/tee_BRYJXCTQHR_pants_straight_sides_VFL5AF335L tee_BRYJXCTQHR 10693 10695\n",
      "/media/hjp/05aba9a7-0e74-4e54-9bc9-5f11b9c4c757/SewFactory/sewfactory/sewfactory/tee_BRYJXCTQHR_pants_straight_sides_VFL5AF335L\n",
      "tee_BRYJXCTQHR\n",
      "list index out of range\n",
      "\n"
     ]
    },
    {
     "name": "stderr",
     "output_type": "stream",
     "text": [
      " 51%|█████     | 6972/13706 [2:18:20<3:11:25,  1.71s/it]"
     ]
    },
    {
     "name": "stdout",
     "output_type": "stream",
     "text": [
      "/media/hjp/05aba9a7-0e74-4e54-9bc9-5f11b9c4c757/SewFactory/sewfactory/sewfactory/tee_DQVUSEW7J7_wb_pants_straight_IJUMFP6UQ2 wb_pants_straight_IJUMFP6UQ2 6639 6641\n",
      "/media/hjp/05aba9a7-0e74-4e54-9bc9-5f11b9c4c757/SewFactory/sewfactory/sewfactory/tee_DQVUSEW7J7_wb_pants_straight_IJUMFP6UQ2\n",
      "wb_pants_straight_IJUMFP6UQ2\n",
      "list index out of range\n",
      "\n"
     ]
    },
    {
     "name": "stderr",
     "output_type": "stream",
     "text": [
      " 51%|█████     | 7012/13706 [2:19:36<2:46:38,  1.49s/it]"
     ]
    },
    {
     "name": "stdout",
     "output_type": "stream",
     "text": [
      "/media/hjp/05aba9a7-0e74-4e54-9bc9-5f11b9c4c757/SewFactory/sewfactory/sewfactory/tee_EFU6WOAUPI_pants_straight_sides_OZI64G6X4V pants_straight_sides_OZI64G6X4V 8127 8129\n",
      "/media/hjp/05aba9a7-0e74-4e54-9bc9-5f11b9c4c757/SewFactory/sewfactory/sewfactory/tee_EFU6WOAUPI_pants_straight_sides_OZI64G6X4V\n",
      "pants_straight_sides_OZI64G6X4V\n",
      "list index out of range\n",
      "\n"
     ]
    },
    {
     "name": "stderr",
     "output_type": "stream",
     "text": [
      " 52%|█████▏    | 7062/13706 [2:21:12<3:04:50,  1.67s/it]"
     ]
    },
    {
     "name": "stdout",
     "output_type": "stream",
     "text": [
      "/media/hjp/05aba9a7-0e74-4e54-9bc9-5f11b9c4c757/SewFactory/sewfactory/sewfactory/tee_FBEVH5QBWR_pants_straight_sides_QTBYAH3A59 pants_straight_sides_QTBYAH3A59 6991 6993\n",
      "/media/hjp/05aba9a7-0e74-4e54-9bc9-5f11b9c4c757/SewFactory/sewfactory/sewfactory/tee_FBEVH5QBWR_pants_straight_sides_QTBYAH3A59\n",
      "pants_straight_sides_QTBYAH3A59\n",
      "list index out of range\n",
      "\n"
     ]
    },
    {
     "name": "stderr",
     "output_type": "stream",
     "text": [
      " 54%|█████▎    | 7348/13706 [2:30:15<3:05:34,  1.75s/it]"
     ]
    },
    {
     "name": "stdout",
     "output_type": "stream",
     "text": [
      "/media/hjp/05aba9a7-0e74-4e54-9bc9-5f11b9c4c757/SewFactory/sewfactory/sewfactory/tee_JPW14WNEIR_wb_pants_straight_QLCC1AOW8D wb_pants_straight_QLCC1AOW8D 8967 8969\n",
      "/media/hjp/05aba9a7-0e74-4e54-9bc9-5f11b9c4c757/SewFactory/sewfactory/sewfactory/tee_JPW14WNEIR_wb_pants_straight_QLCC1AOW8D\n",
      "wb_pants_straight_QLCC1AOW8D\n",
      "list index out of range\n",
      "\n"
     ]
    },
    {
     "name": "stderr",
     "output_type": "stream",
     "text": [
      " 54%|█████▍    | 7404/13706 [2:32:05<3:39:10,  2.09s/it]"
     ]
    },
    {
     "name": "stdout",
     "output_type": "stream",
     "text": [
      "/media/hjp/05aba9a7-0e74-4e54-9bc9-5f11b9c4c757/SewFactory/sewfactory/sewfactory/tee_KMQEV8ET0F_wb_pants_straight_TL5TV5H9GQ wb_pants_straight_TL5TV5H9GQ 6890 6892\n",
      "/media/hjp/05aba9a7-0e74-4e54-9bc9-5f11b9c4c757/SewFactory/sewfactory/sewfactory/tee_KMQEV8ET0F_wb_pants_straight_TL5TV5H9GQ\n",
      "wb_pants_straight_TL5TV5H9GQ\n",
      "list index out of range\n",
      "\n"
     ]
    },
    {
     "name": "stderr",
     "output_type": "stream",
     "text": [
      " 55%|█████▌    | 7582/13706 [2:37:58<3:43:47,  2.19s/it]"
     ]
    },
    {
     "name": "stdout",
     "output_type": "stream",
     "text": [
      "/media/hjp/05aba9a7-0e74-4e54-9bc9-5f11b9c4c757/SewFactory/sewfactory/sewfactory/tee_NO5KHT2023_wb_pants_straight_XXTKSCK7HK wb_pants_straight_XXTKSCK7HK 13327 13329\n"
     ]
    },
    {
     "name": "stderr",
     "output_type": "stream",
     "text": [
      " 55%|█████▌    | 7583/13706 [2:37:59<3:16:17,  1.92s/it]"
     ]
    },
    {
     "name": "stdout",
     "output_type": "stream",
     "text": [
      "/media/hjp/05aba9a7-0e74-4e54-9bc9-5f11b9c4c757/SewFactory/sewfactory/sewfactory/tee_NO5KHT2023_wb_pants_straight_XXTKSCK7HK\n",
      "wb_pants_straight_XXTKSCK7HK\n",
      "list index out of range\n",
      "\n"
     ]
    },
    {
     "name": "stderr",
     "output_type": "stream",
     "text": [
      " 56%|█████▌    | 7607/13706 [2:38:47<3:19:51,  1.97s/it]"
     ]
    },
    {
     "name": "stdout",
     "output_type": "stream",
     "text": [
      "/media/hjp/05aba9a7-0e74-4e54-9bc9-5f11b9c4c757/SewFactory/sewfactory/sewfactory/tee_O2AQDL7RS8_pants_straight_sides_P8OLAL592I pants_straight_sides_P8OLAL592I 7536 7538\n",
      "/media/hjp/05aba9a7-0e74-4e54-9bc9-5f11b9c4c757/SewFactory/sewfactory/sewfactory/tee_O2AQDL7RS8_pants_straight_sides_P8OLAL592I\n",
      "pants_straight_sides_P8OLAL592I\n",
      "list index out of range\n",
      "\n"
     ]
    },
    {
     "name": "stderr",
     "output_type": "stream",
     "text": [
      " 56%|█████▌    | 7695/13706 [2:41:29<1:51:33,  1.11s/it]"
     ]
    },
    {
     "name": "stdout",
     "output_type": "stream",
     "text": [
      "/media/hjp/05aba9a7-0e74-4e54-9bc9-5f11b9c4c757/SewFactory/sewfactory/sewfactory/tee_PJ2S2VTLYZ_skirt_8_panels_XEGAKBRWLH tee_PJ2S2VTLYZ 4705 4706\n",
      "/media/hjp/05aba9a7-0e74-4e54-9bc9-5f11b9c4c757/SewFactory/sewfactory/sewfactory/tee_PJ2S2VTLYZ_skirt_8_panels_XEGAKBRWLH\n",
      "tee_PJ2S2VTLYZ\n",
      "list index out of range\n",
      "\n"
     ]
    },
    {
     "name": "stderr",
     "output_type": "stream",
     "text": [
      " 56%|█████▌    | 7706/13706 [2:41:51<2:45:01,  1.65s/it]"
     ]
    },
    {
     "name": "stdout",
     "output_type": "stream",
     "text": [
      "/media/hjp/05aba9a7-0e74-4e54-9bc9-5f11b9c4c757/SewFactory/sewfactory/sewfactory/tee_POTEEZZWHF_wb_pants_straight_T33S6OIGB8 wb_pants_straight_T33S6OIGB8 5025 5027\n",
      "/media/hjp/05aba9a7-0e74-4e54-9bc9-5f11b9c4c757/SewFactory/sewfactory/sewfactory/tee_POTEEZZWHF_wb_pants_straight_T33S6OIGB8\n",
      "wb_pants_straight_T33S6OIGB8\n",
      "list index out of range\n",
      "\n"
     ]
    },
    {
     "name": "stderr",
     "output_type": "stream",
     "text": [
      " 57%|█████▋    | 7829/13706 [2:45:52<3:05:05,  1.89s/it]"
     ]
    },
    {
     "name": "stdout",
     "output_type": "stream",
     "text": [
      "/media/hjp/05aba9a7-0e74-4e54-9bc9-5f11b9c4c757/SewFactory/sewfactory/sewfactory/tee_RJVXD3LCW9_pants_straight_sides_PNPD109M6T pants_straight_sides_PNPD109M6T 9023 9025\n",
      "/media/hjp/05aba9a7-0e74-4e54-9bc9-5f11b9c4c757/SewFactory/sewfactory/sewfactory/tee_RJVXD3LCW9_pants_straight_sides_PNPD109M6T\n",
      "pants_straight_sides_PNPD109M6T\n",
      "list index out of range\n",
      "\n"
     ]
    },
    {
     "name": "stderr",
     "output_type": "stream",
     "text": [
      " 58%|█████▊    | 7967/13706 [2:50:16<2:48:04,  1.76s/it]"
     ]
    },
    {
     "name": "stdout",
     "output_type": "stream",
     "text": [
      "/media/hjp/05aba9a7-0e74-4e54-9bc9-5f11b9c4c757/SewFactory/sewfactory/sewfactory/tee_TWUW4Y7YDG_wb_pants_straight_XJGB9VW6TQ wb_pants_straight_XJGB9VW6TQ 8475 8477\n",
      "/media/hjp/05aba9a7-0e74-4e54-9bc9-5f11b9c4c757/SewFactory/sewfactory/sewfactory/tee_TWUW4Y7YDG_wb_pants_straight_XJGB9VW6TQ\n",
      "wb_pants_straight_XJGB9VW6TQ\n",
      "list index out of range\n",
      "\n"
     ]
    },
    {
     "name": "stderr",
     "output_type": "stream",
     "text": [
      " 58%|█████▊    | 7973/13706 [2:50:26<2:37:36,  1.65s/it]"
     ]
    },
    {
     "name": "stdout",
     "output_type": "stream",
     "text": [
      "/media/hjp/05aba9a7-0e74-4e54-9bc9-5f11b9c4c757/SewFactory/sewfactory/sewfactory/tee_U3VDNOY5OU_pants_straight_sides_UTHJJ99WVE pants_straight_sides_UTHJJ99WVE 8419 8421\n",
      "/media/hjp/05aba9a7-0e74-4e54-9bc9-5f11b9c4c757/SewFactory/sewfactory/sewfactory/tee_U3VDNOY5OU_pants_straight_sides_UTHJJ99WVE\n",
      "pants_straight_sides_UTHJJ99WVE\n",
      "list index out of range\n",
      "\n"
     ]
    },
    {
     "name": "stderr",
     "output_type": "stream",
     "text": [
      " 59%|█████▉    | 8147/13706 [2:55:58<2:33:27,  1.66s/it]"
     ]
    },
    {
     "name": "stdout",
     "output_type": "stream",
     "text": [
      "/media/hjp/05aba9a7-0e74-4e54-9bc9-5f11b9c4c757/SewFactory/sewfactory/sewfactory/tee_WLRECYW27H_pants_straight_sides_Y0VV77EMBI pants_straight_sides_Y0VV77EMBI 5387 5389\n",
      "/media/hjp/05aba9a7-0e74-4e54-9bc9-5f11b9c4c757/SewFactory/sewfactory/sewfactory/tee_WLRECYW27H_pants_straight_sides_Y0VV77EMBI\n",
      "pants_straight_sides_Y0VV77EMBI\n",
      "list index out of range\n",
      "\n"
     ]
    },
    {
     "name": "stderr",
     "output_type": "stream",
     "text": [
      " 60%|██████    | 8251/13706 [2:59:15<2:09:56,  1.43s/it]"
     ]
    },
    {
     "name": "stdout",
     "output_type": "stream",
     "text": [
      "/media/hjp/05aba9a7-0e74-4e54-9bc9-5f11b9c4c757/SewFactory/sewfactory/sewfactory/tee_Y5EGJLVR82_pants_straight_sides_WDBOE7JON0 pants_straight_sides_WDBOE7JON0 6335 6337\n",
      "/media/hjp/05aba9a7-0e74-4e54-9bc9-5f11b9c4c757/SewFactory/sewfactory/sewfactory/tee_Y5EGJLVR82_pants_straight_sides_WDBOE7JON0\n",
      "pants_straight_sides_WDBOE7JON0\n",
      "list index out of range\n",
      "\n"
     ]
    },
    {
     "name": "stderr",
     "output_type": "stream",
     "text": [
      " 60%|██████    | 8292/13706 [3:00:32<2:31:21,  1.68s/it]"
     ]
    },
    {
     "name": "stdout",
     "output_type": "stream",
     "text": [
      "/media/hjp/05aba9a7-0e74-4e54-9bc9-5f11b9c4c757/SewFactory/sewfactory/sewfactory/tee_YT0V5PPLXK_pants_straight_sides_S7F11X0CMP pants_straight_sides_S7F11X0CMP 8452 8453\n",
      "/media/hjp/05aba9a7-0e74-4e54-9bc9-5f11b9c4c757/SewFactory/sewfactory/sewfactory/tee_YT0V5PPLXK_pants_straight_sides_S7F11X0CMP\n",
      "pants_straight_sides_S7F11X0CMP\n",
      "list index out of range\n",
      "\n"
     ]
    },
    {
     "name": "stderr",
     "output_type": "stream",
     "text": [
      " 61%|██████    | 8294/13706 [3:00:35<2:19:14,  1.54s/it]"
     ]
    },
    {
     "name": "stdout",
     "output_type": "stream",
     "text": [
      "/media/hjp/05aba9a7-0e74-4e54-9bc9-5f11b9c4c757/SewFactory/sewfactory/sewfactory/tee_YTLTOEV9EP_pants_straight_sides_KXLQGCWXLV pants_straight_sides_KXLQGCWXLV 9544 9548\n",
      "/media/hjp/05aba9a7-0e74-4e54-9bc9-5f11b9c4c757/SewFactory/sewfactory/sewfactory/tee_YTLTOEV9EP_pants_straight_sides_KXLQGCWXLV\n",
      "pants_straight_sides_KXLQGCWXLV\n",
      "list index out of range\n",
      "\n"
     ]
    },
    {
     "name": "stderr",
     "output_type": "stream",
     "text": [
      " 61%|██████    | 8302/13706 [3:00:50<2:37:57,  1.75s/it]"
     ]
    },
    {
     "name": "stdout",
     "output_type": "stream",
     "text": [
      "/media/hjp/05aba9a7-0e74-4e54-9bc9-5f11b9c4c757/SewFactory/sewfactory/sewfactory/tee_YY4LR9Z4KL_wb_pants_straight_ZB0VCAJSR9 wb_pants_straight_ZB0VCAJSR9 7854 7856\n",
      "/media/hjp/05aba9a7-0e74-4e54-9bc9-5f11b9c4c757/SewFactory/sewfactory/sewfactory/tee_YY4LR9Z4KL_wb_pants_straight_ZB0VCAJSR9\n",
      "wb_pants_straight_ZB0VCAJSR9\n",
      "list index out of range\n",
      "\n"
     ]
    },
    {
     "name": "stderr",
     "output_type": "stream",
     "text": [
      " 62%|██████▏   | 8535/13706 [3:07:06<1:37:48,  1.13s/it]"
     ]
    },
    {
     "name": "stdout",
     "output_type": "stream",
     "text": [
      "/media/hjp/05aba9a7-0e74-4e54-9bc9-5f11b9c4c757/SewFactory/sewfactory/sewfactory/tee_sleeveless_2LZ33RUVER_pants_straight_sides_W0GU1KZYP7 pants_straight_sides_W0GU1KZYP7 9547 9549\n",
      "/media/hjp/05aba9a7-0e74-4e54-9bc9-5f11b9c4c757/SewFactory/sewfactory/sewfactory/tee_sleeveless_2LZ33RUVER_pants_straight_sides_W0GU1KZYP7\n",
      "pants_straight_sides_W0GU1KZYP7\n",
      "list index out of range\n",
      "\n"
     ]
    },
    {
     "name": "stderr",
     "output_type": "stream",
     "text": [
      " 64%|██████▍   | 8801/13706 [3:13:48<1:51:49,  1.37s/it]"
     ]
    },
    {
     "name": "stdout",
     "output_type": "stream",
     "text": [
      "/media/hjp/05aba9a7-0e74-4e54-9bc9-5f11b9c4c757/SewFactory/sewfactory/sewfactory/tee_sleeveless_6KDEJECMPE_pants_straight_sides_W024C46OI3 pants_straight_sides_W024C46OI3 8373 8377\n",
      "/media/hjp/05aba9a7-0e74-4e54-9bc9-5f11b9c4c757/SewFactory/sewfactory/sewfactory/tee_sleeveless_6KDEJECMPE_pants_straight_sides_W024C46OI3\n",
      "pants_straight_sides_W024C46OI3\n",
      "list index out of range\n",
      "\n"
     ]
    },
    {
     "name": "stderr",
     "output_type": "stream",
     "text": [
      " 68%|██████▊   | 9304/13706 [3:26:15<1:31:49,  1.25s/it]"
     ]
    },
    {
     "name": "stdout",
     "output_type": "stream",
     "text": [
      "/media/hjp/05aba9a7-0e74-4e54-9bc9-5f11b9c4c757/SewFactory/sewfactory/sewfactory/tee_sleeveless_EILQH9H7SG_wb_pants_straight_SSR1X6BVVA wb_pants_straight_SSR1X6BVVA 11868 11870\n"
     ]
    },
    {
     "name": "stderr",
     "output_type": "stream",
     "text": [
      " 68%|██████▊   | 9305/13706 [3:26:16<1:25:27,  1.17s/it]"
     ]
    },
    {
     "name": "stdout",
     "output_type": "stream",
     "text": [
      "/media/hjp/05aba9a7-0e74-4e54-9bc9-5f11b9c4c757/SewFactory/sewfactory/sewfactory/tee_sleeveless_EILQH9H7SG_wb_pants_straight_SSR1X6BVVA\n",
      "wb_pants_straight_SSR1X6BVVA\n",
      "list index out of range\n",
      "\n"
     ]
    },
    {
     "name": "stderr",
     "output_type": "stream",
     "text": [
      " 69%|██████▉   | 9430/13706 [3:29:17<1:37:45,  1.37s/it]"
     ]
    },
    {
     "name": "stdout",
     "output_type": "stream",
     "text": [
      "/media/hjp/05aba9a7-0e74-4e54-9bc9-5f11b9c4c757/SewFactory/sewfactory/sewfactory/tee_sleeveless_GM66EPENKU_pants_straight_sides_TA31EFOP8V pants_straight_sides_TA31EFOP8V 6190 6192\n",
      "/media/hjp/05aba9a7-0e74-4e54-9bc9-5f11b9c4c757/SewFactory/sewfactory/sewfactory/tee_sleeveless_GM66EPENKU_pants_straight_sides_TA31EFOP8V\n",
      "pants_straight_sides_TA31EFOP8V\n",
      "list index out of range\n",
      "\n"
     ]
    },
    {
     "name": "stderr",
     "output_type": "stream",
     "text": [
      " 70%|███████   | 9618/13706 [3:33:49<54:51,  1.24it/s]  "
     ]
    },
    {
     "name": "stdout",
     "output_type": "stream",
     "text": [
      "/media/hjp/05aba9a7-0e74-4e54-9bc9-5f11b9c4c757/SewFactory/sewfactory/sewfactory/tee_sleeveless_JLPZ0T1M4U_skirt_2_panels_HZJJN55ZPS tee_sleeveless_JLPZ0T1M4U 4433 4434\n",
      "/media/hjp/05aba9a7-0e74-4e54-9bc9-5f11b9c4c757/SewFactory/sewfactory/sewfactory/tee_sleeveless_JLPZ0T1M4U_skirt_2_panels_HZJJN55ZPS\n",
      "tee_sleeveless_JLPZ0T1M4U\n",
      "list index out of range\n",
      "\n"
     ]
    },
    {
     "name": "stderr",
     "output_type": "stream",
     "text": [
      " 70%|███████   | 9624/13706 [3:33:56<1:09:13,  1.02s/it]"
     ]
    },
    {
     "name": "stdout",
     "output_type": "stream",
     "text": [
      "/media/hjp/05aba9a7-0e74-4e54-9bc9-5f11b9c4c757/SewFactory/sewfactory/sewfactory/tee_sleeveless_JOD74H1WC3_pants_straight_sides_Y8Z97T9NQR pants_straight_sides_Y8Z97T9NQR 5087 5089\n",
      "/media/hjp/05aba9a7-0e74-4e54-9bc9-5f11b9c4c757/SewFactory/sewfactory/sewfactory/tee_sleeveless_JOD74H1WC3_pants_straight_sides_Y8Z97T9NQR\n",
      "pants_straight_sides_Y8Z97T9NQR\n",
      "list index out of range\n",
      "\n"
     ]
    },
    {
     "name": "stderr",
     "output_type": "stream",
     "text": [
      " 71%|███████▏  | 9772/13706 [3:37:26<1:09:41,  1.06s/it]"
     ]
    },
    {
     "name": "stdout",
     "output_type": "stream",
     "text": [
      "/media/hjp/05aba9a7-0e74-4e54-9bc9-5f11b9c4c757/SewFactory/sewfactory/sewfactory/tee_sleeveless_L2JF63RTME_pants_straight_sides_W0DFU8K7QE pants_straight_sides_W0DFU8K7QE 8738 8740\n",
      "/media/hjp/05aba9a7-0e74-4e54-9bc9-5f11b9c4c757/SewFactory/sewfactory/sewfactory/tee_sleeveless_L2JF63RTME_pants_straight_sides_W0DFU8K7QE\n",
      "pants_straight_sides_W0DFU8K7QE\n",
      "list index out of range\n",
      "\n"
     ]
    },
    {
     "name": "stderr",
     "output_type": "stream",
     "text": [
      " 73%|███████▎  | 10032/13706 [3:43:50<1:18:05,  1.28s/it]"
     ]
    },
    {
     "name": "stdout",
     "output_type": "stream",
     "text": [
      "/media/hjp/05aba9a7-0e74-4e54-9bc9-5f11b9c4c757/SewFactory/sewfactory/sewfactory/tee_sleeveless_N5LEA0APQC_pants_straight_sides_OD5WJQJ68F tee_sleeveless_N5LEA0APQC 4328 4329\n",
      "/media/hjp/05aba9a7-0e74-4e54-9bc9-5f11b9c4c757/SewFactory/sewfactory/sewfactory/tee_sleeveless_N5LEA0APQC_pants_straight_sides_OD5WJQJ68F\n",
      "tee_sleeveless_N5LEA0APQC\n",
      "list index out of range\n",
      "\n"
     ]
    },
    {
     "name": "stderr",
     "output_type": "stream",
     "text": [
      " 74%|███████▍  | 10138/13706 [3:46:33<1:11:36,  1.20s/it]"
     ]
    },
    {
     "name": "stdout",
     "output_type": "stream",
     "text": [
      "/media/hjp/05aba9a7-0e74-4e54-9bc9-5f11b9c4c757/SewFactory/sewfactory/sewfactory/tee_sleeveless_O0X3KQTMKK_pants_straight_sides_ZBWL56LVQP pants_straight_sides_ZBWL56LVQP 4375 4377\n",
      "/media/hjp/05aba9a7-0e74-4e54-9bc9-5f11b9c4c757/SewFactory/sewfactory/sewfactory/tee_sleeveless_O0X3KQTMKK_pants_straight_sides_ZBWL56LVQP\n",
      "pants_straight_sides_ZBWL56LVQP\n",
      "list index out of range\n",
      "\n"
     ]
    },
    {
     "name": "stderr",
     "output_type": "stream",
     "text": [
      " 75%|███████▍  | 10246/13706 [3:49:11<1:02:48,  1.09s/it]"
     ]
    },
    {
     "name": "stdout",
     "output_type": "stream",
     "text": [
      "/media/hjp/05aba9a7-0e74-4e54-9bc9-5f11b9c4c757/SewFactory/sewfactory/sewfactory/tee_sleeveless_ORBSD6E8KI_pants_straight_sides_WNA00DRYSN pants_straight_sides_WNA00DRYSN 8359 8361\n",
      "/media/hjp/05aba9a7-0e74-4e54-9bc9-5f11b9c4c757/SewFactory/sewfactory/sewfactory/tee_sleeveless_ORBSD6E8KI_pants_straight_sides_WNA00DRYSN\n",
      "pants_straight_sides_WNA00DRYSN\n",
      "list index out of range\n",
      "\n"
     ]
    },
    {
     "name": "stderr",
     "output_type": "stream",
     "text": [
      " 77%|███████▋  | 10527/13706 [3:56:12<57:17,  1.08s/it]  "
     ]
    },
    {
     "name": "stdout",
     "output_type": "stream",
     "text": [
      "/media/hjp/05aba9a7-0e74-4e54-9bc9-5f11b9c4c757/SewFactory/sewfactory/sewfactory/tee_sleeveless_QY7DSEFCTR_pants_straight_sides_N72AB6WY6M tee_sleeveless_QY7DSEFCTR 3248 3249\n",
      "/media/hjp/05aba9a7-0e74-4e54-9bc9-5f11b9c4c757/SewFactory/sewfactory/sewfactory/tee_sleeveless_QY7DSEFCTR_pants_straight_sides_N72AB6WY6M\n",
      "tee_sleeveless_QY7DSEFCTR\n",
      "list index out of range\n",
      "\n"
     ]
    },
    {
     "name": "stderr",
     "output_type": "stream",
     "text": [
      " 78%|███████▊  | 10686/13706 [4:00:12<59:59,  1.19s/it]  "
     ]
    },
    {
     "name": "stdout",
     "output_type": "stream",
     "text": [
      "/media/hjp/05aba9a7-0e74-4e54-9bc9-5f11b9c4c757/SewFactory/sewfactory/sewfactory/tee_sleeveless_S1PK7YY2W2_pants_straight_sides_OJ1H1RES8S pants_straight_sides_OJ1H1RES8S 7067 7069\n",
      "/media/hjp/05aba9a7-0e74-4e54-9bc9-5f11b9c4c757/SewFactory/sewfactory/sewfactory/tee_sleeveless_S1PK7YY2W2_pants_straight_sides_OJ1H1RES8S\n",
      "pants_straight_sides_OJ1H1RES8S\n",
      "list index out of range\n",
      "\n"
     ]
    },
    {
     "name": "stderr",
     "output_type": "stream",
     "text": [
      " 78%|███████▊  | 10744/13706 [4:01:38<1:17:17,  1.57s/it]"
     ]
    },
    {
     "name": "stdout",
     "output_type": "stream",
     "text": [
      "/media/hjp/05aba9a7-0e74-4e54-9bc9-5f11b9c4c757/SewFactory/sewfactory/sewfactory/tee_sleeveless_SIANX0CRL0_wb_pants_straight_QECP0RUD6Q wb_pants_straight_QECP0RUD6Q 15472 15474\n"
     ]
    },
    {
     "name": "stderr",
     "output_type": "stream",
     "text": [
      " 78%|███████▊  | 10745/13706 [4:01:39<1:08:44,  1.39s/it]"
     ]
    },
    {
     "name": "stdout",
     "output_type": "stream",
     "text": [
      "/media/hjp/05aba9a7-0e74-4e54-9bc9-5f11b9c4c757/SewFactory/sewfactory/sewfactory/tee_sleeveless_SIANX0CRL0_wb_pants_straight_QECP0RUD6Q\n",
      "wb_pants_straight_QECP0RUD6Q\n",
      "list index out of range\n",
      "\n"
     ]
    },
    {
     "name": "stderr",
     "output_type": "stream",
     "text": [
      " 79%|███████▊  | 10761/13706 [4:01:59<57:57,  1.18s/it]  "
     ]
    },
    {
     "name": "stdout",
     "output_type": "stream",
     "text": [
      "/media/hjp/05aba9a7-0e74-4e54-9bc9-5f11b9c4c757/SewFactory/sewfactory/sewfactory/tee_sleeveless_SO9ITV0SRQ_pants_straight_sides_YV4MOGAMHG pants_straight_sides_YV4MOGAMHG 5192 5194\n",
      "/media/hjp/05aba9a7-0e74-4e54-9bc9-5f11b9c4c757/SewFactory/sewfactory/sewfactory/tee_sleeveless_SO9ITV0SRQ_pants_straight_sides_YV4MOGAMHG\n",
      "pants_straight_sides_YV4MOGAMHG\n",
      "list index out of range\n",
      "\n"
     ]
    },
    {
     "name": "stderr",
     "output_type": "stream",
     "text": [
      " 79%|███████▊  | 10771/13706 [4:02:15<1:06:28,  1.36s/it]"
     ]
    },
    {
     "name": "stdout",
     "output_type": "stream",
     "text": [
      "/media/hjp/05aba9a7-0e74-4e54-9bc9-5f11b9c4c757/SewFactory/sewfactory/sewfactory/tee_sleeveless_SR4EUNE3ZC_wb_pants_straight_UJ2WLF8L7S wb_pants_straight_UJ2WLF8L7S 5284 5286\n",
      "/media/hjp/05aba9a7-0e74-4e54-9bc9-5f11b9c4c757/SewFactory/sewfactory/sewfactory/tee_sleeveless_SR4EUNE3ZC_wb_pants_straight_UJ2WLF8L7S\n",
      "wb_pants_straight_UJ2WLF8L7S\n",
      "list index out of range\n",
      "\n"
     ]
    },
    {
     "name": "stderr",
     "output_type": "stream",
     "text": [
      " 81%|████████  | 11117/13706 [4:10:39<55:07,  1.28s/it]  "
     ]
    },
    {
     "name": "stdout",
     "output_type": "stream",
     "text": [
      "/media/hjp/05aba9a7-0e74-4e54-9bc9-5f11b9c4c757/SewFactory/sewfactory/sewfactory/tee_sleeveless_V0AZ44V6VS_wb_pants_straight_U5GSSUJLIG wb_pants_straight_U5GSSUJLIG 8739 8741\n",
      "/media/hjp/05aba9a7-0e74-4e54-9bc9-5f11b9c4c757/SewFactory/sewfactory/sewfactory/tee_sleeveless_V0AZ44V6VS_wb_pants_straight_U5GSSUJLIG\n",
      "wb_pants_straight_U5GSSUJLIG\n",
      "list index out of range\n",
      "\n"
     ]
    },
    {
     "name": "stderr",
     "output_type": "stream",
     "text": [
      " 81%|████████▏ | 11167/13706 [4:11:56<59:40,  1.41s/it]  "
     ]
    },
    {
     "name": "stdout",
     "output_type": "stream",
     "text": [
      "/media/hjp/05aba9a7-0e74-4e54-9bc9-5f11b9c4c757/SewFactory/sewfactory/sewfactory/tee_sleeveless_VEQCAIIMYH_pants_straight_sides_TIU98Z7VFM pants_straight_sides_TIU98Z7VFM 8053 8055\n",
      "/media/hjp/05aba9a7-0e74-4e54-9bc9-5f11b9c4c757/SewFactory/sewfactory/sewfactory/tee_sleeveless_VEQCAIIMYH_pants_straight_sides_TIU98Z7VFM\n",
      "pants_straight_sides_TIU98Z7VFM\n",
      "list index out of range\n",
      "\n"
     ]
    },
    {
     "name": "stderr",
     "output_type": "stream",
     "text": [
      " 82%|████████▏ | 11265/13706 [4:14:22<1:00:10,  1.48s/it]"
     ]
    },
    {
     "name": "stdout",
     "output_type": "stream",
     "text": [
      "/media/hjp/05aba9a7-0e74-4e54-9bc9-5f11b9c4c757/SewFactory/sewfactory/sewfactory/tee_sleeveless_W23EN7OSNX_skirt_4_panels_JB7U1QPT6A tee_sleeveless_W23EN7OSNX 4045 4046\n",
      "/media/hjp/05aba9a7-0e74-4e54-9bc9-5f11b9c4c757/SewFactory/sewfactory/sewfactory/tee_sleeveless_W23EN7OSNX_skirt_4_panels_JB7U1QPT6A\n",
      "tee_sleeveless_W23EN7OSNX\n",
      "list index out of range\n",
      "\n"
     ]
    },
    {
     "name": "stderr",
     "output_type": "stream",
     "text": [
      " 86%|████████▌ | 11749/13706 [4:26:09<55:18,  1.70s/it]  "
     ]
    },
    {
     "name": "stdout",
     "output_type": "stream",
     "text": [
      "/media/hjp/05aba9a7-0e74-4e54-9bc9-5f11b9c4c757/SewFactory/sewfactory/sewfactory/tee_sleeveless_ZV1ASAEBOR_pants_straight_sides_P1LX7931E9 pants_straight_sides_P1LX7931E9 9798 9800\n"
     ]
    },
    {
     "name": "stderr",
     "output_type": "stream",
     "text": [
      " 86%|████████▌ | 11750/13706 [4:26:10<48:30,  1.49s/it]"
     ]
    },
    {
     "name": "stdout",
     "output_type": "stream",
     "text": [
      "/media/hjp/05aba9a7-0e74-4e54-9bc9-5f11b9c4c757/SewFactory/sewfactory/sewfactory/tee_sleeveless_ZV1ASAEBOR_pants_straight_sides_P1LX7931E9\n",
      "pants_straight_sides_P1LX7931E9\n",
      "list index out of range\n",
      "\n"
     ]
    },
    {
     "name": "stderr",
     "output_type": "stream",
     "text": [
      " 92%|█████████▏| 12558/13706 [4:47:11<30:32,  1.60s/it]  "
     ]
    },
    {
     "name": "stdout",
     "output_type": "stream",
     "text": [
      "/media/hjp/05aba9a7-0e74-4e54-9bc9-5f11b9c4c757/SewFactory/sewfactory/sewfactory/wb_dress_sleeveless_KGZ0LJOS8K wb_dress_sleeveless_KGZ0LJOS8K 14314 14388\n"
     ]
    },
    {
     "name": "stderr",
     "output_type": "stream",
     "text": [
      " 92%|█████████▏| 12559/13706 [4:47:11<23:25,  1.23s/it]"
     ]
    },
    {
     "name": "stdout",
     "output_type": "stream",
     "text": [
      "/media/hjp/05aba9a7-0e74-4e54-9bc9-5f11b9c4c757/SewFactory/sewfactory/sewfactory/wb_dress_sleeveless_KGZ0LJOS8K\n",
      "wb_dress_sleeveless_KGZ0LJOS8K\n",
      "list index out of range\n",
      "\n"
     ]
    },
    {
     "name": "stderr",
     "output_type": "stream",
     "text": [
      "100%|██████████| 13706/13706 [5:16:54<00:00,  1.39s/it]\n"
     ]
    },
    {
     "data": {
      "text/html": [
       "<div>\n",
       "<style scoped>\n",
       "    .dataframe tbody tr th:only-of-type {\n",
       "        vertical-align: middle;\n",
       "    }\n",
       "\n",
       "    .dataframe tbody tr th {\n",
       "        vertical-align: top;\n",
       "    }\n",
       "\n",
       "    .dataframe thead th {\n",
       "        text-align: right;\n",
       "    }\n",
       "</style>\n",
       "<table border=\"1\" class=\"dataframe\">\n",
       "  <thead>\n",
       "    <tr style=\"text-align: right;\">\n",
       "      <th></th>\n",
       "      <th>garment_name</th>\n",
       "      <th>matching_combination_name</th>\n",
       "      <th>panel_count</th>\n",
       "      <th>stitch_count</th>\n",
       "      <th>panel_name_contains_digit</th>\n",
       "      <th>contains_clockwise_panel</th>\n",
       "      <th>mesh_len_segmentation_match</th>\n",
       "      <th>mesh_filter_failed</th>\n",
       "      <th>none_vertex_count</th>\n",
       "      <th>stitch_vertex_count</th>\n",
       "      <th>none_filtered_vertex_count</th>\n",
       "      <th>stitch_filtered_vertex_count</th>\n",
       "    </tr>\n",
       "  </thead>\n",
       "  <tbody>\n",
       "    <tr>\n",
       "      <th>0</th>\n",
       "      <td>dress_sleeveless_005CWF73E9</td>\n",
       "      <td>dress_sleeveless_005CWF73E9</td>\n",
       "      <td>4</td>\n",
       "      <td>10</td>\n",
       "      <td>False</td>\n",
       "      <td>False</td>\n",
       "      <td>True</td>\n",
       "      <td>False</td>\n",
       "      <td>222</td>\n",
       "      <td>218</td>\n",
       "      <td>0</td>\n",
       "      <td>0</td>\n",
       "    </tr>\n",
       "    <tr>\n",
       "      <th>1</th>\n",
       "      <td>dress_sleeveless_00F3PNYG6L</td>\n",
       "      <td>dress_sleeveless_00F3PNYG6L</td>\n",
       "      <td>4</td>\n",
       "      <td>10</td>\n",
       "      <td>False</td>\n",
       "      <td>False</td>\n",
       "      <td>True</td>\n",
       "      <td>False</td>\n",
       "      <td>230</td>\n",
       "      <td>226</td>\n",
       "      <td>0</td>\n",
       "      <td>0</td>\n",
       "    </tr>\n",
       "    <tr>\n",
       "      <th>2</th>\n",
       "      <td>dress_sleeveless_00M2CX1YWW</td>\n",
       "      <td>dress_sleeveless_00M2CX1YWW</td>\n",
       "      <td>4</td>\n",
       "      <td>10</td>\n",
       "      <td>False</td>\n",
       "      <td>False</td>\n",
       "      <td>True</td>\n",
       "      <td>False</td>\n",
       "      <td>242</td>\n",
       "      <td>238</td>\n",
       "      <td>0</td>\n",
       "      <td>0</td>\n",
       "    </tr>\n",
       "    <tr>\n",
       "      <th>3</th>\n",
       "      <td>dress_sleeveless_013LZJLUQ0</td>\n",
       "      <td>dress_sleeveless_013LZJLUQ0</td>\n",
       "      <td>4</td>\n",
       "      <td>10</td>\n",
       "      <td>False</td>\n",
       "      <td>False</td>\n",
       "      <td>True</td>\n",
       "      <td>False</td>\n",
       "      <td>242</td>\n",
       "      <td>238</td>\n",
       "      <td>0</td>\n",
       "      <td>0</td>\n",
       "    </tr>\n",
       "    <tr>\n",
       "      <th>4</th>\n",
       "      <td>dress_sleeveless_014TV5GC0X</td>\n",
       "      <td>dress_sleeveless_014TV5GC0X</td>\n",
       "      <td>4</td>\n",
       "      <td>10</td>\n",
       "      <td>False</td>\n",
       "      <td>False</td>\n",
       "      <td>True</td>\n",
       "      <td>False</td>\n",
       "      <td>238</td>\n",
       "      <td>234</td>\n",
       "      <td>0</td>\n",
       "      <td>0</td>\n",
       "    </tr>\n",
       "    <tr>\n",
       "      <th>...</th>\n",
       "      <td>...</td>\n",
       "      <td>...</td>\n",
       "      <td>...</td>\n",
       "      <td>...</td>\n",
       "      <td>...</td>\n",
       "      <td>...</td>\n",
       "      <td>...</td>\n",
       "      <td>...</td>\n",
       "      <td>...</td>\n",
       "      <td>...</td>\n",
       "      <td>...</td>\n",
       "      <td>...</td>\n",
       "    </tr>\n",
       "    <tr>\n",
       "      <th>19033</th>\n",
       "      <td>wb_dress_sleeveless_ZWY1JO5LQH</td>\n",
       "      <td>wb_dress_sleeveless_ZWY1JO5LQH</td>\n",
       "      <td>6</td>\n",
       "      <td>12</td>\n",
       "      <td>False</td>\n",
       "      <td>False</td>\n",
       "      <td>True</td>\n",
       "      <td>False</td>\n",
       "      <td>390</td>\n",
       "      <td>382</td>\n",
       "      <td>0</td>\n",
       "      <td>0</td>\n",
       "    </tr>\n",
       "    <tr>\n",
       "      <th>19034</th>\n",
       "      <td>wb_dress_sleeveless_ZXJD88A059</td>\n",
       "      <td>wb_dress_sleeveless_ZXJD88A059</td>\n",
       "      <td>6</td>\n",
       "      <td>12</td>\n",
       "      <td>False</td>\n",
       "      <td>False</td>\n",
       "      <td>True</td>\n",
       "      <td>True</td>\n",
       "      <td>432</td>\n",
       "      <td>424</td>\n",
       "      <td>80</td>\n",
       "      <td>0</td>\n",
       "    </tr>\n",
       "    <tr>\n",
       "      <th>19035</th>\n",
       "      <td>wb_dress_sleeveless_ZXTV8N6GF8</td>\n",
       "      <td>wb_dress_sleeveless_ZXTV8N6GF8</td>\n",
       "      <td>6</td>\n",
       "      <td>12</td>\n",
       "      <td>False</td>\n",
       "      <td>False</td>\n",
       "      <td>True</td>\n",
       "      <td>False</td>\n",
       "      <td>400</td>\n",
       "      <td>392</td>\n",
       "      <td>0</td>\n",
       "      <td>0</td>\n",
       "    </tr>\n",
       "    <tr>\n",
       "      <th>19036</th>\n",
       "      <td>wb_dress_sleeveless_ZYF6BVDMMC</td>\n",
       "      <td>wb_dress_sleeveless_ZYF6BVDMMC</td>\n",
       "      <td>6</td>\n",
       "      <td>12</td>\n",
       "      <td>False</td>\n",
       "      <td>False</td>\n",
       "      <td>True</td>\n",
       "      <td>False</td>\n",
       "      <td>322</td>\n",
       "      <td>314</td>\n",
       "      <td>0</td>\n",
       "      <td>0</td>\n",
       "    </tr>\n",
       "    <tr>\n",
       "      <th>19037</th>\n",
       "      <td>wb_dress_sleeveless_ZYWMJ5QUQ9</td>\n",
       "      <td>wb_dress_sleeveless_ZYWMJ5QUQ9</td>\n",
       "      <td>6</td>\n",
       "      <td>12</td>\n",
       "      <td>False</td>\n",
       "      <td>False</td>\n",
       "      <td>True</td>\n",
       "      <td>False</td>\n",
       "      <td>438</td>\n",
       "      <td>430</td>\n",
       "      <td>0</td>\n",
       "      <td>0</td>\n",
       "    </tr>\n",
       "  </tbody>\n",
       "</table>\n",
       "<p>19038 rows × 12 columns</p>\n",
       "</div>"
      ],
      "text/plain": [
       "                         garment_name       matching_combination_name  \\\n",
       "0         dress_sleeveless_005CWF73E9     dress_sleeveless_005CWF73E9   \n",
       "1         dress_sleeveless_00F3PNYG6L     dress_sleeveless_00F3PNYG6L   \n",
       "2         dress_sleeveless_00M2CX1YWW     dress_sleeveless_00M2CX1YWW   \n",
       "3         dress_sleeveless_013LZJLUQ0     dress_sleeveless_013LZJLUQ0   \n",
       "4         dress_sleeveless_014TV5GC0X     dress_sleeveless_014TV5GC0X   \n",
       "...                               ...                             ...   \n",
       "19033  wb_dress_sleeveless_ZWY1JO5LQH  wb_dress_sleeveless_ZWY1JO5LQH   \n",
       "19034  wb_dress_sleeveless_ZXJD88A059  wb_dress_sleeveless_ZXJD88A059   \n",
       "19035  wb_dress_sleeveless_ZXTV8N6GF8  wb_dress_sleeveless_ZXTV8N6GF8   \n",
       "19036  wb_dress_sleeveless_ZYF6BVDMMC  wb_dress_sleeveless_ZYF6BVDMMC   \n",
       "19037  wb_dress_sleeveless_ZYWMJ5QUQ9  wb_dress_sleeveless_ZYWMJ5QUQ9   \n",
       "\n",
       "       panel_count  stitch_count  panel_name_contains_digit  \\\n",
       "0                4            10                      False   \n",
       "1                4            10                      False   \n",
       "2                4            10                      False   \n",
       "3                4            10                      False   \n",
       "4                4            10                      False   \n",
       "...            ...           ...                        ...   \n",
       "19033            6            12                      False   \n",
       "19034            6            12                      False   \n",
       "19035            6            12                      False   \n",
       "19036            6            12                      False   \n",
       "19037            6            12                      False   \n",
       "\n",
       "       contains_clockwise_panel  mesh_len_segmentation_match  \\\n",
       "0                         False                         True   \n",
       "1                         False                         True   \n",
       "2                         False                         True   \n",
       "3                         False                         True   \n",
       "4                         False                         True   \n",
       "...                         ...                          ...   \n",
       "19033                     False                         True   \n",
       "19034                     False                         True   \n",
       "19035                     False                         True   \n",
       "19036                     False                         True   \n",
       "19037                     False                         True   \n",
       "\n",
       "       mesh_filter_failed  none_vertex_count  stitch_vertex_count  \\\n",
       "0                   False                222                  218   \n",
       "1                   False                230                  226   \n",
       "2                   False                242                  238   \n",
       "3                   False                242                  238   \n",
       "4                   False                238                  234   \n",
       "...                   ...                ...                  ...   \n",
       "19033               False                390                  382   \n",
       "19034                True                432                  424   \n",
       "19035               False                400                  392   \n",
       "19036               False                322                  314   \n",
       "19037               False                438                  430   \n",
       "\n",
       "       none_filtered_vertex_count  stitch_filtered_vertex_count  \n",
       "0                               0                             0  \n",
       "1                               0                             0  \n",
       "2                               0                             0  \n",
       "3                               0                             0  \n",
       "4                               0                             0  \n",
       "...                           ...                           ...  \n",
       "19033                           0                             0  \n",
       "19034                          80                             0  \n",
       "19035                           0                             0  \n",
       "19036                           0                             0  \n",
       "19037                           0                             0  \n",
       "\n",
       "[19038 rows x 12 columns]"
      ]
     },
     "execution_count": 6,
     "metadata": {},
     "output_type": "execute_result"
    }
   ],
   "source": [
    "garment_name_dict = {} # check if some garment is duplicated\n",
    "garment_name_list = []\n",
    "matching_combination_name_list = []\n",
    "panel_count_list = []\n",
    "stitch_count_list = []\n",
    "panel_name_contains_digit_list = []\n",
    "contains_clockwise_panel_list = []\n",
    "edge_type_list_list = []\n",
    "mesh_len_segmentation_match_list = []\n",
    "mesh_filter_failed_list = []\n",
    "none_vertex_count_list = []\n",
    "none_filtered_vertex_count_list = []\n",
    "stitch_vertex_count_list = []\n",
    "stitch_filtered_vertex_count_list = []\n",
    "\n",
    "for combination_path in tqdm(combination_path_list) :\n",
    "    spec_config_path = os.path.join(combination_path, \"static\", \"spec_config.json\")\n",
    "    with open(spec_config_path, \"r\") as f:\n",
    "        spec_config = json.load(open(spec_config_path, \"r\"))\n",
    "\n",
    "    combination_garment_name_list = list(map(\n",
    "        lambda x : os.path.basename(x[\"spec\"].replace(\"\\\\\", \"/\")),\n",
    "        spec_config.values()\n",
    "    ))\n",
    "\n",
    "    try :\n",
    "        # mesh_list = []\n",
    "        for garment_name in combination_garment_name_list :\n",
    "            if garment_name not in garment_name_dict :\n",
    "                garment_name_dict[garment_name] = 0\n",
    "            else :\n",
    "                print(f\"duplicating garment name {garment_name}\")\n",
    "                break\n",
    "            garment_name_dict[garment_name] += 1\n",
    "            \n",
    "\n",
    "\n",
    "            spec_file_path = os.path.join(\n",
    "                combination_path, \"static\", f\"{garment_name}_specification.json\"\n",
    "            )\n",
    "            pattern = pyg.pattern.wrappers.VisPattern(spec_file_path)\n",
    "            drawn_pattern_list = list(map(\n",
    "                lambda pannel_name : pattern._draw_a_panel(\n",
    "                    pannel_name, apply_transform=False, fill=True\n",
    "                ),\n",
    "                pattern.panel_order()\n",
    "            ))\n",
    "            panel_svg_path_dict = {\n",
    "                panel_name : pattern._draw_a_panel(\n",
    "                    panel_name, apply_transform=False, fill=True\n",
    "                )\n",
    "                for panel_name in pattern.panel_order()\n",
    "            }\n",
    "\n",
    "            stitch_dict = {\n",
    "                i : v for i, v in enumerate(pattern.pattern['stitches'])\n",
    "            }\n",
    "\n",
    "            # find if panel name contains digit\n",
    "            panel_name_contains_digit = any(map(\n",
    "                lambda x : any(char.isdigit() for char in x),\n",
    "                pattern.panel_order()\n",
    "            ))\n",
    "\n",
    "\n",
    "            contains_clockwise_panel = False\n",
    "            for panel_name, panel in panel_svg_path_dict.items() :\n",
    "                point_list = []\n",
    "                edges = list(panel[0])\n",
    "                for edge in edges :\n",
    "                    point_list.append((edge.start.real, edge.start.imag))\n",
    "                if is_clockwise(point_list) :\n",
    "                    contains_clockwise_panel = True\n",
    "                    break\n",
    "                \n",
    "                \n",
    "            edge_type_set = set()\n",
    "            for panel_name, panel in panel_svg_path_dict.items() :\n",
    "                for edge in panel :\n",
    "                    if type(edge) not in edge_type_set :\n",
    "                        edge_type_set.add(type(edge))\n",
    "\n",
    "            mesh = trimesh.load_mesh(os.path.join(\n",
    "                combination_path, \"static\", f\"{garment_name}_{garment_name}.obj\"\n",
    "            ))\n",
    "\n",
    "            with open(\n",
    "                os.path.join(\n",
    "                    combination_path, \"static\", f\"{garment_name}_{garment_name}_segmentation.txt\"\n",
    "                ),\n",
    "                \"r\"\n",
    "            ) as f:\n",
    "                mesh_segmentation_list = list(map(\n",
    "                    lambda x : x.strip(),\n",
    "                    f.readlines()\n",
    "                ))\n",
    "            \n",
    "            \n",
    "            if len(mesh_segmentation_list) != mesh.vertices.shape[0] :    \n",
    "                print(f\"{combination_path} {garment_name} {mesh.vertices.shape[0]} {len(mesh_segmentation_list)}\")\n",
    "                mesh_len_segmentation_match = False\n",
    "            else :\n",
    "                mesh_len_segmentation_match = True\n",
    "                \n",
    "            \n",
    "            \n",
    "            filtered_mesh_segmentation_list = filter_segmentation_map(          mesh, mesh_segmentation_list)\n",
    "            filtered_mesh_segmentation_list = filter_segmentation_map_clusters( mesh, filtered_mesh_segmentation_list, threshold=80)\n",
    "            filtered_mesh_segmentation_list = filter_segmentation_map(          mesh, filtered_mesh_segmentation_list)\n",
    "            filtered_mesh_segmentation_list = filter_segmentation_map_clusters( mesh, filtered_mesh_segmentation_list, threshold=80)\n",
    "            filtered_mesh_segmentation_list = filter_segmentation_map(          mesh, filtered_mesh_segmentation_list)\n",
    "            filtered_mesh_segmentation_list = filter_segmentation_map_clusters( mesh, filtered_mesh_segmentation_list, threshold=80)\n",
    "            filtered_mesh_segmentation_list = filter_segmentation_map(          mesh, filtered_mesh_segmentation_list)\n",
    "            \n",
    "            vertex_mask_dict = {}\n",
    "            for panel_name in panel_svg_path_dict.keys() :\n",
    "                vertex_mask_dict[panel_name] = np.array(list(map(\n",
    "                    lambda x : x == panel_name,\n",
    "                    mesh_segmentation_list\n",
    "                )))\n",
    "            vertex_mask_dict[\"stitch\"] = np.array(list(map(\n",
    "                lambda x : x == \"stitch\",\n",
    "                mesh_segmentation_list\n",
    "            )))\n",
    "            vertex_mask_dict[\"None\"] = np.array(list(map(\n",
    "                lambda x : x == \"None\",\n",
    "                mesh_segmentation_list\n",
    "            )))\n",
    "            \n",
    "\n",
    "            filtered_vertex_mask_dict = {}\n",
    "            for panel_name in panel_svg_path_dict.keys() :\n",
    "                filtered_vertex_mask_dict[panel_name] = np.array(list(map(\n",
    "                    lambda x : x == panel_name,\n",
    "                    filtered_mesh_segmentation_list\n",
    "                )))\n",
    "            \n",
    "            mesh_filter_failed = False\n",
    "            \n",
    "            stitch_mask = np.array(list(map(\n",
    "                lambda x : x == \"stitch\",\n",
    "                filtered_mesh_segmentation_list\n",
    "            )))\n",
    "            if stitch_mask.sum() > 0 :\n",
    "                mesh_filter_failed = True\n",
    "                filtered_vertex_mask_dict[\"stitch\"] = stitch_mask\n",
    "            \n",
    "            none_mask = np.array(list(map(\n",
    "                lambda x : x == \"None\",\n",
    "                filtered_mesh_segmentation_list\n",
    "            )))\n",
    "            if none_mask.sum() > 0 :\n",
    "                mesh_filter_failed = True\n",
    "                filtered_vertex_mask_dict[\"None\"] = none_mask\n",
    "            \n",
    "            \n",
    "            with open(\n",
    "                os.path.join(\n",
    "                    combination_path, \"static\", f\"{garment_name}_{garment_name}_segmentation_filtered.txt\"\n",
    "                ),\n",
    "                \"w\"\n",
    "            ) as f :\n",
    "                f.write(\"\\n\".join(filtered_mesh_segmentation_list))\n",
    "                f.write(\"\\n\")\n",
    "        \n",
    "            \n",
    "            garment_name_list.append(garment_name)\n",
    "            matching_combination_name_list.append(os.path.basename(combination_path))\n",
    "            panel_count_list.append(len(panel_svg_path_dict))\n",
    "            stitch_count_list.append(len(stitch_dict))\n",
    "            panel_name_contains_digit_list.append(panel_name_contains_digit)\n",
    "            contains_clockwise_panel_list.append(contains_clockwise_panel)\n",
    "            edge_type_list_list.append(list(edge_type_set))\n",
    "            mesh_len_segmentation_match_list.append(mesh_len_segmentation_match)\n",
    "            none_vertex_count_list.append(\n",
    "                (np.array(mesh_segmentation_list) == \"None\").sum()\n",
    "            )\n",
    "            stitch_vertex_count_list.append(\n",
    "                (np.array(mesh_segmentation_list) == \"stitch\").sum()\n",
    "            )\n",
    "            stitch_filtered_vertex_count_list.append(\n",
    "                stitch_mask.sum()\n",
    "            )\n",
    "            none_filtered_vertex_count_list.append(\n",
    "                none_mask.sum()\n",
    "            )\n",
    "            mesh_filter_failed_list.append(mesh_filter_failed)\n",
    "    except Exception as e :\n",
    "        print(f\"{combination_path}\")\n",
    "        print(f\"{garment_name}\")\n",
    "        print(f\"{e}\")\n",
    "        print()\n",
    "\n",
    "    \n",
    "garment_df = pd.DataFrame(\n",
    "    {\n",
    "        \"garment_name\" : garment_name_list,\n",
    "        \"matching_combination_name\" : matching_combination_name_list,\n",
    "        \"panel_count\" : panel_count_list,\n",
    "        \"stitch_count\" : stitch_count_list,\n",
    "        \"panel_name_contains_digit\" : panel_name_contains_digit_list,\n",
    "        \"contains_clockwise_panel\" : contains_clockwise_panel_list,\n",
    "        # \"edge_type_list\" : edge_type_list_list,\n",
    "        \"mesh_len_segmentation_match\" : mesh_len_segmentation_match_list,   \n",
    "        \"mesh_filter_failed\" : mesh_filter_failed_list,\n",
    "        \"none_vertex_count\" : none_vertex_count_list,\n",
    "        \"stitch_vertex_count\" : stitch_vertex_count_list,\n",
    "        \"none_filtered_vertex_count\" : none_filtered_vertex_count_list,\n",
    "        \"stitch_filtered_vertex_count\" : stitch_filtered_vertex_count_list,\n",
    "    }\n",
    ")\n",
    "garment_df.to_csv(\n",
    "    f\"garment_df_{time.strftime('%Y%m%d_%H%M%S')}.csv\",\n",
    "    index=False\n",
    ")\n",
    "garment_df"
   ]
  },
  {
   "cell_type": "code",
   "execution_count": null,
   "metadata": {},
   "outputs": [],
   "source": []
  }
 ],
 "metadata": {
  "kernelspec": {
   "display_name": "SewFormer",
   "language": "python",
   "name": "python3"
  },
  "language_info": {
   "codemirror_mode": {
    "name": "ipython",
    "version": 3
   },
   "file_extension": ".py",
   "mimetype": "text/x-python",
   "name": "python",
   "nbconvert_exporter": "python",
   "pygments_lexer": "ipython3",
   "version": "3.10.16"
  }
 },
 "nbformat": 4,
 "nbformat_minor": 2
}
