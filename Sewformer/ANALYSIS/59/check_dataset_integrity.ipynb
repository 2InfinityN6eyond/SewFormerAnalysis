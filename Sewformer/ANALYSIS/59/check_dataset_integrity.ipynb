{
 "cells": [
  {
   "cell_type": "code",
   "execution_count": null,
   "metadata": {},
   "outputs": [],
   "source": []
  },
  {
   "cell_type": "code",
   "execution_count": null,
   "metadata": {},
   "outputs": [],
   "source": []
  },
  {
   "cell_type": "code",
   "execution_count": 2,
   "metadata": {},
   "outputs": [
    {
     "name": "stdout",
     "output_type": "stream",
     "text": [
      "/media/hjp/db6095ca-a560-4c3a-90ad-b667ec189671/REFERENCES/SewFormerAnalysis/Sewformer/ANALYSIS/59\n"
     ]
    },
    {
     "data": {
      "text/plain": [
       "'/media/hjp/05aba9a7-0e74-4e54-9bc9-5f11b9c4c757/sewfactory'"
      ]
     },
     "execution_count": 2,
     "metadata": {},
     "output_type": "execute_result"
    }
   ],
   "source": [
    "import os, sys\n",
    "\n",
    "print(os.getcwd())\n",
    "\n",
    "sys.path += [\n",
    "    os.path.dirname(os.path.dirname(os.path.abspath(os.getcwd()))),\n",
    "    os.path.dirname(os.path.dirname(os.path.dirname(os.path.abspath(os.getcwd())))),\n",
    "]\n",
    "\n",
    "from env_constants import SEWFORMER_PROJ_ROOT, DATASET_ROOT\n",
    "\n",
    "DATASET_ROOT"
   ]
  },
  {
   "cell_type": "markdown",
   "metadata": {},
   "source": [
    "(SewFormer) ➜  Sewformer git:(main) ✗ python data/dataset.py \n",
    "CURRENT DIR :  /media/hjp/db6095ca-a560-4c3a-90ad-b667ec189671/REFERENCES/SewFormerAnalysis/Sewformer/data\n",
    "PARENT DIR :  /media/hjp/db6095ca-a560-4c3a-90ad-b667ec189671/REFERENCES/SewFormerAnalysis/Sewformer\n",
    "CURRENT DIR :  /media/hjp/db6095ca-a560-4c3a-90ad-b667ec189671/REFERENCES/SewFormerAnalysis/Sewformer/data\n",
    "PARENT DIR :  /media/hjp/db6095ca-a560-4c3a-90ad-b667ec189671/REFERENCES/SewFormerAnalysis/Sewformer\n",
    "GarmentDetrDataset::Info::Collecting all datasets (no sub-folders) to use\n",
    "GarmentDetrDataset::Info::Total valid datanames is 121278\n",
    "255\n",
    "No Test set, Stop\n",
    "RealisticDatasetDetrWrapper::Loading data split from split config: percent: valid per type 5 / test per type 10\n",
    "RealisticDatasetDetrWrapper::Warning::Failed to create balanced batches for training. Using default sampling\n",
    "No Multiprocess\n",
    "RealisticDatasetDetrWrapper::Dataset split: 103134 / 6048 / 12096\n",
    "Traceback (most recent call last):\n",
    "  File \"/media/hjp/db6095ca-a560-4c3a-90ad-b667ec189671/REFERENCES/SewFormerAnalysis/Sewformer/data/dataset.py\", line 840, in <module>\n",
    "    datawrapper.load_split(split_info, batch_size=64)\n",
    "  File \"/media/hjp/db6095ca-a560-4c3a-90ad-b667ec189671/REFERENCES/SewFormerAnalysis/Sewformer/data/wrapper.py\", line 210, in load_split\n",
    "    self.get_data_lists(self.training, self.validation, self.test, self.split_info)\n",
    "  File \"/media/hjp/db6095ca-a560-4c3a-90ad-b667ec189671/REFERENCES/SewFormerAnalysis/Sewformer/data/wrapper.py\", line 223, in get_data_lists\n",
    "    _, _, datanames = self.dataset.get_item_infos(idx)\n",
    "  File \"/media/hjp/db6095ca-a560-4c3a-90ad-b667ec189671/REFERENCES/SewFormerAnalysis/Sewformer/data/dataset.py\", line 547, in get_item_infos\n",
    "    with open(data_prop_fn, 'r') as f:\n",
    "FileNotFoundError: [Errno 2] No such file or directory: '/media/hjp/05aba9a7-0e74-4e54-9bc9-5f11b9c4c757/sewfactory/sewfactory/wb_dress_sleeveless_TZAD0OTKIR/data_props.json'\n",
    "\n",
    "- This Error happens due to missing data_props.json file in \"gt_folder\""
   ]
  },
  {
   "cell_type": "code",
   "execution_count": 23,
   "metadata": {},
   "outputs": [
    {
     "name": "stdout",
     "output_type": "stream",
     "text": [
      "/media/hjp/05aba9a7-0e74-4e54-9bc9-5f11b9c4c757/sewfactory/sewfactory/wb_dress_sleeveless_TZAD0OTKIR\n",
      "2527\n",
      "1\n"
     ]
    }
   ],
   "source": [
    "from glob import glob\n",
    "\n",
    "gt_folder_list = glob(os.path.join(\n",
    "    DATASET_ROOT, \"sewfactory\",\n",
    "    \"*\",\n",
    "))\n",
    "\n",
    "count = 0\n",
    "for gt_folder in gt_folder_list :\n",
    "    if not os.path.exists(os.path.join(gt_folder, \"data_props.json\")) :\n",
    "        print(gt_folder)\n",
    "        count += 1\n",
    "        \n",
    "print(len(gt_folder_list))\n",
    "print(count)"
   ]
  },
  {
   "cell_type": "code",
   "execution_count": 20,
   "metadata": {},
   "outputs": [
    {
     "data": {
      "text/plain": [
       "'/media/hjp/05aba9a7-0e74-4e54-9bc9-5f11b9c4c757/sewfactory/sewfactory/dress_sleeveless_MYB1IU1VKV'"
      ]
     },
     "execution_count": 20,
     "metadata": {},
     "output_type": "execute_result"
    }
   ],
   "source": [
    "\"/media/hjp/05aba9a7-0e74-4e54-9bc9-5f11b9c4c757/sewfactory/sewfactory/wb_dress_sleeveless_TZAD0OTKIR\"\n",
    "# => 이새끼 data_props.json 파일이 없어서 지움"
   ]
  },
  {
   "cell_type": "code",
   "execution_count": 18,
   "metadata": {},
   "outputs": [],
   "source": [
    "for gt_folder in gt_folder_list :\n",
    "    # if \"wb_dress_sleeveless_TZAD0OTKIR\" in gt_folder :\n",
    "    # if \"wb_dress_sleeveless\" in gt_folder :\n",
    "    # if \"dress_sleeveless_LQQMKX7F5K\" in gt_folder :\n",
    "    if \"wb_dress_sleeveless_TZAD0OTKIR\" in gt_folder :\n",
    "        print(gt_folder)\n",
    "        break\n"
   ]
  },
  {
   "cell_type": "code",
   "execution_count": 14,
   "metadata": {},
   "outputs": [
    {
     "data": {
      "text/plain": [
       "'/media/hjp/05aba9a7-0e74-4e54-9bc9-5f11b9c4c757/sewfactory/sewfactory/tee_sleeveless_6UTS3DHX07_wb_pants_straight_RW1F2O7E7G/static'"
      ]
     },
     "execution_count": 14,
     "metadata": {},
     "output_type": "execute_result"
    }
   ],
   "source": [
    "gt_folder"
   ]
  },
  {
   "cell_type": "code",
   "execution_count": null,
   "metadata": {},
   "outputs": [],
   "source": []
  },
  {
   "cell_type": "code",
   "execution_count": null,
   "metadata": {},
   "outputs": [],
   "source": []
  }
 ],
 "metadata": {
  "kernelspec": {
   "display_name": "SewFormer",
   "language": "python",
   "name": "python3"
  },
  "language_info": {
   "codemirror_mode": {
    "name": "ipython",
    "version": 3
   },
   "file_extension": ".py",
   "mimetype": "text/x-python",
   "name": "python",
   "nbconvert_exporter": "python",
   "pygments_lexer": "ipython3",
   "version": "3.10.16"
  }
 },
 "nbformat": 4,
 "nbformat_minor": 2
}
